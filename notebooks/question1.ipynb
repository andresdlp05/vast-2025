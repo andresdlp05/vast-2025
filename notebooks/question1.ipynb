{
 "cells": [
  {
   "cell_type": "code",
   "execution_count": 1,
   "id": "b8e3aff9",
   "metadata": {},
   "outputs": [],
   "source": [
    "import networkx as nx\n",
    "import json\n",
    "import pandas as pd\n",
    "import plotly.express as px"
   ]
  },
  {
   "cell_type": "code",
   "execution_count": 14,
   "id": "15f56fdf",
   "metadata": {},
   "outputs": [
    {
     "name": "stdout",
     "output_type": "stream",
     "text": [
      "{'id': 'Event_Communication_1', 'timestamp': '2040-10-01 08:09:00', 'content': \"Hey The Intern, it's The Lookout! Just spotted a pod of dolphins near the eastern point this morning. They were so playful! If you're free this weekend, the migratory birds are starting to arrive too. Let me know if you want to join for some birdwatching!\", 'source': 'The Lookout', 'target': 'The Intern', 'source_attrs': {'type': 'Entity', 'label': 'The Lookout', 'name': 'The Lookout', 'sub_type': 'Person'}, 'target_attrs': {'type': 'Entity', 'label': 'The Intern', 'name': 'The Intern', 'sub_type': 'Person'}}\n"
     ]
    }
   ],
   "source": [
    "def load_and_organize_communications(graph_path):\n",
    "    \"\"\"\n",
    "    Loads a graph from a JSON file, organizes communication events, and enhances each event with detailed attributes of the source, target, and communication itself.\n",
    "\n",
    "    Args:\n",
    "        graph_path (str): Path to the JSON file containing the graph data.\n",
    "\n",
    "    Returns:\n",
    "        list: A list of dictionaries. Each dictionary represents a communication event\n",
    "             with its basic information and enhanced attributes.\n",
    "    \"\"\"\n",
    "    # Load the graph from the JSON file\n",
    "    with open(graph_path) as f:\n",
    "        json_data = json.load(f)\n",
    "\n",
    "    G = nx.json_graph.node_link_graph(json_data, edges=\"edges\")\n",
    "    communications = []\n",
    "\n",
    "    for node_id in G.nodes():\n",
    "        node_data = G.nodes[node_id]\n",
    "\n",
    "        # Check if the current node is a Communication event\n",
    "        if node_data.get('type') == 'Event' and node_data.get('sub_type') == 'Communication':\n",
    "            comm_data = {\n",
    "                'id': node_id,\n",
    "                'timestamp': node_data.get('timestamp'),\n",
    "                'content': node_data.get('content', ''),\n",
    "                # Add basic source and target information\n",
    "                'source': None,\n",
    "                'target': None,\n",
    "                # Attributes\n",
    "                'source_attrs': {},\n",
    "                'target_attrs': {}\n",
    "            }\n",
    "\n",
    "            # Extract source entity attributes from incoming edges\n",
    "            for predecessor in G.predecessors(node_id):\n",
    "                pred_node = G.nodes[predecessor]\n",
    "                if pred_node.get('type') == 'Entity':\n",
    "                    comm_data['source'] = pred_node.get('label', '')\n",
    "                    comm_data['source_attrs'] = pred_node.copy()\n",
    "                    break  # Assuming only one source entity per communication\n",
    "\n",
    "            # Extract target entity attributes from outgoing edges\n",
    "            for successor in G.successors(node_id):\n",
    "                succ_node = G.nodes[successor]\n",
    "                if succ_node.get('type') == 'Entity':\n",
    "                    comm_data['target'] = succ_node.get('label', '')\n",
    "                    comm_data['target_attrs'] = succ_node.copy()\n",
    "                    break  # Assuming only one target entity per communication\n",
    "\n",
    "            communications.append(comm_data)\n",
    "\n",
    "    return communications\n",
    "\n",
    "# Example usage:\n",
    "graph_path = \"../data/MC3_graph.json\"\n",
    "communications_data = load_and_organize_communications(graph_path)\n",
    "print(communications_data[0])"
   ]
  },
  {
   "cell_type": "code",
   "execution_count": 11,
   "id": "225f60d2",
   "metadata": {},
   "outputs": [
    {
     "name": "stderr",
     "output_type": "stream",
     "text": [
      "/tmp/ipykernel_1335665/4101834315.py:4: FutureWarning:\n",
      "\n",
      "'H' is deprecated and will be removed in a future version, please use 'h' instead.\n",
      "\n"
     ]
    },
    {
     "data": {
      "application/vnd.plotly.v1+json": {
       "config": {
        "plotlyServerURL": "https://plot.ly"
       },
       "data": [
        {
         "hovertemplate": "source=Boss<br>time_window=%{x}<br>Number of Communications=%{y}<extra></extra>",
         "legendgroup": "Boss",
         "line": {
          "color": "#636efa",
          "dash": "solid"
         },
         "marker": {
          "symbol": "circle"
         },
         "mode": "lines",
         "name": "Boss",
         "showlegend": true,
         "type": "scattergl",
         "x": [
          "2040-10-01T08:00:00.000000000",
          "2040-10-01T09:00:00.000000000",
          "2040-10-01T10:00:00.000000000",
          "2040-10-01T11:00:00.000000000",
          "2040-10-01T12:00:00.000000000",
          "2040-10-02T08:00:00.000000000",
          "2040-10-02T09:00:00.000000000",
          "2040-10-02T10:00:00.000000000",
          "2040-10-02T11:00:00.000000000",
          "2040-10-02T12:00:00.000000000",
          "2040-10-02T13:00:00.000000000",
          "2040-10-03T08:00:00.000000000",
          "2040-10-03T09:00:00.000000000",
          "2040-10-03T10:00:00.000000000",
          "2040-10-03T11:00:00.000000000",
          "2040-10-04T08:00:00.000000000",
          "2040-10-04T09:00:00.000000000",
          "2040-10-04T10:00:00.000000000",
          "2040-10-04T11:00:00.000000000",
          "2040-10-04T12:00:00.000000000",
          "2040-10-04T13:00:00.000000000",
          "2040-10-05T08:00:00.000000000",
          "2040-10-05T09:00:00.000000000",
          "2040-10-05T10:00:00.000000000",
          "2040-10-05T12:00:00.000000000",
          "2040-10-06T09:00:00.000000000",
          "2040-10-06T10:00:00.000000000",
          "2040-10-06T11:00:00.000000000",
          "2040-10-06T12:00:00.000000000",
          "2040-10-06T13:00:00.000000000",
          "2040-10-07T08:00:00.000000000",
          "2040-10-07T09:00:00.000000000",
          "2040-10-07T10:00:00.000000000",
          "2040-10-07T11:00:00.000000000",
          "2040-10-07T12:00:00.000000000",
          "2040-10-08T08:00:00.000000000",
          "2040-10-08T10:00:00.000000000",
          "2040-10-08T11:00:00.000000000",
          "2040-10-09T08:00:00.000000000",
          "2040-10-09T09:00:00.000000000",
          "2040-10-09T10:00:00.000000000",
          "2040-10-09T11:00:00.000000000",
          "2040-10-09T12:00:00.000000000",
          "2040-10-09T13:00:00.000000000",
          "2040-10-10T08:00:00.000000000",
          "2040-10-10T09:00:00.000000000",
          "2040-10-10T10:00:00.000000000",
          "2040-10-10T11:00:00.000000000",
          "2040-10-10T12:00:00.000000000",
          "2040-10-10T14:00:00.000000000",
          "2040-10-11T08:00:00.000000000",
          "2040-10-11T09:00:00.000000000",
          "2040-10-11T10:00:00.000000000",
          "2040-10-12T08:00:00.000000000",
          "2040-10-12T09:00:00.000000000",
          "2040-10-12T10:00:00.000000000",
          "2040-10-12T11:00:00.000000000",
          "2040-10-12T12:00:00.000000000",
          "2040-10-13T08:00:00.000000000",
          "2040-10-13T09:00:00.000000000",
          "2040-10-13T11:00:00.000000000",
          "2040-10-13T12:00:00.000000000",
          "2040-10-13T13:00:00.000000000",
          "2040-10-14T08:00:00.000000000",
          "2040-10-14T09:00:00.000000000",
          "2040-10-14T10:00:00.000000000",
          "2040-10-14T11:00:00.000000000",
          "2040-10-14T12:00:00.000000000",
          "2040-10-14T13:00:00.000000000"
         ],
         "xaxis": "x",
         "y": {
          "bdata": "AAAAAAAACEAAAAAAAADwPwAAAAAAAAAAAAAAAAAAAAAAAAAAAAAAAAAAAAAAAAAAAAAAAAAAAAAAAAAAAAAAAAAAAAAAAAAAAAAAAAAAAAAAAAAAAAAAAAAAAAAAAAAAAAAAAAAAAAAAAAAAAAAAAAAAAAAAAAAAAAAAAAAA8D8AAAAAAAAAAAAAAAAAAPA/AAAAAAAAAAAAAAAAAAAAAAAAAAAAAABAAAAAAAAAAAAAAAAAAAAAAAAAAAAAAPA/AAAAAAAAAAAAAAAAAAAAAAAAAAAAAAAAAAAAAAAAAAAAAAAAAAAAAAAAAAAAAAAAAAAAAAAAAAAAAAAAAAAAAAAAAAAAAAAAAAAAAAAAAAAAAAAAAAAAAAAAAAAAAAAAAAAAAAAAAAAAAAAAAAAAAAAAAAAAAAAAAAAAAAAAAAAAAAAAAAAAAAAAAAAAAAAAAAAAAAAAAAAAAAAAAAAAAAAAAAAAAAAAAAAAAAAAAAAAAAAAAAAAAAAAAAAAAAAAAAAAAAAAAAAAAAAAAAAAAAAAAAAAAAAAAAAAAAAAAAAAAAAAAAAAAAAAAAAAAAAAAAAAAAAAAAAAAAAAAAAAAAAAAAAAAAAAAAAAAAAAAAAAAAAAAAAAAAAAAAAAAAAAAAAAAAAAAAAAAAAAAAAAAAAAAAAAAAAAAAAAAAAAAAAAAAAAAAAAAAAAAAAAAAAAAAAAAAAAAAAAAAAAAAAAAAAAAAAAAAAA",
          "dtype": "f8"
         },
         "yaxis": "y"
        },
        {
         "hovertemplate": "source=Clepper Jensen<br>time_window=%{x}<br>Number of Communications=%{y}<extra></extra>",
         "legendgroup": "Clepper Jensen",
         "line": {
          "color": "#EF553B",
          "dash": "solid"
         },
         "marker": {
          "symbol": "circle"
         },
         "mode": "lines",
         "name": "Clepper Jensen",
         "showlegend": true,
         "type": "scattergl",
         "x": [
          "2040-10-01T08:00:00.000000000",
          "2040-10-01T09:00:00.000000000",
          "2040-10-01T10:00:00.000000000",
          "2040-10-01T11:00:00.000000000",
          "2040-10-01T12:00:00.000000000",
          "2040-10-02T08:00:00.000000000",
          "2040-10-02T09:00:00.000000000",
          "2040-10-02T10:00:00.000000000",
          "2040-10-02T11:00:00.000000000",
          "2040-10-02T12:00:00.000000000",
          "2040-10-02T13:00:00.000000000",
          "2040-10-03T08:00:00.000000000",
          "2040-10-03T09:00:00.000000000",
          "2040-10-03T10:00:00.000000000",
          "2040-10-03T11:00:00.000000000",
          "2040-10-04T08:00:00.000000000",
          "2040-10-04T09:00:00.000000000",
          "2040-10-04T10:00:00.000000000",
          "2040-10-04T11:00:00.000000000",
          "2040-10-04T12:00:00.000000000",
          "2040-10-04T13:00:00.000000000",
          "2040-10-05T08:00:00.000000000",
          "2040-10-05T09:00:00.000000000",
          "2040-10-05T10:00:00.000000000",
          "2040-10-05T12:00:00.000000000",
          "2040-10-06T09:00:00.000000000",
          "2040-10-06T10:00:00.000000000",
          "2040-10-06T11:00:00.000000000",
          "2040-10-06T12:00:00.000000000",
          "2040-10-06T13:00:00.000000000",
          "2040-10-07T08:00:00.000000000",
          "2040-10-07T09:00:00.000000000",
          "2040-10-07T10:00:00.000000000",
          "2040-10-07T11:00:00.000000000",
          "2040-10-07T12:00:00.000000000",
          "2040-10-08T08:00:00.000000000",
          "2040-10-08T10:00:00.000000000",
          "2040-10-08T11:00:00.000000000",
          "2040-10-09T08:00:00.000000000",
          "2040-10-09T09:00:00.000000000",
          "2040-10-09T10:00:00.000000000",
          "2040-10-09T11:00:00.000000000",
          "2040-10-09T12:00:00.000000000",
          "2040-10-09T13:00:00.000000000",
          "2040-10-10T08:00:00.000000000",
          "2040-10-10T09:00:00.000000000",
          "2040-10-10T10:00:00.000000000",
          "2040-10-10T11:00:00.000000000",
          "2040-10-10T12:00:00.000000000",
          "2040-10-10T14:00:00.000000000",
          "2040-10-11T08:00:00.000000000",
          "2040-10-11T09:00:00.000000000",
          "2040-10-11T10:00:00.000000000",
          "2040-10-12T08:00:00.000000000",
          "2040-10-12T09:00:00.000000000",
          "2040-10-12T10:00:00.000000000",
          "2040-10-12T11:00:00.000000000",
          "2040-10-12T12:00:00.000000000",
          "2040-10-13T08:00:00.000000000",
          "2040-10-13T09:00:00.000000000",
          "2040-10-13T11:00:00.000000000",
          "2040-10-13T12:00:00.000000000",
          "2040-10-13T13:00:00.000000000",
          "2040-10-14T08:00:00.000000000",
          "2040-10-14T09:00:00.000000000",
          "2040-10-14T10:00:00.000000000",
          "2040-10-14T11:00:00.000000000",
          "2040-10-14T12:00:00.000000000",
          "2040-10-14T13:00:00.000000000"
         ],
         "xaxis": "x",
         "y": {
          "bdata": "AAAAAAAAAAAAAAAAAAAAAAAAAAAAAAAAAAAAAAAAAAAAAAAAAAAAAAAAAAAAAAAAAAAAAAAAAAAAAAAAAAAAAAAAAAAAAAAAAAAAAAAAEEAAAAAAAAAAAAAAAAAAAAAAAAAAAAAACEAAAAAAAAAAAAAAAAAAAAAAAAAAAAAAAAAAAAAAAAAAAAAAAAAAAAAAAAAAAAAAAAAAAAAAAAAAAAAAAAAAAAAAAAAAAAAAAAAAAAAAAAAAAAAAAAAAAAhAAAAAAAAA8D8AAAAAAAAAAAAAAAAAAAAAAAAAAAAAAAAAAAAAAAAAAAAAAAAAAAAAAAAAAAAAAAAAAAAAAAAAAAAAAAAAABRAAAAAAAAAAAAAAAAAAAAAAAAAAAAAAAAAAAAAAAAAAAAAAAAAAAAAAAAAAAAAAAAAAAAAAAAAAAAAAAAAAAAAAAAAAAAAAAAAAAAAAAAAAAAAAAAAAAAAAAAAAAAAAAAAAAAAAAAAAAAAAAAAAAAAAAAAAAAAAAAAAAAAAAAAAAAAAAAAAAAAAAAAAAAAAAAAAAAAAAAAAAAAAAAAAAAQQAAAAAAAAAAAAAAAAAAAAAAAAAAAAAAAAAAAAAAAAAAAAAAAAAAAAAAAAAAAAAAAAAAAAAAAAAAAAAAAAAAAAAAAAAAAAAAAAAAAAAAAAAAAAAAAAAAAAAAAAAAAAAAAAAAAAAAAAAAAAAAAAAAAAAAAAAAAAAAAAAAAAAAAAAAA",
          "dtype": "f8"
         },
         "yaxis": "y"
        },
        {
         "hovertemplate": "source=Davis<br>time_window=%{x}<br>Number of Communications=%{y}<extra></extra>",
         "legendgroup": "Davis",
         "line": {
          "color": "#00cc96",
          "dash": "solid"
         },
         "marker": {
          "symbol": "circle"
         },
         "mode": "lines",
         "name": "Davis",
         "showlegend": true,
         "type": "scattergl",
         "x": [
          "2040-10-01T08:00:00.000000000",
          "2040-10-01T09:00:00.000000000",
          "2040-10-01T10:00:00.000000000",
          "2040-10-01T11:00:00.000000000",
          "2040-10-01T12:00:00.000000000",
          "2040-10-02T08:00:00.000000000",
          "2040-10-02T09:00:00.000000000",
          "2040-10-02T10:00:00.000000000",
          "2040-10-02T11:00:00.000000000",
          "2040-10-02T12:00:00.000000000",
          "2040-10-02T13:00:00.000000000",
          "2040-10-03T08:00:00.000000000",
          "2040-10-03T09:00:00.000000000",
          "2040-10-03T10:00:00.000000000",
          "2040-10-03T11:00:00.000000000",
          "2040-10-04T08:00:00.000000000",
          "2040-10-04T09:00:00.000000000",
          "2040-10-04T10:00:00.000000000",
          "2040-10-04T11:00:00.000000000",
          "2040-10-04T12:00:00.000000000",
          "2040-10-04T13:00:00.000000000",
          "2040-10-05T08:00:00.000000000",
          "2040-10-05T09:00:00.000000000",
          "2040-10-05T10:00:00.000000000",
          "2040-10-05T12:00:00.000000000",
          "2040-10-06T09:00:00.000000000",
          "2040-10-06T10:00:00.000000000",
          "2040-10-06T11:00:00.000000000",
          "2040-10-06T12:00:00.000000000",
          "2040-10-06T13:00:00.000000000",
          "2040-10-07T08:00:00.000000000",
          "2040-10-07T09:00:00.000000000",
          "2040-10-07T10:00:00.000000000",
          "2040-10-07T11:00:00.000000000",
          "2040-10-07T12:00:00.000000000",
          "2040-10-08T08:00:00.000000000",
          "2040-10-08T10:00:00.000000000",
          "2040-10-08T11:00:00.000000000",
          "2040-10-09T08:00:00.000000000",
          "2040-10-09T09:00:00.000000000",
          "2040-10-09T10:00:00.000000000",
          "2040-10-09T11:00:00.000000000",
          "2040-10-09T12:00:00.000000000",
          "2040-10-09T13:00:00.000000000",
          "2040-10-10T08:00:00.000000000",
          "2040-10-10T09:00:00.000000000",
          "2040-10-10T10:00:00.000000000",
          "2040-10-10T11:00:00.000000000",
          "2040-10-10T12:00:00.000000000",
          "2040-10-10T14:00:00.000000000",
          "2040-10-11T08:00:00.000000000",
          "2040-10-11T09:00:00.000000000",
          "2040-10-11T10:00:00.000000000",
          "2040-10-12T08:00:00.000000000",
          "2040-10-12T09:00:00.000000000",
          "2040-10-12T10:00:00.000000000",
          "2040-10-12T11:00:00.000000000",
          "2040-10-12T12:00:00.000000000",
          "2040-10-13T08:00:00.000000000",
          "2040-10-13T09:00:00.000000000",
          "2040-10-13T11:00:00.000000000",
          "2040-10-13T12:00:00.000000000",
          "2040-10-13T13:00:00.000000000",
          "2040-10-14T08:00:00.000000000",
          "2040-10-14T09:00:00.000000000",
          "2040-10-14T10:00:00.000000000",
          "2040-10-14T11:00:00.000000000",
          "2040-10-14T12:00:00.000000000",
          "2040-10-14T13:00:00.000000000"
         ],
         "xaxis": "x",
         "y": {
          "bdata": "AAAAAAAAAAAAAAAAAADwPwAAAAAAAAAAAAAAAAAAAAAAAAAAAAAAAAAAAAAAAAAAAAAAAAAAAAAAAAAAAAAAAAAAAAAAAPA/AAAAAAAAAAAAAAAAAAAAAAAAAAAAAAAAAAAAAAAAAAAAAAAAAAAAAAAAAAAAAAAAAAAAAAAA8D8AAAAAAAAAAAAAAAAAAABAAAAAAAAAAEAAAAAAAAAAAAAAAAAAAAAAAAAAAAAAAAAAAAAAAAAAAAAAAAAAAPA/AAAAAAAAAAAAAAAAAAAAAAAAAAAAAAAAAAAAAAAAAAAAAAAAAAAAAAAAAAAAAAAAAAAAAAAAAAAAAAAAAAAAAAAAAAAAAAAAAAAAAAAAAAAAAAAAAADwPwAAAAAAAAAAAAAAAAAAAEAAAAAAAAAIQAAAAAAAAAAAAAAAAAAAAAAAAAAAAAAAAAAAAAAAAPA/AAAAAAAAAAAAAAAAAAAAAAAAAAAAAAAAAAAAAAAAAAAAAAAAAAAAAAAAAAAAAAAAAAAAAAAAAAAAAAAAAAAAAAAAAAAAAAAAAAAAAAAAAAAAAAAAAAAAAAAAAAAAAAAAAAAAAAAAAEAAAAAAAAAAAAAAAAAAAABAAAAAAAAA8D8AAAAAAADwPwAAAAAAAAAAAAAAAAAAAAAAAAAAAADwPwAAAAAAAAAAAAAAAAAAAAAAAAAAAAAAQAAAAAAAAAAAAAAAAAAAAAAAAAAAAADwPwAAAAAAAAAA",
          "dtype": "f8"
         },
         "yaxis": "y"
        },
        {
         "hovertemplate": "source=Defender<br>time_window=%{x}<br>Number of Communications=%{y}<extra></extra>",
         "legendgroup": "Defender",
         "line": {
          "color": "#ab63fa",
          "dash": "solid"
         },
         "marker": {
          "symbol": "circle"
         },
         "mode": "lines",
         "name": "Defender",
         "showlegend": true,
         "type": "scattergl",
         "x": [
          "2040-10-01T08:00:00.000000000",
          "2040-10-01T09:00:00.000000000",
          "2040-10-01T10:00:00.000000000",
          "2040-10-01T11:00:00.000000000",
          "2040-10-01T12:00:00.000000000",
          "2040-10-02T08:00:00.000000000",
          "2040-10-02T09:00:00.000000000",
          "2040-10-02T10:00:00.000000000",
          "2040-10-02T11:00:00.000000000",
          "2040-10-02T12:00:00.000000000",
          "2040-10-02T13:00:00.000000000",
          "2040-10-03T08:00:00.000000000",
          "2040-10-03T09:00:00.000000000",
          "2040-10-03T10:00:00.000000000",
          "2040-10-03T11:00:00.000000000",
          "2040-10-04T08:00:00.000000000",
          "2040-10-04T09:00:00.000000000",
          "2040-10-04T10:00:00.000000000",
          "2040-10-04T11:00:00.000000000",
          "2040-10-04T12:00:00.000000000",
          "2040-10-04T13:00:00.000000000",
          "2040-10-05T08:00:00.000000000",
          "2040-10-05T09:00:00.000000000",
          "2040-10-05T10:00:00.000000000",
          "2040-10-05T12:00:00.000000000",
          "2040-10-06T09:00:00.000000000",
          "2040-10-06T10:00:00.000000000",
          "2040-10-06T11:00:00.000000000",
          "2040-10-06T12:00:00.000000000",
          "2040-10-06T13:00:00.000000000",
          "2040-10-07T08:00:00.000000000",
          "2040-10-07T09:00:00.000000000",
          "2040-10-07T10:00:00.000000000",
          "2040-10-07T11:00:00.000000000",
          "2040-10-07T12:00:00.000000000",
          "2040-10-08T08:00:00.000000000",
          "2040-10-08T10:00:00.000000000",
          "2040-10-08T11:00:00.000000000",
          "2040-10-09T08:00:00.000000000",
          "2040-10-09T09:00:00.000000000",
          "2040-10-09T10:00:00.000000000",
          "2040-10-09T11:00:00.000000000",
          "2040-10-09T12:00:00.000000000",
          "2040-10-09T13:00:00.000000000",
          "2040-10-10T08:00:00.000000000",
          "2040-10-10T09:00:00.000000000",
          "2040-10-10T10:00:00.000000000",
          "2040-10-10T11:00:00.000000000",
          "2040-10-10T12:00:00.000000000",
          "2040-10-10T14:00:00.000000000",
          "2040-10-11T08:00:00.000000000",
          "2040-10-11T09:00:00.000000000",
          "2040-10-11T10:00:00.000000000",
          "2040-10-12T08:00:00.000000000",
          "2040-10-12T09:00:00.000000000",
          "2040-10-12T10:00:00.000000000",
          "2040-10-12T11:00:00.000000000",
          "2040-10-12T12:00:00.000000000",
          "2040-10-13T08:00:00.000000000",
          "2040-10-13T09:00:00.000000000",
          "2040-10-13T11:00:00.000000000",
          "2040-10-13T12:00:00.000000000",
          "2040-10-13T13:00:00.000000000",
          "2040-10-14T08:00:00.000000000",
          "2040-10-14T09:00:00.000000000",
          "2040-10-14T10:00:00.000000000",
          "2040-10-14T11:00:00.000000000",
          "2040-10-14T12:00:00.000000000",
          "2040-10-14T13:00:00.000000000"
         ],
         "xaxis": "x",
         "y": {
          "bdata": "AAAAAAAAAAAAAAAAAAAAAAAAAAAAAAAAAAAAAAAAAAAAAAAAAAAAAAAAAAAAAAAAAAAAAAAAAAAAAAAAAAAAAAAAAAAAAAAAAAAAAAAAAAAAAAAAAAAAAAAAAAAAAABAAAAAAAAAAAAAAAAAAAAAAAAAAAAAAAAAAAAAAAAAAAAAAAAAAAAAAAAAAAAAAAAAAAAAAAAAAAAAAAAAAAAAAAAAAAAAAAAAAAAAAAAAAAAAAAAAAAAAAAAAAAAAAAAAAAAAAAAAAAAAAAAAAAAAAAAAAAAAAAAAAAAAAAAAAAAAAAAAAAAAAAAAAAAAAAAAAAAAAAAAAAAAAAAAAAAAAAAAAAAAAAAAAAAAAAAAAAAAAAAAAAAAAAAAAAAAAAAAAAAAAAAAAAAAAAAAAAAAAAAAAAAAAAAAAAAAAAAAAAAAAAAAAAAAAAAAAAAAAAAAAAAAAAAAAAAAAAAAAAAAAAAAAAAAAAAAAAAAAAAAAAAAAAAAAAAAAAAAAAAAAPA/AAAAAAAAAAAAAAAAAAAAAAAAAAAAAAAAAAAAAAAAAAAAAAAAAAAAAAAAAAAAAAAAAAAAAAAAAAAAAAAAAAAAAAAAAAAAAAAAAAAAAAAA8D8AAAAAAAAAAAAAAAAAAAAAAAAAAAAAAAAAAAAAAAAAAAAAAAAAAAAAAAAAAAAAAAAAAAAAAAAAAAAAAAAAAAAAAAAAAAAAAAAAAAAAAAAAAAAAAAAAAPA/",
          "dtype": "f8"
         },
         "yaxis": "y"
        },
        {
         "hovertemplate": "source=EcoVigil<br>time_window=%{x}<br>Number of Communications=%{y}<extra></extra>",
         "legendgroup": "EcoVigil",
         "line": {
          "color": "#FFA15A",
          "dash": "solid"
         },
         "marker": {
          "symbol": "circle"
         },
         "mode": "lines",
         "name": "EcoVigil",
         "showlegend": true,
         "type": "scattergl",
         "x": [
          "2040-10-01T08:00:00.000000000",
          "2040-10-01T09:00:00.000000000",
          "2040-10-01T10:00:00.000000000",
          "2040-10-01T11:00:00.000000000",
          "2040-10-01T12:00:00.000000000",
          "2040-10-02T08:00:00.000000000",
          "2040-10-02T09:00:00.000000000",
          "2040-10-02T10:00:00.000000000",
          "2040-10-02T11:00:00.000000000",
          "2040-10-02T12:00:00.000000000",
          "2040-10-02T13:00:00.000000000",
          "2040-10-03T08:00:00.000000000",
          "2040-10-03T09:00:00.000000000",
          "2040-10-03T10:00:00.000000000",
          "2040-10-03T11:00:00.000000000",
          "2040-10-04T08:00:00.000000000",
          "2040-10-04T09:00:00.000000000",
          "2040-10-04T10:00:00.000000000",
          "2040-10-04T11:00:00.000000000",
          "2040-10-04T12:00:00.000000000",
          "2040-10-04T13:00:00.000000000",
          "2040-10-05T08:00:00.000000000",
          "2040-10-05T09:00:00.000000000",
          "2040-10-05T10:00:00.000000000",
          "2040-10-05T12:00:00.000000000",
          "2040-10-06T09:00:00.000000000",
          "2040-10-06T10:00:00.000000000",
          "2040-10-06T11:00:00.000000000",
          "2040-10-06T12:00:00.000000000",
          "2040-10-06T13:00:00.000000000",
          "2040-10-07T08:00:00.000000000",
          "2040-10-07T09:00:00.000000000",
          "2040-10-07T10:00:00.000000000",
          "2040-10-07T11:00:00.000000000",
          "2040-10-07T12:00:00.000000000",
          "2040-10-08T08:00:00.000000000",
          "2040-10-08T10:00:00.000000000",
          "2040-10-08T11:00:00.000000000",
          "2040-10-09T08:00:00.000000000",
          "2040-10-09T09:00:00.000000000",
          "2040-10-09T10:00:00.000000000",
          "2040-10-09T11:00:00.000000000",
          "2040-10-09T12:00:00.000000000",
          "2040-10-09T13:00:00.000000000",
          "2040-10-10T08:00:00.000000000",
          "2040-10-10T09:00:00.000000000",
          "2040-10-10T10:00:00.000000000",
          "2040-10-10T11:00:00.000000000",
          "2040-10-10T12:00:00.000000000",
          "2040-10-10T14:00:00.000000000",
          "2040-10-11T08:00:00.000000000",
          "2040-10-11T09:00:00.000000000",
          "2040-10-11T10:00:00.000000000",
          "2040-10-12T08:00:00.000000000",
          "2040-10-12T09:00:00.000000000",
          "2040-10-12T10:00:00.000000000",
          "2040-10-12T11:00:00.000000000",
          "2040-10-12T12:00:00.000000000",
          "2040-10-13T08:00:00.000000000",
          "2040-10-13T09:00:00.000000000",
          "2040-10-13T11:00:00.000000000",
          "2040-10-13T12:00:00.000000000",
          "2040-10-13T13:00:00.000000000",
          "2040-10-14T08:00:00.000000000",
          "2040-10-14T09:00:00.000000000",
          "2040-10-14T10:00:00.000000000",
          "2040-10-14T11:00:00.000000000",
          "2040-10-14T12:00:00.000000000",
          "2040-10-14T13:00:00.000000000"
         ],
         "xaxis": "x",
         "y": {
          "bdata": "AAAAAAAAAAAAAAAAAAAAAAAAAAAAAAAAAAAAAAAAAAAAAAAAAAAAAAAAAAAAAAAAAAAAAAAAAAAAAAAAAAAAQAAAAAAAAAAAAAAAAAAAAAAAAAAAAAAAAAAAAAAAAAAAAAAAAAAAAAAAAAAAAADwPwAAAAAAAAAAAAAAAAAAAAAAAAAAAAAAAAAAAAAAAAAAAAAAAAAAAAAAAAAAAAAAAAAAAAAAAAAAAAAAAAAAAAAAAAAAAAAAAAAAAAAAAAAAAAAAAAAAAAAAAAAAAAAAAAAAAAAAAAAAAAAAAAAAAAAAAAAAAADwPwAAAAAAAAAAAAAAAAAAAAAAAAAAAAAAAAAAAAAAAAAAAAAAAAAAAAAAAAAAAAAAAAAAAAAAAAAAAAAAAAAAAAAAAAAAAAAAAAAAAAAAAAAAAAAAAAAAAAAAAAAAAADwPwAAAAAAAAAAAAAAAAAAAAAAAAAAAAAAAAAAAAAAAAAAAAAAAAAAAAAAAAAAAAAAAAAAAAAAAAAAAAAAAAAAAAAAAAAAAAAAAAAAAAAAAPA/AAAAAAAAEEAAAAAAAAAAAAAAAAAAAAAAAAAAAAAAAAAAAAAAAAAAAAAAAAAAAAAAAAAAAAAAAAAAAAAAAAAAAAAAAAAAAAAAAAAAAAAAAAAAAAAAAAAAAAAAAAAAAAAAAAAAAAAAAAAAAAAAAADwPwAAAAAAAAAAAAAAAAAACEAAAAAAAAAAAAAAAAAAAAAA",
          "dtype": "f8"
         },
         "yaxis": "y"
        },
        {
         "hovertemplate": "source=Elise<br>time_window=%{x}<br>Number of Communications=%{y}<extra></extra>",
         "legendgroup": "Elise",
         "line": {
          "color": "#19d3f3",
          "dash": "solid"
         },
         "marker": {
          "symbol": "circle"
         },
         "mode": "lines",
         "name": "Elise",
         "showlegend": true,
         "type": "scattergl",
         "x": [
          "2040-10-01T08:00:00.000000000",
          "2040-10-01T09:00:00.000000000",
          "2040-10-01T10:00:00.000000000",
          "2040-10-01T11:00:00.000000000",
          "2040-10-01T12:00:00.000000000",
          "2040-10-02T08:00:00.000000000",
          "2040-10-02T09:00:00.000000000",
          "2040-10-02T10:00:00.000000000",
          "2040-10-02T11:00:00.000000000",
          "2040-10-02T12:00:00.000000000",
          "2040-10-02T13:00:00.000000000",
          "2040-10-03T08:00:00.000000000",
          "2040-10-03T09:00:00.000000000",
          "2040-10-03T10:00:00.000000000",
          "2040-10-03T11:00:00.000000000",
          "2040-10-04T08:00:00.000000000",
          "2040-10-04T09:00:00.000000000",
          "2040-10-04T10:00:00.000000000",
          "2040-10-04T11:00:00.000000000",
          "2040-10-04T12:00:00.000000000",
          "2040-10-04T13:00:00.000000000",
          "2040-10-05T08:00:00.000000000",
          "2040-10-05T09:00:00.000000000",
          "2040-10-05T10:00:00.000000000",
          "2040-10-05T12:00:00.000000000",
          "2040-10-06T09:00:00.000000000",
          "2040-10-06T10:00:00.000000000",
          "2040-10-06T11:00:00.000000000",
          "2040-10-06T12:00:00.000000000",
          "2040-10-06T13:00:00.000000000",
          "2040-10-07T08:00:00.000000000",
          "2040-10-07T09:00:00.000000000",
          "2040-10-07T10:00:00.000000000",
          "2040-10-07T11:00:00.000000000",
          "2040-10-07T12:00:00.000000000",
          "2040-10-08T08:00:00.000000000",
          "2040-10-08T10:00:00.000000000",
          "2040-10-08T11:00:00.000000000",
          "2040-10-09T08:00:00.000000000",
          "2040-10-09T09:00:00.000000000",
          "2040-10-09T10:00:00.000000000",
          "2040-10-09T11:00:00.000000000",
          "2040-10-09T12:00:00.000000000",
          "2040-10-09T13:00:00.000000000",
          "2040-10-10T08:00:00.000000000",
          "2040-10-10T09:00:00.000000000",
          "2040-10-10T10:00:00.000000000",
          "2040-10-10T11:00:00.000000000",
          "2040-10-10T12:00:00.000000000",
          "2040-10-10T14:00:00.000000000",
          "2040-10-11T08:00:00.000000000",
          "2040-10-11T09:00:00.000000000",
          "2040-10-11T10:00:00.000000000",
          "2040-10-12T08:00:00.000000000",
          "2040-10-12T09:00:00.000000000",
          "2040-10-12T10:00:00.000000000",
          "2040-10-12T11:00:00.000000000",
          "2040-10-12T12:00:00.000000000",
          "2040-10-13T08:00:00.000000000",
          "2040-10-13T09:00:00.000000000",
          "2040-10-13T11:00:00.000000000",
          "2040-10-13T12:00:00.000000000",
          "2040-10-13T13:00:00.000000000",
          "2040-10-14T08:00:00.000000000",
          "2040-10-14T09:00:00.000000000",
          "2040-10-14T10:00:00.000000000",
          "2040-10-14T11:00:00.000000000",
          "2040-10-14T12:00:00.000000000",
          "2040-10-14T13:00:00.000000000"
         ],
         "xaxis": "x",
         "y": {
          "bdata": "AAAAAAAAAAAAAAAAAAAAAAAAAAAAAAAAAAAAAAAAAAAAAAAAAAAAAAAAAAAAAAAAAAAAAAAAAAAAAAAAAAAAAAAAAAAAAAAAAAAAAAAAAAAAAAAAAAAAAAAAAAAAAAAAAAAAAAAAAAAAAAAAAAAAAAAAAAAAAAAAAAAAAAAAAAAAAAAAAAAAAAAAAAAAAAAAAAAAAAAAAAAAAAAAAAAAAAAAAAAAAAAAAAAAAAAAAAAAAAAAAAAAAAAAAAAAAAAAAAAAAAAAAAAAAAAAAAAAAAAAAAAAAAAAAAAAAAAAAAAAAAAAAAAAAAAAAAAAAAAAAAAAAAAAAAAAAAAAAAAAAAAAAAAAAAAAAAAAAAAAAAAAAAAAAAAAAAAAAAAAAPA/AAAAAAAAAAAAAAAAAAAAAAAAAAAAAPA/AAAAAAAAAAAAAAAAAAAAAAAAAAAAAAAAAAAAAAAAAAAAAAAAAADwPwAAAAAAAAAAAAAAAAAAAAAAAAAAAAAAAAAAAAAAAAAAAAAAAAAA8D8AAAAAAAAAAAAAAAAAAPA/AAAAAAAAAAAAAAAAAAAAAAAAAAAAAAAAAAAAAAAAAAAAAAAAAAAAAAAAAAAAAAAAAAAAAAAAAAAAAAAAAAAAAAAAAAAAAAAAAAAAAAAAAAAAAAAAAAAAAAAAAAAAAAAAAAAAAAAAAAAAAAAAAAAAAAAAAAAAAAAAAAAAAAAAAAAAAAAAAAAAAAAAAAAAAAAA",
          "dtype": "f8"
         },
         "yaxis": "y"
        },
        {
         "hovertemplate": "source=Glitters Team<br>time_window=%{x}<br>Number of Communications=%{y}<extra></extra>",
         "legendgroup": "Glitters Team",
         "line": {
          "color": "#FF6692",
          "dash": "solid"
         },
         "marker": {
          "symbol": "circle"
         },
         "mode": "lines",
         "name": "Glitters Team",
         "showlegend": true,
         "type": "scattergl",
         "x": [
          "2040-10-01T08:00:00.000000000",
          "2040-10-01T09:00:00.000000000",
          "2040-10-01T10:00:00.000000000",
          "2040-10-01T11:00:00.000000000",
          "2040-10-01T12:00:00.000000000",
          "2040-10-02T08:00:00.000000000",
          "2040-10-02T09:00:00.000000000",
          "2040-10-02T10:00:00.000000000",
          "2040-10-02T11:00:00.000000000",
          "2040-10-02T12:00:00.000000000",
          "2040-10-02T13:00:00.000000000",
          "2040-10-03T08:00:00.000000000",
          "2040-10-03T09:00:00.000000000",
          "2040-10-03T10:00:00.000000000",
          "2040-10-03T11:00:00.000000000",
          "2040-10-04T08:00:00.000000000",
          "2040-10-04T09:00:00.000000000",
          "2040-10-04T10:00:00.000000000",
          "2040-10-04T11:00:00.000000000",
          "2040-10-04T12:00:00.000000000",
          "2040-10-04T13:00:00.000000000",
          "2040-10-05T08:00:00.000000000",
          "2040-10-05T09:00:00.000000000",
          "2040-10-05T10:00:00.000000000",
          "2040-10-05T12:00:00.000000000",
          "2040-10-06T09:00:00.000000000",
          "2040-10-06T10:00:00.000000000",
          "2040-10-06T11:00:00.000000000",
          "2040-10-06T12:00:00.000000000",
          "2040-10-06T13:00:00.000000000",
          "2040-10-07T08:00:00.000000000",
          "2040-10-07T09:00:00.000000000",
          "2040-10-07T10:00:00.000000000",
          "2040-10-07T11:00:00.000000000",
          "2040-10-07T12:00:00.000000000",
          "2040-10-08T08:00:00.000000000",
          "2040-10-08T10:00:00.000000000",
          "2040-10-08T11:00:00.000000000",
          "2040-10-09T08:00:00.000000000",
          "2040-10-09T09:00:00.000000000",
          "2040-10-09T10:00:00.000000000",
          "2040-10-09T11:00:00.000000000",
          "2040-10-09T12:00:00.000000000",
          "2040-10-09T13:00:00.000000000",
          "2040-10-10T08:00:00.000000000",
          "2040-10-10T09:00:00.000000000",
          "2040-10-10T10:00:00.000000000",
          "2040-10-10T11:00:00.000000000",
          "2040-10-10T12:00:00.000000000",
          "2040-10-10T14:00:00.000000000",
          "2040-10-11T08:00:00.000000000",
          "2040-10-11T09:00:00.000000000",
          "2040-10-11T10:00:00.000000000",
          "2040-10-12T08:00:00.000000000",
          "2040-10-12T09:00:00.000000000",
          "2040-10-12T10:00:00.000000000",
          "2040-10-12T11:00:00.000000000",
          "2040-10-12T12:00:00.000000000",
          "2040-10-13T08:00:00.000000000",
          "2040-10-13T09:00:00.000000000",
          "2040-10-13T11:00:00.000000000",
          "2040-10-13T12:00:00.000000000",
          "2040-10-13T13:00:00.000000000",
          "2040-10-14T08:00:00.000000000",
          "2040-10-14T09:00:00.000000000",
          "2040-10-14T10:00:00.000000000",
          "2040-10-14T11:00:00.000000000",
          "2040-10-14T12:00:00.000000000",
          "2040-10-14T13:00:00.000000000"
         ],
         "xaxis": "x",
         "y": {
          "bdata": "AAAAAAAAAAAAAAAAAAAAAAAAAAAAAAAAAAAAAAAAAAAAAAAAAADwPwAAAAAAAAAAAAAAAAAAAAAAAAAAAAAAAAAAAAAAAAAAAAAAAAAAAAAAAAAAAAAAAAAAAAAAAAAAAAAAAAAAAAAAAAAAAADwPwAAAAAAAAAAAAAAAAAAAAAAAAAAAAAAAAAAAAAAAAAAAAAAAAAAAAAAAAAAAAAAAAAAAAAAAAAAAAAAAAAAAAAAAAAAAAAAAAAAAAAAAAAAAAAAAAAAAAAAAAAAAADwPwAAAAAAAAAAAAAAAAAAAAAAAAAAAAAAAAAAAAAAAAAAAAAAAAAAAAAAAAAAAAAAAAAAAAAAAAAAAAAAAAAAAAAAAAAAAAAAAAAAAAAAAAAAAAAAAAAAAAAAAAAAAAAAAAAAAAAAAAAAAAAAAAAAAAAAAAAAAAAAAAAAAAAAAAAAAAAAAAAAAAAAAAAAAAAAAAAAAAAAAAAAAAAAAAAAAAAAAAAAAAAAAAAAAAAAAAAAAAAAAAAAAAAAAAAAAAAAAAAAAAAAAAAAAAAAAAAAAAAAAAAAAAAAAAAAAAAAAAAAAAAAAAAAAAAAAAAAAAAAAAAAAAAAAAAAAAAAAAAAAAAAAAAAAAAAAAAAAAAAAAAAAAAAAAAAAAAAAAAAAAAAAAAAAAAAAAAAAAAAAAAA8D8AAAAAAAAAAAAAAAAAAAAAAAAAAAAAAAAAAAAAAAAAAAAAAAAAAAAA",
          "dtype": "f8"
         },
         "yaxis": "y"
        },
        {
         "hovertemplate": "source=Green Guardians<br>time_window=%{x}<br>Number of Communications=%{y}<extra></extra>",
         "legendgroup": "Green Guardians",
         "line": {
          "color": "#B6E880",
          "dash": "solid"
         },
         "marker": {
          "symbol": "circle"
         },
         "mode": "lines",
         "name": "Green Guardians",
         "showlegend": true,
         "type": "scattergl",
         "x": [
          "2040-10-01T08:00:00.000000000",
          "2040-10-01T09:00:00.000000000",
          "2040-10-01T10:00:00.000000000",
          "2040-10-01T11:00:00.000000000",
          "2040-10-01T12:00:00.000000000",
          "2040-10-02T08:00:00.000000000",
          "2040-10-02T09:00:00.000000000",
          "2040-10-02T10:00:00.000000000",
          "2040-10-02T11:00:00.000000000",
          "2040-10-02T12:00:00.000000000",
          "2040-10-02T13:00:00.000000000",
          "2040-10-03T08:00:00.000000000",
          "2040-10-03T09:00:00.000000000",
          "2040-10-03T10:00:00.000000000",
          "2040-10-03T11:00:00.000000000",
          "2040-10-04T08:00:00.000000000",
          "2040-10-04T09:00:00.000000000",
          "2040-10-04T10:00:00.000000000",
          "2040-10-04T11:00:00.000000000",
          "2040-10-04T12:00:00.000000000",
          "2040-10-04T13:00:00.000000000",
          "2040-10-05T08:00:00.000000000",
          "2040-10-05T09:00:00.000000000",
          "2040-10-05T10:00:00.000000000",
          "2040-10-05T12:00:00.000000000",
          "2040-10-06T09:00:00.000000000",
          "2040-10-06T10:00:00.000000000",
          "2040-10-06T11:00:00.000000000",
          "2040-10-06T12:00:00.000000000",
          "2040-10-06T13:00:00.000000000",
          "2040-10-07T08:00:00.000000000",
          "2040-10-07T09:00:00.000000000",
          "2040-10-07T10:00:00.000000000",
          "2040-10-07T11:00:00.000000000",
          "2040-10-07T12:00:00.000000000",
          "2040-10-08T08:00:00.000000000",
          "2040-10-08T10:00:00.000000000",
          "2040-10-08T11:00:00.000000000",
          "2040-10-09T08:00:00.000000000",
          "2040-10-09T09:00:00.000000000",
          "2040-10-09T10:00:00.000000000",
          "2040-10-09T11:00:00.000000000",
          "2040-10-09T12:00:00.000000000",
          "2040-10-09T13:00:00.000000000",
          "2040-10-10T08:00:00.000000000",
          "2040-10-10T09:00:00.000000000",
          "2040-10-10T10:00:00.000000000",
          "2040-10-10T11:00:00.000000000",
          "2040-10-10T12:00:00.000000000",
          "2040-10-10T14:00:00.000000000",
          "2040-10-11T08:00:00.000000000",
          "2040-10-11T09:00:00.000000000",
          "2040-10-11T10:00:00.000000000",
          "2040-10-12T08:00:00.000000000",
          "2040-10-12T09:00:00.000000000",
          "2040-10-12T10:00:00.000000000",
          "2040-10-12T11:00:00.000000000",
          "2040-10-12T12:00:00.000000000",
          "2040-10-13T08:00:00.000000000",
          "2040-10-13T09:00:00.000000000",
          "2040-10-13T11:00:00.000000000",
          "2040-10-13T12:00:00.000000000",
          "2040-10-13T13:00:00.000000000",
          "2040-10-14T08:00:00.000000000",
          "2040-10-14T09:00:00.000000000",
          "2040-10-14T10:00:00.000000000",
          "2040-10-14T11:00:00.000000000",
          "2040-10-14T12:00:00.000000000",
          "2040-10-14T13:00:00.000000000"
         ],
         "xaxis": "x",
         "y": {
          "bdata": "AAAAAAAAAAAAAAAAAAAAAAAAAAAAAAAAAAAAAAAA8D8AAAAAAAAAQAAAAAAAAAAAAAAAAAAA8D8AAAAAAAAAAAAAAAAAAAAAAAAAAAAAAAAAAAAAAAAAAAAAAAAAABBAAAAAAAAA8D8AAAAAAAAAQAAAAAAAAAAAAAAAAAAAAEAAAAAAAAAAAAAAAAAAAAAAAAAAAAAAAAAAAAAAAAAAAAAAAAAAAAAAAAAAAAAA8D8AAAAAAAAAAAAAAAAAAAhAAAAAAAAAAAAAAAAAAADwPwAAAAAAAAAAAAAAAAAAAEAAAAAAAAAAAAAAAAAAABRAAAAAAAAAAAAAAAAAAAAAAAAAAAAAAAAAAAAAAAAAAAAAAAAAAAAAAAAAAAAAAAAAAAAAAAAAAAAAAAAAAAAAQAAAAAAAAAAAAAAAAAAAAAAAAAAAAAAIQAAAAAAAAAAAAAAAAAAAAAAAAAAAAAAAAAAAAAAAAAAAAAAAAAAA8D8AAAAAAAAAAAAAAAAAAPA/AAAAAAAAAAAAAAAAAAAAAAAAAAAAAAAAAAAAAAAAAAAAAAAAAAAAQAAAAAAAAAAAAAAAAAAAAAAAAAAAAAAIQAAAAAAAAPA/AAAAAAAAAAAAAAAAAAAAAAAAAAAAAAAAAAAAAAAAAAAAAAAAAAAQQAAAAAAAAAAAAAAAAAAAAAAAAAAAAAAAAAAAAAAAAPA/AAAAAAAAAAAAAAAAAADwPwAAAAAAAAAA",
          "dtype": "f8"
         },
         "yaxis": "y"
        },
        {
         "hovertemplate": "source=Haacklee Harbor<br>time_window=%{x}<br>Number of Communications=%{y}<extra></extra>",
         "legendgroup": "Haacklee Harbor",
         "line": {
          "color": "#FF97FF",
          "dash": "solid"
         },
         "marker": {
          "symbol": "circle"
         },
         "mode": "lines",
         "name": "Haacklee Harbor",
         "showlegend": true,
         "type": "scattergl",
         "x": [
          "2040-10-01T08:00:00.000000000",
          "2040-10-01T09:00:00.000000000",
          "2040-10-01T10:00:00.000000000",
          "2040-10-01T11:00:00.000000000",
          "2040-10-01T12:00:00.000000000",
          "2040-10-02T08:00:00.000000000",
          "2040-10-02T09:00:00.000000000",
          "2040-10-02T10:00:00.000000000",
          "2040-10-02T11:00:00.000000000",
          "2040-10-02T12:00:00.000000000",
          "2040-10-02T13:00:00.000000000",
          "2040-10-03T08:00:00.000000000",
          "2040-10-03T09:00:00.000000000",
          "2040-10-03T10:00:00.000000000",
          "2040-10-03T11:00:00.000000000",
          "2040-10-04T08:00:00.000000000",
          "2040-10-04T09:00:00.000000000",
          "2040-10-04T10:00:00.000000000",
          "2040-10-04T11:00:00.000000000",
          "2040-10-04T12:00:00.000000000",
          "2040-10-04T13:00:00.000000000",
          "2040-10-05T08:00:00.000000000",
          "2040-10-05T09:00:00.000000000",
          "2040-10-05T10:00:00.000000000",
          "2040-10-05T12:00:00.000000000",
          "2040-10-06T09:00:00.000000000",
          "2040-10-06T10:00:00.000000000",
          "2040-10-06T11:00:00.000000000",
          "2040-10-06T12:00:00.000000000",
          "2040-10-06T13:00:00.000000000",
          "2040-10-07T08:00:00.000000000",
          "2040-10-07T09:00:00.000000000",
          "2040-10-07T10:00:00.000000000",
          "2040-10-07T11:00:00.000000000",
          "2040-10-07T12:00:00.000000000",
          "2040-10-08T08:00:00.000000000",
          "2040-10-08T10:00:00.000000000",
          "2040-10-08T11:00:00.000000000",
          "2040-10-09T08:00:00.000000000",
          "2040-10-09T09:00:00.000000000",
          "2040-10-09T10:00:00.000000000",
          "2040-10-09T11:00:00.000000000",
          "2040-10-09T12:00:00.000000000",
          "2040-10-09T13:00:00.000000000",
          "2040-10-10T08:00:00.000000000",
          "2040-10-10T09:00:00.000000000",
          "2040-10-10T10:00:00.000000000",
          "2040-10-10T11:00:00.000000000",
          "2040-10-10T12:00:00.000000000",
          "2040-10-10T14:00:00.000000000",
          "2040-10-11T08:00:00.000000000",
          "2040-10-11T09:00:00.000000000",
          "2040-10-11T10:00:00.000000000",
          "2040-10-12T08:00:00.000000000",
          "2040-10-12T09:00:00.000000000",
          "2040-10-12T10:00:00.000000000",
          "2040-10-12T11:00:00.000000000",
          "2040-10-12T12:00:00.000000000",
          "2040-10-13T08:00:00.000000000",
          "2040-10-13T09:00:00.000000000",
          "2040-10-13T11:00:00.000000000",
          "2040-10-13T12:00:00.000000000",
          "2040-10-13T13:00:00.000000000",
          "2040-10-14T08:00:00.000000000",
          "2040-10-14T09:00:00.000000000",
          "2040-10-14T10:00:00.000000000",
          "2040-10-14T11:00:00.000000000",
          "2040-10-14T12:00:00.000000000",
          "2040-10-14T13:00:00.000000000"
         ],
         "xaxis": "x",
         "y": {
          "bdata": "AAAAAAAAAAAAAAAAAAAAAAAAAAAAAAAAAAAAAAAAAAAAAAAAAAAAAAAAAAAAAPA/AAAAAAAAAAAAAAAAAAAAAAAAAAAAAAAAAAAAAAAAAAAAAAAAAAAAAAAAAAAAAAAAAAAAAAAAAAAAAAAAAAAAAAAAAAAAAAAAAAAAAAAAAAAAAAAAAAAAAAAAAAAAAAAAAAAAAAAAAAAAAAAAAAAAAAAAAAAAAPA/AAAAAAAAAAAAAAAAAAAAQAAAAAAAAAAAAAAAAAAAAAAAAAAAAAAAAAAAAAAAAAAAAAAAAAAAAAAAAAAAAAAAAAAAAAAAAAAAAAAAAAAAAAAAAAAAAAAAAAAAAAAAAAAAAAAAAAAAAAAAAAAAAAAAAAAAAAAAAAAAAAAAAAAAAAAAAAAAAAAAAAAAAAAAAAAAAAAAAAAAAAAAAAAAAAAAAAAAAAAAAAAAAAAAAAAAAAAAAAAAAAAAAAAAAAAAAAAAAAAAAAAA8D8AAAAAAAAAAAAAAAAAAAAAAAAAAAAAAAAAAAAAAAAAAAAAAAAAAAAAAAAAAAAAAAAAAAAAAAAAAAAAAAAAAAAAAAAAAAAAAAAAAAAAAAAAAAAAAAAAAAAAAAAAAAAAAAAAAAAAAAAAAAAAAAAAAAAAAAAAAAAAAEAAAAAAAAAAAAAAAAAAAAAAAAAAAAAAAAAAAAAAAAAAAAAAAAAAAAAAAAAAAAAAAAAAAAAAAAAAAAAAAAAAAAAA",
          "dtype": "f8"
         },
         "yaxis": "y"
        },
        {
         "hovertemplate": "source=Himark Harbor<br>time_window=%{x}<br>Number of Communications=%{y}<extra></extra>",
         "legendgroup": "Himark Harbor",
         "line": {
          "color": "#FECB52",
          "dash": "solid"
         },
         "marker": {
          "symbol": "circle"
         },
         "mode": "lines",
         "name": "Himark Harbor",
         "showlegend": true,
         "type": "scattergl",
         "x": [
          "2040-10-01T08:00:00.000000000",
          "2040-10-01T09:00:00.000000000",
          "2040-10-01T10:00:00.000000000",
          "2040-10-01T11:00:00.000000000",
          "2040-10-01T12:00:00.000000000",
          "2040-10-02T08:00:00.000000000",
          "2040-10-02T09:00:00.000000000",
          "2040-10-02T10:00:00.000000000",
          "2040-10-02T11:00:00.000000000",
          "2040-10-02T12:00:00.000000000",
          "2040-10-02T13:00:00.000000000",
          "2040-10-03T08:00:00.000000000",
          "2040-10-03T09:00:00.000000000",
          "2040-10-03T10:00:00.000000000",
          "2040-10-03T11:00:00.000000000",
          "2040-10-04T08:00:00.000000000",
          "2040-10-04T09:00:00.000000000",
          "2040-10-04T10:00:00.000000000",
          "2040-10-04T11:00:00.000000000",
          "2040-10-04T12:00:00.000000000",
          "2040-10-04T13:00:00.000000000",
          "2040-10-05T08:00:00.000000000",
          "2040-10-05T09:00:00.000000000",
          "2040-10-05T10:00:00.000000000",
          "2040-10-05T12:00:00.000000000",
          "2040-10-06T09:00:00.000000000",
          "2040-10-06T10:00:00.000000000",
          "2040-10-06T11:00:00.000000000",
          "2040-10-06T12:00:00.000000000",
          "2040-10-06T13:00:00.000000000",
          "2040-10-07T08:00:00.000000000",
          "2040-10-07T09:00:00.000000000",
          "2040-10-07T10:00:00.000000000",
          "2040-10-07T11:00:00.000000000",
          "2040-10-07T12:00:00.000000000",
          "2040-10-08T08:00:00.000000000",
          "2040-10-08T10:00:00.000000000",
          "2040-10-08T11:00:00.000000000",
          "2040-10-09T08:00:00.000000000",
          "2040-10-09T09:00:00.000000000",
          "2040-10-09T10:00:00.000000000",
          "2040-10-09T11:00:00.000000000",
          "2040-10-09T12:00:00.000000000",
          "2040-10-09T13:00:00.000000000",
          "2040-10-10T08:00:00.000000000",
          "2040-10-10T09:00:00.000000000",
          "2040-10-10T10:00:00.000000000",
          "2040-10-10T11:00:00.000000000",
          "2040-10-10T12:00:00.000000000",
          "2040-10-10T14:00:00.000000000",
          "2040-10-11T08:00:00.000000000",
          "2040-10-11T09:00:00.000000000",
          "2040-10-11T10:00:00.000000000",
          "2040-10-12T08:00:00.000000000",
          "2040-10-12T09:00:00.000000000",
          "2040-10-12T10:00:00.000000000",
          "2040-10-12T11:00:00.000000000",
          "2040-10-12T12:00:00.000000000",
          "2040-10-13T08:00:00.000000000",
          "2040-10-13T09:00:00.000000000",
          "2040-10-13T11:00:00.000000000",
          "2040-10-13T12:00:00.000000000",
          "2040-10-13T13:00:00.000000000",
          "2040-10-14T08:00:00.000000000",
          "2040-10-14T09:00:00.000000000",
          "2040-10-14T10:00:00.000000000",
          "2040-10-14T11:00:00.000000000",
          "2040-10-14T12:00:00.000000000",
          "2040-10-14T13:00:00.000000000"
         ],
         "xaxis": "x",
         "y": {
          "bdata": "AAAAAAAA8D8AAAAAAADwPwAAAAAAAAAAAAAAAAAA8D8AAAAAAAAAAAAAAAAAAPA/AAAAAAAAAAAAAAAAAAAAAAAAAAAAAPA/AAAAAAAA8D8AAAAAAAAAAAAAAAAAAAAAAAAAAAAA8D8AAAAAAAAAAAAAAAAAAAAAAAAAAAAAAAAAAAAAAAAAAAAAAAAAAAAAAAAAAAAAAAAAAAAAAAAAAAAAAAAAAABAAAAAAAAA8D8AAAAAAADwPwAAAAAAAPA/AAAAAAAAAAAAAAAAAAAAAAAAAAAAAABAAAAAAAAAAAAAAAAAAAAAAAAAAAAAAAAAAAAAAAAAAAAAAAAAAAAAQAAAAAAAAAAAAAAAAAAA8D8AAAAAAAAAAAAAAAAAAAAAAAAAAAAAAAAAAAAAAADwPwAAAAAAAAAAAAAAAAAAAAAAAAAAAADwPwAAAAAAAPA/AAAAAAAAAEAAAAAAAAAAAAAAAAAAAAAAAAAAAAAAAAAAAAAAAAAAAAAAAAAAAAAAAAAAAAAA8D8AAAAAAAAAAAAAAAAAAAAAAAAAAAAAAAAAAAAAAAAAQAAAAAAAAAAAAAAAAAAAAAAAAAAAAAAAAAAAAAAAAAAAAAAAAAAAAAAAAAAAAAAAAAAAAAAAAAAAAAAAAAAA8D8AAAAAAAAAAAAAAAAAAAAAAAAAAAAAAAAAAAAAAAAAAAAAAAAAAAAAAAAAAAAAAAAAAAAAAADwPwAAAAAAAAAA",
          "dtype": "f8"
         },
         "yaxis": "y"
        },
        {
         "hovertemplate": "source=Horizon<br>time_window=%{x}<br>Number of Communications=%{y}<extra></extra>",
         "legendgroup": "Horizon",
         "line": {
          "color": "#636efa",
          "dash": "solid"
         },
         "marker": {
          "symbol": "circle"
         },
         "mode": "lines",
         "name": "Horizon",
         "showlegend": true,
         "type": "scattergl",
         "x": [
          "2040-10-01T08:00:00.000000000",
          "2040-10-01T09:00:00.000000000",
          "2040-10-01T10:00:00.000000000",
          "2040-10-01T11:00:00.000000000",
          "2040-10-01T12:00:00.000000000",
          "2040-10-02T08:00:00.000000000",
          "2040-10-02T09:00:00.000000000",
          "2040-10-02T10:00:00.000000000",
          "2040-10-02T11:00:00.000000000",
          "2040-10-02T12:00:00.000000000",
          "2040-10-02T13:00:00.000000000",
          "2040-10-03T08:00:00.000000000",
          "2040-10-03T09:00:00.000000000",
          "2040-10-03T10:00:00.000000000",
          "2040-10-03T11:00:00.000000000",
          "2040-10-04T08:00:00.000000000",
          "2040-10-04T09:00:00.000000000",
          "2040-10-04T10:00:00.000000000",
          "2040-10-04T11:00:00.000000000",
          "2040-10-04T12:00:00.000000000",
          "2040-10-04T13:00:00.000000000",
          "2040-10-05T08:00:00.000000000",
          "2040-10-05T09:00:00.000000000",
          "2040-10-05T10:00:00.000000000",
          "2040-10-05T12:00:00.000000000",
          "2040-10-06T09:00:00.000000000",
          "2040-10-06T10:00:00.000000000",
          "2040-10-06T11:00:00.000000000",
          "2040-10-06T12:00:00.000000000",
          "2040-10-06T13:00:00.000000000",
          "2040-10-07T08:00:00.000000000",
          "2040-10-07T09:00:00.000000000",
          "2040-10-07T10:00:00.000000000",
          "2040-10-07T11:00:00.000000000",
          "2040-10-07T12:00:00.000000000",
          "2040-10-08T08:00:00.000000000",
          "2040-10-08T10:00:00.000000000",
          "2040-10-08T11:00:00.000000000",
          "2040-10-09T08:00:00.000000000",
          "2040-10-09T09:00:00.000000000",
          "2040-10-09T10:00:00.000000000",
          "2040-10-09T11:00:00.000000000",
          "2040-10-09T12:00:00.000000000",
          "2040-10-09T13:00:00.000000000",
          "2040-10-10T08:00:00.000000000",
          "2040-10-10T09:00:00.000000000",
          "2040-10-10T10:00:00.000000000",
          "2040-10-10T11:00:00.000000000",
          "2040-10-10T12:00:00.000000000",
          "2040-10-10T14:00:00.000000000",
          "2040-10-11T08:00:00.000000000",
          "2040-10-11T09:00:00.000000000",
          "2040-10-11T10:00:00.000000000",
          "2040-10-12T08:00:00.000000000",
          "2040-10-12T09:00:00.000000000",
          "2040-10-12T10:00:00.000000000",
          "2040-10-12T11:00:00.000000000",
          "2040-10-12T12:00:00.000000000",
          "2040-10-13T08:00:00.000000000",
          "2040-10-13T09:00:00.000000000",
          "2040-10-13T11:00:00.000000000",
          "2040-10-13T12:00:00.000000000",
          "2040-10-13T13:00:00.000000000",
          "2040-10-14T08:00:00.000000000",
          "2040-10-14T09:00:00.000000000",
          "2040-10-14T10:00:00.000000000",
          "2040-10-14T11:00:00.000000000",
          "2040-10-14T12:00:00.000000000",
          "2040-10-14T13:00:00.000000000"
         ],
         "xaxis": "x",
         "y": {
          "bdata": "AAAAAAAAAAAAAAAAAAAAAAAAAAAAAAAAAAAAAAAAAAAAAAAAAADwPwAAAAAAAAAAAAAAAAAAAAAAAAAAAAAAQAAAAAAAAAAAAAAAAAAAAAAAAAAAAAAAAAAAAAAAAAAAAAAAAAAAAAAAAAAAAADwPwAAAAAAAAAAAAAAAAAAAAAAAAAAAAAAAAAAAAAAAAAAAAAAAAAAAAAAAAAAAAAAAAAAAAAAAAAAAAAAAAAA8D8AAAAAAAAAAAAAAAAAAAAAAAAAAAAAAAAAAAAAAAAAAAAAAAAAAAAAAAAAAAAAAAAAAAAAAADwPwAAAAAAAPA/AAAAAAAAAAAAAAAAAAAAAAAAAAAAAAAAAAAAAAAAAAAAAAAAAAAAAAAAAAAAAAAAAAAAAAAAAAAAAAAAAAAAQAAAAAAAAAAAAAAAAAAAAAAAAAAAAAAAAAAAAAAAAAAAAAAAAAAAAAAAAAAAAAAAAAAAAAAAAAAAAAAAAAAAAAAAAAAAAAAAAAAAAAAAAAAAAAAAAAAAAAAAAAAAAAAAAAAAAAAAAAAAAAAAAAAAAAAAAAAAAAAAAAAAAAAAAAAAAAAAAAAAAAAAAAAAAAAAAAAAAAAAAPA/AAAAAAAAAAAAAAAAAAAAAAAAAAAAAABAAAAAAAAAAAAAAAAAAAAAAAAAAAAAAAAAAAAAAAAAAAAAAAAAAADwPwAAAAAAAAAAAAAAAAAA8D8AAAAAAAAAAAAAAAAAAAAA",
          "dtype": "f8"
         },
         "yaxis": "y"
        },
        {
         "hovertemplate": "source=Kelly<br>time_window=%{x}<br>Number of Communications=%{y}<extra></extra>",
         "legendgroup": "Kelly",
         "line": {
          "color": "#EF553B",
          "dash": "solid"
         },
         "marker": {
          "symbol": "circle"
         },
         "mode": "lines",
         "name": "Kelly",
         "showlegend": true,
         "type": "scattergl",
         "x": [
          "2040-10-01T08:00:00.000000000",
          "2040-10-01T09:00:00.000000000",
          "2040-10-01T10:00:00.000000000",
          "2040-10-01T11:00:00.000000000",
          "2040-10-01T12:00:00.000000000",
          "2040-10-02T08:00:00.000000000",
          "2040-10-02T09:00:00.000000000",
          "2040-10-02T10:00:00.000000000",
          "2040-10-02T11:00:00.000000000",
          "2040-10-02T12:00:00.000000000",
          "2040-10-02T13:00:00.000000000",
          "2040-10-03T08:00:00.000000000",
          "2040-10-03T09:00:00.000000000",
          "2040-10-03T10:00:00.000000000",
          "2040-10-03T11:00:00.000000000",
          "2040-10-04T08:00:00.000000000",
          "2040-10-04T09:00:00.000000000",
          "2040-10-04T10:00:00.000000000",
          "2040-10-04T11:00:00.000000000",
          "2040-10-04T12:00:00.000000000",
          "2040-10-04T13:00:00.000000000",
          "2040-10-05T08:00:00.000000000",
          "2040-10-05T09:00:00.000000000",
          "2040-10-05T10:00:00.000000000",
          "2040-10-05T12:00:00.000000000",
          "2040-10-06T09:00:00.000000000",
          "2040-10-06T10:00:00.000000000",
          "2040-10-06T11:00:00.000000000",
          "2040-10-06T12:00:00.000000000",
          "2040-10-06T13:00:00.000000000",
          "2040-10-07T08:00:00.000000000",
          "2040-10-07T09:00:00.000000000",
          "2040-10-07T10:00:00.000000000",
          "2040-10-07T11:00:00.000000000",
          "2040-10-07T12:00:00.000000000",
          "2040-10-08T08:00:00.000000000",
          "2040-10-08T10:00:00.000000000",
          "2040-10-08T11:00:00.000000000",
          "2040-10-09T08:00:00.000000000",
          "2040-10-09T09:00:00.000000000",
          "2040-10-09T10:00:00.000000000",
          "2040-10-09T11:00:00.000000000",
          "2040-10-09T12:00:00.000000000",
          "2040-10-09T13:00:00.000000000",
          "2040-10-10T08:00:00.000000000",
          "2040-10-10T09:00:00.000000000",
          "2040-10-10T10:00:00.000000000",
          "2040-10-10T11:00:00.000000000",
          "2040-10-10T12:00:00.000000000",
          "2040-10-10T14:00:00.000000000",
          "2040-10-11T08:00:00.000000000",
          "2040-10-11T09:00:00.000000000",
          "2040-10-11T10:00:00.000000000",
          "2040-10-12T08:00:00.000000000",
          "2040-10-12T09:00:00.000000000",
          "2040-10-12T10:00:00.000000000",
          "2040-10-12T11:00:00.000000000",
          "2040-10-12T12:00:00.000000000",
          "2040-10-13T08:00:00.000000000",
          "2040-10-13T09:00:00.000000000",
          "2040-10-13T11:00:00.000000000",
          "2040-10-13T12:00:00.000000000",
          "2040-10-13T13:00:00.000000000",
          "2040-10-14T08:00:00.000000000",
          "2040-10-14T09:00:00.000000000",
          "2040-10-14T10:00:00.000000000",
          "2040-10-14T11:00:00.000000000",
          "2040-10-14T12:00:00.000000000",
          "2040-10-14T13:00:00.000000000"
         ],
         "xaxis": "x",
         "y": {
          "bdata": "AAAAAAAA8D8AAAAAAAAAAAAAAAAAAAAAAAAAAAAAAAAAAAAAAAAAAAAAAAAAAAAAAAAAAAAAAAAAAAAAAAAAAAAAAAAAAAAAAAAAAAAAAAAAAAAAAAAAAAAAAAAAAAAAAAAAAAAAAAAAAAAAAAAAAAAAAAAAAAAAAAAAAAAAAAAAAAAAAAAAAAAAAAAAAAAAAAAAAAAAAAAAAAAAAAAAAAAAAAAAAAAAAAAAAAAAAAAAAAAAAAAAAAAAAAAAAAAAAAAAAAAAAAAAAAAAAAAAAAAAAAAAAAAAAAAAAAAAAAAAAAAAAAAAAAAAAAAAAAAAAAAAAAAA8D8AAAAAAAAAAAAAAAAAAAAAAAAAAAAAAAAAAAAAAAAAAAAAAAAAAAAAAAAAAAAAAAAAAAAAAAAAAAAAAAAAAAAAAAAAAAAAAAAAAAAAAAAAAAAAAAAAAAAAAAAAAAAAAAAAAAAAAAAAAAAAAAAAAAAAAAAAAAAAAAAAAAAAAAAAAAAAAAAAAAAAAAAAAAAAAAAAAAAAAAAAAAAAAAAAAAAAAAAAAAAAAAAAAAAAAAAAAAAAAAAAAAAAAAAAAAAAAAAAAAAAAAAAAAAAAAAAAAAAAAAAAAAAAAAAAAAAAAAAAAAAAAAAAAAAAAAAAAAAAAAAAAAAAAAAAAAAAAAAAAAAAAAAAAAAAAAAAAAAAAAAAAAAAAAAAAAAAAAAAAAAAAAAAAAAAAAAAAAAAAAAAAAA",
          "dtype": "f8"
         },
         "yaxis": "y"
        },
        {
         "hovertemplate": "source=Knowles<br>time_window=%{x}<br>Number of Communications=%{y}<extra></extra>",
         "legendgroup": "Knowles",
         "line": {
          "color": "#00cc96",
          "dash": "solid"
         },
         "marker": {
          "symbol": "circle"
         },
         "mode": "lines",
         "name": "Knowles",
         "showlegend": true,
         "type": "scattergl",
         "x": [
          "2040-10-01T08:00:00.000000000",
          "2040-10-01T09:00:00.000000000",
          "2040-10-01T10:00:00.000000000",
          "2040-10-01T11:00:00.000000000",
          "2040-10-01T12:00:00.000000000",
          "2040-10-02T08:00:00.000000000",
          "2040-10-02T09:00:00.000000000",
          "2040-10-02T10:00:00.000000000",
          "2040-10-02T11:00:00.000000000",
          "2040-10-02T12:00:00.000000000",
          "2040-10-02T13:00:00.000000000",
          "2040-10-03T08:00:00.000000000",
          "2040-10-03T09:00:00.000000000",
          "2040-10-03T10:00:00.000000000",
          "2040-10-03T11:00:00.000000000",
          "2040-10-04T08:00:00.000000000",
          "2040-10-04T09:00:00.000000000",
          "2040-10-04T10:00:00.000000000",
          "2040-10-04T11:00:00.000000000",
          "2040-10-04T12:00:00.000000000",
          "2040-10-04T13:00:00.000000000",
          "2040-10-05T08:00:00.000000000",
          "2040-10-05T09:00:00.000000000",
          "2040-10-05T10:00:00.000000000",
          "2040-10-05T12:00:00.000000000",
          "2040-10-06T09:00:00.000000000",
          "2040-10-06T10:00:00.000000000",
          "2040-10-06T11:00:00.000000000",
          "2040-10-06T12:00:00.000000000",
          "2040-10-06T13:00:00.000000000",
          "2040-10-07T08:00:00.000000000",
          "2040-10-07T09:00:00.000000000",
          "2040-10-07T10:00:00.000000000",
          "2040-10-07T11:00:00.000000000",
          "2040-10-07T12:00:00.000000000",
          "2040-10-08T08:00:00.000000000",
          "2040-10-08T10:00:00.000000000",
          "2040-10-08T11:00:00.000000000",
          "2040-10-09T08:00:00.000000000",
          "2040-10-09T09:00:00.000000000",
          "2040-10-09T10:00:00.000000000",
          "2040-10-09T11:00:00.000000000",
          "2040-10-09T12:00:00.000000000",
          "2040-10-09T13:00:00.000000000",
          "2040-10-10T08:00:00.000000000",
          "2040-10-10T09:00:00.000000000",
          "2040-10-10T10:00:00.000000000",
          "2040-10-10T11:00:00.000000000",
          "2040-10-10T12:00:00.000000000",
          "2040-10-10T14:00:00.000000000",
          "2040-10-11T08:00:00.000000000",
          "2040-10-11T09:00:00.000000000",
          "2040-10-11T10:00:00.000000000",
          "2040-10-12T08:00:00.000000000",
          "2040-10-12T09:00:00.000000000",
          "2040-10-12T10:00:00.000000000",
          "2040-10-12T11:00:00.000000000",
          "2040-10-12T12:00:00.000000000",
          "2040-10-13T08:00:00.000000000",
          "2040-10-13T09:00:00.000000000",
          "2040-10-13T11:00:00.000000000",
          "2040-10-13T12:00:00.000000000",
          "2040-10-13T13:00:00.000000000",
          "2040-10-14T08:00:00.000000000",
          "2040-10-14T09:00:00.000000000",
          "2040-10-14T10:00:00.000000000",
          "2040-10-14T11:00:00.000000000",
          "2040-10-14T12:00:00.000000000",
          "2040-10-14T13:00:00.000000000"
         ],
         "xaxis": "x",
         "y": {
          "bdata": "AAAAAAAAAAAAAAAAAAAAAAAAAAAAAAAAAAAAAAAAAAAAAAAAAAAAAAAAAAAAAAAAAAAAAAAAAAAAAAAAAAAAAAAAAAAAAAAAAAAAAAAAAAAAAAAAAAAAAAAAAAAAAAAAAAAAAAAAAAAAAAAAAAAAAAAAAAAAAAAAAAAAAAAAAAAAAAAAAAAAAAAAAAAAAAAAAAAAAAAAAAAAAAAAAAAAAAAAAAAAAAAAAAAAAAAAAAAAAAAAAAAAAAAAAAAAAAAAAAAAAAAAAAAAAAAAAAAAAAAAAAAAAAAAAAAAAAAAAAAAAAAAAAAAAAAAAAAAAAAAAAAAAAAAAAAAAAAAAAAAAAAAAAAAAAAAAAAAAAAAAAAAAAAAAAAAAAAAAAAAAAAAAAAAAAAAAAAAAAAAAAAAAAAAAAAAAAAAAAAAAAAAAAAAAAAAAAAAAAAAAAAAAAAAAAAAAAAAAAAAAAAAAAAAAAAAAAAAAAAAAAAAAAAAAAAAAAAAAAAAAAAAAAAAAAAAAAAAAAAAAAAAAAAAAAAAAAAAAAAAAAAAAAAAAAAAAAAAAAAAAAAAAAAAAAAAAAAAAAAAAAAAAAAAAAAAAAAAAAAAAAAAAAAAAAAAAAAAAAAAAAAAAAAAAAAAAAAAAAAAAAAAAAAA8D8AAAAAAAAAAAAAAAAAAAAAAAAAAAAAAAAAAAAAAAAAAAAAAAAAAAAAAAAAAAAAAAAAAAAAAADwPwAAAAAAAABA",
          "dtype": "f8"
         },
         "yaxis": "y"
        },
        {
         "hovertemplate": "source=Liam Thorne<br>time_window=%{x}<br>Number of Communications=%{y}<extra></extra>",
         "legendgroup": "Liam Thorne",
         "line": {
          "color": "#ab63fa",
          "dash": "solid"
         },
         "marker": {
          "symbol": "circle"
         },
         "mode": "lines",
         "name": "Liam Thorne",
         "showlegend": true,
         "type": "scattergl",
         "x": [
          "2040-10-01T08:00:00.000000000",
          "2040-10-01T09:00:00.000000000",
          "2040-10-01T10:00:00.000000000",
          "2040-10-01T11:00:00.000000000",
          "2040-10-01T12:00:00.000000000",
          "2040-10-02T08:00:00.000000000",
          "2040-10-02T09:00:00.000000000",
          "2040-10-02T10:00:00.000000000",
          "2040-10-02T11:00:00.000000000",
          "2040-10-02T12:00:00.000000000",
          "2040-10-02T13:00:00.000000000",
          "2040-10-03T08:00:00.000000000",
          "2040-10-03T09:00:00.000000000",
          "2040-10-03T10:00:00.000000000",
          "2040-10-03T11:00:00.000000000",
          "2040-10-04T08:00:00.000000000",
          "2040-10-04T09:00:00.000000000",
          "2040-10-04T10:00:00.000000000",
          "2040-10-04T11:00:00.000000000",
          "2040-10-04T12:00:00.000000000",
          "2040-10-04T13:00:00.000000000",
          "2040-10-05T08:00:00.000000000",
          "2040-10-05T09:00:00.000000000",
          "2040-10-05T10:00:00.000000000",
          "2040-10-05T12:00:00.000000000",
          "2040-10-06T09:00:00.000000000",
          "2040-10-06T10:00:00.000000000",
          "2040-10-06T11:00:00.000000000",
          "2040-10-06T12:00:00.000000000",
          "2040-10-06T13:00:00.000000000",
          "2040-10-07T08:00:00.000000000",
          "2040-10-07T09:00:00.000000000",
          "2040-10-07T10:00:00.000000000",
          "2040-10-07T11:00:00.000000000",
          "2040-10-07T12:00:00.000000000",
          "2040-10-08T08:00:00.000000000",
          "2040-10-08T10:00:00.000000000",
          "2040-10-08T11:00:00.000000000",
          "2040-10-09T08:00:00.000000000",
          "2040-10-09T09:00:00.000000000",
          "2040-10-09T10:00:00.000000000",
          "2040-10-09T11:00:00.000000000",
          "2040-10-09T12:00:00.000000000",
          "2040-10-09T13:00:00.000000000",
          "2040-10-10T08:00:00.000000000",
          "2040-10-10T09:00:00.000000000",
          "2040-10-10T10:00:00.000000000",
          "2040-10-10T11:00:00.000000000",
          "2040-10-10T12:00:00.000000000",
          "2040-10-10T14:00:00.000000000",
          "2040-10-11T08:00:00.000000000",
          "2040-10-11T09:00:00.000000000",
          "2040-10-11T10:00:00.000000000",
          "2040-10-12T08:00:00.000000000",
          "2040-10-12T09:00:00.000000000",
          "2040-10-12T10:00:00.000000000",
          "2040-10-12T11:00:00.000000000",
          "2040-10-12T12:00:00.000000000",
          "2040-10-13T08:00:00.000000000",
          "2040-10-13T09:00:00.000000000",
          "2040-10-13T11:00:00.000000000",
          "2040-10-13T12:00:00.000000000",
          "2040-10-13T13:00:00.000000000",
          "2040-10-14T08:00:00.000000000",
          "2040-10-14T09:00:00.000000000",
          "2040-10-14T10:00:00.000000000",
          "2040-10-14T11:00:00.000000000",
          "2040-10-14T12:00:00.000000000",
          "2040-10-14T13:00:00.000000000"
         ],
         "xaxis": "x",
         "y": {
          "bdata": "AAAAAAAAAAAAAAAAAAAAAAAAAAAAAPA/AAAAAAAAAAAAAAAAAAAAAAAAAAAAAAAAAAAAAAAAAAAAAAAAAAAAAAAAAAAAAAAAAAAAAAAAAAAAAAAAAAAAAAAAAAAAAAAAAAAAAAAAAAAAAAAAAAAAAAAAAAAAAAAAAAAAAAAAAAAAAAAAAAAAAAAAAAAAAAAAAAAAAAAAAAAAAAAAAAAAAAAAAAAAAAAAAAAAAAAAAAAAAAAAAADwPwAAAAAAAAAAAAAAAAAAAAAAAAAAAAAAAAAAAAAAAAAAAAAAAAAAAAAAAAAAAAAAAAAAAAAAAAAAAAAAAAAAAAAAAAAAAAAAAAAAAAAAAAAAAAAAAAAAAAAAAAAAAAAAAAAAAAAAAABAAAAAAAAAAAAAAAAAAAAAAAAAAAAAAAAAAAAAAAAAAAAAAAAAAAAAAAAAAAAAAAAAAAAAAAAAAAAAAAAAAAAAAAAAAAAAAAAAAAAAAAAAAAAAAAAAAAAAAAAAAAAAAAAAAAAAAAAAAAAAAAAAAAAAAAAAAAAAAPA/AAAAAAAACEAAAAAAAAAAAAAAAAAAAAAAAAAAAAAAAAAAAAAAAAAAAAAAAAAAAAAAAAAAAAAAAAAAAAAAAAAAAAAAAAAAAPA/AAAAAAAAAAAAAAAAAAAAAAAAAAAAAPA/AAAAAAAAAAAAAAAAAADwPwAAAAAAAAAAAAAAAAAAAAAAAAAAAAAAAAAAAAAAAAAA",
          "dtype": "f8"
         },
         "yaxis": "y"
        },
        {
         "hovertemplate": "source=Mako<br>time_window=%{x}<br>Number of Communications=%{y}<extra></extra>",
         "legendgroup": "Mako",
         "line": {
          "color": "#FFA15A",
          "dash": "solid"
         },
         "marker": {
          "symbol": "circle"
         },
         "mode": "lines",
         "name": "Mako",
         "showlegend": true,
         "type": "scattergl",
         "x": [
          "2040-10-01T08:00:00.000000000",
          "2040-10-01T09:00:00.000000000",
          "2040-10-01T10:00:00.000000000",
          "2040-10-01T11:00:00.000000000",
          "2040-10-01T12:00:00.000000000",
          "2040-10-02T08:00:00.000000000",
          "2040-10-02T09:00:00.000000000",
          "2040-10-02T10:00:00.000000000",
          "2040-10-02T11:00:00.000000000",
          "2040-10-02T12:00:00.000000000",
          "2040-10-02T13:00:00.000000000",
          "2040-10-03T08:00:00.000000000",
          "2040-10-03T09:00:00.000000000",
          "2040-10-03T10:00:00.000000000",
          "2040-10-03T11:00:00.000000000",
          "2040-10-04T08:00:00.000000000",
          "2040-10-04T09:00:00.000000000",
          "2040-10-04T10:00:00.000000000",
          "2040-10-04T11:00:00.000000000",
          "2040-10-04T12:00:00.000000000",
          "2040-10-04T13:00:00.000000000",
          "2040-10-05T08:00:00.000000000",
          "2040-10-05T09:00:00.000000000",
          "2040-10-05T10:00:00.000000000",
          "2040-10-05T12:00:00.000000000",
          "2040-10-06T09:00:00.000000000",
          "2040-10-06T10:00:00.000000000",
          "2040-10-06T11:00:00.000000000",
          "2040-10-06T12:00:00.000000000",
          "2040-10-06T13:00:00.000000000",
          "2040-10-07T08:00:00.000000000",
          "2040-10-07T09:00:00.000000000",
          "2040-10-07T10:00:00.000000000",
          "2040-10-07T11:00:00.000000000",
          "2040-10-07T12:00:00.000000000",
          "2040-10-08T08:00:00.000000000",
          "2040-10-08T10:00:00.000000000",
          "2040-10-08T11:00:00.000000000",
          "2040-10-09T08:00:00.000000000",
          "2040-10-09T09:00:00.000000000",
          "2040-10-09T10:00:00.000000000",
          "2040-10-09T11:00:00.000000000",
          "2040-10-09T12:00:00.000000000",
          "2040-10-09T13:00:00.000000000",
          "2040-10-10T08:00:00.000000000",
          "2040-10-10T09:00:00.000000000",
          "2040-10-10T10:00:00.000000000",
          "2040-10-10T11:00:00.000000000",
          "2040-10-10T12:00:00.000000000",
          "2040-10-10T14:00:00.000000000",
          "2040-10-11T08:00:00.000000000",
          "2040-10-11T09:00:00.000000000",
          "2040-10-11T10:00:00.000000000",
          "2040-10-12T08:00:00.000000000",
          "2040-10-12T09:00:00.000000000",
          "2040-10-12T10:00:00.000000000",
          "2040-10-12T11:00:00.000000000",
          "2040-10-12T12:00:00.000000000",
          "2040-10-13T08:00:00.000000000",
          "2040-10-13T09:00:00.000000000",
          "2040-10-13T11:00:00.000000000",
          "2040-10-13T12:00:00.000000000",
          "2040-10-13T13:00:00.000000000",
          "2040-10-14T08:00:00.000000000",
          "2040-10-14T09:00:00.000000000",
          "2040-10-14T10:00:00.000000000",
          "2040-10-14T11:00:00.000000000",
          "2040-10-14T12:00:00.000000000",
          "2040-10-14T13:00:00.000000000"
         ],
         "xaxis": "x",
         "y": {
          "bdata": "AAAAAAAA8D8AAAAAAAAAAAAAAAAAAAAAAAAAAAAA8D8AAAAAAAAAAAAAAAAAAPA/AAAAAAAAAAAAAAAAAAAAAAAAAAAAAPA/AAAAAAAACEAAAAAAAAAAAAAAAAAAAAAAAAAAAAAAAAAAAAAAAAAAAAAAAAAAAAAAAAAAAAAA8D8AAAAAAADwPwAAAAAAAAAAAAAAAAAAAAAAAAAAAAAAAAAAAAAAAPA/AAAAAAAAAAAAAAAAAAAAAAAAAAAAAABAAAAAAAAAAAAAAAAAAAAAQAAAAAAAAPA/AAAAAAAA8D8AAAAAAAAAAAAAAAAAAAAAAAAAAAAAAAAAAAAAAAAIQAAAAAAAAAAAAAAAAAAA8D8AAAAAAAAAAAAAAAAAAAAAAAAAAAAACEAAAAAAAADwPwAAAAAAAAAAAAAAAAAAAAAAAAAAAAAAAAAAAAAAAAAAAAAAAAAAAAAAAAAAAAAAAAAAAAAAAAAAAAAAAAAACEAAAAAAAAAAAAAAAAAAAPA/AAAAAAAAAAAAAAAAAAAAAAAAAAAAAAAAAAAAAAAAAEAAAAAAAAAAAAAAAAAAAAAAAAAAAAAAAEAAAAAAAAAAAAAAAAAAAAAAAAAAAAAAAAAAAAAAAAAAAAAAAAAAAAAAAAAAAAAAAAAAAAAAAAAAQAAAAAAAAAAAAAAAAAAAAAAAAAAAAAAAAAAAAAAAAAAAAAAAAAAAAAAAAAAAAADwPwAAAAAAAAAA",
          "dtype": "f8"
         },
         "yaxis": "y"
        },
        {
         "hovertemplate": "source=Marlin<br>time_window=%{x}<br>Number of Communications=%{y}<extra></extra>",
         "legendgroup": "Marlin",
         "line": {
          "color": "#19d3f3",
          "dash": "solid"
         },
         "marker": {
          "symbol": "circle"
         },
         "mode": "lines",
         "name": "Marlin",
         "showlegend": true,
         "type": "scattergl",
         "x": [
          "2040-10-01T08:00:00.000000000",
          "2040-10-01T09:00:00.000000000",
          "2040-10-01T10:00:00.000000000",
          "2040-10-01T11:00:00.000000000",
          "2040-10-01T12:00:00.000000000",
          "2040-10-02T08:00:00.000000000",
          "2040-10-02T09:00:00.000000000",
          "2040-10-02T10:00:00.000000000",
          "2040-10-02T11:00:00.000000000",
          "2040-10-02T12:00:00.000000000",
          "2040-10-02T13:00:00.000000000",
          "2040-10-03T08:00:00.000000000",
          "2040-10-03T09:00:00.000000000",
          "2040-10-03T10:00:00.000000000",
          "2040-10-03T11:00:00.000000000",
          "2040-10-04T08:00:00.000000000",
          "2040-10-04T09:00:00.000000000",
          "2040-10-04T10:00:00.000000000",
          "2040-10-04T11:00:00.000000000",
          "2040-10-04T12:00:00.000000000",
          "2040-10-04T13:00:00.000000000",
          "2040-10-05T08:00:00.000000000",
          "2040-10-05T09:00:00.000000000",
          "2040-10-05T10:00:00.000000000",
          "2040-10-05T12:00:00.000000000",
          "2040-10-06T09:00:00.000000000",
          "2040-10-06T10:00:00.000000000",
          "2040-10-06T11:00:00.000000000",
          "2040-10-06T12:00:00.000000000",
          "2040-10-06T13:00:00.000000000",
          "2040-10-07T08:00:00.000000000",
          "2040-10-07T09:00:00.000000000",
          "2040-10-07T10:00:00.000000000",
          "2040-10-07T11:00:00.000000000",
          "2040-10-07T12:00:00.000000000",
          "2040-10-08T08:00:00.000000000",
          "2040-10-08T10:00:00.000000000",
          "2040-10-08T11:00:00.000000000",
          "2040-10-09T08:00:00.000000000",
          "2040-10-09T09:00:00.000000000",
          "2040-10-09T10:00:00.000000000",
          "2040-10-09T11:00:00.000000000",
          "2040-10-09T12:00:00.000000000",
          "2040-10-09T13:00:00.000000000",
          "2040-10-10T08:00:00.000000000",
          "2040-10-10T09:00:00.000000000",
          "2040-10-10T10:00:00.000000000",
          "2040-10-10T11:00:00.000000000",
          "2040-10-10T12:00:00.000000000",
          "2040-10-10T14:00:00.000000000",
          "2040-10-11T08:00:00.000000000",
          "2040-10-11T09:00:00.000000000",
          "2040-10-11T10:00:00.000000000",
          "2040-10-12T08:00:00.000000000",
          "2040-10-12T09:00:00.000000000",
          "2040-10-12T10:00:00.000000000",
          "2040-10-12T11:00:00.000000000",
          "2040-10-12T12:00:00.000000000",
          "2040-10-13T08:00:00.000000000",
          "2040-10-13T09:00:00.000000000",
          "2040-10-13T11:00:00.000000000",
          "2040-10-13T12:00:00.000000000",
          "2040-10-13T13:00:00.000000000",
          "2040-10-14T08:00:00.000000000",
          "2040-10-14T09:00:00.000000000",
          "2040-10-14T10:00:00.000000000",
          "2040-10-14T11:00:00.000000000",
          "2040-10-14T12:00:00.000000000",
          "2040-10-14T13:00:00.000000000"
         ],
         "xaxis": "x",
         "y": {
          "bdata": "AAAAAAAAAAAAAAAAAAAAAAAAAAAAAAAAAAAAAAAAAEAAAAAAAAAAAAAAAAAAAAAAAAAAAAAAAAAAAAAAAAAAAAAAAAAAAAAAAAAAAAAAAEAAAAAAAAAAAAAAAAAAAAAAAAAAAAAAAAAAAAAAAAAAAAAAAAAAAAAAAAAAAAAAAAAAAAAAAAAAAAAAAAAAAAAAAAAAAAAAAEAAAAAAAAAAAAAAAAAAAAAAAAAAAAAAAAAAAAAAAAAAAAAAAAAAAAAAAAAAAAAAAAAAAAAAAAAAAAAAAAAAAAAAAAAAAAAAAAAAAAAAAAAAAAAAAAAAAAAAAAAAAAAAAAAAAAAAAAAAAAAAAAAAAAAAAAAAAAAAAAAAAAAAAAAAAAAAAAAAAAAAAAAAAAAAAAAAAAAAAADwPwAAAAAAAAAAAAAAAAAAAAAAAAAAAAAAAAAAAAAAAAAAAAAAAAAAAAAAAAAAAAAAAAAAAAAAAAAAAAAAAAAAAAAAAAAAAAAAAAAAAAAAAAAAAAAAAAAAAAAAAAAAAAAAAAAAAAAAAAAAAAAAAAAAAAAAAAAAAAAAAAAAAAAAAAAAAAAAAAAAAAAAAAAAAAAAAAAAAAAAAAAAAAAAAAAAAAAAAAAAAAAAAAAAAAAAAAAAAAAAAAAAAAAAAAAAAAAAAAAAAAAAAAAAAAAAAAAAAAAAAAAAAAAAAAAAAAAAAAAAAAAAAAAAAAAAAAAAAAAAAAAAAAAAAAAA",
          "dtype": "f8"
         },
         "yaxis": "y"
        },
        {
         "hovertemplate": "source=Miranda Jordan<br>time_window=%{x}<br>Number of Communications=%{y}<extra></extra>",
         "legendgroup": "Miranda Jordan",
         "line": {
          "color": "#FF6692",
          "dash": "solid"
         },
         "marker": {
          "symbol": "circle"
         },
         "mode": "lines",
         "name": "Miranda Jordan",
         "showlegend": true,
         "type": "scattergl",
         "x": [
          "2040-10-01T08:00:00.000000000",
          "2040-10-01T09:00:00.000000000",
          "2040-10-01T10:00:00.000000000",
          "2040-10-01T11:00:00.000000000",
          "2040-10-01T12:00:00.000000000",
          "2040-10-02T08:00:00.000000000",
          "2040-10-02T09:00:00.000000000",
          "2040-10-02T10:00:00.000000000",
          "2040-10-02T11:00:00.000000000",
          "2040-10-02T12:00:00.000000000",
          "2040-10-02T13:00:00.000000000",
          "2040-10-03T08:00:00.000000000",
          "2040-10-03T09:00:00.000000000",
          "2040-10-03T10:00:00.000000000",
          "2040-10-03T11:00:00.000000000",
          "2040-10-04T08:00:00.000000000",
          "2040-10-04T09:00:00.000000000",
          "2040-10-04T10:00:00.000000000",
          "2040-10-04T11:00:00.000000000",
          "2040-10-04T12:00:00.000000000",
          "2040-10-04T13:00:00.000000000",
          "2040-10-05T08:00:00.000000000",
          "2040-10-05T09:00:00.000000000",
          "2040-10-05T10:00:00.000000000",
          "2040-10-05T12:00:00.000000000",
          "2040-10-06T09:00:00.000000000",
          "2040-10-06T10:00:00.000000000",
          "2040-10-06T11:00:00.000000000",
          "2040-10-06T12:00:00.000000000",
          "2040-10-06T13:00:00.000000000",
          "2040-10-07T08:00:00.000000000",
          "2040-10-07T09:00:00.000000000",
          "2040-10-07T10:00:00.000000000",
          "2040-10-07T11:00:00.000000000",
          "2040-10-07T12:00:00.000000000",
          "2040-10-08T08:00:00.000000000",
          "2040-10-08T10:00:00.000000000",
          "2040-10-08T11:00:00.000000000",
          "2040-10-09T08:00:00.000000000",
          "2040-10-09T09:00:00.000000000",
          "2040-10-09T10:00:00.000000000",
          "2040-10-09T11:00:00.000000000",
          "2040-10-09T12:00:00.000000000",
          "2040-10-09T13:00:00.000000000",
          "2040-10-10T08:00:00.000000000",
          "2040-10-10T09:00:00.000000000",
          "2040-10-10T10:00:00.000000000",
          "2040-10-10T11:00:00.000000000",
          "2040-10-10T12:00:00.000000000",
          "2040-10-10T14:00:00.000000000",
          "2040-10-11T08:00:00.000000000",
          "2040-10-11T09:00:00.000000000",
          "2040-10-11T10:00:00.000000000",
          "2040-10-12T08:00:00.000000000",
          "2040-10-12T09:00:00.000000000",
          "2040-10-12T10:00:00.000000000",
          "2040-10-12T11:00:00.000000000",
          "2040-10-12T12:00:00.000000000",
          "2040-10-13T08:00:00.000000000",
          "2040-10-13T09:00:00.000000000",
          "2040-10-13T11:00:00.000000000",
          "2040-10-13T12:00:00.000000000",
          "2040-10-13T13:00:00.000000000",
          "2040-10-14T08:00:00.000000000",
          "2040-10-14T09:00:00.000000000",
          "2040-10-14T10:00:00.000000000",
          "2040-10-14T11:00:00.000000000",
          "2040-10-14T12:00:00.000000000",
          "2040-10-14T13:00:00.000000000"
         ],
         "xaxis": "x",
         "y": {
          "bdata": "AAAAAAAAAAAAAAAAAAAAAAAAAAAAAAAAAAAAAAAAAAAAAAAAAAAAAAAAAAAAAAAAAAAAAAAAAAAAAAAAAAAAAAAAAAAAAAAAAAAAAAAACEAAAAAAAAAAAAAAAAAAAAAAAAAAAAAACEAAAAAAAAAAAAAAAAAAAAAAAAAAAAAAAAAAAAAAAAAAAAAAAAAAAAAAAAAAAAAAAAAAAAAAAAAAAAAAAAAAAAAAAAAAAAAAAAAAAAAAAAAAAAAAAAAAAABAAAAAAAAA8D8AAAAAAAAAAAAAAAAAAAAAAAAAAAAAAAAAAAAAAAAAAAAAAAAAAAAAAAAAAAAAAAAAAAAAAAAAAAAAAAAAABBAAAAAAAAAAAAAAAAAAAAAAAAAAAAAAAAAAAAAAAAAAAAAAAAAAAAAAAAAAAAAAAAAAAAAAAAAAAAAAAAAAAAAAAAAAAAAAAAAAAAAAAAAAAAAAAAAAAAAAAAAAAAAAAAAAAAAAAAAAAAAAAAAAAAAAAAAAAAAAAAAAAAAAAAAAAAAAAAAAAAAAAAAAAAAAAAAAAAAAAAAAAAAAAAAAAAUQAAAAAAAAAAAAAAAAAAAAAAAAAAAAAAAAAAAAAAAAAAAAAAAAAAAAAAAAAAAAAAAAAAAAAAAAAAAAAAAAAAAAAAAAAAAAAAAAAAAAAAAAAAAAAAAAAAAAAAAAAAAAAAAAAAAAAAAAAAAAAAAAAAAAAAAAAAAAAAAAAAAAAAAAAAA",
          "dtype": "f8"
         },
         "yaxis": "y"
        },
        {
         "hovertemplate": "source=Mrs. Money<br>time_window=%{x}<br>Number of Communications=%{y}<extra></extra>",
         "legendgroup": "Mrs. Money",
         "line": {
          "color": "#B6E880",
          "dash": "solid"
         },
         "marker": {
          "symbol": "circle"
         },
         "mode": "lines",
         "name": "Mrs. Money",
         "showlegend": true,
         "type": "scattergl",
         "x": [
          "2040-10-01T08:00:00.000000000",
          "2040-10-01T09:00:00.000000000",
          "2040-10-01T10:00:00.000000000",
          "2040-10-01T11:00:00.000000000",
          "2040-10-01T12:00:00.000000000",
          "2040-10-02T08:00:00.000000000",
          "2040-10-02T09:00:00.000000000",
          "2040-10-02T10:00:00.000000000",
          "2040-10-02T11:00:00.000000000",
          "2040-10-02T12:00:00.000000000",
          "2040-10-02T13:00:00.000000000",
          "2040-10-03T08:00:00.000000000",
          "2040-10-03T09:00:00.000000000",
          "2040-10-03T10:00:00.000000000",
          "2040-10-03T11:00:00.000000000",
          "2040-10-04T08:00:00.000000000",
          "2040-10-04T09:00:00.000000000",
          "2040-10-04T10:00:00.000000000",
          "2040-10-04T11:00:00.000000000",
          "2040-10-04T12:00:00.000000000",
          "2040-10-04T13:00:00.000000000",
          "2040-10-05T08:00:00.000000000",
          "2040-10-05T09:00:00.000000000",
          "2040-10-05T10:00:00.000000000",
          "2040-10-05T12:00:00.000000000",
          "2040-10-06T09:00:00.000000000",
          "2040-10-06T10:00:00.000000000",
          "2040-10-06T11:00:00.000000000",
          "2040-10-06T12:00:00.000000000",
          "2040-10-06T13:00:00.000000000",
          "2040-10-07T08:00:00.000000000",
          "2040-10-07T09:00:00.000000000",
          "2040-10-07T10:00:00.000000000",
          "2040-10-07T11:00:00.000000000",
          "2040-10-07T12:00:00.000000000",
          "2040-10-08T08:00:00.000000000",
          "2040-10-08T10:00:00.000000000",
          "2040-10-08T11:00:00.000000000",
          "2040-10-09T08:00:00.000000000",
          "2040-10-09T09:00:00.000000000",
          "2040-10-09T10:00:00.000000000",
          "2040-10-09T11:00:00.000000000",
          "2040-10-09T12:00:00.000000000",
          "2040-10-09T13:00:00.000000000",
          "2040-10-10T08:00:00.000000000",
          "2040-10-10T09:00:00.000000000",
          "2040-10-10T10:00:00.000000000",
          "2040-10-10T11:00:00.000000000",
          "2040-10-10T12:00:00.000000000",
          "2040-10-10T14:00:00.000000000",
          "2040-10-11T08:00:00.000000000",
          "2040-10-11T09:00:00.000000000",
          "2040-10-11T10:00:00.000000000",
          "2040-10-12T08:00:00.000000000",
          "2040-10-12T09:00:00.000000000",
          "2040-10-12T10:00:00.000000000",
          "2040-10-12T11:00:00.000000000",
          "2040-10-12T12:00:00.000000000",
          "2040-10-13T08:00:00.000000000",
          "2040-10-13T09:00:00.000000000",
          "2040-10-13T11:00:00.000000000",
          "2040-10-13T12:00:00.000000000",
          "2040-10-13T13:00:00.000000000",
          "2040-10-14T08:00:00.000000000",
          "2040-10-14T09:00:00.000000000",
          "2040-10-14T10:00:00.000000000",
          "2040-10-14T11:00:00.000000000",
          "2040-10-14T12:00:00.000000000",
          "2040-10-14T13:00:00.000000000"
         ],
         "xaxis": "x",
         "y": {
          "bdata": "AAAAAAAAAEAAAAAAAADwPwAAAAAAAAAAAAAAAAAAAAAAAAAAAAAAAAAAAAAAAABAAAAAAAAAAAAAAAAAAAAAAAAAAAAAAPA/AAAAAAAAAAAAAAAAAAAAAAAAAAAAAABAAAAAAAAAAAAAAAAAAAAAAAAAAAAAAAAAAAAAAAAAAEAAAAAAAAAAAAAAAAAAAPA/AAAAAAAAAAAAAAAAAAAAAAAAAAAAAAAAAAAAAAAAAAAAAAAAAAAAAAAAAAAAAAhAAAAAAAAAAAAAAAAAAAAAAAAAAAAAAAAAAAAAAAAAAAAAAAAAAAAAAAAAAAAAAAAAAAAAAAAAAAAAAAAAAAAAQAAAAAAAAAAAAAAAAAAAAAAAAAAAAAAAAAAAAAAAAPA/AAAAAAAAAAAAAAAAAAAAAAAAAAAAAPA/AAAAAAAAAAAAAAAAAAAAAAAAAAAAAAAAAAAAAAAAAAAAAAAAAAAAAAAAAAAAAAAAAAAAAAAAAAAAAAAAAAAAAAAAAAAAAAAAAAAAAAAAAAAAAAAAAAAAAAAAAAAAAPA/AAAAAAAAAAAAAAAAAAAAAAAAAAAAAAAAAAAAAAAAAAAAAAAAAAAAAAAAAAAAAAAAAAAAAAAAAAAAAAAAAAAAAAAAAAAAAAAAAAAAAAAAAAAAAAAAAAAAAAAAAAAAAAAAAAAAAAAAAAAAAAAAAAAAAAAAAAAAAAAAAAAAAAAAAAAAAAAAAAAAAAAAAAAAAAAA",
          "dtype": "f8"
         },
         "yaxis": "y"
        },
        {
         "hovertemplate": "source=Nadia Conti<br>time_window=%{x}<br>Number of Communications=%{y}<extra></extra>",
         "legendgroup": "Nadia Conti",
         "line": {
          "color": "#FF97FF",
          "dash": "solid"
         },
         "marker": {
          "symbol": "circle"
         },
         "mode": "lines",
         "name": "Nadia Conti",
         "showlegend": true,
         "type": "scattergl",
         "x": [
          "2040-10-01T08:00:00.000000000",
          "2040-10-01T09:00:00.000000000",
          "2040-10-01T10:00:00.000000000",
          "2040-10-01T11:00:00.000000000",
          "2040-10-01T12:00:00.000000000",
          "2040-10-02T08:00:00.000000000",
          "2040-10-02T09:00:00.000000000",
          "2040-10-02T10:00:00.000000000",
          "2040-10-02T11:00:00.000000000",
          "2040-10-02T12:00:00.000000000",
          "2040-10-02T13:00:00.000000000",
          "2040-10-03T08:00:00.000000000",
          "2040-10-03T09:00:00.000000000",
          "2040-10-03T10:00:00.000000000",
          "2040-10-03T11:00:00.000000000",
          "2040-10-04T08:00:00.000000000",
          "2040-10-04T09:00:00.000000000",
          "2040-10-04T10:00:00.000000000",
          "2040-10-04T11:00:00.000000000",
          "2040-10-04T12:00:00.000000000",
          "2040-10-04T13:00:00.000000000",
          "2040-10-05T08:00:00.000000000",
          "2040-10-05T09:00:00.000000000",
          "2040-10-05T10:00:00.000000000",
          "2040-10-05T12:00:00.000000000",
          "2040-10-06T09:00:00.000000000",
          "2040-10-06T10:00:00.000000000",
          "2040-10-06T11:00:00.000000000",
          "2040-10-06T12:00:00.000000000",
          "2040-10-06T13:00:00.000000000",
          "2040-10-07T08:00:00.000000000",
          "2040-10-07T09:00:00.000000000",
          "2040-10-07T10:00:00.000000000",
          "2040-10-07T11:00:00.000000000",
          "2040-10-07T12:00:00.000000000",
          "2040-10-08T08:00:00.000000000",
          "2040-10-08T10:00:00.000000000",
          "2040-10-08T11:00:00.000000000",
          "2040-10-09T08:00:00.000000000",
          "2040-10-09T09:00:00.000000000",
          "2040-10-09T10:00:00.000000000",
          "2040-10-09T11:00:00.000000000",
          "2040-10-09T12:00:00.000000000",
          "2040-10-09T13:00:00.000000000",
          "2040-10-10T08:00:00.000000000",
          "2040-10-10T09:00:00.000000000",
          "2040-10-10T10:00:00.000000000",
          "2040-10-10T11:00:00.000000000",
          "2040-10-10T12:00:00.000000000",
          "2040-10-10T14:00:00.000000000",
          "2040-10-11T08:00:00.000000000",
          "2040-10-11T09:00:00.000000000",
          "2040-10-11T10:00:00.000000000",
          "2040-10-12T08:00:00.000000000",
          "2040-10-12T09:00:00.000000000",
          "2040-10-12T10:00:00.000000000",
          "2040-10-12T11:00:00.000000000",
          "2040-10-12T12:00:00.000000000",
          "2040-10-13T08:00:00.000000000",
          "2040-10-13T09:00:00.000000000",
          "2040-10-13T11:00:00.000000000",
          "2040-10-13T12:00:00.000000000",
          "2040-10-13T13:00:00.000000000",
          "2040-10-14T08:00:00.000000000",
          "2040-10-14T09:00:00.000000000",
          "2040-10-14T10:00:00.000000000",
          "2040-10-14T11:00:00.000000000",
          "2040-10-14T12:00:00.000000000",
          "2040-10-14T13:00:00.000000000"
         ],
         "xaxis": "x",
         "y": {
          "bdata": "AAAAAAAAAAAAAAAAAAAAAAAAAAAAAAAAAAAAAAAAAAAAAAAAAAAAAAAAAAAAAAAAAAAAAAAAAAAAAAAAAAAAAAAAAAAAAAAAAAAAAAAAAAAAAAAAAAAAAAAAAAAAAAAAAAAAAAAAAAAAAAAAAAAAAAAAAAAAAAAAAAAAAAAAAAAAAAAAAAAAAAAAAAAAAAAAAAAAAAAAAAAAAAAAAAAAAAAAAAAAAAAAAAAAAAAAAAAAAAAAAAAAQAAAAAAAAAAAAAAAAAAAAAAAAAAAAAAAAAAAAAAAAAAAAAAAAAAAAAAAAAAAAAAAAAAAAAAAAAAAAAAAAAAAAAAAAAAAAAAAAAAAAAAAAAAAAAAAAAAAAAAAAAAAAAAAAAAAAAAAAAhAAAAAAAAAAAAAAAAAAADwPwAAAAAAAAAAAAAAAAAAAAAAAAAAAAAAAAAAAAAAAAAAAAAAAAAAAAAAAAAAAAAAAAAAAAAAAAAAAAAAAAAAAAAAAAAAAAAAAAAAAAAAAAAAAAAAAAAAAAAAAAAAAAAAAAAAAAAAAAAAAAAAAAAAAAAAAAAAAAAAAAAAAAAAAPA/AAAAAAAAAAAAAAAAAAAAAAAAAAAAAPA/AAAAAAAAAAAAAAAAAAAAAAAAAAAAAAAAAAAAAAAAAAAAAAAAAAAAAAAAAAAAAAAAAAAAAAAAAAAAAAAAAAAAAAAAAAAAAAAAAAAAAAAAAAAAAAAAAAAAAAAAAAAAAAAA",
          "dtype": "f8"
         },
         "yaxis": "y"
        },
        {
         "hovertemplate": "source=Neptune<br>time_window=%{x}<br>Number of Communications=%{y}<extra></extra>",
         "legendgroup": "Neptune",
         "line": {
          "color": "#FECB52",
          "dash": "solid"
         },
         "marker": {
          "symbol": "circle"
         },
         "mode": "lines",
         "name": "Neptune",
         "showlegend": true,
         "type": "scattergl",
         "x": [
          "2040-10-01T08:00:00.000000000",
          "2040-10-01T09:00:00.000000000",
          "2040-10-01T10:00:00.000000000",
          "2040-10-01T11:00:00.000000000",
          "2040-10-01T12:00:00.000000000",
          "2040-10-02T08:00:00.000000000",
          "2040-10-02T09:00:00.000000000",
          "2040-10-02T10:00:00.000000000",
          "2040-10-02T11:00:00.000000000",
          "2040-10-02T12:00:00.000000000",
          "2040-10-02T13:00:00.000000000",
          "2040-10-03T08:00:00.000000000",
          "2040-10-03T09:00:00.000000000",
          "2040-10-03T10:00:00.000000000",
          "2040-10-03T11:00:00.000000000",
          "2040-10-04T08:00:00.000000000",
          "2040-10-04T09:00:00.000000000",
          "2040-10-04T10:00:00.000000000",
          "2040-10-04T11:00:00.000000000",
          "2040-10-04T12:00:00.000000000",
          "2040-10-04T13:00:00.000000000",
          "2040-10-05T08:00:00.000000000",
          "2040-10-05T09:00:00.000000000",
          "2040-10-05T10:00:00.000000000",
          "2040-10-05T12:00:00.000000000",
          "2040-10-06T09:00:00.000000000",
          "2040-10-06T10:00:00.000000000",
          "2040-10-06T11:00:00.000000000",
          "2040-10-06T12:00:00.000000000",
          "2040-10-06T13:00:00.000000000",
          "2040-10-07T08:00:00.000000000",
          "2040-10-07T09:00:00.000000000",
          "2040-10-07T10:00:00.000000000",
          "2040-10-07T11:00:00.000000000",
          "2040-10-07T12:00:00.000000000",
          "2040-10-08T08:00:00.000000000",
          "2040-10-08T10:00:00.000000000",
          "2040-10-08T11:00:00.000000000",
          "2040-10-09T08:00:00.000000000",
          "2040-10-09T09:00:00.000000000",
          "2040-10-09T10:00:00.000000000",
          "2040-10-09T11:00:00.000000000",
          "2040-10-09T12:00:00.000000000",
          "2040-10-09T13:00:00.000000000",
          "2040-10-10T08:00:00.000000000",
          "2040-10-10T09:00:00.000000000",
          "2040-10-10T10:00:00.000000000",
          "2040-10-10T11:00:00.000000000",
          "2040-10-10T12:00:00.000000000",
          "2040-10-10T14:00:00.000000000",
          "2040-10-11T08:00:00.000000000",
          "2040-10-11T09:00:00.000000000",
          "2040-10-11T10:00:00.000000000",
          "2040-10-12T08:00:00.000000000",
          "2040-10-12T09:00:00.000000000",
          "2040-10-12T10:00:00.000000000",
          "2040-10-12T11:00:00.000000000",
          "2040-10-12T12:00:00.000000000",
          "2040-10-13T08:00:00.000000000",
          "2040-10-13T09:00:00.000000000",
          "2040-10-13T11:00:00.000000000",
          "2040-10-13T12:00:00.000000000",
          "2040-10-13T13:00:00.000000000",
          "2040-10-14T08:00:00.000000000",
          "2040-10-14T09:00:00.000000000",
          "2040-10-14T10:00:00.000000000",
          "2040-10-14T11:00:00.000000000",
          "2040-10-14T12:00:00.000000000",
          "2040-10-14T13:00:00.000000000"
         ],
         "xaxis": "x",
         "y": {
          "bdata": "AAAAAAAAAAAAAAAAAAAAAAAAAAAAAAAAAAAAAAAAAAAAAAAAAAAAAAAAAAAAAAAAAAAAAAAAAAAAAAAAAAAAAAAAAAAAAAAAAAAAAAAAAAAAAAAAAAAAAAAAAAAAAAAAAAAAAAAAAAAAAAAAAAAAAAAAAAAAAAAAAAAAAAAAAAAAAAAAAAAAAAAAAAAAAAAAAAAAAAAAAAAAAAAAAAAAAAAAAAAAAAAAAAAAAAAAAAAAAAAAAAAAAAAAAAAAAAAAAAAAAAAAAAAAAAAAAAAAAAAAAAAAAAAAAAAAAAAACEAAAAAAAAAQQAAAAAAAAAAAAAAAAAAAAAAAAAAAAAAAQAAAAAAAAPA/AAAAAAAAEEAAAAAAAAAAAAAAAAAAAABAAAAAAAAAAEAAAAAAAAAAAAAAAAAAAPA/AAAAAAAA8D8AAAAAAAAAQAAAAAAAAAAAAAAAAAAA8D8AAAAAAAAAAAAAAAAAAAAAAAAAAAAA8D8AAAAAAAAAAAAAAAAAAAAAAAAAAAAAAAAAAAAAAAAAAAAAAAAAAAAAAAAAAAAACEAAAAAAAADwPwAAAAAAAAAAAAAAAAAACEAAAAAAAAAAAAAAAAAAAAAAAAAAAAAA8D8AAAAAAAAAAAAAAAAAAAAAAAAAAAAA8D8AAAAAAAAAAAAAAAAAAAAAAAAAAAAAAAAAAAAAAAAAAAAAAAAAAAAAAAAAAAAAAAAAAAAAAADwPwAAAAAAAAAA",
          "dtype": "f8"
         },
         "yaxis": "y"
        },
        {
         "hovertemplate": "source=Northern Light<br>time_window=%{x}<br>Number of Communications=%{y}<extra></extra>",
         "legendgroup": "Northern Light",
         "line": {
          "color": "#636efa",
          "dash": "solid"
         },
         "marker": {
          "symbol": "circle"
         },
         "mode": "lines",
         "name": "Northern Light",
         "showlegend": true,
         "type": "scattergl",
         "x": [
          "2040-10-01T08:00:00.000000000",
          "2040-10-01T09:00:00.000000000",
          "2040-10-01T10:00:00.000000000",
          "2040-10-01T11:00:00.000000000",
          "2040-10-01T12:00:00.000000000",
          "2040-10-02T08:00:00.000000000",
          "2040-10-02T09:00:00.000000000",
          "2040-10-02T10:00:00.000000000",
          "2040-10-02T11:00:00.000000000",
          "2040-10-02T12:00:00.000000000",
          "2040-10-02T13:00:00.000000000",
          "2040-10-03T08:00:00.000000000",
          "2040-10-03T09:00:00.000000000",
          "2040-10-03T10:00:00.000000000",
          "2040-10-03T11:00:00.000000000",
          "2040-10-04T08:00:00.000000000",
          "2040-10-04T09:00:00.000000000",
          "2040-10-04T10:00:00.000000000",
          "2040-10-04T11:00:00.000000000",
          "2040-10-04T12:00:00.000000000",
          "2040-10-04T13:00:00.000000000",
          "2040-10-05T08:00:00.000000000",
          "2040-10-05T09:00:00.000000000",
          "2040-10-05T10:00:00.000000000",
          "2040-10-05T12:00:00.000000000",
          "2040-10-06T09:00:00.000000000",
          "2040-10-06T10:00:00.000000000",
          "2040-10-06T11:00:00.000000000",
          "2040-10-06T12:00:00.000000000",
          "2040-10-06T13:00:00.000000000",
          "2040-10-07T08:00:00.000000000",
          "2040-10-07T09:00:00.000000000",
          "2040-10-07T10:00:00.000000000",
          "2040-10-07T11:00:00.000000000",
          "2040-10-07T12:00:00.000000000",
          "2040-10-08T08:00:00.000000000",
          "2040-10-08T10:00:00.000000000",
          "2040-10-08T11:00:00.000000000",
          "2040-10-09T08:00:00.000000000",
          "2040-10-09T09:00:00.000000000",
          "2040-10-09T10:00:00.000000000",
          "2040-10-09T11:00:00.000000000",
          "2040-10-09T12:00:00.000000000",
          "2040-10-09T13:00:00.000000000",
          "2040-10-10T08:00:00.000000000",
          "2040-10-10T09:00:00.000000000",
          "2040-10-10T10:00:00.000000000",
          "2040-10-10T11:00:00.000000000",
          "2040-10-10T12:00:00.000000000",
          "2040-10-10T14:00:00.000000000",
          "2040-10-11T08:00:00.000000000",
          "2040-10-11T09:00:00.000000000",
          "2040-10-11T10:00:00.000000000",
          "2040-10-12T08:00:00.000000000",
          "2040-10-12T09:00:00.000000000",
          "2040-10-12T10:00:00.000000000",
          "2040-10-12T11:00:00.000000000",
          "2040-10-12T12:00:00.000000000",
          "2040-10-13T08:00:00.000000000",
          "2040-10-13T09:00:00.000000000",
          "2040-10-13T11:00:00.000000000",
          "2040-10-13T12:00:00.000000000",
          "2040-10-13T13:00:00.000000000",
          "2040-10-14T08:00:00.000000000",
          "2040-10-14T09:00:00.000000000",
          "2040-10-14T10:00:00.000000000",
          "2040-10-14T11:00:00.000000000",
          "2040-10-14T12:00:00.000000000",
          "2040-10-14T13:00:00.000000000"
         ],
         "xaxis": "x",
         "y": {
          "bdata": "AAAAAAAAAAAAAAAAAAAAAAAAAAAAAAAAAAAAAAAAAAAAAAAAAAAAAAAAAAAAAAAAAAAAAAAAAAAAAAAAAAAAAAAAAAAAAAAAAAAAAAAAAAAAAAAAAAAAAAAAAAAAAAAAAAAAAAAAAAAAAAAAAAAIQAAAAAAAAAAAAAAAAAAAAAAAAAAAAAAAAAAAAAAAAAAAAAAAAAAAAAAAAAAAAAAAAAAAAAAAAAAAAAAAAAAAAAAAAAAAAAAAAAAAAAAAAAAAAAAAAAAAAAAAAAAAAAAAAAAAAAAAAAAAAAAAAAAAAAAAAAAAAAAAAAAAAAAAAAAAAAAAAAAAAAAAAAAAAAAAAAAAAAAAAAAAAAAAAAAAAAAAAAAAAAAAAAAAAAAAAAAAAAAAAAAAAAAAAAAAAAAAAAAAAAAAAAAAAAAAAAAAAAAAAAAAAAAAAAAAAAAAAPA/AAAAAAAAAAAAAAAAAAAAAAAAAAAAAAAAAAAAAAAAAAAAAAAAAAAAAAAAAAAAAAAAAAAAAAAAAAAAAAAAAAAAAAAAAAAAAAAAAAAAAAAAAAAAAAAAAAAAAAAAAAAAAAAAAAAAAAAAAAAAAAAAAAAAAAAAAAAAAAAAAAAAAAAAAAAAAAAAAAAAAAAAAAAAAAAAAAAAAAAAAAAAAAAAAAAAAAAAAAAAAAAAAAAAAAAAAAAAAAAAAAAAAAAAAAAAAAAAAAAAAAAAAAAAAAAAAAAAAAAAAAAAAAAA",
          "dtype": "f8"
         },
         "yaxis": "y"
        },
        {
         "hovertemplate": "source=Oceanus City Council<br>time_window=%{x}<br>Number of Communications=%{y}<extra></extra>",
         "legendgroup": "Oceanus City Council",
         "line": {
          "color": "#EF553B",
          "dash": "solid"
         },
         "marker": {
          "symbol": "circle"
         },
         "mode": "lines",
         "name": "Oceanus City Council",
         "showlegend": true,
         "type": "scattergl",
         "x": [
          "2040-10-01T08:00:00.000000000",
          "2040-10-01T09:00:00.000000000",
          "2040-10-01T10:00:00.000000000",
          "2040-10-01T11:00:00.000000000",
          "2040-10-01T12:00:00.000000000",
          "2040-10-02T08:00:00.000000000",
          "2040-10-02T09:00:00.000000000",
          "2040-10-02T10:00:00.000000000",
          "2040-10-02T11:00:00.000000000",
          "2040-10-02T12:00:00.000000000",
          "2040-10-02T13:00:00.000000000",
          "2040-10-03T08:00:00.000000000",
          "2040-10-03T09:00:00.000000000",
          "2040-10-03T10:00:00.000000000",
          "2040-10-03T11:00:00.000000000",
          "2040-10-04T08:00:00.000000000",
          "2040-10-04T09:00:00.000000000",
          "2040-10-04T10:00:00.000000000",
          "2040-10-04T11:00:00.000000000",
          "2040-10-04T12:00:00.000000000",
          "2040-10-04T13:00:00.000000000",
          "2040-10-05T08:00:00.000000000",
          "2040-10-05T09:00:00.000000000",
          "2040-10-05T10:00:00.000000000",
          "2040-10-05T12:00:00.000000000",
          "2040-10-06T09:00:00.000000000",
          "2040-10-06T10:00:00.000000000",
          "2040-10-06T11:00:00.000000000",
          "2040-10-06T12:00:00.000000000",
          "2040-10-06T13:00:00.000000000",
          "2040-10-07T08:00:00.000000000",
          "2040-10-07T09:00:00.000000000",
          "2040-10-07T10:00:00.000000000",
          "2040-10-07T11:00:00.000000000",
          "2040-10-07T12:00:00.000000000",
          "2040-10-08T08:00:00.000000000",
          "2040-10-08T10:00:00.000000000",
          "2040-10-08T11:00:00.000000000",
          "2040-10-09T08:00:00.000000000",
          "2040-10-09T09:00:00.000000000",
          "2040-10-09T10:00:00.000000000",
          "2040-10-09T11:00:00.000000000",
          "2040-10-09T12:00:00.000000000",
          "2040-10-09T13:00:00.000000000",
          "2040-10-10T08:00:00.000000000",
          "2040-10-10T09:00:00.000000000",
          "2040-10-10T10:00:00.000000000",
          "2040-10-10T11:00:00.000000000",
          "2040-10-10T12:00:00.000000000",
          "2040-10-10T14:00:00.000000000",
          "2040-10-11T08:00:00.000000000",
          "2040-10-11T09:00:00.000000000",
          "2040-10-11T10:00:00.000000000",
          "2040-10-12T08:00:00.000000000",
          "2040-10-12T09:00:00.000000000",
          "2040-10-12T10:00:00.000000000",
          "2040-10-12T11:00:00.000000000",
          "2040-10-12T12:00:00.000000000",
          "2040-10-13T08:00:00.000000000",
          "2040-10-13T09:00:00.000000000",
          "2040-10-13T11:00:00.000000000",
          "2040-10-13T12:00:00.000000000",
          "2040-10-13T13:00:00.000000000",
          "2040-10-14T08:00:00.000000000",
          "2040-10-14T09:00:00.000000000",
          "2040-10-14T10:00:00.000000000",
          "2040-10-14T11:00:00.000000000",
          "2040-10-14T12:00:00.000000000",
          "2040-10-14T13:00:00.000000000"
         ],
         "xaxis": "x",
         "y": {
          "bdata": "AAAAAAAAAAAAAAAAAAAAAAAAAAAAAABAAAAAAAAA8D8AAAAAAAAAAAAAAAAAAPA/AAAAAAAAAAAAAAAAAAAAAAAAAAAAAPA/AAAAAAAAAAAAAAAAAAAAAAAAAAAAAABAAAAAAAAAAAAAAAAAAAAIQAAAAAAAAAAAAAAAAAAAAAAAAAAAAAAAAAAAAAAAAAAAAAAAAAAA8D8AAAAAAAAAAAAAAAAAAABAAAAAAAAA8D8AAAAAAAAIQAAAAAAAAABAAAAAAAAA8D8AAAAAAAAAAAAAAAAAAPA/AAAAAAAAAAAAAAAAAAAAAAAAAAAAAAAAAAAAAAAAAAAAAAAAAAAAAAAAAAAAAAAAAAAAAAAAAAAAAAAAAAAAAAAAAAAAAPA/AAAAAAAAAAAAAAAAAAAAAAAAAAAAAAAAAAAAAAAA8D8AAAAAAAAAQAAAAAAAAAAAAAAAAAAA8D8AAAAAAAAAAAAAAAAAAAAAAAAAAAAAAAAAAAAAAADwPwAAAAAAAPA/AAAAAAAA8D8AAAAAAAAAAAAAAAAAAAAAAAAAAAAAAEAAAAAAAADwPwAAAAAAAAAAAAAAAAAAAAAAAAAAAAAAAAAAAAAAAAAAAAAAAAAAAAAAAAAAAAAAAAAAAAAAAPA/AAAAAAAAAAAAAAAAAADwPwAAAAAAAABAAAAAAAAAAAAAAAAAAAAAAAAAAAAAAAAAAAAAAAAAAAAAAAAAAADwPwAAAAAAAAAA",
          "dtype": "f8"
         },
         "yaxis": "y"
        },
        {
         "hovertemplate": "source=Osprey<br>time_window=%{x}<br>Number of Communications=%{y}<extra></extra>",
         "legendgroup": "Osprey",
         "line": {
          "color": "#00cc96",
          "dash": "solid"
         },
         "marker": {
          "symbol": "circle"
         },
         "mode": "lines",
         "name": "Osprey",
         "showlegend": true,
         "type": "scattergl",
         "x": [
          "2040-10-01T08:00:00.000000000",
          "2040-10-01T09:00:00.000000000",
          "2040-10-01T10:00:00.000000000",
          "2040-10-01T11:00:00.000000000",
          "2040-10-01T12:00:00.000000000",
          "2040-10-02T08:00:00.000000000",
          "2040-10-02T09:00:00.000000000",
          "2040-10-02T10:00:00.000000000",
          "2040-10-02T11:00:00.000000000",
          "2040-10-02T12:00:00.000000000",
          "2040-10-02T13:00:00.000000000",
          "2040-10-03T08:00:00.000000000",
          "2040-10-03T09:00:00.000000000",
          "2040-10-03T10:00:00.000000000",
          "2040-10-03T11:00:00.000000000",
          "2040-10-04T08:00:00.000000000",
          "2040-10-04T09:00:00.000000000",
          "2040-10-04T10:00:00.000000000",
          "2040-10-04T11:00:00.000000000",
          "2040-10-04T12:00:00.000000000",
          "2040-10-04T13:00:00.000000000",
          "2040-10-05T08:00:00.000000000",
          "2040-10-05T09:00:00.000000000",
          "2040-10-05T10:00:00.000000000",
          "2040-10-05T12:00:00.000000000",
          "2040-10-06T09:00:00.000000000",
          "2040-10-06T10:00:00.000000000",
          "2040-10-06T11:00:00.000000000",
          "2040-10-06T12:00:00.000000000",
          "2040-10-06T13:00:00.000000000",
          "2040-10-07T08:00:00.000000000",
          "2040-10-07T09:00:00.000000000",
          "2040-10-07T10:00:00.000000000",
          "2040-10-07T11:00:00.000000000",
          "2040-10-07T12:00:00.000000000",
          "2040-10-08T08:00:00.000000000",
          "2040-10-08T10:00:00.000000000",
          "2040-10-08T11:00:00.000000000",
          "2040-10-09T08:00:00.000000000",
          "2040-10-09T09:00:00.000000000",
          "2040-10-09T10:00:00.000000000",
          "2040-10-09T11:00:00.000000000",
          "2040-10-09T12:00:00.000000000",
          "2040-10-09T13:00:00.000000000",
          "2040-10-10T08:00:00.000000000",
          "2040-10-10T09:00:00.000000000",
          "2040-10-10T10:00:00.000000000",
          "2040-10-10T11:00:00.000000000",
          "2040-10-10T12:00:00.000000000",
          "2040-10-10T14:00:00.000000000",
          "2040-10-11T08:00:00.000000000",
          "2040-10-11T09:00:00.000000000",
          "2040-10-11T10:00:00.000000000",
          "2040-10-12T08:00:00.000000000",
          "2040-10-12T09:00:00.000000000",
          "2040-10-12T10:00:00.000000000",
          "2040-10-12T11:00:00.000000000",
          "2040-10-12T12:00:00.000000000",
          "2040-10-13T08:00:00.000000000",
          "2040-10-13T09:00:00.000000000",
          "2040-10-13T11:00:00.000000000",
          "2040-10-13T12:00:00.000000000",
          "2040-10-13T13:00:00.000000000",
          "2040-10-14T08:00:00.000000000",
          "2040-10-14T09:00:00.000000000",
          "2040-10-14T10:00:00.000000000",
          "2040-10-14T11:00:00.000000000",
          "2040-10-14T12:00:00.000000000",
          "2040-10-14T13:00:00.000000000"
         ],
         "xaxis": "x",
         "y": {
          "bdata": "AAAAAAAAAAAAAAAAAAAAAAAAAAAAAAAAAAAAAAAAAAAAAAAAAAAAAAAAAAAAAPA/AAAAAAAAAAAAAAAAAAAAAAAAAAAAAAAAAAAAAAAAAEAAAAAAAAAAAAAAAAAAAAAAAAAAAAAAAAAAAAAAAAAAAAAAAAAAAAAAAAAAAAAAAAAAAAAAAAAAAAAAAAAAAAAAAAAAAAAAAAAAAAAAAAAAAAAAAAAAAAAAAAAAAAAAAAAAAAAAAAAAAAAAAAAAAAAAAAAAAAAAAAAAAAAAAAAAAAAAAAAAAAAAAAAAAAAAAAAAAAAAAAAAAAAAAAAAAAAAAAAAAAAAAAAAAAAAAAAAAAAAAAAAAAAAAAAAAAAAAAAAAAAAAAAAAAAAAAAAAAAAAAAAAAAAAAAAAAAAAAAAAAAAAAAAAAAAAAAAAAAAAAAAAAAAAAAAAAAAAAAAAAAAAAAAAAAAAAAAAAAAAAAAAAAAAAAAAAAAAAAAAAAA8D8AAAAAAAAAAAAAAAAAAAAAAAAAAAAAAAAAAAAAAAAAAAAAAAAAAAAAAAAAAAAAAAAAAAAAAAAAAAAAAAAAAAAAAAAAAAAAAEAAAAAAAAAAAAAAAAAAAAAAAAAAAAAAAAAAAAAAAAAAAAAAAAAAAAAAAAAAAAAAAAAAAAAAAAAAAAAAAAAAAAAAAAAAAAAAAAAAAAAAAAAAAAAAAAAAAAAAAAAAAAAAAAAAAAAAAAAAAAAAAAAAAAAA",
          "dtype": "f8"
         },
         "yaxis": "y"
        },
        {
         "hovertemplate": "source=Paackland Harbor<br>time_window=%{x}<br>Number of Communications=%{y}<extra></extra>",
         "legendgroup": "Paackland Harbor",
         "line": {
          "color": "#ab63fa",
          "dash": "solid"
         },
         "marker": {
          "symbol": "circle"
         },
         "mode": "lines",
         "name": "Paackland Harbor",
         "showlegend": true,
         "type": "scattergl",
         "x": [
          "2040-10-01T08:00:00.000000000",
          "2040-10-01T09:00:00.000000000",
          "2040-10-01T10:00:00.000000000",
          "2040-10-01T11:00:00.000000000",
          "2040-10-01T12:00:00.000000000",
          "2040-10-02T08:00:00.000000000",
          "2040-10-02T09:00:00.000000000",
          "2040-10-02T10:00:00.000000000",
          "2040-10-02T11:00:00.000000000",
          "2040-10-02T12:00:00.000000000",
          "2040-10-02T13:00:00.000000000",
          "2040-10-03T08:00:00.000000000",
          "2040-10-03T09:00:00.000000000",
          "2040-10-03T10:00:00.000000000",
          "2040-10-03T11:00:00.000000000",
          "2040-10-04T08:00:00.000000000",
          "2040-10-04T09:00:00.000000000",
          "2040-10-04T10:00:00.000000000",
          "2040-10-04T11:00:00.000000000",
          "2040-10-04T12:00:00.000000000",
          "2040-10-04T13:00:00.000000000",
          "2040-10-05T08:00:00.000000000",
          "2040-10-05T09:00:00.000000000",
          "2040-10-05T10:00:00.000000000",
          "2040-10-05T12:00:00.000000000",
          "2040-10-06T09:00:00.000000000",
          "2040-10-06T10:00:00.000000000",
          "2040-10-06T11:00:00.000000000",
          "2040-10-06T12:00:00.000000000",
          "2040-10-06T13:00:00.000000000",
          "2040-10-07T08:00:00.000000000",
          "2040-10-07T09:00:00.000000000",
          "2040-10-07T10:00:00.000000000",
          "2040-10-07T11:00:00.000000000",
          "2040-10-07T12:00:00.000000000",
          "2040-10-08T08:00:00.000000000",
          "2040-10-08T10:00:00.000000000",
          "2040-10-08T11:00:00.000000000",
          "2040-10-09T08:00:00.000000000",
          "2040-10-09T09:00:00.000000000",
          "2040-10-09T10:00:00.000000000",
          "2040-10-09T11:00:00.000000000",
          "2040-10-09T12:00:00.000000000",
          "2040-10-09T13:00:00.000000000",
          "2040-10-10T08:00:00.000000000",
          "2040-10-10T09:00:00.000000000",
          "2040-10-10T10:00:00.000000000",
          "2040-10-10T11:00:00.000000000",
          "2040-10-10T12:00:00.000000000",
          "2040-10-10T14:00:00.000000000",
          "2040-10-11T08:00:00.000000000",
          "2040-10-11T09:00:00.000000000",
          "2040-10-11T10:00:00.000000000",
          "2040-10-12T08:00:00.000000000",
          "2040-10-12T09:00:00.000000000",
          "2040-10-12T10:00:00.000000000",
          "2040-10-12T11:00:00.000000000",
          "2040-10-12T12:00:00.000000000",
          "2040-10-13T08:00:00.000000000",
          "2040-10-13T09:00:00.000000000",
          "2040-10-13T11:00:00.000000000",
          "2040-10-13T12:00:00.000000000",
          "2040-10-13T13:00:00.000000000",
          "2040-10-14T08:00:00.000000000",
          "2040-10-14T09:00:00.000000000",
          "2040-10-14T10:00:00.000000000",
          "2040-10-14T11:00:00.000000000",
          "2040-10-14T12:00:00.000000000",
          "2040-10-14T13:00:00.000000000"
         ],
         "xaxis": "x",
         "y": {
          "bdata": "AAAAAAAAAAAAAAAAAAAAAAAAAAAAAABAAAAAAAAA8D8AAAAAAAAAAAAAAAAAAAAAAAAAAAAAAAAAAAAAAAAAAAAAAAAAAAAAAAAAAAAA8D8AAAAAAADwPwAAAAAAAAAAAAAAAAAA8D8AAAAAAADwPwAAAAAAAAAAAAAAAAAAAAAAAAAAAADwPwAAAAAAAAAAAAAAAAAAAAAAAAAAAAAAAAAAAAAAAAAAAAAAAAAAAAAAAAAAAAAAAAAAAAAAAABAAAAAAAAAAAAAAAAAAAAAQAAAAAAAAAAAAAAAAAAAAAAAAAAAAAAAAAAAAAAAAAAAAAAAAAAAAAAAAAAAAAAAAAAAAAAAAAAAAAAAAAAAAAAAAAAAAAAAAAAAAAAAAAAAAAAAAAAA8D8AAAAAAAAAAAAAAAAAAAAAAAAAAAAAAAAAAAAAAAAAAAAAAAAAAAAAAAAAAAAAAAAAAAAAAAAAAAAAAAAAAAAAAAAAAAAA8D8AAAAAAAAAAAAAAAAAAAAAAAAAAAAA8D8AAAAAAAAAAAAAAAAAAAAAAAAAAAAAAAAAAAAAAAAAAAAAAAAAAAAAAAAAAAAAAAAAAAAAAAAAAAAAAAAAAAAAAAAAAAAAAAAAAAAAAAAAAAAAAAAAAAAAAAAAAAAAAAAAAAAAAADwPwAAAAAAAAAAAAAAAAAAAAAAAAAAAAAAAAAAAAAAAAAAAAAAAAAAAAAAAAAAAAAAAAAAAAAAAAAA",
          "dtype": "f8"
         },
         "yaxis": "y"
        },
        {
         "hovertemplate": "source=Reef Guardian<br>time_window=%{x}<br>Number of Communications=%{y}<extra></extra>",
         "legendgroup": "Reef Guardian",
         "line": {
          "color": "#FFA15A",
          "dash": "solid"
         },
         "marker": {
          "symbol": "circle"
         },
         "mode": "lines",
         "name": "Reef Guardian",
         "showlegend": true,
         "type": "scattergl",
         "x": [
          "2040-10-01T08:00:00.000000000",
          "2040-10-01T09:00:00.000000000",
          "2040-10-01T10:00:00.000000000",
          "2040-10-01T11:00:00.000000000",
          "2040-10-01T12:00:00.000000000",
          "2040-10-02T08:00:00.000000000",
          "2040-10-02T09:00:00.000000000",
          "2040-10-02T10:00:00.000000000",
          "2040-10-02T11:00:00.000000000",
          "2040-10-02T12:00:00.000000000",
          "2040-10-02T13:00:00.000000000",
          "2040-10-03T08:00:00.000000000",
          "2040-10-03T09:00:00.000000000",
          "2040-10-03T10:00:00.000000000",
          "2040-10-03T11:00:00.000000000",
          "2040-10-04T08:00:00.000000000",
          "2040-10-04T09:00:00.000000000",
          "2040-10-04T10:00:00.000000000",
          "2040-10-04T11:00:00.000000000",
          "2040-10-04T12:00:00.000000000",
          "2040-10-04T13:00:00.000000000",
          "2040-10-05T08:00:00.000000000",
          "2040-10-05T09:00:00.000000000",
          "2040-10-05T10:00:00.000000000",
          "2040-10-05T12:00:00.000000000",
          "2040-10-06T09:00:00.000000000",
          "2040-10-06T10:00:00.000000000",
          "2040-10-06T11:00:00.000000000",
          "2040-10-06T12:00:00.000000000",
          "2040-10-06T13:00:00.000000000",
          "2040-10-07T08:00:00.000000000",
          "2040-10-07T09:00:00.000000000",
          "2040-10-07T10:00:00.000000000",
          "2040-10-07T11:00:00.000000000",
          "2040-10-07T12:00:00.000000000",
          "2040-10-08T08:00:00.000000000",
          "2040-10-08T10:00:00.000000000",
          "2040-10-08T11:00:00.000000000",
          "2040-10-09T08:00:00.000000000",
          "2040-10-09T09:00:00.000000000",
          "2040-10-09T10:00:00.000000000",
          "2040-10-09T11:00:00.000000000",
          "2040-10-09T12:00:00.000000000",
          "2040-10-09T13:00:00.000000000",
          "2040-10-10T08:00:00.000000000",
          "2040-10-10T09:00:00.000000000",
          "2040-10-10T10:00:00.000000000",
          "2040-10-10T11:00:00.000000000",
          "2040-10-10T12:00:00.000000000",
          "2040-10-10T14:00:00.000000000",
          "2040-10-11T08:00:00.000000000",
          "2040-10-11T09:00:00.000000000",
          "2040-10-11T10:00:00.000000000",
          "2040-10-12T08:00:00.000000000",
          "2040-10-12T09:00:00.000000000",
          "2040-10-12T10:00:00.000000000",
          "2040-10-12T11:00:00.000000000",
          "2040-10-12T12:00:00.000000000",
          "2040-10-13T08:00:00.000000000",
          "2040-10-13T09:00:00.000000000",
          "2040-10-13T11:00:00.000000000",
          "2040-10-13T12:00:00.000000000",
          "2040-10-13T13:00:00.000000000",
          "2040-10-14T08:00:00.000000000",
          "2040-10-14T09:00:00.000000000",
          "2040-10-14T10:00:00.000000000",
          "2040-10-14T11:00:00.000000000",
          "2040-10-14T12:00:00.000000000",
          "2040-10-14T13:00:00.000000000"
         ],
         "xaxis": "x",
         "y": {
          "bdata": "AAAAAAAAAAAAAAAAAADwPwAAAAAAAAAAAAAAAAAAAAAAAAAAAAAAAAAAAAAAAAAAAAAAAAAAAAAAAAAAAAAAAAAAAAAAAAAAAAAAAAAAAAAAAAAAAAAAAAAAAAAAAPA/AAAAAAAAAAAAAAAAAAAAQAAAAAAAAAAAAAAAAAAA8D8AAAAAAAAAAAAAAAAAAAAAAAAAAAAA8D8AAAAAAAAAAAAAAAAAAAAAAAAAAAAAAAAAAAAAAAAAAAAAAAAAAAAAAAAAAAAAAAAAAAAAAADwPwAAAAAAAAAAAAAAAAAAAAAAAAAAAAAAAAAAAAAAAPA/AAAAAAAAAAAAAAAAAAAAAAAAAAAAAAhAAAAAAAAAAAAAAAAAAAAAAAAAAAAAAAAAAAAAAAAAAAAAAAAAAAAAQAAAAAAAAAAAAAAAAAAA8D8AAAAAAAAQQAAAAAAAAAAAAAAAAAAAAAAAAAAAAAAAAAAAAAAAAAAAAAAAAAAAAEAAAAAAAADwPwAAAAAAAAAAAAAAAAAAAAAAAAAAAADwPwAAAAAAAAAAAAAAAAAAAEAAAAAAAAAAAAAAAAAAAAAAAAAAAAAA8D8AAAAAAADwPwAAAAAAAAAAAAAAAAAA8D8AAAAAAAAAAAAAAAAAAPA/AAAAAAAAAAAAAAAAAAAIQAAAAAAAAAAAAAAAAAAAAEAAAAAAAAAAAAAAAAAAAAAAAAAAAAAA8D8AAAAAAAAAAAAAAAAAAAAA",
          "dtype": "f8"
         },
         "yaxis": "y"
        },
        {
         "hovertemplate": "source=Remora<br>time_window=%{x}<br>Number of Communications=%{y}<extra></extra>",
         "legendgroup": "Remora",
         "line": {
          "color": "#19d3f3",
          "dash": "solid"
         },
         "marker": {
          "symbol": "circle"
         },
         "mode": "lines",
         "name": "Remora",
         "showlegend": true,
         "type": "scattergl",
         "x": [
          "2040-10-01T08:00:00.000000000",
          "2040-10-01T09:00:00.000000000",
          "2040-10-01T10:00:00.000000000",
          "2040-10-01T11:00:00.000000000",
          "2040-10-01T12:00:00.000000000",
          "2040-10-02T08:00:00.000000000",
          "2040-10-02T09:00:00.000000000",
          "2040-10-02T10:00:00.000000000",
          "2040-10-02T11:00:00.000000000",
          "2040-10-02T12:00:00.000000000",
          "2040-10-02T13:00:00.000000000",
          "2040-10-03T08:00:00.000000000",
          "2040-10-03T09:00:00.000000000",
          "2040-10-03T10:00:00.000000000",
          "2040-10-03T11:00:00.000000000",
          "2040-10-04T08:00:00.000000000",
          "2040-10-04T09:00:00.000000000",
          "2040-10-04T10:00:00.000000000",
          "2040-10-04T11:00:00.000000000",
          "2040-10-04T12:00:00.000000000",
          "2040-10-04T13:00:00.000000000",
          "2040-10-05T08:00:00.000000000",
          "2040-10-05T09:00:00.000000000",
          "2040-10-05T10:00:00.000000000",
          "2040-10-05T12:00:00.000000000",
          "2040-10-06T09:00:00.000000000",
          "2040-10-06T10:00:00.000000000",
          "2040-10-06T11:00:00.000000000",
          "2040-10-06T12:00:00.000000000",
          "2040-10-06T13:00:00.000000000",
          "2040-10-07T08:00:00.000000000",
          "2040-10-07T09:00:00.000000000",
          "2040-10-07T10:00:00.000000000",
          "2040-10-07T11:00:00.000000000",
          "2040-10-07T12:00:00.000000000",
          "2040-10-08T08:00:00.000000000",
          "2040-10-08T10:00:00.000000000",
          "2040-10-08T11:00:00.000000000",
          "2040-10-09T08:00:00.000000000",
          "2040-10-09T09:00:00.000000000",
          "2040-10-09T10:00:00.000000000",
          "2040-10-09T11:00:00.000000000",
          "2040-10-09T12:00:00.000000000",
          "2040-10-09T13:00:00.000000000",
          "2040-10-10T08:00:00.000000000",
          "2040-10-10T09:00:00.000000000",
          "2040-10-10T10:00:00.000000000",
          "2040-10-10T11:00:00.000000000",
          "2040-10-10T12:00:00.000000000",
          "2040-10-10T14:00:00.000000000",
          "2040-10-11T08:00:00.000000000",
          "2040-10-11T09:00:00.000000000",
          "2040-10-11T10:00:00.000000000",
          "2040-10-12T08:00:00.000000000",
          "2040-10-12T09:00:00.000000000",
          "2040-10-12T10:00:00.000000000",
          "2040-10-12T11:00:00.000000000",
          "2040-10-12T12:00:00.000000000",
          "2040-10-13T08:00:00.000000000",
          "2040-10-13T09:00:00.000000000",
          "2040-10-13T11:00:00.000000000",
          "2040-10-13T12:00:00.000000000",
          "2040-10-13T13:00:00.000000000",
          "2040-10-14T08:00:00.000000000",
          "2040-10-14T09:00:00.000000000",
          "2040-10-14T10:00:00.000000000",
          "2040-10-14T11:00:00.000000000",
          "2040-10-14T12:00:00.000000000",
          "2040-10-14T13:00:00.000000000"
         ],
         "xaxis": "x",
         "y": {
          "bdata": "AAAAAAAAAAAAAAAAAAAAAAAAAAAAAPA/AAAAAAAAAAAAAAAAAAAAAAAAAAAAAAAAAAAAAAAAAAAAAAAAAAAAAAAAAAAAAAAAAAAAAAAAAAAAAAAAAAAAQAAAAAAAAAAAAAAAAAAAAAAAAAAAAAAAQAAAAAAAAAAAAAAAAAAAAAAAAAAAAAAAAAAAAAAAAAAAAAAAAAAAAAAAAAAAAAAAAAAAAAAAAAAAAAAAAAAAAAAAAAAAAADwPwAAAAAAAAAAAAAAAAAAAAAAAAAAAADwPwAAAAAAAAAAAAAAAAAAAAAAAAAAAADwPwAAAAAAAAAAAAAAAAAAAAAAAAAAAAAAAAAAAAAAAAAAAAAAAAAACEAAAAAAAAAAAAAAAAAAAAAAAAAAAAAACEAAAAAAAAAAAAAAAAAAAAAAAAAAAAAA8D8AAAAAAAAAAAAAAAAAAAAAAAAAAAAAAAAAAAAAAAAAAAAAAAAAAAAAAAAAAAAA8D8AAAAAAAAAAAAAAAAAAAAAAAAAAAAAAAAAAAAAAAAAAAAAAAAAAAAAAAAAAAAAAAAAAAAAAADwPwAAAAAAAAAAAAAAAAAAAEAAAAAAAAAAAAAAAAAAAPA/AAAAAAAAAAAAAAAAAAAAQAAAAAAAAAAAAAAAAAAAAAAAAAAAAAAAAAAAAAAAAAAAAAAAAAAAAEAAAAAAAADwPwAAAAAAAAAAAAAAAAAAAAAAAAAAAAAAAAAAAAAAAAAA",
          "dtype": "f8"
         },
         "yaxis": "y"
        },
        {
         "hovertemplate": "source=Rodriguez<br>time_window=%{x}<br>Number of Communications=%{y}<extra></extra>",
         "legendgroup": "Rodriguez",
         "line": {
          "color": "#FF6692",
          "dash": "solid"
         },
         "marker": {
          "symbol": "circle"
         },
         "mode": "lines",
         "name": "Rodriguez",
         "showlegend": true,
         "type": "scattergl",
         "x": [
          "2040-10-01T08:00:00.000000000",
          "2040-10-01T09:00:00.000000000",
          "2040-10-01T10:00:00.000000000",
          "2040-10-01T11:00:00.000000000",
          "2040-10-01T12:00:00.000000000",
          "2040-10-02T08:00:00.000000000",
          "2040-10-02T09:00:00.000000000",
          "2040-10-02T10:00:00.000000000",
          "2040-10-02T11:00:00.000000000",
          "2040-10-02T12:00:00.000000000",
          "2040-10-02T13:00:00.000000000",
          "2040-10-03T08:00:00.000000000",
          "2040-10-03T09:00:00.000000000",
          "2040-10-03T10:00:00.000000000",
          "2040-10-03T11:00:00.000000000",
          "2040-10-04T08:00:00.000000000",
          "2040-10-04T09:00:00.000000000",
          "2040-10-04T10:00:00.000000000",
          "2040-10-04T11:00:00.000000000",
          "2040-10-04T12:00:00.000000000",
          "2040-10-04T13:00:00.000000000",
          "2040-10-05T08:00:00.000000000",
          "2040-10-05T09:00:00.000000000",
          "2040-10-05T10:00:00.000000000",
          "2040-10-05T12:00:00.000000000",
          "2040-10-06T09:00:00.000000000",
          "2040-10-06T10:00:00.000000000",
          "2040-10-06T11:00:00.000000000",
          "2040-10-06T12:00:00.000000000",
          "2040-10-06T13:00:00.000000000",
          "2040-10-07T08:00:00.000000000",
          "2040-10-07T09:00:00.000000000",
          "2040-10-07T10:00:00.000000000",
          "2040-10-07T11:00:00.000000000",
          "2040-10-07T12:00:00.000000000",
          "2040-10-08T08:00:00.000000000",
          "2040-10-08T10:00:00.000000000",
          "2040-10-08T11:00:00.000000000",
          "2040-10-09T08:00:00.000000000",
          "2040-10-09T09:00:00.000000000",
          "2040-10-09T10:00:00.000000000",
          "2040-10-09T11:00:00.000000000",
          "2040-10-09T12:00:00.000000000",
          "2040-10-09T13:00:00.000000000",
          "2040-10-10T08:00:00.000000000",
          "2040-10-10T09:00:00.000000000",
          "2040-10-10T10:00:00.000000000",
          "2040-10-10T11:00:00.000000000",
          "2040-10-10T12:00:00.000000000",
          "2040-10-10T14:00:00.000000000",
          "2040-10-11T08:00:00.000000000",
          "2040-10-11T09:00:00.000000000",
          "2040-10-11T10:00:00.000000000",
          "2040-10-12T08:00:00.000000000",
          "2040-10-12T09:00:00.000000000",
          "2040-10-12T10:00:00.000000000",
          "2040-10-12T11:00:00.000000000",
          "2040-10-12T12:00:00.000000000",
          "2040-10-13T08:00:00.000000000",
          "2040-10-13T09:00:00.000000000",
          "2040-10-13T11:00:00.000000000",
          "2040-10-13T12:00:00.000000000",
          "2040-10-13T13:00:00.000000000",
          "2040-10-14T08:00:00.000000000",
          "2040-10-14T09:00:00.000000000",
          "2040-10-14T10:00:00.000000000",
          "2040-10-14T11:00:00.000000000",
          "2040-10-14T12:00:00.000000000",
          "2040-10-14T13:00:00.000000000"
         ],
         "xaxis": "x",
         "y": {
          "bdata": "AAAAAAAAAAAAAAAAAAAAAAAAAAAAAAAAAAAAAAAAAAAAAAAAAAAAAAAAAAAAAAAAAAAAAAAAAAAAAAAAAAAAAAAAAAAAAAAAAAAAAAAA8D8AAAAAAAAAAAAAAAAAAAAAAAAAAAAA8D8AAAAAAAAAAAAAAAAAAPA/AAAAAAAAAAAAAAAAAAAAAAAAAAAAAAAAAAAAAAAAAAAAAAAAAAAAAAAAAAAAAAAAAAAAAAAAAAAAAAAAAADwPwAAAAAAAAAAAAAAAAAAAAAAAAAAAAAAAAAAAAAAAPA/AAAAAAAAAAAAAAAAAAAAAAAAAAAAAAAAAAAAAAAAAAAAAAAAAAAAAAAAAAAAAAAAAAAAAAAA8D8AAAAAAAAAAAAAAAAAAAAAAAAAAAAA8D8AAAAAAADwPwAAAAAAAAAAAAAAAAAAAAAAAAAAAAAAAAAAAAAAAAAAAAAAAAAAAAAAAAAAAAAAAAAAAAAAAAAAAAAAAAAAAAAAAAAAAAAAAAAAAAAAAAAAAAAAAAAAAAAAAAAAAAAAAAAAAAAAAAAAAAAAAAAAAAAAAAAAAADwPwAAAAAAAAAAAAAAAAAACEAAAAAAAAAAAAAAAAAAAAAAAAAAAAAAAAAAAAAAAAAAAAAAAAAAAAAAAAAAAAAA8D8AAAAAAAAAAAAAAAAAAAAAAAAAAAAAAAAAAAAAAAAAAAAAAAAAAAAAAAAAAAAAAAAAAAAAAADwPwAAAAAAAAAA",
          "dtype": "f8"
         },
         "yaxis": "y"
        },
        {
         "hovertemplate": "source=Sailor Shifts Team<br>time_window=%{x}<br>Number of Communications=%{y}<extra></extra>",
         "legendgroup": "Sailor Shifts Team",
         "line": {
          "color": "#B6E880",
          "dash": "solid"
         },
         "marker": {
          "symbol": "circle"
         },
         "mode": "lines",
         "name": "Sailor Shifts Team",
         "showlegend": true,
         "type": "scattergl",
         "x": [
          "2040-10-01T08:00:00.000000000",
          "2040-10-01T09:00:00.000000000",
          "2040-10-01T10:00:00.000000000",
          "2040-10-01T11:00:00.000000000",
          "2040-10-01T12:00:00.000000000",
          "2040-10-02T08:00:00.000000000",
          "2040-10-02T09:00:00.000000000",
          "2040-10-02T10:00:00.000000000",
          "2040-10-02T11:00:00.000000000",
          "2040-10-02T12:00:00.000000000",
          "2040-10-02T13:00:00.000000000",
          "2040-10-03T08:00:00.000000000",
          "2040-10-03T09:00:00.000000000",
          "2040-10-03T10:00:00.000000000",
          "2040-10-03T11:00:00.000000000",
          "2040-10-04T08:00:00.000000000",
          "2040-10-04T09:00:00.000000000",
          "2040-10-04T10:00:00.000000000",
          "2040-10-04T11:00:00.000000000",
          "2040-10-04T12:00:00.000000000",
          "2040-10-04T13:00:00.000000000",
          "2040-10-05T08:00:00.000000000",
          "2040-10-05T09:00:00.000000000",
          "2040-10-05T10:00:00.000000000",
          "2040-10-05T12:00:00.000000000",
          "2040-10-06T09:00:00.000000000",
          "2040-10-06T10:00:00.000000000",
          "2040-10-06T11:00:00.000000000",
          "2040-10-06T12:00:00.000000000",
          "2040-10-06T13:00:00.000000000",
          "2040-10-07T08:00:00.000000000",
          "2040-10-07T09:00:00.000000000",
          "2040-10-07T10:00:00.000000000",
          "2040-10-07T11:00:00.000000000",
          "2040-10-07T12:00:00.000000000",
          "2040-10-08T08:00:00.000000000",
          "2040-10-08T10:00:00.000000000",
          "2040-10-08T11:00:00.000000000",
          "2040-10-09T08:00:00.000000000",
          "2040-10-09T09:00:00.000000000",
          "2040-10-09T10:00:00.000000000",
          "2040-10-09T11:00:00.000000000",
          "2040-10-09T12:00:00.000000000",
          "2040-10-09T13:00:00.000000000",
          "2040-10-10T08:00:00.000000000",
          "2040-10-10T09:00:00.000000000",
          "2040-10-10T10:00:00.000000000",
          "2040-10-10T11:00:00.000000000",
          "2040-10-10T12:00:00.000000000",
          "2040-10-10T14:00:00.000000000",
          "2040-10-11T08:00:00.000000000",
          "2040-10-11T09:00:00.000000000",
          "2040-10-11T10:00:00.000000000",
          "2040-10-12T08:00:00.000000000",
          "2040-10-12T09:00:00.000000000",
          "2040-10-12T10:00:00.000000000",
          "2040-10-12T11:00:00.000000000",
          "2040-10-12T12:00:00.000000000",
          "2040-10-13T08:00:00.000000000",
          "2040-10-13T09:00:00.000000000",
          "2040-10-13T11:00:00.000000000",
          "2040-10-13T12:00:00.000000000",
          "2040-10-13T13:00:00.000000000",
          "2040-10-14T08:00:00.000000000",
          "2040-10-14T09:00:00.000000000",
          "2040-10-14T10:00:00.000000000",
          "2040-10-14T11:00:00.000000000",
          "2040-10-14T12:00:00.000000000",
          "2040-10-14T13:00:00.000000000"
         ],
         "xaxis": "x",
         "y": {
          "bdata": "AAAAAAAAAAAAAAAAAAAAAAAAAAAAAAAAAAAAAAAAAAAAAAAAAAAAAAAAAAAAAAAAAAAAAAAAAAAAAAAAAAAAAAAAAAAAAAAAAAAAAAAAAAAAAAAAAAAAAAAAAAAAAAAAAAAAAAAAAAAAAAAAAAAAAAAAAAAAAAAAAAAAAAAAAAAAAAAAAAAAAAAAAAAAAPA/AAAAAAAAAAAAAAAAAAAAAAAAAAAAAAAAAAAAAAAAAAAAAAAAAAAAAAAAAAAAAAAAAAAAAAAAAAAAAAAAAAAAAAAAAAAAAAAAAAAAAAAAAAAAAAAAAAAAAAAAAAAAAAAAAAAAAAAAAAAAAAAAAAAAAAAAAAAAAAAAAAAAAAAA8D8AAAAAAAAAAAAAAAAAAAAAAAAAAAAAAAAAAAAAAAAAAAAAAAAAAAAAAAAAAAAAAAAAAAAAAAAAAAAAAAAAAAAAAAAAAAAAAAAAAAAAAAAAAAAAAAAAAAAAAAAAAAAAAAAAAAAAAAAAAAAAAAAAAAAAAAAAAAAAAAAAAAAAAAAAAAAAAAAAAAAAAAAAAAAAAAAAAAAAAAAAAAAAAAAAAAAAAAAAAAAAAAAAAAAAAAAAAAAAAAAAAAAAAAAAAAAAAAAAAAAAAAAAAAAAAAAAAAAAAAAAAAAAAAAAAAAAAAAAAAAAAAAAAAAAAAAAAAAAAAAAAAAAAAAAAAAAAAAAAAAAAAAAAAAAAAAAAAAAAAAAAAAAAAAAAAAA",
          "dtype": "f8"
         },
         "yaxis": "y"
        },
        {
         "hovertemplate": "source=Sam<br>time_window=%{x}<br>Number of Communications=%{y}<extra></extra>",
         "legendgroup": "Sam",
         "line": {
          "color": "#FF97FF",
          "dash": "solid"
         },
         "marker": {
          "symbol": "circle"
         },
         "mode": "lines",
         "name": "Sam",
         "showlegend": true,
         "type": "scattergl",
         "x": [
          "2040-10-01T08:00:00.000000000",
          "2040-10-01T09:00:00.000000000",
          "2040-10-01T10:00:00.000000000",
          "2040-10-01T11:00:00.000000000",
          "2040-10-01T12:00:00.000000000",
          "2040-10-02T08:00:00.000000000",
          "2040-10-02T09:00:00.000000000",
          "2040-10-02T10:00:00.000000000",
          "2040-10-02T11:00:00.000000000",
          "2040-10-02T12:00:00.000000000",
          "2040-10-02T13:00:00.000000000",
          "2040-10-03T08:00:00.000000000",
          "2040-10-03T09:00:00.000000000",
          "2040-10-03T10:00:00.000000000",
          "2040-10-03T11:00:00.000000000",
          "2040-10-04T08:00:00.000000000",
          "2040-10-04T09:00:00.000000000",
          "2040-10-04T10:00:00.000000000",
          "2040-10-04T11:00:00.000000000",
          "2040-10-04T12:00:00.000000000",
          "2040-10-04T13:00:00.000000000",
          "2040-10-05T08:00:00.000000000",
          "2040-10-05T09:00:00.000000000",
          "2040-10-05T10:00:00.000000000",
          "2040-10-05T12:00:00.000000000",
          "2040-10-06T09:00:00.000000000",
          "2040-10-06T10:00:00.000000000",
          "2040-10-06T11:00:00.000000000",
          "2040-10-06T12:00:00.000000000",
          "2040-10-06T13:00:00.000000000",
          "2040-10-07T08:00:00.000000000",
          "2040-10-07T09:00:00.000000000",
          "2040-10-07T10:00:00.000000000",
          "2040-10-07T11:00:00.000000000",
          "2040-10-07T12:00:00.000000000",
          "2040-10-08T08:00:00.000000000",
          "2040-10-08T10:00:00.000000000",
          "2040-10-08T11:00:00.000000000",
          "2040-10-09T08:00:00.000000000",
          "2040-10-09T09:00:00.000000000",
          "2040-10-09T10:00:00.000000000",
          "2040-10-09T11:00:00.000000000",
          "2040-10-09T12:00:00.000000000",
          "2040-10-09T13:00:00.000000000",
          "2040-10-10T08:00:00.000000000",
          "2040-10-10T09:00:00.000000000",
          "2040-10-10T10:00:00.000000000",
          "2040-10-10T11:00:00.000000000",
          "2040-10-10T12:00:00.000000000",
          "2040-10-10T14:00:00.000000000",
          "2040-10-11T08:00:00.000000000",
          "2040-10-11T09:00:00.000000000",
          "2040-10-11T10:00:00.000000000",
          "2040-10-12T08:00:00.000000000",
          "2040-10-12T09:00:00.000000000",
          "2040-10-12T10:00:00.000000000",
          "2040-10-12T11:00:00.000000000",
          "2040-10-12T12:00:00.000000000",
          "2040-10-13T08:00:00.000000000",
          "2040-10-13T09:00:00.000000000",
          "2040-10-13T11:00:00.000000000",
          "2040-10-13T12:00:00.000000000",
          "2040-10-13T13:00:00.000000000",
          "2040-10-14T08:00:00.000000000",
          "2040-10-14T09:00:00.000000000",
          "2040-10-14T10:00:00.000000000",
          "2040-10-14T11:00:00.000000000",
          "2040-10-14T12:00:00.000000000",
          "2040-10-14T13:00:00.000000000"
         ],
         "xaxis": "x",
         "y": {
          "bdata": "AAAAAAAAAAAAAAAAAAAAAAAAAAAAAAAAAAAAAAAAAAAAAAAAAAAAAAAAAAAAAAAAAAAAAAAAAAAAAAAAAAAAAAAAAAAAAAAAAAAAAAAAAAAAAAAAAAAAAAAAAAAAAAAAAAAAAAAAAAAAAAAAAAAAAAAAAAAAAAAAAAAAAAAAAAAAAAAAAAAAAAAAAAAAAAAAAAAAAAAAAAAAAAAAAAAAAAAAAAAAAAAAAAAAAAAAAAAAAAAAAAAAAAAAAAAAAPA/AAAAAAAAAAAAAAAAAAAAAAAAAAAAAAAAAAAAAAAAAAAAAAAAAAAAAAAAAAAAAAAAAAAAAAAAAAAAAAAAAAAAAAAAAAAAAAAAAAAAAAAAAAAAAAAAAAAAAAAAAAAAAAAAAAAAAAAAAAAAAAAAAAAAAAAAAAAAAAAAAAAAAAAAAAAAAAAAAAAAAAAAAAAAAAAAAAAAAAAAAAAAAAAAAAAAAAAAAAAAAAAAAAAAAAAAAAAAAAAAAAAAAAAAAAAAAAAAAAAAAAAAAAAAAAAAAAAAAAAAAAAAAAAAAAAAAAAAAAAAAAAAAAAAAAAAAAAAAAAAAAAAAAAAAAAAAAAAAAAAAAAAAAAAAAAAAAAAAAAAAAAAAAAAAAAAAAAAAAAAAAAAAAAAAAAAAAAAAAAAAAAAAAAAAAAAAAAAAAAAAAAAAAAAAAAAAAAAAAAAAAAAAAAAAAAAAAAAAAAAAAAAAAAAAAAAAAAAAAAA",
          "dtype": "f8"
         },
         "yaxis": "y"
        },
        {
         "hovertemplate": "source=Samantha Blake<br>time_window=%{x}<br>Number of Communications=%{y}<extra></extra>",
         "legendgroup": "Samantha Blake",
         "line": {
          "color": "#FECB52",
          "dash": "solid"
         },
         "marker": {
          "symbol": "circle"
         },
         "mode": "lines",
         "name": "Samantha Blake",
         "showlegend": true,
         "type": "scattergl",
         "x": [
          "2040-10-01T08:00:00.000000000",
          "2040-10-01T09:00:00.000000000",
          "2040-10-01T10:00:00.000000000",
          "2040-10-01T11:00:00.000000000",
          "2040-10-01T12:00:00.000000000",
          "2040-10-02T08:00:00.000000000",
          "2040-10-02T09:00:00.000000000",
          "2040-10-02T10:00:00.000000000",
          "2040-10-02T11:00:00.000000000",
          "2040-10-02T12:00:00.000000000",
          "2040-10-02T13:00:00.000000000",
          "2040-10-03T08:00:00.000000000",
          "2040-10-03T09:00:00.000000000",
          "2040-10-03T10:00:00.000000000",
          "2040-10-03T11:00:00.000000000",
          "2040-10-04T08:00:00.000000000",
          "2040-10-04T09:00:00.000000000",
          "2040-10-04T10:00:00.000000000",
          "2040-10-04T11:00:00.000000000",
          "2040-10-04T12:00:00.000000000",
          "2040-10-04T13:00:00.000000000",
          "2040-10-05T08:00:00.000000000",
          "2040-10-05T09:00:00.000000000",
          "2040-10-05T10:00:00.000000000",
          "2040-10-05T12:00:00.000000000",
          "2040-10-06T09:00:00.000000000",
          "2040-10-06T10:00:00.000000000",
          "2040-10-06T11:00:00.000000000",
          "2040-10-06T12:00:00.000000000",
          "2040-10-06T13:00:00.000000000",
          "2040-10-07T08:00:00.000000000",
          "2040-10-07T09:00:00.000000000",
          "2040-10-07T10:00:00.000000000",
          "2040-10-07T11:00:00.000000000",
          "2040-10-07T12:00:00.000000000",
          "2040-10-08T08:00:00.000000000",
          "2040-10-08T10:00:00.000000000",
          "2040-10-08T11:00:00.000000000",
          "2040-10-09T08:00:00.000000000",
          "2040-10-09T09:00:00.000000000",
          "2040-10-09T10:00:00.000000000",
          "2040-10-09T11:00:00.000000000",
          "2040-10-09T12:00:00.000000000",
          "2040-10-09T13:00:00.000000000",
          "2040-10-10T08:00:00.000000000",
          "2040-10-10T09:00:00.000000000",
          "2040-10-10T10:00:00.000000000",
          "2040-10-10T11:00:00.000000000",
          "2040-10-10T12:00:00.000000000",
          "2040-10-10T14:00:00.000000000",
          "2040-10-11T08:00:00.000000000",
          "2040-10-11T09:00:00.000000000",
          "2040-10-11T10:00:00.000000000",
          "2040-10-12T08:00:00.000000000",
          "2040-10-12T09:00:00.000000000",
          "2040-10-12T10:00:00.000000000",
          "2040-10-12T11:00:00.000000000",
          "2040-10-12T12:00:00.000000000",
          "2040-10-13T08:00:00.000000000",
          "2040-10-13T09:00:00.000000000",
          "2040-10-13T11:00:00.000000000",
          "2040-10-13T12:00:00.000000000",
          "2040-10-13T13:00:00.000000000",
          "2040-10-14T08:00:00.000000000",
          "2040-10-14T09:00:00.000000000",
          "2040-10-14T10:00:00.000000000",
          "2040-10-14T11:00:00.000000000",
          "2040-10-14T12:00:00.000000000",
          "2040-10-14T13:00:00.000000000"
         ],
         "xaxis": "x",
         "y": {
          "bdata": "AAAAAAAAAAAAAAAAAAAAAAAAAAAAAAAAAAAAAAAAAAAAAAAAAAAAQAAAAAAAAAAAAAAAAAAA8D8AAAAAAADwPwAAAAAAAAAAAAAAAAAAAAAAAAAAAAAAAAAAAAAAAAAAAAAAAAAAAAAAAAAAAAAAAAAAAAAAAAAAAAAAAAAAAAAAAAAAAAAAAAAAAAAAAAAAAAAAAAAAAAAAAAAAAAAAAAAAAAAAAAAAAAAAAAAAAAAAAAAAAAAAAAAAAAAAAAAAAAAAAAAAAAAAAAAAAADwPwAAAAAAAAAAAAAAAAAAAAAAAAAAAAAAAAAAAAAAAAAAAAAAAAAAAAAAAAAAAAAAAAAAAAAAAAAAAAAAAAAAAAAAAAAAAAAAAAAAAAAAAAAAAAAAAAAA8D8AAAAAAAAAAAAAAAAAAAAAAAAAAAAAAAAAAAAAAAAAAAAAAAAAAAAAAAAAAAAA8D8AAAAAAAAAAAAAAAAAAAAAAAAAAAAAAAAAAAAAAAAAAAAAAAAAAABAAAAAAAAAAAAAAAAAAAAAAAAAAAAAAAAAAAAAAAAAAAAAAAAAAAAAAAAAAAAAAAAAAAAAAAAAAAAAAAAAAAAAAAAAAAAAAAAAAAAAAAAAAAAAAAAAAAAAAAAAAAAAAAAAAAAAAAAAAAAAAAAAAAAAAAAAAAAAAAAAAAAAAAAAAAAAAAAAAAAAAAAAAAAAAAAAAAAAAAAAAAAAAAAAAAAAAAAAAAAAAAAA",
          "dtype": "f8"
         },
         "yaxis": "y"
        },
        {
         "hovertemplate": "source=Seawatch<br>time_window=%{x}<br>Number of Communications=%{y}<extra></extra>",
         "legendgroup": "Seawatch",
         "line": {
          "color": "#636efa",
          "dash": "solid"
         },
         "marker": {
          "symbol": "circle"
         },
         "mode": "lines",
         "name": "Seawatch",
         "showlegend": true,
         "type": "scattergl",
         "x": [
          "2040-10-01T08:00:00.000000000",
          "2040-10-01T09:00:00.000000000",
          "2040-10-01T10:00:00.000000000",
          "2040-10-01T11:00:00.000000000",
          "2040-10-01T12:00:00.000000000",
          "2040-10-02T08:00:00.000000000",
          "2040-10-02T09:00:00.000000000",
          "2040-10-02T10:00:00.000000000",
          "2040-10-02T11:00:00.000000000",
          "2040-10-02T12:00:00.000000000",
          "2040-10-02T13:00:00.000000000",
          "2040-10-03T08:00:00.000000000",
          "2040-10-03T09:00:00.000000000",
          "2040-10-03T10:00:00.000000000",
          "2040-10-03T11:00:00.000000000",
          "2040-10-04T08:00:00.000000000",
          "2040-10-04T09:00:00.000000000",
          "2040-10-04T10:00:00.000000000",
          "2040-10-04T11:00:00.000000000",
          "2040-10-04T12:00:00.000000000",
          "2040-10-04T13:00:00.000000000",
          "2040-10-05T08:00:00.000000000",
          "2040-10-05T09:00:00.000000000",
          "2040-10-05T10:00:00.000000000",
          "2040-10-05T12:00:00.000000000",
          "2040-10-06T09:00:00.000000000",
          "2040-10-06T10:00:00.000000000",
          "2040-10-06T11:00:00.000000000",
          "2040-10-06T12:00:00.000000000",
          "2040-10-06T13:00:00.000000000",
          "2040-10-07T08:00:00.000000000",
          "2040-10-07T09:00:00.000000000",
          "2040-10-07T10:00:00.000000000",
          "2040-10-07T11:00:00.000000000",
          "2040-10-07T12:00:00.000000000",
          "2040-10-08T08:00:00.000000000",
          "2040-10-08T10:00:00.000000000",
          "2040-10-08T11:00:00.000000000",
          "2040-10-09T08:00:00.000000000",
          "2040-10-09T09:00:00.000000000",
          "2040-10-09T10:00:00.000000000",
          "2040-10-09T11:00:00.000000000",
          "2040-10-09T12:00:00.000000000",
          "2040-10-09T13:00:00.000000000",
          "2040-10-10T08:00:00.000000000",
          "2040-10-10T09:00:00.000000000",
          "2040-10-10T10:00:00.000000000",
          "2040-10-10T11:00:00.000000000",
          "2040-10-10T12:00:00.000000000",
          "2040-10-10T14:00:00.000000000",
          "2040-10-11T08:00:00.000000000",
          "2040-10-11T09:00:00.000000000",
          "2040-10-11T10:00:00.000000000",
          "2040-10-12T08:00:00.000000000",
          "2040-10-12T09:00:00.000000000",
          "2040-10-12T10:00:00.000000000",
          "2040-10-12T11:00:00.000000000",
          "2040-10-12T12:00:00.000000000",
          "2040-10-13T08:00:00.000000000",
          "2040-10-13T09:00:00.000000000",
          "2040-10-13T11:00:00.000000000",
          "2040-10-13T12:00:00.000000000",
          "2040-10-13T13:00:00.000000000",
          "2040-10-14T08:00:00.000000000",
          "2040-10-14T09:00:00.000000000",
          "2040-10-14T10:00:00.000000000",
          "2040-10-14T11:00:00.000000000",
          "2040-10-14T12:00:00.000000000",
          "2040-10-14T13:00:00.000000000"
         ],
         "xaxis": "x",
         "y": {
          "bdata": "AAAAAAAAAAAAAAAAAAAAAAAAAAAAAAAAAAAAAAAAAAAAAAAAAAAAAAAAAAAAAAAAAAAAAAAAAAAAAAAAAAAAAAAAAAAAAAAAAAAAAAAAAAAAAAAAAAAAAAAAAAAAAAAAAAAAAAAAAAAAAAAAAAAAAAAAAAAAAAAAAAAAAAAAAAAAAAAAAAAAAAAAAAAAAAAAAAAAAAAAAAAAAAAAAAAAAAAAAAAAAAAAAAAAAAAAAAAAAAAAAAAAAAAAAAAAAAAAAAAAAAAAAAAAAAAAAAAAAAAAAAAAAAAAAAAAAAAAAAAAAAAAAAAAAAAAAAAAAAAAAAAAAAAAAAAAAAAAAAAAAAAAAAAAAAAAAAAAAAAAAAAAAAAAAAAAAAAAAAAAAAAAAAAAAAAAAAAAAAAAAAAAAAAAAAAAAAAAAAAAAAAAAAAAAAAAAAAAAAAAAAAAAAAAAAAAAAAAAAAAAAAAAAAAAAAAAAAAAAAAAAAAAAAAAAAAAAAAAADwPwAAAAAAAAAAAAAAAAAAAAAAAAAAAAAAAAAAAAAAAAAAAAAAAAAAAAAAAAAAAAAAQAAAAAAAAAAAAAAAAAAAAAAAAAAAAAAAAAAAAAAAAAAAAAAAAAAAAAAAAAAAAAAAAAAAAAAAAAAAAAAAAAAAAAAAAAAAAAAAAAAAAAAAAAAAAAAAAAAAAAAAAAAAAAAAAAAAAAAAAAAAAAAAAAAAAAAAAAAAAAAAAAAAAAAAAAAA",
          "dtype": "f8"
         },
         "yaxis": "y"
        },
        {
         "hovertemplate": "source=Sentinel<br>time_window=%{x}<br>Number of Communications=%{y}<extra></extra>",
         "legendgroup": "Sentinel",
         "line": {
          "color": "#EF553B",
          "dash": "solid"
         },
         "marker": {
          "symbol": "circle"
         },
         "mode": "lines",
         "name": "Sentinel",
         "showlegend": true,
         "type": "scattergl",
         "x": [
          "2040-10-01T08:00:00.000000000",
          "2040-10-01T09:00:00.000000000",
          "2040-10-01T10:00:00.000000000",
          "2040-10-01T11:00:00.000000000",
          "2040-10-01T12:00:00.000000000",
          "2040-10-02T08:00:00.000000000",
          "2040-10-02T09:00:00.000000000",
          "2040-10-02T10:00:00.000000000",
          "2040-10-02T11:00:00.000000000",
          "2040-10-02T12:00:00.000000000",
          "2040-10-02T13:00:00.000000000",
          "2040-10-03T08:00:00.000000000",
          "2040-10-03T09:00:00.000000000",
          "2040-10-03T10:00:00.000000000",
          "2040-10-03T11:00:00.000000000",
          "2040-10-04T08:00:00.000000000",
          "2040-10-04T09:00:00.000000000",
          "2040-10-04T10:00:00.000000000",
          "2040-10-04T11:00:00.000000000",
          "2040-10-04T12:00:00.000000000",
          "2040-10-04T13:00:00.000000000",
          "2040-10-05T08:00:00.000000000",
          "2040-10-05T09:00:00.000000000",
          "2040-10-05T10:00:00.000000000",
          "2040-10-05T12:00:00.000000000",
          "2040-10-06T09:00:00.000000000",
          "2040-10-06T10:00:00.000000000",
          "2040-10-06T11:00:00.000000000",
          "2040-10-06T12:00:00.000000000",
          "2040-10-06T13:00:00.000000000",
          "2040-10-07T08:00:00.000000000",
          "2040-10-07T09:00:00.000000000",
          "2040-10-07T10:00:00.000000000",
          "2040-10-07T11:00:00.000000000",
          "2040-10-07T12:00:00.000000000",
          "2040-10-08T08:00:00.000000000",
          "2040-10-08T10:00:00.000000000",
          "2040-10-08T11:00:00.000000000",
          "2040-10-09T08:00:00.000000000",
          "2040-10-09T09:00:00.000000000",
          "2040-10-09T10:00:00.000000000",
          "2040-10-09T11:00:00.000000000",
          "2040-10-09T12:00:00.000000000",
          "2040-10-09T13:00:00.000000000",
          "2040-10-10T08:00:00.000000000",
          "2040-10-10T09:00:00.000000000",
          "2040-10-10T10:00:00.000000000",
          "2040-10-10T11:00:00.000000000",
          "2040-10-10T12:00:00.000000000",
          "2040-10-10T14:00:00.000000000",
          "2040-10-11T08:00:00.000000000",
          "2040-10-11T09:00:00.000000000",
          "2040-10-11T10:00:00.000000000",
          "2040-10-12T08:00:00.000000000",
          "2040-10-12T09:00:00.000000000",
          "2040-10-12T10:00:00.000000000",
          "2040-10-12T11:00:00.000000000",
          "2040-10-12T12:00:00.000000000",
          "2040-10-13T08:00:00.000000000",
          "2040-10-13T09:00:00.000000000",
          "2040-10-13T11:00:00.000000000",
          "2040-10-13T12:00:00.000000000",
          "2040-10-13T13:00:00.000000000",
          "2040-10-14T08:00:00.000000000",
          "2040-10-14T09:00:00.000000000",
          "2040-10-14T10:00:00.000000000",
          "2040-10-14T11:00:00.000000000",
          "2040-10-14T12:00:00.000000000",
          "2040-10-14T13:00:00.000000000"
         ],
         "xaxis": "x",
         "y": {
          "bdata": "AAAAAAAAAAAAAAAAAAAAAAAAAAAAAAAAAAAAAAAAAAAAAAAAAAAAQAAAAAAAAAAAAAAAAAAAAAAAAAAAAAAAAAAAAAAAAAAAAAAAAAAAAAAAAAAAAAAAAAAAAAAAAAAAAAAAAAAAAAAAAAAAAADwPwAAAAAAAAAAAAAAAAAAAAAAAAAAAAAAQAAAAAAAAPA/AAAAAAAAAAAAAAAAAADwPwAAAAAAAAAAAAAAAAAA8D8AAAAAAAAAAAAAAAAAAAAAAAAAAAAAAAAAAAAAAAAAAAAAAAAAAAAAAAAAAAAAAAAAAAAAAAAAAAAAAAAAAPA/AAAAAAAAAAAAAAAAAAAAAAAAAAAAAPA/AAAAAAAAAAAAAAAAAAAAAAAAAAAAAAAAAAAAAAAAAAAAAAAAAAAAQAAAAAAAAAAAAAAAAAAAAAAAAAAAAAAAAAAAAAAAAAAAAAAAAAAAAAAAAAAAAAAAAAAAAAAAAAAAAAAAAAAAAAAAAAAAAAAAQAAAAAAAAAAAAAAAAAAAAAAAAAAAAAAAAAAAAAAAAAAAAAAAAAAAAAAAAAAAAAAAAAAAAAAAAAAAAAAAAAAAAAAAAAAAAAAAAAAAAAAAAPA/AAAAAAAAAAAAAAAAAAAAAAAAAAAAAAAAAAAAAAAAAAAAAAAAAAAAQAAAAAAAAAAAAAAAAAAAAAAAAAAAAAAAAAAAAAAAAPA/AAAAAAAAAAAAAAAAAAAAAAAAAAAAAAAA",
          "dtype": "f8"
         },
         "yaxis": "y"
        },
        {
         "hovertemplate": "source=Serenity<br>time_window=%{x}<br>Number of Communications=%{y}<extra></extra>",
         "legendgroup": "Serenity",
         "line": {
          "color": "#00cc96",
          "dash": "solid"
         },
         "marker": {
          "symbol": "circle"
         },
         "mode": "lines",
         "name": "Serenity",
         "showlegend": true,
         "type": "scattergl",
         "x": [
          "2040-10-01T08:00:00.000000000",
          "2040-10-01T09:00:00.000000000",
          "2040-10-01T10:00:00.000000000",
          "2040-10-01T11:00:00.000000000",
          "2040-10-01T12:00:00.000000000",
          "2040-10-02T08:00:00.000000000",
          "2040-10-02T09:00:00.000000000",
          "2040-10-02T10:00:00.000000000",
          "2040-10-02T11:00:00.000000000",
          "2040-10-02T12:00:00.000000000",
          "2040-10-02T13:00:00.000000000",
          "2040-10-03T08:00:00.000000000",
          "2040-10-03T09:00:00.000000000",
          "2040-10-03T10:00:00.000000000",
          "2040-10-03T11:00:00.000000000",
          "2040-10-04T08:00:00.000000000",
          "2040-10-04T09:00:00.000000000",
          "2040-10-04T10:00:00.000000000",
          "2040-10-04T11:00:00.000000000",
          "2040-10-04T12:00:00.000000000",
          "2040-10-04T13:00:00.000000000",
          "2040-10-05T08:00:00.000000000",
          "2040-10-05T09:00:00.000000000",
          "2040-10-05T10:00:00.000000000",
          "2040-10-05T12:00:00.000000000",
          "2040-10-06T09:00:00.000000000",
          "2040-10-06T10:00:00.000000000",
          "2040-10-06T11:00:00.000000000",
          "2040-10-06T12:00:00.000000000",
          "2040-10-06T13:00:00.000000000",
          "2040-10-07T08:00:00.000000000",
          "2040-10-07T09:00:00.000000000",
          "2040-10-07T10:00:00.000000000",
          "2040-10-07T11:00:00.000000000",
          "2040-10-07T12:00:00.000000000",
          "2040-10-08T08:00:00.000000000",
          "2040-10-08T10:00:00.000000000",
          "2040-10-08T11:00:00.000000000",
          "2040-10-09T08:00:00.000000000",
          "2040-10-09T09:00:00.000000000",
          "2040-10-09T10:00:00.000000000",
          "2040-10-09T11:00:00.000000000",
          "2040-10-09T12:00:00.000000000",
          "2040-10-09T13:00:00.000000000",
          "2040-10-10T08:00:00.000000000",
          "2040-10-10T09:00:00.000000000",
          "2040-10-10T10:00:00.000000000",
          "2040-10-10T11:00:00.000000000",
          "2040-10-10T12:00:00.000000000",
          "2040-10-10T14:00:00.000000000",
          "2040-10-11T08:00:00.000000000",
          "2040-10-11T09:00:00.000000000",
          "2040-10-11T10:00:00.000000000",
          "2040-10-12T08:00:00.000000000",
          "2040-10-12T09:00:00.000000000",
          "2040-10-12T10:00:00.000000000",
          "2040-10-12T11:00:00.000000000",
          "2040-10-12T12:00:00.000000000",
          "2040-10-13T08:00:00.000000000",
          "2040-10-13T09:00:00.000000000",
          "2040-10-13T11:00:00.000000000",
          "2040-10-13T12:00:00.000000000",
          "2040-10-13T13:00:00.000000000",
          "2040-10-14T08:00:00.000000000",
          "2040-10-14T09:00:00.000000000",
          "2040-10-14T10:00:00.000000000",
          "2040-10-14T11:00:00.000000000",
          "2040-10-14T12:00:00.000000000",
          "2040-10-14T13:00:00.000000000"
         ],
         "xaxis": "x",
         "y": {
          "bdata": "AAAAAAAAAEAAAAAAAADwPwAAAAAAAAAAAAAAAAAAAAAAAAAAAAAAAAAAAAAAAAAAAAAAAAAAAAAAAAAAAAAAAAAAAAAAAAAAAAAAAAAAAAAAAAAAAAAAAAAAAAAAAAAAAAAAAAAAAAAAAAAAAADwPwAAAAAAAAAAAAAAAAAAAAAAAAAAAAAAAAAAAAAAAAAAAAAAAAAAAAAAAAAAAAAAAAAAAAAAAAAAAAAAAAAAAAAAAAAAAAAAAAAAAAAAAAAAAAAAAAAAAAAAAAAAAAAAAAAAAAAAAPA/AAAAAAAA8D8AAAAAAAAAAAAAAAAAAAAAAAAAAAAAAAAAAAAAAAAAAAAAAAAAAAAAAAAAAAAA8D8AAAAAAAAAAAAAAAAAAAAAAAAAAAAAAAAAAAAAAAAAAAAAAAAAAAAAAAAAAAAAAAAAAAAAAAAAAAAAAAAAAAAAAAAAAAAAAAAAAAAAAAAAAAAAAAAAAAAAAAAAAAAAAAAAAAAAAAAAAAAAAAAAAAAAAAAAAAAAAAAAAAAAAAAAAAAAAAAAAAAAAAAAAAAAAAAAAAAAAAAAAAAAAAAAAAAAAAAAAAAAAAAAAAAAAADwPwAAAAAAAAAAAAAAAAAAAAAAAAAAAAAAAAAAAAAAAAAAAAAAAAAAAAAAAAAAAAAAAAAAAAAAAAAAAAAAAAAAAAAAAAAAAAAAAAAAAAAAAAAAAAAAAAAAAAAAAAAAAAAAAAAAAAAAAAAA",
          "dtype": "f8"
         },
         "yaxis": "y"
        },
        {
         "hovertemplate": "source=Small Fry<br>time_window=%{x}<br>Number of Communications=%{y}<extra></extra>",
         "legendgroup": "Small Fry",
         "line": {
          "color": "#ab63fa",
          "dash": "solid"
         },
         "marker": {
          "symbol": "circle"
         },
         "mode": "lines",
         "name": "Small Fry",
         "showlegend": true,
         "type": "scattergl",
         "x": [
          "2040-10-01T08:00:00.000000000",
          "2040-10-01T09:00:00.000000000",
          "2040-10-01T10:00:00.000000000",
          "2040-10-01T11:00:00.000000000",
          "2040-10-01T12:00:00.000000000",
          "2040-10-02T08:00:00.000000000",
          "2040-10-02T09:00:00.000000000",
          "2040-10-02T10:00:00.000000000",
          "2040-10-02T11:00:00.000000000",
          "2040-10-02T12:00:00.000000000",
          "2040-10-02T13:00:00.000000000",
          "2040-10-03T08:00:00.000000000",
          "2040-10-03T09:00:00.000000000",
          "2040-10-03T10:00:00.000000000",
          "2040-10-03T11:00:00.000000000",
          "2040-10-04T08:00:00.000000000",
          "2040-10-04T09:00:00.000000000",
          "2040-10-04T10:00:00.000000000",
          "2040-10-04T11:00:00.000000000",
          "2040-10-04T12:00:00.000000000",
          "2040-10-04T13:00:00.000000000",
          "2040-10-05T08:00:00.000000000",
          "2040-10-05T09:00:00.000000000",
          "2040-10-05T10:00:00.000000000",
          "2040-10-05T12:00:00.000000000",
          "2040-10-06T09:00:00.000000000",
          "2040-10-06T10:00:00.000000000",
          "2040-10-06T11:00:00.000000000",
          "2040-10-06T12:00:00.000000000",
          "2040-10-06T13:00:00.000000000",
          "2040-10-07T08:00:00.000000000",
          "2040-10-07T09:00:00.000000000",
          "2040-10-07T10:00:00.000000000",
          "2040-10-07T11:00:00.000000000",
          "2040-10-07T12:00:00.000000000",
          "2040-10-08T08:00:00.000000000",
          "2040-10-08T10:00:00.000000000",
          "2040-10-08T11:00:00.000000000",
          "2040-10-09T08:00:00.000000000",
          "2040-10-09T09:00:00.000000000",
          "2040-10-09T10:00:00.000000000",
          "2040-10-09T11:00:00.000000000",
          "2040-10-09T12:00:00.000000000",
          "2040-10-09T13:00:00.000000000",
          "2040-10-10T08:00:00.000000000",
          "2040-10-10T09:00:00.000000000",
          "2040-10-10T10:00:00.000000000",
          "2040-10-10T11:00:00.000000000",
          "2040-10-10T12:00:00.000000000",
          "2040-10-10T14:00:00.000000000",
          "2040-10-11T08:00:00.000000000",
          "2040-10-11T09:00:00.000000000",
          "2040-10-11T10:00:00.000000000",
          "2040-10-12T08:00:00.000000000",
          "2040-10-12T09:00:00.000000000",
          "2040-10-12T10:00:00.000000000",
          "2040-10-12T11:00:00.000000000",
          "2040-10-12T12:00:00.000000000",
          "2040-10-13T08:00:00.000000000",
          "2040-10-13T09:00:00.000000000",
          "2040-10-13T11:00:00.000000000",
          "2040-10-13T12:00:00.000000000",
          "2040-10-13T13:00:00.000000000",
          "2040-10-14T08:00:00.000000000",
          "2040-10-14T09:00:00.000000000",
          "2040-10-14T10:00:00.000000000",
          "2040-10-14T11:00:00.000000000",
          "2040-10-14T12:00:00.000000000",
          "2040-10-14T13:00:00.000000000"
         ],
         "xaxis": "x",
         "y": {
          "bdata": "AAAAAAAAAAAAAAAAAAAAAAAAAAAAAAAAAAAAAAAAAAAAAAAAAAAAAAAAAAAAAAAAAAAAAAAAAAAAAAAAAAAAAAAAAAAAAAAAAAAAAAAA8D8AAAAAAADwPwAAAAAAAAAAAAAAAAAAAAAAAAAAAAAAAAAAAAAAAAAAAAAAAAAAAAAAAAAAAAAAAAAAAAAAAAAAAAAAAAAAAAAAAAAAAAAAAAAAAAAAAAAAAAAAAAAAAAAAAAAAAAAAAAAAAAAAAAAAAAAAAAAAAAAAAAAAAAAAAAAAAAAAAAAAAAAAAAAAAAAAAAAAAAAAAAAAAAAAAAAAAAAAAAAAAAAAAAAAAAAAAAAAAAAAAAAAAAAAAAAA8D8AAAAAAAAAAAAAAAAAAAAAAAAAAAAAAAAAAAAAAAAAAAAAAAAAAAAAAAAAAAAAAAAAAAAAAAAAAAAAAAAAAAAAAAAAAAAAAAAAAAAAAAAAAAAAAAAAAAAAAAAAAAAAAAAAAAAAAAAAAAAAAAAAAAAAAAAAAAAAAAAAAAAAAAAAAAAAAAAAAAAAAAAAAAAAAAAAAAAAAAAAAAAAAAAAAAAAAAAAAAAA8D8AAAAAAAAAAAAAAAAAAPA/AAAAAAAAAAAAAAAAAAAAAAAAAAAAAAAAAAAAAAAAAAAAAAAAAAAAAAAAAAAAAAAAAAAAAAAAAAAAAAAAAADwPwAAAAAAAAAAAAAAAAAAAAAAAAAAAADwPwAAAAAAAAAA",
          "dtype": "f8"
         },
         "yaxis": "y"
        },
        {
         "hovertemplate": "source=The Accountant<br>time_window=%{x}<br>Number of Communications=%{y}<extra></extra>",
         "legendgroup": "The Accountant",
         "line": {
          "color": "#FFA15A",
          "dash": "solid"
         },
         "marker": {
          "symbol": "circle"
         },
         "mode": "lines",
         "name": "The Accountant",
         "showlegend": true,
         "type": "scattergl",
         "x": [
          "2040-10-01T08:00:00.000000000",
          "2040-10-01T09:00:00.000000000",
          "2040-10-01T10:00:00.000000000",
          "2040-10-01T11:00:00.000000000",
          "2040-10-01T12:00:00.000000000",
          "2040-10-02T08:00:00.000000000",
          "2040-10-02T09:00:00.000000000",
          "2040-10-02T10:00:00.000000000",
          "2040-10-02T11:00:00.000000000",
          "2040-10-02T12:00:00.000000000",
          "2040-10-02T13:00:00.000000000",
          "2040-10-03T08:00:00.000000000",
          "2040-10-03T09:00:00.000000000",
          "2040-10-03T10:00:00.000000000",
          "2040-10-03T11:00:00.000000000",
          "2040-10-04T08:00:00.000000000",
          "2040-10-04T09:00:00.000000000",
          "2040-10-04T10:00:00.000000000",
          "2040-10-04T11:00:00.000000000",
          "2040-10-04T12:00:00.000000000",
          "2040-10-04T13:00:00.000000000",
          "2040-10-05T08:00:00.000000000",
          "2040-10-05T09:00:00.000000000",
          "2040-10-05T10:00:00.000000000",
          "2040-10-05T12:00:00.000000000",
          "2040-10-06T09:00:00.000000000",
          "2040-10-06T10:00:00.000000000",
          "2040-10-06T11:00:00.000000000",
          "2040-10-06T12:00:00.000000000",
          "2040-10-06T13:00:00.000000000",
          "2040-10-07T08:00:00.000000000",
          "2040-10-07T09:00:00.000000000",
          "2040-10-07T10:00:00.000000000",
          "2040-10-07T11:00:00.000000000",
          "2040-10-07T12:00:00.000000000",
          "2040-10-08T08:00:00.000000000",
          "2040-10-08T10:00:00.000000000",
          "2040-10-08T11:00:00.000000000",
          "2040-10-09T08:00:00.000000000",
          "2040-10-09T09:00:00.000000000",
          "2040-10-09T10:00:00.000000000",
          "2040-10-09T11:00:00.000000000",
          "2040-10-09T12:00:00.000000000",
          "2040-10-09T13:00:00.000000000",
          "2040-10-10T08:00:00.000000000",
          "2040-10-10T09:00:00.000000000",
          "2040-10-10T10:00:00.000000000",
          "2040-10-10T11:00:00.000000000",
          "2040-10-10T12:00:00.000000000",
          "2040-10-10T14:00:00.000000000",
          "2040-10-11T08:00:00.000000000",
          "2040-10-11T09:00:00.000000000",
          "2040-10-11T10:00:00.000000000",
          "2040-10-12T08:00:00.000000000",
          "2040-10-12T09:00:00.000000000",
          "2040-10-12T10:00:00.000000000",
          "2040-10-12T11:00:00.000000000",
          "2040-10-12T12:00:00.000000000",
          "2040-10-13T08:00:00.000000000",
          "2040-10-13T09:00:00.000000000",
          "2040-10-13T11:00:00.000000000",
          "2040-10-13T12:00:00.000000000",
          "2040-10-13T13:00:00.000000000",
          "2040-10-14T08:00:00.000000000",
          "2040-10-14T09:00:00.000000000",
          "2040-10-14T10:00:00.000000000",
          "2040-10-14T11:00:00.000000000",
          "2040-10-14T12:00:00.000000000",
          "2040-10-14T13:00:00.000000000"
         ],
         "xaxis": "x",
         "y": {
          "bdata": "AAAAAAAAAAAAAAAAAAAAAAAAAAAAAAAAAAAAAAAAAAAAAAAAAAAAAAAAAAAAAAAAAAAAAAAAAAAAAAAAAAAAAAAAAAAAAAAAAAAAAAAAAAAAAAAAAAAAAAAAAAAAAAAAAAAAAAAAAAAAAAAAAAAAAAAAAAAAAAAAAAAAAAAAAAAAAAAAAAAAAAAAAAAAAAAAAAAAAAAAAAAAAAAAAAAAAAAAAAAAAAAAAAAAAAAAAAAAAAAAAAAAAAAAAAAAAAAAAAAAAAAAAAAAAAAAAAAAAAAAAAAAAAAAAAAAAAAAAAAAAAAAAAAAAAAAAAAAAAAAAAAAAAAAAAAAAAAAAAAAAAAAAAAAAAAAAAAAAAAAAAAAAAAAAAAAAAAAAAAAAAAAAAAAAAAAAAAAAAAAAAAAAAAAAAAAAAAAAAAAAAAAAAAAAAAAAAAAAAAAAAAAAAAAAAAAAAAAAAAAAAAAAAAAAAAAAAAAAAAAAAAAAAAAAAAAAAAAAAAAAAAAAAAAAAAAAAAAAAAAAAAAAAAAAAAAAAAAAAAAAPA/AAAAAAAAAAAAAAAAAAAAAAAAAAAAAAAAAAAAAAAAAAAAAAAAAAAAAAAAAAAAAAAAAAAAAAAAAAAAAAAAAADwPwAAAAAAAAAAAAAAAAAAAAAAAAAAAAAAAAAAAAAAAAAAAAAAAAAA8D8AAAAAAAAAAAAAAAAAAAAAAAAAAAAAAAAAAAAAAAAAAAAAAAAAAAAA",
          "dtype": "f8"
         },
         "yaxis": "y"
        },
        {
         "hovertemplate": "source=The Intern<br>time_window=%{x}<br>Number of Communications=%{y}<extra></extra>",
         "legendgroup": "The Intern",
         "line": {
          "color": "#19d3f3",
          "dash": "solid"
         },
         "marker": {
          "symbol": "circle"
         },
         "mode": "lines",
         "name": "The Intern",
         "showlegend": true,
         "type": "scattergl",
         "x": [
          "2040-10-01T08:00:00.000000000",
          "2040-10-01T09:00:00.000000000",
          "2040-10-01T10:00:00.000000000",
          "2040-10-01T11:00:00.000000000",
          "2040-10-01T12:00:00.000000000",
          "2040-10-02T08:00:00.000000000",
          "2040-10-02T09:00:00.000000000",
          "2040-10-02T10:00:00.000000000",
          "2040-10-02T11:00:00.000000000",
          "2040-10-02T12:00:00.000000000",
          "2040-10-02T13:00:00.000000000",
          "2040-10-03T08:00:00.000000000",
          "2040-10-03T09:00:00.000000000",
          "2040-10-03T10:00:00.000000000",
          "2040-10-03T11:00:00.000000000",
          "2040-10-04T08:00:00.000000000",
          "2040-10-04T09:00:00.000000000",
          "2040-10-04T10:00:00.000000000",
          "2040-10-04T11:00:00.000000000",
          "2040-10-04T12:00:00.000000000",
          "2040-10-04T13:00:00.000000000",
          "2040-10-05T08:00:00.000000000",
          "2040-10-05T09:00:00.000000000",
          "2040-10-05T10:00:00.000000000",
          "2040-10-05T12:00:00.000000000",
          "2040-10-06T09:00:00.000000000",
          "2040-10-06T10:00:00.000000000",
          "2040-10-06T11:00:00.000000000",
          "2040-10-06T12:00:00.000000000",
          "2040-10-06T13:00:00.000000000",
          "2040-10-07T08:00:00.000000000",
          "2040-10-07T09:00:00.000000000",
          "2040-10-07T10:00:00.000000000",
          "2040-10-07T11:00:00.000000000",
          "2040-10-07T12:00:00.000000000",
          "2040-10-08T08:00:00.000000000",
          "2040-10-08T10:00:00.000000000",
          "2040-10-08T11:00:00.000000000",
          "2040-10-09T08:00:00.000000000",
          "2040-10-09T09:00:00.000000000",
          "2040-10-09T10:00:00.000000000",
          "2040-10-09T11:00:00.000000000",
          "2040-10-09T12:00:00.000000000",
          "2040-10-09T13:00:00.000000000",
          "2040-10-10T08:00:00.000000000",
          "2040-10-10T09:00:00.000000000",
          "2040-10-10T10:00:00.000000000",
          "2040-10-10T11:00:00.000000000",
          "2040-10-10T12:00:00.000000000",
          "2040-10-10T14:00:00.000000000",
          "2040-10-11T08:00:00.000000000",
          "2040-10-11T09:00:00.000000000",
          "2040-10-11T10:00:00.000000000",
          "2040-10-12T08:00:00.000000000",
          "2040-10-12T09:00:00.000000000",
          "2040-10-12T10:00:00.000000000",
          "2040-10-12T11:00:00.000000000",
          "2040-10-12T12:00:00.000000000",
          "2040-10-13T08:00:00.000000000",
          "2040-10-13T09:00:00.000000000",
          "2040-10-13T11:00:00.000000000",
          "2040-10-13T12:00:00.000000000",
          "2040-10-13T13:00:00.000000000",
          "2040-10-14T08:00:00.000000000",
          "2040-10-14T09:00:00.000000000",
          "2040-10-14T10:00:00.000000000",
          "2040-10-14T11:00:00.000000000",
          "2040-10-14T12:00:00.000000000",
          "2040-10-14T13:00:00.000000000"
         ],
         "xaxis": "x",
         "y": {
          "bdata": "AAAAAAAAAEAAAAAAAAAAAAAAAAAAAAAAAAAAAAAAAAAAAAAAAAAAAAAAAAAAAABAAAAAAAAAAAAAAAAAAAAAAAAAAAAAAAAAAAAAAAAAAAAAAAAAAAAAAAAAAAAAAABAAAAAAAAAAAAAAAAAAAAAAAAAAAAAAAAAAAAAAAAA8D8AAAAAAAAAAAAAAAAAAAAAAAAAAAAAAAAAAAAAAAAAAAAAAAAAAAAAAAAAAAAA8D8AAAAAAAAAAAAAAAAAAPA/AAAAAAAAAAAAAAAAAAAAAAAAAAAAAAAAAAAAAAAAAAAAAAAAAAAAAAAAAAAAAAAAAAAAAAAAAEAAAAAAAAAAAAAAAAAAAAAAAAAAAAAAAAAAAAAAAAAAAAAAAAAAAPA/AAAAAAAAAAAAAAAAAAAAAAAAAAAAAABAAAAAAAAAAAAAAAAAAAAAAAAAAAAAAAAAAAAAAAAAAAAAAAAAAAAAAAAAAAAAAPA/AAAAAAAAAAAAAAAAAAAAAAAAAAAAAAAAAAAAAAAAAEAAAAAAAAAAAAAAAAAAAABAAAAAAAAAAAAAAAAAAAAAAAAAAAAAAAAAAAAAAAAAAAAAAAAAAAAAAAAAAAAAAAAAAAAAAAAAAAAAAAAAAAAAQAAAAAAAAAAAAAAAAAAAAAAAAAAAAAAAQAAAAAAAAAAAAAAAAAAA8D8AAAAAAAAAAAAAAAAAAAAAAAAAAAAAAAAAAAAAAAAAAAAAAAAAAAAA",
          "dtype": "f8"
         },
         "yaxis": "y"
        },
        {
         "hovertemplate": "source=The Lookout<br>time_window=%{x}<br>Number of Communications=%{y}<extra></extra>",
         "legendgroup": "The Lookout",
         "line": {
          "color": "#FF6692",
          "dash": "solid"
         },
         "marker": {
          "symbol": "circle"
         },
         "mode": "lines",
         "name": "The Lookout",
         "showlegend": true,
         "type": "scattergl",
         "x": [
          "2040-10-01T08:00:00.000000000",
          "2040-10-01T09:00:00.000000000",
          "2040-10-01T10:00:00.000000000",
          "2040-10-01T11:00:00.000000000",
          "2040-10-01T12:00:00.000000000",
          "2040-10-02T08:00:00.000000000",
          "2040-10-02T09:00:00.000000000",
          "2040-10-02T10:00:00.000000000",
          "2040-10-02T11:00:00.000000000",
          "2040-10-02T12:00:00.000000000",
          "2040-10-02T13:00:00.000000000",
          "2040-10-03T08:00:00.000000000",
          "2040-10-03T09:00:00.000000000",
          "2040-10-03T10:00:00.000000000",
          "2040-10-03T11:00:00.000000000",
          "2040-10-04T08:00:00.000000000",
          "2040-10-04T09:00:00.000000000",
          "2040-10-04T10:00:00.000000000",
          "2040-10-04T11:00:00.000000000",
          "2040-10-04T12:00:00.000000000",
          "2040-10-04T13:00:00.000000000",
          "2040-10-05T08:00:00.000000000",
          "2040-10-05T09:00:00.000000000",
          "2040-10-05T10:00:00.000000000",
          "2040-10-05T12:00:00.000000000",
          "2040-10-06T09:00:00.000000000",
          "2040-10-06T10:00:00.000000000",
          "2040-10-06T11:00:00.000000000",
          "2040-10-06T12:00:00.000000000",
          "2040-10-06T13:00:00.000000000",
          "2040-10-07T08:00:00.000000000",
          "2040-10-07T09:00:00.000000000",
          "2040-10-07T10:00:00.000000000",
          "2040-10-07T11:00:00.000000000",
          "2040-10-07T12:00:00.000000000",
          "2040-10-08T08:00:00.000000000",
          "2040-10-08T10:00:00.000000000",
          "2040-10-08T11:00:00.000000000",
          "2040-10-09T08:00:00.000000000",
          "2040-10-09T09:00:00.000000000",
          "2040-10-09T10:00:00.000000000",
          "2040-10-09T11:00:00.000000000",
          "2040-10-09T12:00:00.000000000",
          "2040-10-09T13:00:00.000000000",
          "2040-10-10T08:00:00.000000000",
          "2040-10-10T09:00:00.000000000",
          "2040-10-10T10:00:00.000000000",
          "2040-10-10T11:00:00.000000000",
          "2040-10-10T12:00:00.000000000",
          "2040-10-10T14:00:00.000000000",
          "2040-10-11T08:00:00.000000000",
          "2040-10-11T09:00:00.000000000",
          "2040-10-11T10:00:00.000000000",
          "2040-10-12T08:00:00.000000000",
          "2040-10-12T09:00:00.000000000",
          "2040-10-12T10:00:00.000000000",
          "2040-10-12T11:00:00.000000000",
          "2040-10-12T12:00:00.000000000",
          "2040-10-13T08:00:00.000000000",
          "2040-10-13T09:00:00.000000000",
          "2040-10-13T11:00:00.000000000",
          "2040-10-13T12:00:00.000000000",
          "2040-10-13T13:00:00.000000000",
          "2040-10-14T08:00:00.000000000",
          "2040-10-14T09:00:00.000000000",
          "2040-10-14T10:00:00.000000000",
          "2040-10-14T11:00:00.000000000",
          "2040-10-14T12:00:00.000000000",
          "2040-10-14T13:00:00.000000000"
         ],
         "xaxis": "x",
         "y": {
          "bdata": "AAAAAAAA8D8AAAAAAAAAAAAAAAAAAAAAAAAAAAAAAAAAAAAAAAAAAAAAAAAAAABAAAAAAAAAAAAAAAAAAAAAAAAAAAAAAAAAAAAAAAAAAAAAAAAAAAAAAAAAAAAAAABAAAAAAAAA8D8AAAAAAAAAAAAAAAAAAAAAAAAAAAAA8D8AAAAAAAAAAAAAAAAAAAAAAAAAAAAAAAAAAAAAAADwPwAAAAAAAAAAAAAAAAAA8D8AAAAAAAAAAAAAAAAAAPA/AAAAAAAAAAAAAAAAAAAAAAAAAAAAAAAAAAAAAAAAAAAAAAAAAAAAAAAAAAAAAAAAAAAAAAAA8D8AAAAAAAAAAAAAAAAAAAAAAAAAAAAAAAAAAAAAAAAAAAAAAAAAAPA/AAAAAAAAAAAAAAAAAAAAQAAAAAAAAPA/AAAAAAAAAAAAAAAAAADwPwAAAAAAAAAAAAAAAAAAAAAAAAAAAAAAAAAAAAAAAABAAAAAAAAAAAAAAAAAAADwPwAAAAAAAAAAAAAAAAAAAAAAAAAAAADwPwAAAAAAAABAAAAAAAAAAAAAAAAAAADwPwAAAAAAAABAAAAAAAAAAAAAAAAAAAAAAAAAAAAAAAAAAAAAAAAAAAAAAAAAAAAAQAAAAAAAAAAAAAAAAAAAAAAAAAAAAAAIQAAAAAAAAAAAAAAAAAAAAEAAAAAAAAAAAAAAAAAAAAAAAAAAAAAAAAAAAAAAAADwPwAAAAAAAAAA",
          "dtype": "f8"
         },
         "yaxis": "y"
        },
        {
         "hovertemplate": "source=The Middleman<br>time_window=%{x}<br>Number of Communications=%{y}<extra></extra>",
         "legendgroup": "The Middleman",
         "line": {
          "color": "#B6E880",
          "dash": "solid"
         },
         "marker": {
          "symbol": "circle"
         },
         "mode": "lines",
         "name": "The Middleman",
         "showlegend": true,
         "type": "scattergl",
         "x": [
          "2040-10-01T08:00:00.000000000",
          "2040-10-01T09:00:00.000000000",
          "2040-10-01T10:00:00.000000000",
          "2040-10-01T11:00:00.000000000",
          "2040-10-01T12:00:00.000000000",
          "2040-10-02T08:00:00.000000000",
          "2040-10-02T09:00:00.000000000",
          "2040-10-02T10:00:00.000000000",
          "2040-10-02T11:00:00.000000000",
          "2040-10-02T12:00:00.000000000",
          "2040-10-02T13:00:00.000000000",
          "2040-10-03T08:00:00.000000000",
          "2040-10-03T09:00:00.000000000",
          "2040-10-03T10:00:00.000000000",
          "2040-10-03T11:00:00.000000000",
          "2040-10-04T08:00:00.000000000",
          "2040-10-04T09:00:00.000000000",
          "2040-10-04T10:00:00.000000000",
          "2040-10-04T11:00:00.000000000",
          "2040-10-04T12:00:00.000000000",
          "2040-10-04T13:00:00.000000000",
          "2040-10-05T08:00:00.000000000",
          "2040-10-05T09:00:00.000000000",
          "2040-10-05T10:00:00.000000000",
          "2040-10-05T12:00:00.000000000",
          "2040-10-06T09:00:00.000000000",
          "2040-10-06T10:00:00.000000000",
          "2040-10-06T11:00:00.000000000",
          "2040-10-06T12:00:00.000000000",
          "2040-10-06T13:00:00.000000000",
          "2040-10-07T08:00:00.000000000",
          "2040-10-07T09:00:00.000000000",
          "2040-10-07T10:00:00.000000000",
          "2040-10-07T11:00:00.000000000",
          "2040-10-07T12:00:00.000000000",
          "2040-10-08T08:00:00.000000000",
          "2040-10-08T10:00:00.000000000",
          "2040-10-08T11:00:00.000000000",
          "2040-10-09T08:00:00.000000000",
          "2040-10-09T09:00:00.000000000",
          "2040-10-09T10:00:00.000000000",
          "2040-10-09T11:00:00.000000000",
          "2040-10-09T12:00:00.000000000",
          "2040-10-09T13:00:00.000000000",
          "2040-10-10T08:00:00.000000000",
          "2040-10-10T09:00:00.000000000",
          "2040-10-10T10:00:00.000000000",
          "2040-10-10T11:00:00.000000000",
          "2040-10-10T12:00:00.000000000",
          "2040-10-10T14:00:00.000000000",
          "2040-10-11T08:00:00.000000000",
          "2040-10-11T09:00:00.000000000",
          "2040-10-11T10:00:00.000000000",
          "2040-10-12T08:00:00.000000000",
          "2040-10-12T09:00:00.000000000",
          "2040-10-12T10:00:00.000000000",
          "2040-10-12T11:00:00.000000000",
          "2040-10-12T12:00:00.000000000",
          "2040-10-13T08:00:00.000000000",
          "2040-10-13T09:00:00.000000000",
          "2040-10-13T11:00:00.000000000",
          "2040-10-13T12:00:00.000000000",
          "2040-10-13T13:00:00.000000000",
          "2040-10-14T08:00:00.000000000",
          "2040-10-14T09:00:00.000000000",
          "2040-10-14T10:00:00.000000000",
          "2040-10-14T11:00:00.000000000",
          "2040-10-14T12:00:00.000000000",
          "2040-10-14T13:00:00.000000000"
         ],
         "xaxis": "x",
         "y": {
          "bdata": "AAAAAAAAAEAAAAAAAAAAAAAAAAAAAABAAAAAAAAAAAAAAAAAAAAAAAAAAAAAAAAAAAAAAAAAAAAAAAAAAAAAAAAAAAAAAAAAAAAAAAAAAAAAAAAAAADwPwAAAAAAAAAAAAAAAAAAAAAAAAAAAAAAAAAAAAAAAAAAAAAAAAAAAAAAAAAAAAAAAAAAAAAAAAhAAAAAAAAAAAAAAAAAAAAAAAAAAAAAAAAAAAAAAAAAAAAAAAAAAAAAAAAAAAAAAAAAAAAAAAAAAAAAAAAAAAAAAAAAAAAAAAAAAAAAAAAAAAAAAAAAAAAAAAAAAAAAAAAAAAAAAAAAAAAAAAAAAAAAAAAAAAAAAAAAAAAAAAAA8D8AAAAAAAAAAAAAAAAAAAAAAAAAAAAAAAAAAAAAAAAAAAAAAAAAAAAAAAAAAAAAAAAAAAAAAAAAAAAAAAAAAAAAAAAAAAAAAAAAAAAAAAAAAAAAAAAAAAAAAAAAAAAAAAAAAAAAAAAAAAAAAAAAAAAAAAAAAAAAAAAAAAAAAAAAAAAAAAAAAPA/AAAAAAAAAAAAAAAAAAAAAAAAAAAAAPA/AAAAAAAAAAAAAAAAAAAAAAAAAAAAAAAAAAAAAAAAAAAAAAAAAADwPwAAAAAAAAAAAAAAAAAAAAAAAAAAAAAAAAAAAAAAAAAAAAAAAAAA8D8AAAAAAAAAAAAAAAAAAAAAAAAAAAAAAAAAAAAAAAAAAAAAAAAAAAAA",
          "dtype": "f8"
         },
         "yaxis": "y"
        },
        {
         "hovertemplate": "source=V. Miesel Shipping<br>time_window=%{x}<br>Number of Communications=%{y}<extra></extra>",
         "legendgroup": "V. Miesel Shipping",
         "line": {
          "color": "#FF97FF",
          "dash": "solid"
         },
         "marker": {
          "symbol": "circle"
         },
         "mode": "lines",
         "name": "V. Miesel Shipping",
         "showlegend": true,
         "type": "scattergl",
         "x": [
          "2040-10-01T08:00:00.000000000",
          "2040-10-01T09:00:00.000000000",
          "2040-10-01T10:00:00.000000000",
          "2040-10-01T11:00:00.000000000",
          "2040-10-01T12:00:00.000000000",
          "2040-10-02T08:00:00.000000000",
          "2040-10-02T09:00:00.000000000",
          "2040-10-02T10:00:00.000000000",
          "2040-10-02T11:00:00.000000000",
          "2040-10-02T12:00:00.000000000",
          "2040-10-02T13:00:00.000000000",
          "2040-10-03T08:00:00.000000000",
          "2040-10-03T09:00:00.000000000",
          "2040-10-03T10:00:00.000000000",
          "2040-10-03T11:00:00.000000000",
          "2040-10-04T08:00:00.000000000",
          "2040-10-04T09:00:00.000000000",
          "2040-10-04T10:00:00.000000000",
          "2040-10-04T11:00:00.000000000",
          "2040-10-04T12:00:00.000000000",
          "2040-10-04T13:00:00.000000000",
          "2040-10-05T08:00:00.000000000",
          "2040-10-05T09:00:00.000000000",
          "2040-10-05T10:00:00.000000000",
          "2040-10-05T12:00:00.000000000",
          "2040-10-06T09:00:00.000000000",
          "2040-10-06T10:00:00.000000000",
          "2040-10-06T11:00:00.000000000",
          "2040-10-06T12:00:00.000000000",
          "2040-10-06T13:00:00.000000000",
          "2040-10-07T08:00:00.000000000",
          "2040-10-07T09:00:00.000000000",
          "2040-10-07T10:00:00.000000000",
          "2040-10-07T11:00:00.000000000",
          "2040-10-07T12:00:00.000000000",
          "2040-10-08T08:00:00.000000000",
          "2040-10-08T10:00:00.000000000",
          "2040-10-08T11:00:00.000000000",
          "2040-10-09T08:00:00.000000000",
          "2040-10-09T09:00:00.000000000",
          "2040-10-09T10:00:00.000000000",
          "2040-10-09T11:00:00.000000000",
          "2040-10-09T12:00:00.000000000",
          "2040-10-09T13:00:00.000000000",
          "2040-10-10T08:00:00.000000000",
          "2040-10-10T09:00:00.000000000",
          "2040-10-10T10:00:00.000000000",
          "2040-10-10T11:00:00.000000000",
          "2040-10-10T12:00:00.000000000",
          "2040-10-10T14:00:00.000000000",
          "2040-10-11T08:00:00.000000000",
          "2040-10-11T09:00:00.000000000",
          "2040-10-11T10:00:00.000000000",
          "2040-10-12T08:00:00.000000000",
          "2040-10-12T09:00:00.000000000",
          "2040-10-12T10:00:00.000000000",
          "2040-10-12T11:00:00.000000000",
          "2040-10-12T12:00:00.000000000",
          "2040-10-13T08:00:00.000000000",
          "2040-10-13T09:00:00.000000000",
          "2040-10-13T11:00:00.000000000",
          "2040-10-13T12:00:00.000000000",
          "2040-10-13T13:00:00.000000000",
          "2040-10-14T08:00:00.000000000",
          "2040-10-14T09:00:00.000000000",
          "2040-10-14T10:00:00.000000000",
          "2040-10-14T11:00:00.000000000",
          "2040-10-14T12:00:00.000000000",
          "2040-10-14T13:00:00.000000000"
         ],
         "xaxis": "x",
         "y": {
          "bdata": "AAAAAAAAAAAAAAAAAAAAAAAAAAAAAAAAAAAAAAAAAAAAAAAAAAAAAAAAAAAAAAAAAAAAAAAAAAAAAAAAAAAAAAAAAAAAAAAAAAAAAAAAAAAAAAAAAAAAAAAAAAAAAAAAAAAAAAAAAAAAAAAAAADwPwAAAAAAAAAAAAAAAAAAAAAAAAAAAAAAAAAAAAAAAAAAAAAAAAAAAAAAAAAAAAAAAAAAAAAAAPA/AAAAAAAAAAAAAAAAAAAAAAAAAAAAAPA/AAAAAAAAAAAAAAAAAAAAAAAAAAAAAAAAAAAAAAAAAAAAAAAAAADwPwAAAAAAAAAAAAAAAAAAAAAAAAAAAAAAAAAAAAAAAAAAAAAAAAAAAAAAAAAAAAAAAAAAAAAAAAAAAAAAAAAAAAAAAAAAAAAAAAAAAAAAAAAAAAAAAAAAAAAAAAAAAAAAAAAAAAAAAABAAAAAAAAAAAAAAAAAAAAAAAAAAAAAAAAAAAAAAAAAAAAAAAAAAAAAAAAAAAAAAAAAAAAAAAAAAAAAAAAAAAAAAAAAAAAAAPA/AAAAAAAA8D8AAAAAAADwPwAAAAAAAAAAAAAAAAAA8D8AAAAAAADwPwAAAAAAAAhAAAAAAAAA8D8AAAAAAAAAAAAAAAAAAAAAAAAAAAAAAAAAAAAAAAAAAAAAAAAAAAAAAAAAAAAAAAAAAAAAAAAAAAAAAAAAAAAAAAAAAAAAAAAAAAAAAAAAAAAAAAAAAAAA",
          "dtype": "f8"
         },
         "yaxis": "y"
        }
       ],
       "layout": {
        "font": {
         "size": 12
        },
        "legend": {
         "title": {
          "text": "source"
         },
         "tracegroupgap": 0
        },
        "template": {
         "data": {
          "bar": [
           {
            "error_x": {
             "color": "#2a3f5f"
            },
            "error_y": {
             "color": "#2a3f5f"
            },
            "marker": {
             "line": {
              "color": "#E5ECF6",
              "width": 0.5
             },
             "pattern": {
              "fillmode": "overlay",
              "size": 10,
              "solidity": 0.2
             }
            },
            "type": "bar"
           }
          ],
          "barpolar": [
           {
            "marker": {
             "line": {
              "color": "#E5ECF6",
              "width": 0.5
             },
             "pattern": {
              "fillmode": "overlay",
              "size": 10,
              "solidity": 0.2
             }
            },
            "type": "barpolar"
           }
          ],
          "carpet": [
           {
            "aaxis": {
             "endlinecolor": "#2a3f5f",
             "gridcolor": "white",
             "linecolor": "white",
             "minorgridcolor": "white",
             "startlinecolor": "#2a3f5f"
            },
            "baxis": {
             "endlinecolor": "#2a3f5f",
             "gridcolor": "white",
             "linecolor": "white",
             "minorgridcolor": "white",
             "startlinecolor": "#2a3f5f"
            },
            "type": "carpet"
           }
          ],
          "choropleth": [
           {
            "colorbar": {
             "outlinewidth": 0,
             "ticks": ""
            },
            "type": "choropleth"
           }
          ],
          "contour": [
           {
            "colorbar": {
             "outlinewidth": 0,
             "ticks": ""
            },
            "colorscale": [
             [
              0,
              "#0d0887"
             ],
             [
              0.1111111111111111,
              "#46039f"
             ],
             [
              0.2222222222222222,
              "#7201a8"
             ],
             [
              0.3333333333333333,
              "#9c179e"
             ],
             [
              0.4444444444444444,
              "#bd3786"
             ],
             [
              0.5555555555555556,
              "#d8576b"
             ],
             [
              0.6666666666666666,
              "#ed7953"
             ],
             [
              0.7777777777777778,
              "#fb9f3a"
             ],
             [
              0.8888888888888888,
              "#fdca26"
             ],
             [
              1,
              "#f0f921"
             ]
            ],
            "type": "contour"
           }
          ],
          "contourcarpet": [
           {
            "colorbar": {
             "outlinewidth": 0,
             "ticks": ""
            },
            "type": "contourcarpet"
           }
          ],
          "heatmap": [
           {
            "colorbar": {
             "outlinewidth": 0,
             "ticks": ""
            },
            "colorscale": [
             [
              0,
              "#0d0887"
             ],
             [
              0.1111111111111111,
              "#46039f"
             ],
             [
              0.2222222222222222,
              "#7201a8"
             ],
             [
              0.3333333333333333,
              "#9c179e"
             ],
             [
              0.4444444444444444,
              "#bd3786"
             ],
             [
              0.5555555555555556,
              "#d8576b"
             ],
             [
              0.6666666666666666,
              "#ed7953"
             ],
             [
              0.7777777777777778,
              "#fb9f3a"
             ],
             [
              0.8888888888888888,
              "#fdca26"
             ],
             [
              1,
              "#f0f921"
             ]
            ],
            "type": "heatmap"
           }
          ],
          "histogram": [
           {
            "marker": {
             "pattern": {
              "fillmode": "overlay",
              "size": 10,
              "solidity": 0.2
             }
            },
            "type": "histogram"
           }
          ],
          "histogram2d": [
           {
            "colorbar": {
             "outlinewidth": 0,
             "ticks": ""
            },
            "colorscale": [
             [
              0,
              "#0d0887"
             ],
             [
              0.1111111111111111,
              "#46039f"
             ],
             [
              0.2222222222222222,
              "#7201a8"
             ],
             [
              0.3333333333333333,
              "#9c179e"
             ],
             [
              0.4444444444444444,
              "#bd3786"
             ],
             [
              0.5555555555555556,
              "#d8576b"
             ],
             [
              0.6666666666666666,
              "#ed7953"
             ],
             [
              0.7777777777777778,
              "#fb9f3a"
             ],
             [
              0.8888888888888888,
              "#fdca26"
             ],
             [
              1,
              "#f0f921"
             ]
            ],
            "type": "histogram2d"
           }
          ],
          "histogram2dcontour": [
           {
            "colorbar": {
             "outlinewidth": 0,
             "ticks": ""
            },
            "colorscale": [
             [
              0,
              "#0d0887"
             ],
             [
              0.1111111111111111,
              "#46039f"
             ],
             [
              0.2222222222222222,
              "#7201a8"
             ],
             [
              0.3333333333333333,
              "#9c179e"
             ],
             [
              0.4444444444444444,
              "#bd3786"
             ],
             [
              0.5555555555555556,
              "#d8576b"
             ],
             [
              0.6666666666666666,
              "#ed7953"
             ],
             [
              0.7777777777777778,
              "#fb9f3a"
             ],
             [
              0.8888888888888888,
              "#fdca26"
             ],
             [
              1,
              "#f0f921"
             ]
            ],
            "type": "histogram2dcontour"
           }
          ],
          "mesh3d": [
           {
            "colorbar": {
             "outlinewidth": 0,
             "ticks": ""
            },
            "type": "mesh3d"
           }
          ],
          "parcoords": [
           {
            "line": {
             "colorbar": {
              "outlinewidth": 0,
              "ticks": ""
             }
            },
            "type": "parcoords"
           }
          ],
          "pie": [
           {
            "automargin": true,
            "type": "pie"
           }
          ],
          "scatter": [
           {
            "fillpattern": {
             "fillmode": "overlay",
             "size": 10,
             "solidity": 0.2
            },
            "type": "scatter"
           }
          ],
          "scatter3d": [
           {
            "line": {
             "colorbar": {
              "outlinewidth": 0,
              "ticks": ""
             }
            },
            "marker": {
             "colorbar": {
              "outlinewidth": 0,
              "ticks": ""
             }
            },
            "type": "scatter3d"
           }
          ],
          "scattercarpet": [
           {
            "marker": {
             "colorbar": {
              "outlinewidth": 0,
              "ticks": ""
             }
            },
            "type": "scattercarpet"
           }
          ],
          "scattergeo": [
           {
            "marker": {
             "colorbar": {
              "outlinewidth": 0,
              "ticks": ""
             }
            },
            "type": "scattergeo"
           }
          ],
          "scattergl": [
           {
            "marker": {
             "colorbar": {
              "outlinewidth": 0,
              "ticks": ""
             }
            },
            "type": "scattergl"
           }
          ],
          "scattermap": [
           {
            "marker": {
             "colorbar": {
              "outlinewidth": 0,
              "ticks": ""
             }
            },
            "type": "scattermap"
           }
          ],
          "scattermapbox": [
           {
            "marker": {
             "colorbar": {
              "outlinewidth": 0,
              "ticks": ""
             }
            },
            "type": "scattermapbox"
           }
          ],
          "scatterpolar": [
           {
            "marker": {
             "colorbar": {
              "outlinewidth": 0,
              "ticks": ""
             }
            },
            "type": "scatterpolar"
           }
          ],
          "scatterpolargl": [
           {
            "marker": {
             "colorbar": {
              "outlinewidth": 0,
              "ticks": ""
             }
            },
            "type": "scatterpolargl"
           }
          ],
          "scatterternary": [
           {
            "marker": {
             "colorbar": {
              "outlinewidth": 0,
              "ticks": ""
             }
            },
            "type": "scatterternary"
           }
          ],
          "surface": [
           {
            "colorbar": {
             "outlinewidth": 0,
             "ticks": ""
            },
            "colorscale": [
             [
              0,
              "#0d0887"
             ],
             [
              0.1111111111111111,
              "#46039f"
             ],
             [
              0.2222222222222222,
              "#7201a8"
             ],
             [
              0.3333333333333333,
              "#9c179e"
             ],
             [
              0.4444444444444444,
              "#bd3786"
             ],
             [
              0.5555555555555556,
              "#d8576b"
             ],
             [
              0.6666666666666666,
              "#ed7953"
             ],
             [
              0.7777777777777778,
              "#fb9f3a"
             ],
             [
              0.8888888888888888,
              "#fdca26"
             ],
             [
              1,
              "#f0f921"
             ]
            ],
            "type": "surface"
           }
          ],
          "table": [
           {
            "cells": {
             "fill": {
              "color": "#EBF0F8"
             },
             "line": {
              "color": "white"
             }
            },
            "header": {
             "fill": {
              "color": "#C8D4E3"
             },
             "line": {
              "color": "white"
             }
            },
            "type": "table"
           }
          ]
         },
         "layout": {
          "annotationdefaults": {
           "arrowcolor": "#2a3f5f",
           "arrowhead": 0,
           "arrowwidth": 1
          },
          "autotypenumbers": "strict",
          "coloraxis": {
           "colorbar": {
            "outlinewidth": 0,
            "ticks": ""
           }
          },
          "colorscale": {
           "diverging": [
            [
             0,
             "#8e0152"
            ],
            [
             0.1,
             "#c51b7d"
            ],
            [
             0.2,
             "#de77ae"
            ],
            [
             0.3,
             "#f1b6da"
            ],
            [
             0.4,
             "#fde0ef"
            ],
            [
             0.5,
             "#f7f7f7"
            ],
            [
             0.6,
             "#e6f5d0"
            ],
            [
             0.7,
             "#b8e186"
            ],
            [
             0.8,
             "#7fbc41"
            ],
            [
             0.9,
             "#4d9221"
            ],
            [
             1,
             "#276419"
            ]
           ],
           "sequential": [
            [
             0,
             "#0d0887"
            ],
            [
             0.1111111111111111,
             "#46039f"
            ],
            [
             0.2222222222222222,
             "#7201a8"
            ],
            [
             0.3333333333333333,
             "#9c179e"
            ],
            [
             0.4444444444444444,
             "#bd3786"
            ],
            [
             0.5555555555555556,
             "#d8576b"
            ],
            [
             0.6666666666666666,
             "#ed7953"
            ],
            [
             0.7777777777777778,
             "#fb9f3a"
            ],
            [
             0.8888888888888888,
             "#fdca26"
            ],
            [
             1,
             "#f0f921"
            ]
           ],
           "sequentialminus": [
            [
             0,
             "#0d0887"
            ],
            [
             0.1111111111111111,
             "#46039f"
            ],
            [
             0.2222222222222222,
             "#7201a8"
            ],
            [
             0.3333333333333333,
             "#9c179e"
            ],
            [
             0.4444444444444444,
             "#bd3786"
            ],
            [
             0.5555555555555556,
             "#d8576b"
            ],
            [
             0.6666666666666666,
             "#ed7953"
            ],
            [
             0.7777777777777778,
             "#fb9f3a"
            ],
            [
             0.8888888888888888,
             "#fdca26"
            ],
            [
             1,
             "#f0f921"
            ]
           ]
          },
          "colorway": [
           "#636efa",
           "#EF553B",
           "#00cc96",
           "#ab63fa",
           "#FFA15A",
           "#19d3f3",
           "#FF6692",
           "#B6E880",
           "#FF97FF",
           "#FECB52"
          ],
          "font": {
           "color": "#2a3f5f"
          },
          "geo": {
           "bgcolor": "white",
           "lakecolor": "white",
           "landcolor": "#E5ECF6",
           "showlakes": true,
           "showland": true,
           "subunitcolor": "white"
          },
          "hoverlabel": {
           "align": "left"
          },
          "hovermode": "closest",
          "mapbox": {
           "style": "light"
          },
          "paper_bgcolor": "white",
          "plot_bgcolor": "#E5ECF6",
          "polar": {
           "angularaxis": {
            "gridcolor": "white",
            "linecolor": "white",
            "ticks": ""
           },
           "bgcolor": "#E5ECF6",
           "radialaxis": {
            "gridcolor": "white",
            "linecolor": "white",
            "ticks": ""
           }
          },
          "scene": {
           "xaxis": {
            "backgroundcolor": "#E5ECF6",
            "gridcolor": "white",
            "gridwidth": 2,
            "linecolor": "white",
            "showbackground": true,
            "ticks": "",
            "zerolinecolor": "white"
           },
           "yaxis": {
            "backgroundcolor": "#E5ECF6",
            "gridcolor": "white",
            "gridwidth": 2,
            "linecolor": "white",
            "showbackground": true,
            "ticks": "",
            "zerolinecolor": "white"
           },
           "zaxis": {
            "backgroundcolor": "#E5ECF6",
            "gridcolor": "white",
            "gridwidth": 2,
            "linecolor": "white",
            "showbackground": true,
            "ticks": "",
            "zerolinecolor": "white"
           }
          },
          "shapedefaults": {
           "line": {
            "color": "#2a3f5f"
           }
          },
          "ternary": {
           "aaxis": {
            "gridcolor": "white",
            "linecolor": "white",
            "ticks": ""
           },
           "baxis": {
            "gridcolor": "white",
            "linecolor": "white",
            "ticks": ""
           },
           "bgcolor": "#E5ECF6",
           "caxis": {
            "gridcolor": "white",
            "linecolor": "white",
            "ticks": ""
           }
          },
          "title": {
           "x": 0.05
          },
          "xaxis": {
           "automargin": true,
           "gridcolor": "white",
           "linecolor": "white",
           "ticks": "",
           "title": {
            "standoff": 15
           },
           "zerolinecolor": "white",
           "zerolinewidth": 2
          },
          "yaxis": {
           "automargin": true,
           "gridcolor": "white",
           "linecolor": "white",
           "ticks": "",
           "title": {
            "standoff": 15
           },
           "zerolinecolor": "white",
           "zerolinewidth": 2
          }
         }
        },
        "title": {
         "text": "Communications per Source over Time (1h)"
        },
        "xaxis": {
         "anchor": "y",
         "domain": [
          0,
          1
         ],
         "gridwidth": 1,
         "showgrid": true,
         "title": {
          "text": "time_window"
         }
        },
        "yaxis": {
         "anchor": "x",
         "domain": [
          0,
          1
         ],
         "gridwidth": 1,
         "showgrid": true,
         "title": {
          "text": "Number of Communications"
         }
        }
       }
      }
     },
     "metadata": {},
     "output_type": "display_data"
    }
   ],
   "source": [
    "df = pd.DataFrame(communications_data)\n",
    "df['timestamp'] = pd.to_datetime(df['timestamp'])\n",
    "\n",
    "df['time_window'] = df['timestamp'].dt.floor('H')\n",
    "aggregated_df = df.groupby(['source', 'time_window']).size().reset_index(name='count')\n",
    "\n",
    "aggregated_df = df.groupby(['source', 'time_window']).size().reset_index(name='count')\n",
    "pivot_df = aggregated_df.pivot(index='time_window', columns='source', values='count').fillna(0)\n",
    "\n",
    "fig = px.line(pivot_df, x=pivot_df.index, y=pivot_df.columns,\n",
    "                labels={'x': 'Time', 'value': 'Number of Communications'},\n",
    "                title='Communications per Source over Time (1h)')\n",
    "\n",
    "fig.update_layout(\n",
    "    xaxis=dict(showgrid=True, gridwidth=1),\n",
    "    yaxis=dict(showgrid=True, gridwidth=1),\n",
    "    font=dict(size=12)\n",
    ")\n",
    "\n",
    "fig.show()"
   ]
  },
  {
   "cell_type": "code",
   "execution_count": 12,
   "id": "1d2b90fd",
   "metadata": {},
   "outputs": [
    {
     "data": {
      "application/vnd.plotly.v1+json": {
       "config": {
        "plotlyServerURL": "https://plot.ly"
       },
       "data": [
        {
         "hovertemplate": "source=Boss<br>hour_of_day=%{x}<br>Number of Communications=%{y}<extra></extra>",
         "legendgroup": "Boss",
         "line": {
          "color": "#636efa",
          "dash": "solid"
         },
         "marker": {
          "symbol": "circle"
         },
         "mode": "lines",
         "name": "Boss",
         "orientation": "v",
         "showlegend": true,
         "type": "scatter",
         "x": {
          "bdata": "CAAAAAkAAAAKAAAACwAAAAwAAAANAAAADgAAAA==",
          "dtype": "i4"
         },
         "xaxis": "x",
         "y": {
          "bdata": "AAAAAAAAEEAAAAAAAADwPwAAAAAAAABAAAAAAAAAAAAAAAAAAAAAAAAAAAAAAABAAAAAAAAAAAA=",
          "dtype": "f8"
         },
         "yaxis": "y"
        },
        {
         "hovertemplate": "source=Clepper Jensen<br>hour_of_day=%{x}<br>Number of Communications=%{y}<extra></extra>",
         "legendgroup": "Clepper Jensen",
         "line": {
          "color": "#EF553B",
          "dash": "solid"
         },
         "marker": {
          "symbol": "circle"
         },
         "mode": "lines",
         "name": "Clepper Jensen",
         "orientation": "v",
         "showlegend": true,
         "type": "scatter",
         "x": {
          "bdata": "CAAAAAkAAAAKAAAACwAAAAwAAAANAAAADgAAAA==",
          "dtype": "i4"
         },
         "xaxis": "x",
         "y": {
          "bdata": "AAAAAAAAAAAAAAAAAAAIQAAAAAAAAChAAAAAAAAAAAAAAAAAAAAUQAAAAAAAAAAAAAAAAAAAAAA=",
          "dtype": "f8"
         },
         "yaxis": "y"
        },
        {
         "hovertemplate": "source=Davis<br>hour_of_day=%{x}<br>Number of Communications=%{y}<extra></extra>",
         "legendgroup": "Davis",
         "line": {
          "color": "#00cc96",
          "dash": "solid"
         },
         "marker": {
          "symbol": "circle"
         },
         "mode": "lines",
         "name": "Davis",
         "orientation": "v",
         "showlegend": true,
         "type": "scatter",
         "x": {
          "bdata": "CAAAAAkAAAAKAAAACwAAAAwAAAANAAAADgAAAA==",
          "dtype": "i4"
         },
         "xaxis": "x",
         "y": {
          "bdata": "AAAAAAAAAEAAAAAAAAAUQAAAAAAAABRAAAAAAAAAIkAAAAAAAAAQQAAAAAAAAAAAAAAAAAAAAAA=",
          "dtype": "f8"
         },
         "yaxis": "y"
        },
        {
         "hovertemplate": "source=Defender<br>hour_of_day=%{x}<br>Number of Communications=%{y}<extra></extra>",
         "legendgroup": "Defender",
         "line": {
          "color": "#ab63fa",
          "dash": "solid"
         },
         "marker": {
          "symbol": "circle"
         },
         "mode": "lines",
         "name": "Defender",
         "orientation": "v",
         "showlegend": true,
         "type": "scatter",
         "x": {
          "bdata": "CAAAAAkAAAAKAAAACwAAAAwAAAANAAAADgAAAA==",
          "dtype": "i4"
         },
         "xaxis": "x",
         "y": {
          "bdata": "AAAAAAAAAEAAAAAAAAAAAAAAAAAAAAAAAAAAAAAA8D8AAAAAAADwPwAAAAAAAPA/AAAAAAAAAAA=",
          "dtype": "f8"
         },
         "yaxis": "y"
        },
        {
         "hovertemplate": "source=EcoVigil<br>hour_of_day=%{x}<br>Number of Communications=%{y}<extra></extra>",
         "legendgroup": "EcoVigil",
         "line": {
          "color": "#FFA15A",
          "dash": "solid"
         },
         "marker": {
          "symbol": "circle"
         },
         "mode": "lines",
         "name": "EcoVigil",
         "orientation": "v",
         "showlegend": true,
         "type": "scatter",
         "x": {
          "bdata": "CAAAAAkAAAAKAAAACwAAAAwAAAANAAAADgAAAA==",
          "dtype": "i4"
         },
         "xaxis": "x",
         "y": {
          "bdata": "AAAAAAAA8D8AAAAAAAAUQAAAAAAAABBAAAAAAAAACEAAAAAAAADwPwAAAAAAAAAAAAAAAAAAAAA=",
          "dtype": "f8"
         },
         "yaxis": "y"
        },
        {
         "hovertemplate": "source=Elise<br>hour_of_day=%{x}<br>Number of Communications=%{y}<extra></extra>",
         "legendgroup": "Elise",
         "line": {
          "color": "#19d3f3",
          "dash": "solid"
         },
         "marker": {
          "symbol": "circle"
         },
         "mode": "lines",
         "name": "Elise",
         "orientation": "v",
         "showlegend": true,
         "type": "scatter",
         "x": {
          "bdata": "CAAAAAkAAAAKAAAACwAAAAwAAAANAAAADgAAAA==",
          "dtype": "i4"
         },
         "xaxis": "x",
         "y": {
          "bdata": "AAAAAAAACEAAAAAAAAAAAAAAAAAAAAAAAAAAAAAAAAAAAAAAAADwPwAAAAAAAPA/AAAAAAAAAAA=",
          "dtype": "f8"
         },
         "yaxis": "y"
        },
        {
         "hovertemplate": "source=Glitters Team<br>hour_of_day=%{x}<br>Number of Communications=%{y}<extra></extra>",
         "legendgroup": "Glitters Team",
         "line": {
          "color": "#FF6692",
          "dash": "solid"
         },
         "marker": {
          "symbol": "circle"
         },
         "mode": "lines",
         "name": "Glitters Team",
         "orientation": "v",
         "showlegend": true,
         "type": "scatter",
         "x": {
          "bdata": "CAAAAAkAAAAKAAAACwAAAAwAAAANAAAADgAAAA==",
          "dtype": "i4"
         },
         "xaxis": "x",
         "y": {
          "bdata": "AAAAAAAA8D8AAAAAAADwPwAAAAAAAPA/AAAAAAAAAAAAAAAAAADwPwAAAAAAAAAAAAAAAAAAAAA=",
          "dtype": "f8"
         },
         "yaxis": "y"
        },
        {
         "hovertemplate": "source=Green Guardians<br>hour_of_day=%{x}<br>Number of Communications=%{y}<extra></extra>",
         "legendgroup": "Green Guardians",
         "line": {
          "color": "#B6E880",
          "dash": "solid"
         },
         "marker": {
          "symbol": "circle"
         },
         "mode": "lines",
         "name": "Green Guardians",
         "orientation": "v",
         "showlegend": true,
         "type": "scatter",
         "x": {
          "bdata": "CAAAAAkAAAAKAAAACwAAAAwAAAANAAAADgAAAA==",
          "dtype": "i4"
         },
         "xaxis": "x",
         "y": {
          "bdata": "AAAAAAAAHEAAAAAAAAAQQAAAAAAAACxAAAAAAAAAHEAAAAAAAAAcQAAAAAAAABRAAAAAAAAAAAA=",
          "dtype": "f8"
         },
         "yaxis": "y"
        },
        {
         "hovertemplate": "source=Haacklee Harbor<br>hour_of_day=%{x}<br>Number of Communications=%{y}<extra></extra>",
         "legendgroup": "Haacklee Harbor",
         "line": {
          "color": "#FF97FF",
          "dash": "solid"
         },
         "marker": {
          "symbol": "circle"
         },
         "mode": "lines",
         "name": "Haacklee Harbor",
         "orientation": "v",
         "showlegend": true,
         "type": "scatter",
         "x": {
          "bdata": "CAAAAAkAAAAKAAAACwAAAAwAAAANAAAADgAAAA==",
          "dtype": "i4"
         },
         "xaxis": "x",
         "y": {
          "bdata": "AAAAAAAA8D8AAAAAAAAIQAAAAAAAAAAAAAAAAAAAAEAAAAAAAAAAAAAAAAAAAPA/AAAAAAAAAAA=",
          "dtype": "f8"
         },
         "yaxis": "y"
        },
        {
         "hovertemplate": "source=Himark Harbor<br>hour_of_day=%{x}<br>Number of Communications=%{y}<extra></extra>",
         "legendgroup": "Himark Harbor",
         "line": {
          "color": "#FECB52",
          "dash": "solid"
         },
         "marker": {
          "symbol": "circle"
         },
         "mode": "lines",
         "name": "Himark Harbor",
         "orientation": "v",
         "showlegend": true,
         "type": "scatter",
         "x": {
          "bdata": "CAAAAAkAAAAKAAAACwAAAAwAAAANAAAADgAAAA==",
          "dtype": "i4"
         },
         "xaxis": "x",
         "y": {
          "bdata": "AAAAAAAACEAAAAAAAAAUQAAAAAAAABhAAAAAAAAAGEAAAAAAAAAUQAAAAAAAAABAAAAAAAAAAAA=",
          "dtype": "f8"
         },
         "yaxis": "y"
        },
        {
         "hovertemplate": "source=Horizon<br>hour_of_day=%{x}<br>Number of Communications=%{y}<extra></extra>",
         "legendgroup": "Horizon",
         "line": {
          "color": "#636efa",
          "dash": "solid"
         },
         "marker": {
          "symbol": "circle"
         },
         "mode": "lines",
         "name": "Horizon",
         "orientation": "v",
         "showlegend": true,
         "type": "scatter",
         "x": {
          "bdata": "CAAAAAkAAAAKAAAACwAAAAwAAAANAAAADgAAAA==",
          "dtype": "i4"
         },
         "xaxis": "x",
         "y": {
          "bdata": "AAAAAAAA8D8AAAAAAAAIQAAAAAAAAAhAAAAAAAAAEEAAAAAAAAAAQAAAAAAAAPA/AAAAAAAAAAA=",
          "dtype": "f8"
         },
         "yaxis": "y"
        },
        {
         "hovertemplate": "source=Kelly<br>hour_of_day=%{x}<br>Number of Communications=%{y}<extra></extra>",
         "legendgroup": "Kelly",
         "line": {
          "color": "#EF553B",
          "dash": "solid"
         },
         "marker": {
          "symbol": "circle"
         },
         "mode": "lines",
         "name": "Kelly",
         "orientation": "v",
         "showlegend": true,
         "type": "scatter",
         "x": {
          "bdata": "CAAAAAkAAAAKAAAACwAAAAwAAAANAAAADgAAAA==",
          "dtype": "i4"
         },
         "xaxis": "x",
         "y": {
          "bdata": "AAAAAAAAAEAAAAAAAAAAAAAAAAAAAAAAAAAAAAAAAAAAAAAAAAAAAAAAAAAAAAAAAAAAAAAAAAA=",
          "dtype": "f8"
         },
         "yaxis": "y"
        },
        {
         "hovertemplate": "source=Knowles<br>hour_of_day=%{x}<br>Number of Communications=%{y}<extra></extra>",
         "legendgroup": "Knowles",
         "line": {
          "color": "#00cc96",
          "dash": "solid"
         },
         "marker": {
          "symbol": "circle"
         },
         "mode": "lines",
         "name": "Knowles",
         "orientation": "v",
         "showlegend": true,
         "type": "scatter",
         "x": {
          "bdata": "CAAAAAkAAAAKAAAACwAAAAwAAAANAAAADgAAAA==",
          "dtype": "i4"
         },
         "xaxis": "x",
         "y": {
          "bdata": "AAAAAAAAAAAAAAAAAAAAAAAAAAAAAAAAAAAAAAAA8D8AAAAAAADwPwAAAAAAAABAAAAAAAAAAAA=",
          "dtype": "f8"
         },
         "yaxis": "y"
        },
        {
         "hovertemplate": "source=Liam Thorne<br>hour_of_day=%{x}<br>Number of Communications=%{y}<extra></extra>",
         "legendgroup": "Liam Thorne",
         "line": {
          "color": "#ab63fa",
          "dash": "solid"
         },
         "marker": {
          "symbol": "circle"
         },
         "mode": "lines",
         "name": "Liam Thorne",
         "orientation": "v",
         "showlegend": true,
         "type": "scatter",
         "x": {
          "bdata": "CAAAAAkAAAAKAAAACwAAAAwAAAANAAAADgAAAA==",
          "dtype": "i4"
         },
         "xaxis": "x",
         "y": {
          "bdata": "AAAAAAAACEAAAAAAAAAYQAAAAAAAAPA/AAAAAAAAAAAAAAAAAAAAAAAAAAAAAPA/AAAAAAAAAAA=",
          "dtype": "f8"
         },
         "yaxis": "y"
        },
        {
         "hovertemplate": "source=Mako<br>hour_of_day=%{x}<br>Number of Communications=%{y}<extra></extra>",
         "legendgroup": "Mako",
         "line": {
          "color": "#FFA15A",
          "dash": "solid"
         },
         "marker": {
          "symbol": "circle"
         },
         "mode": "lines",
         "name": "Mako",
         "orientation": "v",
         "showlegend": true,
         "type": "scatter",
         "x": {
          "bdata": "CAAAAAkAAAAKAAAACwAAAAwAAAANAAAADgAAAA==",
          "dtype": "i4"
         },
         "xaxis": "x",
         "y": {
          "bdata": "AAAAAAAACEAAAAAAAAAqQAAAAAAAABhAAAAAAAAAGEAAAAAAAAAYQAAAAAAAAPA/AAAAAAAAAAA=",
          "dtype": "f8"
         },
         "yaxis": "y"
        },
        {
         "hovertemplate": "source=Marlin<br>hour_of_day=%{x}<br>Number of Communications=%{y}<extra></extra>",
         "legendgroup": "Marlin",
         "line": {
          "color": "#19d3f3",
          "dash": "solid"
         },
         "marker": {
          "symbol": "circle"
         },
         "mode": "lines",
         "name": "Marlin",
         "orientation": "v",
         "showlegend": true,
         "type": "scatter",
         "x": {
          "bdata": "CAAAAAkAAAAKAAAACwAAAAwAAAANAAAADgAAAA==",
          "dtype": "i4"
         },
         "xaxis": "x",
         "y": {
          "bdata": "AAAAAAAAAAAAAAAAAAAAAAAAAAAAAAAAAAAAAAAAFEAAAAAAAAAAQAAAAAAAAAAAAAAAAAAAAAA=",
          "dtype": "f8"
         },
         "yaxis": "y"
        },
        {
         "hovertemplate": "source=Miranda Jordan<br>hour_of_day=%{x}<br>Number of Communications=%{y}<extra></extra>",
         "legendgroup": "Miranda Jordan",
         "line": {
          "color": "#FF6692",
          "dash": "solid"
         },
         "marker": {
          "symbol": "circle"
         },
         "mode": "lines",
         "name": "Miranda Jordan",
         "orientation": "v",
         "showlegend": true,
         "type": "scatter",
         "x": {
          "bdata": "CAAAAAkAAAAKAAAACwAAAAwAAAANAAAADgAAAA==",
          "dtype": "i4"
         },
         "xaxis": "x",
         "y": {
          "bdata": "AAAAAAAAAAAAAAAAAAAIQAAAAAAAACZAAAAAAAAAAAAAAAAAAAAQQAAAAAAAAAAAAAAAAAAAAAA=",
          "dtype": "f8"
         },
         "yaxis": "y"
        },
        {
         "hovertemplate": "source=Mrs. Money<br>hour_of_day=%{x}<br>Number of Communications=%{y}<extra></extra>",
         "legendgroup": "Mrs. Money",
         "line": {
          "color": "#B6E880",
          "dash": "solid"
         },
         "marker": {
          "symbol": "circle"
         },
         "mode": "lines",
         "name": "Mrs. Money",
         "orientation": "v",
         "showlegend": true,
         "type": "scatter",
         "x": {
          "bdata": "CAAAAAkAAAAKAAAACwAAAAwAAAANAAAADgAAAA==",
          "dtype": "i4"
         },
         "xaxis": "x",
         "y": {
          "bdata": "AAAAAAAAJkAAAAAAAAAIQAAAAAAAABBAAAAAAAAA8D8AAAAAAAAAAAAAAAAAAAAAAAAAAAAAAAA=",
          "dtype": "f8"
         },
         "yaxis": "y"
        },
        {
         "hovertemplate": "source=Nadia Conti<br>hour_of_day=%{x}<br>Number of Communications=%{y}<extra></extra>",
         "legendgroup": "Nadia Conti",
         "line": {
          "color": "#FF97FF",
          "dash": "solid"
         },
         "marker": {
          "symbol": "circle"
         },
         "mode": "lines",
         "name": "Nadia Conti",
         "orientation": "v",
         "showlegend": true,
         "type": "scatter",
         "x": {
          "bdata": "CAAAAAkAAAAKAAAACwAAAAwAAAANAAAADgAAAA==",
          "dtype": "i4"
         },
         "xaxis": "x",
         "y": {
          "bdata": "AAAAAAAAEEAAAAAAAAAAQAAAAAAAAAAAAAAAAAAAAEAAAAAAAAAAAAAAAAAAAAAAAAAAAAAAAAA=",
          "dtype": "f8"
         },
         "yaxis": "y"
        },
        {
         "hovertemplate": "source=Neptune<br>hour_of_day=%{x}<br>Number of Communications=%{y}<extra></extra>",
         "legendgroup": "Neptune",
         "line": {
          "color": "#FECB52",
          "dash": "solid"
         },
         "marker": {
          "symbol": "circle"
         },
         "mode": "lines",
         "name": "Neptune",
         "orientation": "v",
         "showlegend": true,
         "type": "scatter",
         "x": {
          "bdata": "CAAAAAkAAAAKAAAACwAAAAwAAAANAAAADgAAAA==",
          "dtype": "i4"
         },
         "xaxis": "x",
         "y": {
          "bdata": "AAAAAAAACEAAAAAAAAAkQAAAAAAAABhAAAAAAAAAIEAAAAAAAAAcQAAAAAAAAAAAAAAAAAAAAAA=",
          "dtype": "f8"
         },
         "yaxis": "y"
        },
        {
         "hovertemplate": "source=Northern Light<br>hour_of_day=%{x}<br>Number of Communications=%{y}<extra></extra>",
         "legendgroup": "Northern Light",
         "line": {
          "color": "#636efa",
          "dash": "solid"
         },
         "marker": {
          "symbol": "circle"
         },
         "mode": "lines",
         "name": "Northern Light",
         "orientation": "v",
         "showlegend": true,
         "type": "scatter",
         "x": {
          "bdata": "CAAAAAkAAAAKAAAACwAAAAwAAAANAAAADgAAAA==",
          "dtype": "i4"
         },
         "xaxis": "x",
         "y": {
          "bdata": "AAAAAAAAAAAAAAAAAAAAAAAAAAAAAAhAAAAAAAAA8D8AAAAAAAAAAAAAAAAAAAAAAAAAAAAAAAA=",
          "dtype": "f8"
         },
         "yaxis": "y"
        },
        {
         "hovertemplate": "source=Oceanus City Council<br>hour_of_day=%{x}<br>Number of Communications=%{y}<extra></extra>",
         "legendgroup": "Oceanus City Council",
         "line": {
          "color": "#EF553B",
          "dash": "solid"
         },
         "marker": {
          "symbol": "circle"
         },
         "mode": "lines",
         "name": "Oceanus City Council",
         "orientation": "v",
         "showlegend": true,
         "type": "scatter",
         "x": {
          "bdata": "CAAAAAkAAAAKAAAACwAAAAwAAAANAAAADgAAAA==",
          "dtype": "i4"
         },
         "xaxis": "x",
         "y": {
          "bdata": "AAAAAAAAFEAAAAAAAAAcQAAAAAAAAChAAAAAAAAAEEAAAAAAAAAUQAAAAAAAABBAAAAAAAAAAAA=",
          "dtype": "f8"
         },
         "yaxis": "y"
        },
        {
         "hovertemplate": "source=Osprey<br>hour_of_day=%{x}<br>Number of Communications=%{y}<extra></extra>",
         "legendgroup": "Osprey",
         "line": {
          "color": "#00cc96",
          "dash": "solid"
         },
         "marker": {
          "symbol": "circle"
         },
         "mode": "lines",
         "name": "Osprey",
         "orientation": "v",
         "showlegend": true,
         "type": "scatter",
         "x": {
          "bdata": "CAAAAAkAAAAKAAAACwAAAAwAAAANAAAADgAAAA==",
          "dtype": "i4"
         },
         "xaxis": "x",
         "y": {
          "bdata": "AAAAAAAA8D8AAAAAAAAIQAAAAAAAAAAAAAAAAAAAAAAAAAAAAAAAQAAAAAAAAAAAAAAAAAAAAAA=",
          "dtype": "f8"
         },
         "yaxis": "y"
        },
        {
         "hovertemplate": "source=Paackland Harbor<br>hour_of_day=%{x}<br>Number of Communications=%{y}<extra></extra>",
         "legendgroup": "Paackland Harbor",
         "line": {
          "color": "#ab63fa",
          "dash": "solid"
         },
         "marker": {
          "symbol": "circle"
         },
         "mode": "lines",
         "name": "Paackland Harbor",
         "orientation": "v",
         "showlegend": true,
         "type": "scatter",
         "x": {
          "bdata": "CAAAAAkAAAAKAAAACwAAAAwAAAANAAAADgAAAA==",
          "dtype": "i4"
         },
         "xaxis": "x",
         "y": {
          "bdata": "AAAAAAAAAAAAAAAAAAAUQAAAAAAAABhAAAAAAAAA8D8AAAAAAAAIQAAAAAAAAPA/AAAAAAAAAAA=",
          "dtype": "f8"
         },
         "yaxis": "y"
        },
        {
         "hovertemplate": "source=Reef Guardian<br>hour_of_day=%{x}<br>Number of Communications=%{y}<extra></extra>",
         "legendgroup": "Reef Guardian",
         "line": {
          "color": "#FFA15A",
          "dash": "solid"
         },
         "marker": {
          "symbol": "circle"
         },
         "mode": "lines",
         "name": "Reef Guardian",
         "orientation": "v",
         "showlegend": true,
         "type": "scatter",
         "x": {
          "bdata": "CAAAAAkAAAAKAAAACwAAAAwAAAANAAAADgAAAA==",
          "dtype": "i4"
         },
         "xaxis": "x",
         "y": {
          "bdata": "AAAAAAAAEEAAAAAAAAAiQAAAAAAAACZAAAAAAAAAEEAAAAAAAAAQQAAAAAAAAPA/AAAAAAAA8D8=",
          "dtype": "f8"
         },
         "yaxis": "y"
        },
        {
         "hovertemplate": "source=Remora<br>hour_of_day=%{x}<br>Number of Communications=%{y}<extra></extra>",
         "legendgroup": "Remora",
         "line": {
          "color": "#19d3f3",
          "dash": "solid"
         },
         "marker": {
          "symbol": "circle"
         },
         "mode": "lines",
         "name": "Remora",
         "orientation": "v",
         "showlegend": true,
         "type": "scatter",
         "x": {
          "bdata": "CAAAAAkAAAAKAAAACwAAAAwAAAANAAAADgAAAA==",
          "dtype": "i4"
         },
         "xaxis": "x",
         "y": {
          "bdata": "AAAAAAAAEEAAAAAAAAAcQAAAAAAAABxAAAAAAAAAEEAAAAAAAADwPwAAAAAAAABAAAAAAAAAAAA=",
          "dtype": "f8"
         },
         "yaxis": "y"
        },
        {
         "hovertemplate": "source=Rodriguez<br>hour_of_day=%{x}<br>Number of Communications=%{y}<extra></extra>",
         "legendgroup": "Rodriguez",
         "line": {
          "color": "#FF6692",
          "dash": "solid"
         },
         "marker": {
          "symbol": "circle"
         },
         "mode": "lines",
         "name": "Rodriguez",
         "orientation": "v",
         "showlegend": true,
         "type": "scatter",
         "x": {
          "bdata": "CAAAAAkAAAAKAAAACwAAAAwAAAANAAAADgAAAA==",
          "dtype": "i4"
         },
         "xaxis": "x",
         "y": {
          "bdata": "AAAAAAAAAAAAAAAAAAAUQAAAAAAAAAhAAAAAAAAAEEAAAAAAAAAAQAAAAAAAAAAAAAAAAAAAAAA=",
          "dtype": "f8"
         },
         "yaxis": "y"
        },
        {
         "hovertemplate": "source=Sailor Shifts Team<br>hour_of_day=%{x}<br>Number of Communications=%{y}<extra></extra>",
         "legendgroup": "Sailor Shifts Team",
         "line": {
          "color": "#B6E880",
          "dash": "solid"
         },
         "marker": {
          "symbol": "circle"
         },
         "mode": "lines",
         "name": "Sailor Shifts Team",
         "orientation": "v",
         "showlegend": true,
         "type": "scatter",
         "x": {
          "bdata": "CAAAAAkAAAAKAAAACwAAAAwAAAANAAAADgAAAA==",
          "dtype": "i4"
         },
         "xaxis": "x",
         "y": {
          "bdata": "AAAAAAAAAAAAAAAAAAAAAAAAAAAAAPA/AAAAAAAA8D8AAAAAAAAAAAAAAAAAAAAAAAAAAAAAAAA=",
          "dtype": "f8"
         },
         "yaxis": "y"
        },
        {
         "hovertemplate": "source=Sam<br>hour_of_day=%{x}<br>Number of Communications=%{y}<extra></extra>",
         "legendgroup": "Sam",
         "line": {
          "color": "#FF97FF",
          "dash": "solid"
         },
         "marker": {
          "symbol": "circle"
         },
         "mode": "lines",
         "name": "Sam",
         "orientation": "v",
         "showlegend": true,
         "type": "scatter",
         "x": {
          "bdata": "CAAAAAkAAAAKAAAACwAAAAwAAAANAAAADgAAAA==",
          "dtype": "i4"
         },
         "xaxis": "x",
         "y": {
          "bdata": "AAAAAAAAAAAAAAAAAAAAAAAAAAAAAPA/AAAAAAAAAAAAAAAAAAAAAAAAAAAAAAAAAAAAAAAAAAA=",
          "dtype": "f8"
         },
         "yaxis": "y"
        },
        {
         "hovertemplate": "source=Samantha Blake<br>hour_of_day=%{x}<br>Number of Communications=%{y}<extra></extra>",
         "legendgroup": "Samantha Blake",
         "line": {
          "color": "#FECB52",
          "dash": "solid"
         },
         "marker": {
          "symbol": "circle"
         },
         "mode": "lines",
         "name": "Samantha Blake",
         "orientation": "v",
         "showlegend": true,
         "type": "scatter",
         "x": {
          "bdata": "CAAAAAkAAAAKAAAACwAAAAwAAAANAAAADgAAAA==",
          "dtype": "i4"
         },
         "xaxis": "x",
         "y": {
          "bdata": "AAAAAAAAAAAAAAAAAAAAQAAAAAAAAABAAAAAAAAAAEAAAAAAAAAIQAAAAAAAAAAAAAAAAAAAAAA=",
          "dtype": "f8"
         },
         "yaxis": "y"
        },
        {
         "hovertemplate": "source=Seawatch<br>hour_of_day=%{x}<br>Number of Communications=%{y}<extra></extra>",
         "legendgroup": "Seawatch",
         "line": {
          "color": "#636efa",
          "dash": "solid"
         },
         "marker": {
          "symbol": "circle"
         },
         "mode": "lines",
         "name": "Seawatch",
         "orientation": "v",
         "showlegend": true,
         "type": "scatter",
         "x": {
          "bdata": "CAAAAAkAAAAKAAAACwAAAAwAAAANAAAADgAAAA==",
          "dtype": "i4"
         },
         "xaxis": "x",
         "y": {
          "bdata": "AAAAAAAAAAAAAAAAAAAAAAAAAAAAAAhAAAAAAAAAAAAAAAAAAAAAAAAAAAAAAAAAAAAAAAAAAAA=",
          "dtype": "f8"
         },
         "yaxis": "y"
        },
        {
         "hovertemplate": "source=Sentinel<br>hour_of_day=%{x}<br>Number of Communications=%{y}<extra></extra>",
         "legendgroup": "Sentinel",
         "line": {
          "color": "#EF553B",
          "dash": "solid"
         },
         "marker": {
          "symbol": "circle"
         },
         "mode": "lines",
         "name": "Sentinel",
         "orientation": "v",
         "showlegend": true,
         "type": "scatter",
         "x": {
          "bdata": "CAAAAAkAAAAKAAAACwAAAAwAAAANAAAADgAAAA==",
          "dtype": "i4"
         },
         "xaxis": "x",
         "y": {
          "bdata": "AAAAAAAA8D8AAAAAAAAAQAAAAAAAABhAAAAAAAAACEAAAAAAAAAUQAAAAAAAAPA/AAAAAAAAAAA=",
          "dtype": "f8"
         },
         "yaxis": "y"
        },
        {
         "hovertemplate": "source=Serenity<br>hour_of_day=%{x}<br>Number of Communications=%{y}<extra></extra>",
         "legendgroup": "Serenity",
         "line": {
          "color": "#00cc96",
          "dash": "solid"
         },
         "marker": {
          "symbol": "circle"
         },
         "mode": "lines",
         "name": "Serenity",
         "orientation": "v",
         "showlegend": true,
         "type": "scatter",
         "x": {
          "bdata": "CAAAAAkAAAAKAAAACwAAAAwAAAANAAAADgAAAA==",
          "dtype": "i4"
         },
         "xaxis": "x",
         "y": {
          "bdata": "AAAAAAAAAEAAAAAAAADwPwAAAAAAAAhAAAAAAAAAAEAAAAAAAAAAAAAAAAAAAAAAAAAAAAAAAAA=",
          "dtype": "f8"
         },
         "yaxis": "y"
        },
        {
         "hovertemplate": "source=Small Fry<br>hour_of_day=%{x}<br>Number of Communications=%{y}<extra></extra>",
         "legendgroup": "Small Fry",
         "line": {
          "color": "#ab63fa",
          "dash": "solid"
         },
         "marker": {
          "symbol": "circle"
         },
         "mode": "lines",
         "name": "Small Fry",
         "orientation": "v",
         "showlegend": true,
         "type": "scatter",
         "x": {
          "bdata": "CAAAAAkAAAAKAAAACwAAAAwAAAANAAAADgAAAA==",
          "dtype": "i4"
         },
         "xaxis": "x",
         "y": {
          "bdata": "AAAAAAAAAAAAAAAAAAAAQAAAAAAAAAAAAAAAAAAAAEAAAAAAAAAAQAAAAAAAAPA/AAAAAAAAAAA=",
          "dtype": "f8"
         },
         "yaxis": "y"
        },
        {
         "hovertemplate": "source=The Accountant<br>hour_of_day=%{x}<br>Number of Communications=%{y}<extra></extra>",
         "legendgroup": "The Accountant",
         "line": {
          "color": "#FFA15A",
          "dash": "solid"
         },
         "marker": {
          "symbol": "circle"
         },
         "mode": "lines",
         "name": "The Accountant",
         "orientation": "v",
         "showlegend": true,
         "type": "scatter",
         "x": {
          "bdata": "CAAAAAkAAAAKAAAACwAAAAwAAAANAAAADgAAAA==",
          "dtype": "i4"
         },
         "xaxis": "x",
         "y": {
          "bdata": "AAAAAAAACEAAAAAAAAAAAAAAAAAAAAAAAAAAAAAAAAAAAAAAAAAAAAAAAAAAAAAAAAAAAAAAAAA=",
          "dtype": "f8"
         },
         "yaxis": "y"
        },
        {
         "hovertemplate": "source=The Intern<br>hour_of_day=%{x}<br>Number of Communications=%{y}<extra></extra>",
         "legendgroup": "The Intern",
         "line": {
          "color": "#19d3f3",
          "dash": "solid"
         },
         "marker": {
          "symbol": "circle"
         },
         "mode": "lines",
         "name": "The Intern",
         "orientation": "v",
         "showlegend": true,
         "type": "scatter",
         "x": {
          "bdata": "CAAAAAkAAAAKAAAACwAAAAwAAAANAAAADgAAAA==",
          "dtype": "i4"
         },
         "xaxis": "x",
         "y": {
          "bdata": "AAAAAAAAM0AAAAAAAAAAAAAAAAAAAPA/AAAAAAAAAAAAAAAAAAAQQAAAAAAAAAAAAAAAAAAAAAA=",
          "dtype": "f8"
         },
         "yaxis": "y"
        },
        {
         "hovertemplate": "source=The Lookout<br>hour_of_day=%{x}<br>Number of Communications=%{y}<extra></extra>",
         "legendgroup": "The Lookout",
         "line": {
          "color": "#FF6692",
          "dash": "solid"
         },
         "marker": {
          "symbol": "circle"
         },
         "mode": "lines",
         "name": "The Lookout",
         "orientation": "v",
         "showlegend": true,
         "type": "scatter",
         "x": {
          "bdata": "CAAAAAkAAAAKAAAACwAAAAwAAAANAAAADgAAAA==",
          "dtype": "i4"
         },
         "xaxis": "x",
         "y": {
          "bdata": "AAAAAAAANEAAAAAAAADwPwAAAAAAABBAAAAAAAAAAEAAAAAAAAAUQAAAAAAAAAAAAAAAAAAA8D8=",
          "dtype": "f8"
         },
         "yaxis": "y"
        },
        {
         "hovertemplate": "source=The Middleman<br>hour_of_day=%{x}<br>Number of Communications=%{y}<extra></extra>",
         "legendgroup": "The Middleman",
         "line": {
          "color": "#B6E880",
          "dash": "solid"
         },
         "marker": {
          "symbol": "circle"
         },
         "mode": "lines",
         "name": "The Middleman",
         "orientation": "v",
         "showlegend": true,
         "type": "scatter",
         "x": {
          "bdata": "CAAAAAkAAAAKAAAACwAAAAwAAAANAAAADgAAAA==",
          "dtype": "i4"
         },
         "xaxis": "x",
         "y": {
          "bdata": "AAAAAAAAGEAAAAAAAAAAAAAAAAAAABRAAAAAAAAA8D8AAAAAAAAAAAAAAAAAAPA/AAAAAAAAAAA=",
          "dtype": "f8"
         },
         "yaxis": "y"
        },
        {
         "hovertemplate": "source=V. Miesel Shipping<br>hour_of_day=%{x}<br>Number of Communications=%{y}<extra></extra>",
         "legendgroup": "V. Miesel Shipping",
         "line": {
          "color": "#FF97FF",
          "dash": "solid"
         },
         "marker": {
          "symbol": "circle"
         },
         "mode": "lines",
         "name": "V. Miesel Shipping",
         "orientation": "v",
         "showlegend": true,
         "type": "scatter",
         "x": {
          "bdata": "CAAAAAkAAAAKAAAACwAAAAwAAAANAAAADgAAAA==",
          "dtype": "i4"
         },
         "xaxis": "x",
         "y": {
          "bdata": "AAAAAAAA8D8AAAAAAAAAQAAAAAAAABBAAAAAAAAAFEAAAAAAAAAAQAAAAAAAAPA/AAAAAAAAAAA=",
          "dtype": "f8"
         },
         "yaxis": "y"
        }
       ],
       "layout": {
        "font": {
         "size": 12
        },
        "legend": {
         "title": {
          "text": "source"
         },
         "tracegroupgap": 0
        },
        "template": {
         "data": {
          "bar": [
           {
            "error_x": {
             "color": "#2a3f5f"
            },
            "error_y": {
             "color": "#2a3f5f"
            },
            "marker": {
             "line": {
              "color": "#E5ECF6",
              "width": 0.5
             },
             "pattern": {
              "fillmode": "overlay",
              "size": 10,
              "solidity": 0.2
             }
            },
            "type": "bar"
           }
          ],
          "barpolar": [
           {
            "marker": {
             "line": {
              "color": "#E5ECF6",
              "width": 0.5
             },
             "pattern": {
              "fillmode": "overlay",
              "size": 10,
              "solidity": 0.2
             }
            },
            "type": "barpolar"
           }
          ],
          "carpet": [
           {
            "aaxis": {
             "endlinecolor": "#2a3f5f",
             "gridcolor": "white",
             "linecolor": "white",
             "minorgridcolor": "white",
             "startlinecolor": "#2a3f5f"
            },
            "baxis": {
             "endlinecolor": "#2a3f5f",
             "gridcolor": "white",
             "linecolor": "white",
             "minorgridcolor": "white",
             "startlinecolor": "#2a3f5f"
            },
            "type": "carpet"
           }
          ],
          "choropleth": [
           {
            "colorbar": {
             "outlinewidth": 0,
             "ticks": ""
            },
            "type": "choropleth"
           }
          ],
          "contour": [
           {
            "colorbar": {
             "outlinewidth": 0,
             "ticks": ""
            },
            "colorscale": [
             [
              0,
              "#0d0887"
             ],
             [
              0.1111111111111111,
              "#46039f"
             ],
             [
              0.2222222222222222,
              "#7201a8"
             ],
             [
              0.3333333333333333,
              "#9c179e"
             ],
             [
              0.4444444444444444,
              "#bd3786"
             ],
             [
              0.5555555555555556,
              "#d8576b"
             ],
             [
              0.6666666666666666,
              "#ed7953"
             ],
             [
              0.7777777777777778,
              "#fb9f3a"
             ],
             [
              0.8888888888888888,
              "#fdca26"
             ],
             [
              1,
              "#f0f921"
             ]
            ],
            "type": "contour"
           }
          ],
          "contourcarpet": [
           {
            "colorbar": {
             "outlinewidth": 0,
             "ticks": ""
            },
            "type": "contourcarpet"
           }
          ],
          "heatmap": [
           {
            "colorbar": {
             "outlinewidth": 0,
             "ticks": ""
            },
            "colorscale": [
             [
              0,
              "#0d0887"
             ],
             [
              0.1111111111111111,
              "#46039f"
             ],
             [
              0.2222222222222222,
              "#7201a8"
             ],
             [
              0.3333333333333333,
              "#9c179e"
             ],
             [
              0.4444444444444444,
              "#bd3786"
             ],
             [
              0.5555555555555556,
              "#d8576b"
             ],
             [
              0.6666666666666666,
              "#ed7953"
             ],
             [
              0.7777777777777778,
              "#fb9f3a"
             ],
             [
              0.8888888888888888,
              "#fdca26"
             ],
             [
              1,
              "#f0f921"
             ]
            ],
            "type": "heatmap"
           }
          ],
          "histogram": [
           {
            "marker": {
             "pattern": {
              "fillmode": "overlay",
              "size": 10,
              "solidity": 0.2
             }
            },
            "type": "histogram"
           }
          ],
          "histogram2d": [
           {
            "colorbar": {
             "outlinewidth": 0,
             "ticks": ""
            },
            "colorscale": [
             [
              0,
              "#0d0887"
             ],
             [
              0.1111111111111111,
              "#46039f"
             ],
             [
              0.2222222222222222,
              "#7201a8"
             ],
             [
              0.3333333333333333,
              "#9c179e"
             ],
             [
              0.4444444444444444,
              "#bd3786"
             ],
             [
              0.5555555555555556,
              "#d8576b"
             ],
             [
              0.6666666666666666,
              "#ed7953"
             ],
             [
              0.7777777777777778,
              "#fb9f3a"
             ],
             [
              0.8888888888888888,
              "#fdca26"
             ],
             [
              1,
              "#f0f921"
             ]
            ],
            "type": "histogram2d"
           }
          ],
          "histogram2dcontour": [
           {
            "colorbar": {
             "outlinewidth": 0,
             "ticks": ""
            },
            "colorscale": [
             [
              0,
              "#0d0887"
             ],
             [
              0.1111111111111111,
              "#46039f"
             ],
             [
              0.2222222222222222,
              "#7201a8"
             ],
             [
              0.3333333333333333,
              "#9c179e"
             ],
             [
              0.4444444444444444,
              "#bd3786"
             ],
             [
              0.5555555555555556,
              "#d8576b"
             ],
             [
              0.6666666666666666,
              "#ed7953"
             ],
             [
              0.7777777777777778,
              "#fb9f3a"
             ],
             [
              0.8888888888888888,
              "#fdca26"
             ],
             [
              1,
              "#f0f921"
             ]
            ],
            "type": "histogram2dcontour"
           }
          ],
          "mesh3d": [
           {
            "colorbar": {
             "outlinewidth": 0,
             "ticks": ""
            },
            "type": "mesh3d"
           }
          ],
          "parcoords": [
           {
            "line": {
             "colorbar": {
              "outlinewidth": 0,
              "ticks": ""
             }
            },
            "type": "parcoords"
           }
          ],
          "pie": [
           {
            "automargin": true,
            "type": "pie"
           }
          ],
          "scatter": [
           {
            "fillpattern": {
             "fillmode": "overlay",
             "size": 10,
             "solidity": 0.2
            },
            "type": "scatter"
           }
          ],
          "scatter3d": [
           {
            "line": {
             "colorbar": {
              "outlinewidth": 0,
              "ticks": ""
             }
            },
            "marker": {
             "colorbar": {
              "outlinewidth": 0,
              "ticks": ""
             }
            },
            "type": "scatter3d"
           }
          ],
          "scattercarpet": [
           {
            "marker": {
             "colorbar": {
              "outlinewidth": 0,
              "ticks": ""
             }
            },
            "type": "scattercarpet"
           }
          ],
          "scattergeo": [
           {
            "marker": {
             "colorbar": {
              "outlinewidth": 0,
              "ticks": ""
             }
            },
            "type": "scattergeo"
           }
          ],
          "scattergl": [
           {
            "marker": {
             "colorbar": {
              "outlinewidth": 0,
              "ticks": ""
             }
            },
            "type": "scattergl"
           }
          ],
          "scattermap": [
           {
            "marker": {
             "colorbar": {
              "outlinewidth": 0,
              "ticks": ""
             }
            },
            "type": "scattermap"
           }
          ],
          "scattermapbox": [
           {
            "marker": {
             "colorbar": {
              "outlinewidth": 0,
              "ticks": ""
             }
            },
            "type": "scattermapbox"
           }
          ],
          "scatterpolar": [
           {
            "marker": {
             "colorbar": {
              "outlinewidth": 0,
              "ticks": ""
             }
            },
            "type": "scatterpolar"
           }
          ],
          "scatterpolargl": [
           {
            "marker": {
             "colorbar": {
              "outlinewidth": 0,
              "ticks": ""
             }
            },
            "type": "scatterpolargl"
           }
          ],
          "scatterternary": [
           {
            "marker": {
             "colorbar": {
              "outlinewidth": 0,
              "ticks": ""
             }
            },
            "type": "scatterternary"
           }
          ],
          "surface": [
           {
            "colorbar": {
             "outlinewidth": 0,
             "ticks": ""
            },
            "colorscale": [
             [
              0,
              "#0d0887"
             ],
             [
              0.1111111111111111,
              "#46039f"
             ],
             [
              0.2222222222222222,
              "#7201a8"
             ],
             [
              0.3333333333333333,
              "#9c179e"
             ],
             [
              0.4444444444444444,
              "#bd3786"
             ],
             [
              0.5555555555555556,
              "#d8576b"
             ],
             [
              0.6666666666666666,
              "#ed7953"
             ],
             [
              0.7777777777777778,
              "#fb9f3a"
             ],
             [
              0.8888888888888888,
              "#fdca26"
             ],
             [
              1,
              "#f0f921"
             ]
            ],
            "type": "surface"
           }
          ],
          "table": [
           {
            "cells": {
             "fill": {
              "color": "#EBF0F8"
             },
             "line": {
              "color": "white"
             }
            },
            "header": {
             "fill": {
              "color": "#C8D4E3"
             },
             "line": {
              "color": "white"
             }
            },
            "type": "table"
           }
          ]
         },
         "layout": {
          "annotationdefaults": {
           "arrowcolor": "#2a3f5f",
           "arrowhead": 0,
           "arrowwidth": 1
          },
          "autotypenumbers": "strict",
          "coloraxis": {
           "colorbar": {
            "outlinewidth": 0,
            "ticks": ""
           }
          },
          "colorscale": {
           "diverging": [
            [
             0,
             "#8e0152"
            ],
            [
             0.1,
             "#c51b7d"
            ],
            [
             0.2,
             "#de77ae"
            ],
            [
             0.3,
             "#f1b6da"
            ],
            [
             0.4,
             "#fde0ef"
            ],
            [
             0.5,
             "#f7f7f7"
            ],
            [
             0.6,
             "#e6f5d0"
            ],
            [
             0.7,
             "#b8e186"
            ],
            [
             0.8,
             "#7fbc41"
            ],
            [
             0.9,
             "#4d9221"
            ],
            [
             1,
             "#276419"
            ]
           ],
           "sequential": [
            [
             0,
             "#0d0887"
            ],
            [
             0.1111111111111111,
             "#46039f"
            ],
            [
             0.2222222222222222,
             "#7201a8"
            ],
            [
             0.3333333333333333,
             "#9c179e"
            ],
            [
             0.4444444444444444,
             "#bd3786"
            ],
            [
             0.5555555555555556,
             "#d8576b"
            ],
            [
             0.6666666666666666,
             "#ed7953"
            ],
            [
             0.7777777777777778,
             "#fb9f3a"
            ],
            [
             0.8888888888888888,
             "#fdca26"
            ],
            [
             1,
             "#f0f921"
            ]
           ],
           "sequentialminus": [
            [
             0,
             "#0d0887"
            ],
            [
             0.1111111111111111,
             "#46039f"
            ],
            [
             0.2222222222222222,
             "#7201a8"
            ],
            [
             0.3333333333333333,
             "#9c179e"
            ],
            [
             0.4444444444444444,
             "#bd3786"
            ],
            [
             0.5555555555555556,
             "#d8576b"
            ],
            [
             0.6666666666666666,
             "#ed7953"
            ],
            [
             0.7777777777777778,
             "#fb9f3a"
            ],
            [
             0.8888888888888888,
             "#fdca26"
            ],
            [
             1,
             "#f0f921"
            ]
           ]
          },
          "colorway": [
           "#636efa",
           "#EF553B",
           "#00cc96",
           "#ab63fa",
           "#FFA15A",
           "#19d3f3",
           "#FF6692",
           "#B6E880",
           "#FF97FF",
           "#FECB52"
          ],
          "font": {
           "color": "#2a3f5f"
          },
          "geo": {
           "bgcolor": "white",
           "lakecolor": "white",
           "landcolor": "#E5ECF6",
           "showlakes": true,
           "showland": true,
           "subunitcolor": "white"
          },
          "hoverlabel": {
           "align": "left"
          },
          "hovermode": "closest",
          "mapbox": {
           "style": "light"
          },
          "paper_bgcolor": "white",
          "plot_bgcolor": "#E5ECF6",
          "polar": {
           "angularaxis": {
            "gridcolor": "white",
            "linecolor": "white",
            "ticks": ""
           },
           "bgcolor": "#E5ECF6",
           "radialaxis": {
            "gridcolor": "white",
            "linecolor": "white",
            "ticks": ""
           }
          },
          "scene": {
           "xaxis": {
            "backgroundcolor": "#E5ECF6",
            "gridcolor": "white",
            "gridwidth": 2,
            "linecolor": "white",
            "showbackground": true,
            "ticks": "",
            "zerolinecolor": "white"
           },
           "yaxis": {
            "backgroundcolor": "#E5ECF6",
            "gridcolor": "white",
            "gridwidth": 2,
            "linecolor": "white",
            "showbackground": true,
            "ticks": "",
            "zerolinecolor": "white"
           },
           "zaxis": {
            "backgroundcolor": "#E5ECF6",
            "gridcolor": "white",
            "gridwidth": 2,
            "linecolor": "white",
            "showbackground": true,
            "ticks": "",
            "zerolinecolor": "white"
           }
          },
          "shapedefaults": {
           "line": {
            "color": "#2a3f5f"
           }
          },
          "ternary": {
           "aaxis": {
            "gridcolor": "white",
            "linecolor": "white",
            "ticks": ""
           },
           "baxis": {
            "gridcolor": "white",
            "linecolor": "white",
            "ticks": ""
           },
           "bgcolor": "#E5ECF6",
           "caxis": {
            "gridcolor": "white",
            "linecolor": "white",
            "ticks": ""
           }
          },
          "title": {
           "x": 0.05
          },
          "xaxis": {
           "automargin": true,
           "gridcolor": "white",
           "linecolor": "white",
           "ticks": "",
           "title": {
            "standoff": 15
           },
           "zerolinecolor": "white",
           "zerolinewidth": 2
          },
          "yaxis": {
           "automargin": true,
           "gridcolor": "white",
           "linecolor": "white",
           "ticks": "",
           "title": {
            "standoff": 15
           },
           "zerolinecolor": "white",
           "zerolinewidth": 2
          }
         }
        },
        "title": {
         "text": "Communications per Source by Hour of Day (1H Windows)"
        },
        "xaxis": {
         "anchor": "y",
         "domain": [
          0,
          1
         ],
         "gridwidth": 1,
         "showgrid": true,
         "title": {
          "text": "hour_of_day"
         }
        },
        "yaxis": {
         "anchor": "x",
         "domain": [
          0,
          1
         ],
         "gridwidth": 1,
         "showgrid": true,
         "title": {
          "text": "Number of Communications"
         }
        }
       }
      }
     },
     "metadata": {},
     "output_type": "display_data"
    }
   ],
   "source": [
    "df = pd.DataFrame(communications_data)\n",
    "df['timestamp'] = pd.to_datetime(df['timestamp'])\n",
    "\n",
    "# Extract the hour of day for each timestamp\n",
    "df['hour_of_day'] = df['timestamp'].dt.hour\n",
    "\n",
    "# Group by source and hour of day, then count occurrences\n",
    "aggregated_df = df.groupby(['source', 'hour_of_day']).size().reset_index(name='count')\n",
    "\n",
    "# Pivot the DataFrame to have hours as index and sources as columns\n",
    "pivot_df = aggregated_df.pivot(index='hour_of_day', columns='source', values='count').fillna(0)\n",
    "\n",
    "# Create a line plot using Plotly Express\n",
    "fig = px.line(pivot_df, x=pivot_df.index, y=pivot_df.columns,\n",
    "                labels={'x': 'Hour of Day', 'value': 'Number of Communications'},\n",
    "                title='Communications per Source by Hour of Day (1H Windows)')\n",
    "\n",
    "# Update the layout for better readability\n",
    "fig.update_layout(\n",
    "    xaxis=dict(showgrid=True, gridwidth=1),\n",
    "    yaxis=dict(showgrid=True, gridwidth=1),\n",
    "    font=dict(size=12)\n",
    ")\n",
    "\n",
    "# Display the plot\n",
    "fig.show()"
   ]
  },
  {
   "cell_type": "code",
   "execution_count": null,
   "id": "709c37b3",
   "metadata": {},
   "outputs": [
    {
     "data": {
      "application/vnd.plotly.v1+json": {
       "config": {
        "plotlyServerURL": "https://plot.ly"
       },
       "data": [
        {
         "hovertemplate": "source=Boss<br>date=2040-10-01<br>Hour of Day=%{x}<br>Number of Communications=%{y}<extra></extra>",
         "legendgroup": "Boss",
         "line": {
          "color": "#636efa",
          "dash": "solid"
         },
         "marker": {
          "symbol": "circle"
         },
         "mode": "lines",
         "name": "Boss",
         "orientation": "v",
         "showlegend": true,
         "type": "scatter",
         "x": {
          "bdata": "CAAAAAkAAAA=",
          "dtype": "i4"
         },
         "xaxis": "x14",
         "y": {
          "bdata": "AwE=",
          "dtype": "i1"
         },
         "yaxis": "y14"
        },
        {
         "hovertemplate": "source=Boss<br>date=2040-10-04<br>Hour of Day=%{x}<br>Number of Communications=%{y}<extra></extra>",
         "legendgroup": "Boss",
         "line": {
          "color": "#636efa",
          "dash": "solid"
         },
         "marker": {
          "symbol": "circle"
         },
         "mode": "lines",
         "name": "Boss",
         "orientation": "v",
         "showlegend": false,
         "type": "scatter",
         "x": {
          "bdata": "CAAAAAoAAAANAAAA",
          "dtype": "i4"
         },
         "xaxis": "x11",
         "y": {
          "bdata": "AQEC",
          "dtype": "i1"
         },
         "yaxis": "y11"
        },
        {
         "hovertemplate": "source=Boss<br>date=2040-10-05<br>Hour of Day=%{x}<br>Number of Communications=%{y}<extra></extra>",
         "legendgroup": "Boss",
         "line": {
          "color": "#636efa",
          "dash": "solid"
         },
         "marker": {
          "symbol": "circle"
         },
         "mode": "lines",
         "name": "Boss",
         "orientation": "v",
         "showlegend": false,
         "type": "scatter",
         "x": {
          "bdata": "CgAAAA==",
          "dtype": "i4"
         },
         "xaxis": "x10",
         "y": {
          "bdata": "AQ==",
          "dtype": "i1"
         },
         "yaxis": "y10"
        },
        {
         "hovertemplate": "source=Davis<br>date=2040-10-01<br>Hour of Day=%{x}<br>Number of Communications=%{y}<extra></extra>",
         "legendgroup": "Davis",
         "line": {
          "color": "#EF553B",
          "dash": "solid"
         },
         "marker": {
          "symbol": "circle"
         },
         "mode": "lines",
         "name": "Davis",
         "orientation": "v",
         "showlegend": true,
         "type": "scatter",
         "x": {
          "bdata": "CQAAAA==",
          "dtype": "i4"
         },
         "xaxis": "x14",
         "y": {
          "bdata": "AQ==",
          "dtype": "i1"
         },
         "yaxis": "y14"
        },
        {
         "hovertemplate": "source=Davis<br>date=2040-10-02<br>Hour of Day=%{x}<br>Number of Communications=%{y}<extra></extra>",
         "legendgroup": "Davis",
         "line": {
          "color": "#EF553B",
          "dash": "solid"
         },
         "marker": {
          "symbol": "circle"
         },
         "mode": "lines",
         "name": "Davis",
         "orientation": "v",
         "showlegend": false,
         "type": "scatter",
         "x": {
          "bdata": "CwAAAA==",
          "dtype": "i4"
         },
         "xaxis": "x13",
         "y": {
          "bdata": "AQ==",
          "dtype": "i1"
         },
         "yaxis": "y13"
        },
        {
         "hovertemplate": "source=Davis<br>date=2040-10-04<br>Hour of Day=%{x}<br>Number of Communications=%{y}<extra></extra>",
         "legendgroup": "Davis",
         "line": {
          "color": "#EF553B",
          "dash": "solid"
         },
         "marker": {
          "symbol": "circle"
         },
         "mode": "lines",
         "name": "Davis",
         "orientation": "v",
         "showlegend": false,
         "type": "scatter",
         "x": {
          "bdata": "CAAAAAoAAAALAAAA",
          "dtype": "i4"
         },
         "xaxis": "x11",
         "y": {
          "bdata": "AQIC",
          "dtype": "i1"
         },
         "yaxis": "y11"
        },
        {
         "hovertemplate": "source=Davis<br>date=2040-10-05<br>Hour of Day=%{x}<br>Number of Communications=%{y}<extra></extra>",
         "legendgroup": "Davis",
         "line": {
          "color": "#EF553B",
          "dash": "solid"
         },
         "marker": {
          "symbol": "circle"
         },
         "mode": "lines",
         "name": "Davis",
         "orientation": "v",
         "showlegend": false,
         "type": "scatter",
         "x": {
          "bdata": "CgAAAA==",
          "dtype": "i4"
         },
         "xaxis": "x10",
         "y": {
          "bdata": "AQ==",
          "dtype": "i1"
         },
         "yaxis": "y10"
        },
        {
         "hovertemplate": "source=Davis<br>date=2040-10-07<br>Hour of Day=%{x}<br>Number of Communications=%{y}<extra></extra>",
         "legendgroup": "Davis",
         "line": {
          "color": "#EF553B",
          "dash": "solid"
         },
         "marker": {
          "symbol": "circle"
         },
         "mode": "lines",
         "name": "Davis",
         "orientation": "v",
         "showlegend": false,
         "type": "scatter",
         "x": {
          "bdata": "DAAAAA==",
          "dtype": "i4"
         },
         "xaxis": "x8",
         "y": {
          "bdata": "AQ==",
          "dtype": "i1"
         },
         "yaxis": "y8"
        },
        {
         "hovertemplate": "source=Davis<br>date=2040-10-08<br>Hour of Day=%{x}<br>Number of Communications=%{y}<extra></extra>",
         "legendgroup": "Davis",
         "line": {
          "color": "#EF553B",
          "dash": "solid"
         },
         "marker": {
          "symbol": "circle"
         },
         "mode": "lines",
         "name": "Davis",
         "orientation": "v",
         "showlegend": false,
         "type": "scatter",
         "x": {
          "bdata": "CgAAAAsAAAA=",
          "dtype": "i4"
         },
         "xaxis": "x7",
         "y": {
          "bdata": "AgM=",
          "dtype": "i1"
         },
         "yaxis": "y7"
        },
        {
         "hovertemplate": "source=Davis<br>date=2040-10-09<br>Hour of Day=%{x}<br>Number of Communications=%{y}<extra></extra>",
         "legendgroup": "Davis",
         "line": {
          "color": "#EF553B",
          "dash": "solid"
         },
         "marker": {
          "symbol": "circle"
         },
         "mode": "lines",
         "name": "Davis",
         "orientation": "v",
         "showlegend": false,
         "type": "scatter",
         "x": {
          "bdata": "CwAAAA==",
          "dtype": "i4"
         },
         "xaxis": "x6",
         "y": {
          "bdata": "AQ==",
          "dtype": "i1"
         },
         "yaxis": "y6"
        },
        {
         "hovertemplate": "source=Davis<br>date=2040-10-12<br>Hour of Day=%{x}<br>Number of Communications=%{y}<extra></extra>",
         "legendgroup": "Davis",
         "line": {
          "color": "#EF553B",
          "dash": "solid"
         },
         "marker": {
          "symbol": "circle"
         },
         "mode": "lines",
         "name": "Davis",
         "orientation": "v",
         "showlegend": false,
         "type": "scatter",
         "x": {
          "bdata": "CQAAAAsAAAAMAAAA",
          "dtype": "i4"
         },
         "xaxis": "x3",
         "y": {
          "bdata": "AgIB",
          "dtype": "i1"
         },
         "yaxis": "y3"
        },
        {
         "hovertemplate": "source=Davis<br>date=2040-10-13<br>Hour of Day=%{x}<br>Number of Communications=%{y}<extra></extra>",
         "legendgroup": "Davis",
         "line": {
          "color": "#EF553B",
          "dash": "solid"
         },
         "marker": {
          "symbol": "circle"
         },
         "mode": "lines",
         "name": "Davis",
         "orientation": "v",
         "showlegend": false,
         "type": "scatter",
         "x": {
          "bdata": "CAAAAAwAAAA=",
          "dtype": "i4"
         },
         "xaxis": "x2",
         "y": {
          "bdata": "AQE=",
          "dtype": "i1"
         },
         "yaxis": "y2"
        },
        {
         "hovertemplate": "source=Davis<br>date=2040-10-14<br>Hour of Day=%{x}<br>Number of Communications=%{y}<extra></extra>",
         "legendgroup": "Davis",
         "line": {
          "color": "#EF553B",
          "dash": "solid"
         },
         "marker": {
          "symbol": "circle"
         },
         "mode": "lines",
         "name": "Davis",
         "orientation": "v",
         "showlegend": false,
         "type": "scatter",
         "x": {
          "bdata": "CQAAAAwAAAA=",
          "dtype": "i4"
         },
         "xaxis": "x",
         "y": {
          "bdata": "AgE=",
          "dtype": "i1"
         },
         "yaxis": "y"
        },
        {
         "hovertemplate": "source=Glitters Team<br>date=2040-10-01<br>Hour of Day=%{x}<br>Number of Communications=%{y}<extra></extra>",
         "legendgroup": "Glitters Team",
         "line": {
          "color": "#00cc96",
          "dash": "solid"
         },
         "marker": {
          "symbol": "circle"
         },
         "mode": "lines",
         "name": "Glitters Team",
         "orientation": "v",
         "showlegend": true,
         "type": "scatter",
         "x": {
          "bdata": "DAAAAA==",
          "dtype": "i4"
         },
         "xaxis": "x14",
         "y": {
          "bdata": "AQ==",
          "dtype": "i1"
         },
         "yaxis": "y14"
        },
        {
         "hovertemplate": "source=Glitters Team<br>date=2040-10-03<br>Hour of Day=%{x}<br>Number of Communications=%{y}<extra></extra>",
         "legendgroup": "Glitters Team",
         "line": {
          "color": "#00cc96",
          "dash": "solid"
         },
         "marker": {
          "symbol": "circle"
         },
         "mode": "lines",
         "name": "Glitters Team",
         "orientation": "v",
         "showlegend": false,
         "type": "scatter",
         "x": {
          "bdata": "CgAAAA==",
          "dtype": "i4"
         },
         "xaxis": "x12",
         "y": {
          "bdata": "AQ==",
          "dtype": "i1"
         },
         "yaxis": "y12"
        },
        {
         "hovertemplate": "source=Glitters Team<br>date=2040-10-06<br>Hour of Day=%{x}<br>Number of Communications=%{y}<extra></extra>",
         "legendgroup": "Glitters Team",
         "line": {
          "color": "#00cc96",
          "dash": "solid"
         },
         "marker": {
          "symbol": "circle"
         },
         "mode": "lines",
         "name": "Glitters Team",
         "orientation": "v",
         "showlegend": false,
         "type": "scatter",
         "x": {
          "bdata": "CQAAAA==",
          "dtype": "i4"
         },
         "xaxis": "x9",
         "y": {
          "bdata": "AQ==",
          "dtype": "i1"
         },
         "yaxis": "y9"
        },
        {
         "hovertemplate": "source=Glitters Team<br>date=2040-10-14<br>Hour of Day=%{x}<br>Number of Communications=%{y}<extra></extra>",
         "legendgroup": "Glitters Team",
         "line": {
          "color": "#00cc96",
          "dash": "solid"
         },
         "marker": {
          "symbol": "circle"
         },
         "mode": "lines",
         "name": "Glitters Team",
         "orientation": "v",
         "showlegend": false,
         "type": "scatter",
         "x": {
          "bdata": "CAAAAA==",
          "dtype": "i4"
         },
         "xaxis": "x",
         "y": {
          "bdata": "AQ==",
          "dtype": "i1"
         },
         "yaxis": "y"
        },
        {
         "hovertemplate": "source=Green Guardians<br>date=2040-10-01<br>Hour of Day=%{x}<br>Number of Communications=%{y}<extra></extra>",
         "legendgroup": "Green Guardians",
         "line": {
          "color": "#ab63fa",
          "dash": "solid"
         },
         "marker": {
          "symbol": "circle"
         },
         "mode": "lines",
         "name": "Green Guardians",
         "orientation": "v",
         "showlegend": true,
         "type": "scatter",
         "x": {
          "bdata": "CwAAAAwAAAA=",
          "dtype": "i4"
         },
         "xaxis": "x14",
         "y": {
          "bdata": "AQI=",
          "dtype": "i1"
         },
         "yaxis": "y14"
        },
        {
         "hovertemplate": "source=Green Guardians<br>date=2040-10-02<br>Hour of Day=%{x}<br>Number of Communications=%{y}<extra></extra>",
         "legendgroup": "Green Guardians",
         "line": {
          "color": "#ab63fa",
          "dash": "solid"
         },
         "marker": {
          "symbol": "circle"
         },
         "mode": "lines",
         "name": "Green Guardians",
         "orientation": "v",
         "showlegend": false,
         "type": "scatter",
         "x": {
          "bdata": "CQAAAA==",
          "dtype": "i4"
         },
         "xaxis": "x13",
         "y": {
          "bdata": "AQ==",
          "dtype": "i1"
         },
         "yaxis": "y13"
        },
        {
         "hovertemplate": "source=Green Guardians<br>date=2040-10-03<br>Hour of Day=%{x}<br>Number of Communications=%{y}<extra></extra>",
         "legendgroup": "Green Guardians",
         "line": {
          "color": "#ab63fa",
          "dash": "solid"
         },
         "marker": {
          "symbol": "circle"
         },
         "mode": "lines",
         "name": "Green Guardians",
         "orientation": "v",
         "showlegend": false,
         "type": "scatter",
         "x": {
          "bdata": "CAAAAAkAAAAKAAAA",
          "dtype": "i4"
         },
         "xaxis": "x12",
         "y": {
          "bdata": "BAEC",
          "dtype": "i1"
         },
         "yaxis": "y12"
        },
        {
         "hovertemplate": "source=Green Guardians<br>date=2040-10-04<br>Hour of Day=%{x}<br>Number of Communications=%{y}<extra></extra>",
         "legendgroup": "Green Guardians",
         "line": {
          "color": "#ab63fa",
          "dash": "solid"
         },
         "marker": {
          "symbol": "circle"
         },
         "mode": "lines",
         "name": "Green Guardians",
         "orientation": "v",
         "showlegend": false,
         "type": "scatter",
         "x": {
          "bdata": "CAAAAA==",
          "dtype": "i4"
         },
         "xaxis": "x11",
         "y": {
          "bdata": "Ag==",
          "dtype": "i1"
         },
         "yaxis": "y11"
        },
        {
         "hovertemplate": "source=Green Guardians<br>date=2040-10-05<br>Hour of Day=%{x}<br>Number of Communications=%{y}<extra></extra>",
         "legendgroup": "Green Guardians",
         "line": {
          "color": "#ab63fa",
          "dash": "solid"
         },
         "marker": {
          "symbol": "circle"
         },
         "mode": "lines",
         "name": "Green Guardians",
         "orientation": "v",
         "showlegend": false,
         "type": "scatter",
         "x": {
          "bdata": "CAAAAAoAAAA=",
          "dtype": "i4"
         },
         "xaxis": "x10",
         "y": {
          "bdata": "AQM=",
          "dtype": "i1"
         },
         "yaxis": "y10"
        },
        {
         "hovertemplate": "source=Green Guardians<br>date=2040-10-06<br>Hour of Day=%{x}<br>Number of Communications=%{y}<extra></extra>",
         "legendgroup": "Green Guardians",
         "line": {
          "color": "#ab63fa",
          "dash": "solid"
         },
         "marker": {
          "symbol": "circle"
         },
         "mode": "lines",
         "name": "Green Guardians",
         "orientation": "v",
         "showlegend": false,
         "type": "scatter",
         "x": {
          "bdata": "CQAAAAsAAAANAAAA",
          "dtype": "i4"
         },
         "xaxis": "x9",
         "y": {
          "bdata": "AQIF",
          "dtype": "i1"
         },
         "yaxis": "y9"
        },
        {
         "hovertemplate": "source=Green Guardians<br>date=2040-10-08<br>Hour of Day=%{x}<br>Number of Communications=%{y}<extra></extra>",
         "legendgroup": "Green Guardians",
         "line": {
          "color": "#ab63fa",
          "dash": "solid"
         },
         "marker": {
          "symbol": "circle"
         },
         "mode": "lines",
         "name": "Green Guardians",
         "orientation": "v",
         "showlegend": false,
         "type": "scatter",
         "x": {
          "bdata": "CwAAAA==",
          "dtype": "i4"
         },
         "xaxis": "x7",
         "y": {
          "bdata": "Ag==",
          "dtype": "i1"
         },
         "yaxis": "y7"
        },
        {
         "hovertemplate": "source=Green Guardians<br>date=2040-10-09<br>Hour of Day=%{x}<br>Number of Communications=%{y}<extra></extra>",
         "legendgroup": "Green Guardians",
         "line": {
          "color": "#ab63fa",
          "dash": "solid"
         },
         "marker": {
          "symbol": "circle"
         },
         "mode": "lines",
         "name": "Green Guardians",
         "orientation": "v",
         "showlegend": false,
         "type": "scatter",
         "x": {
          "bdata": "CgAAAA==",
          "dtype": "i4"
         },
         "xaxis": "x6",
         "y": {
          "bdata": "Aw==",
          "dtype": "i1"
         },
         "yaxis": "y6"
        },
        {
         "hovertemplate": "source=Green Guardians<br>date=2040-10-10<br>Hour of Day=%{x}<br>Number of Communications=%{y}<extra></extra>",
         "legendgroup": "Green Guardians",
         "line": {
          "color": "#ab63fa",
          "dash": "solid"
         },
         "marker": {
          "symbol": "circle"
         },
         "mode": "lines",
         "name": "Green Guardians",
         "orientation": "v",
         "showlegend": false,
         "type": "scatter",
         "x": {
          "bdata": "CQAAAAsAAAA=",
          "dtype": "i4"
         },
         "xaxis": "x5",
         "y": {
          "bdata": "AQE=",
          "dtype": "i1"
         },
         "yaxis": "y5"
        },
        {
         "hovertemplate": "source=Green Guardians<br>date=2040-10-11<br>Hour of Day=%{x}<br>Number of Communications=%{y}<extra></extra>",
         "legendgroup": "Green Guardians",
         "line": {
          "color": "#ab63fa",
          "dash": "solid"
         },
         "marker": {
          "symbol": "circle"
         },
         "mode": "lines",
         "name": "Green Guardians",
         "orientation": "v",
         "showlegend": false,
         "type": "scatter",
         "x": {
          "bdata": "CgAAAA==",
          "dtype": "i4"
         },
         "xaxis": "x4",
         "y": {
          "bdata": "Ag==",
          "dtype": "i1"
         },
         "yaxis": "y4"
        },
        {
         "hovertemplate": "source=Green Guardians<br>date=2040-10-12<br>Hour of Day=%{x}<br>Number of Communications=%{y}<extra></extra>",
         "legendgroup": "Green Guardians",
         "line": {
          "color": "#ab63fa",
          "dash": "solid"
         },
         "marker": {
          "symbol": "circle"
         },
         "mode": "lines",
         "name": "Green Guardians",
         "orientation": "v",
         "showlegend": false,
         "type": "scatter",
         "x": {
          "bdata": "CgAAAAsAAAA=",
          "dtype": "i4"
         },
         "xaxis": "x3",
         "y": {
          "bdata": "AwE=",
          "dtype": "i1"
         },
         "yaxis": "y3"
        },
        {
         "hovertemplate": "source=Green Guardians<br>date=2040-10-13<br>Hour of Day=%{x}<br>Number of Communications=%{y}<extra></extra>",
         "legendgroup": "Green Guardians",
         "line": {
          "color": "#ab63fa",
          "dash": "solid"
         },
         "marker": {
          "symbol": "circle"
         },
         "mode": "lines",
         "name": "Green Guardians",
         "orientation": "v",
         "showlegend": false,
         "type": "scatter",
         "x": {
          "bdata": "DAAAAA==",
          "dtype": "i4"
         },
         "xaxis": "x2",
         "y": {
          "bdata": "BA==",
          "dtype": "i1"
         },
         "yaxis": "y2"
        },
        {
         "hovertemplate": "source=Green Guardians<br>date=2040-10-14<br>Hour of Day=%{x}<br>Number of Communications=%{y}<extra></extra>",
         "legendgroup": "Green Guardians",
         "line": {
          "color": "#ab63fa",
          "dash": "solid"
         },
         "marker": {
          "symbol": "circle"
         },
         "mode": "lines",
         "name": "Green Guardians",
         "orientation": "v",
         "showlegend": false,
         "type": "scatter",
         "x": {
          "bdata": "CgAAAAwAAAA=",
          "dtype": "i4"
         },
         "xaxis": "x",
         "y": {
          "bdata": "AQE=",
          "dtype": "i1"
         },
         "yaxis": "y"
        },
        {
         "hovertemplate": "source=Himark Harbor<br>date=2040-10-01<br>Hour of Day=%{x}<br>Number of Communications=%{y}<extra></extra>",
         "legendgroup": "Himark Harbor",
         "line": {
          "color": "#FFA15A",
          "dash": "solid"
         },
         "marker": {
          "symbol": "circle"
         },
         "mode": "lines",
         "name": "Himark Harbor",
         "orientation": "v",
         "showlegend": true,
         "type": "scatter",
         "x": {
          "bdata": "CAAAAAkAAAALAAAA",
          "dtype": "i4"
         },
         "xaxis": "x14",
         "y": {
          "bdata": "AQEB",
          "dtype": "i1"
         },
         "yaxis": "y14"
        },
        {
         "hovertemplate": "source=Himark Harbor<br>date=2040-10-02<br>Hour of Day=%{x}<br>Number of Communications=%{y}<extra></extra>",
         "legendgroup": "Himark Harbor",
         "line": {
          "color": "#FFA15A",
          "dash": "solid"
         },
         "marker": {
          "symbol": "circle"
         },
         "mode": "lines",
         "name": "Himark Harbor",
         "orientation": "v",
         "showlegend": false,
         "type": "scatter",
         "x": {
          "bdata": "CAAAAAsAAAAMAAAA",
          "dtype": "i4"
         },
         "xaxis": "x13",
         "y": {
          "bdata": "AQEB",
          "dtype": "i1"
         },
         "yaxis": "y13"
        },
        {
         "hovertemplate": "source=Himark Harbor<br>date=2040-10-03<br>Hour of Day=%{x}<br>Number of Communications=%{y}<extra></extra>",
         "legendgroup": "Himark Harbor",
         "line": {
          "color": "#FFA15A",
          "dash": "solid"
         },
         "marker": {
          "symbol": "circle"
         },
         "mode": "lines",
         "name": "Himark Harbor",
         "orientation": "v",
         "showlegend": false,
         "type": "scatter",
         "x": {
          "bdata": "CQAAAA==",
          "dtype": "i4"
         },
         "xaxis": "x12",
         "y": {
          "bdata": "AQ==",
          "dtype": "i1"
         },
         "yaxis": "y12"
        },
        {
         "hovertemplate": "source=Himark Harbor<br>date=2040-10-04<br>Hour of Day=%{x}<br>Number of Communications=%{y}<extra></extra>",
         "legendgroup": "Himark Harbor",
         "line": {
          "color": "#FFA15A",
          "dash": "solid"
         },
         "marker": {
          "symbol": "circle"
         },
         "mode": "lines",
         "name": "Himark Harbor",
         "orientation": "v",
         "showlegend": false,
         "type": "scatter",
         "x": {
          "bdata": "DQAAAA==",
          "dtype": "i4"
         },
         "xaxis": "x11",
         "y": {
          "bdata": "Ag==",
          "dtype": "i1"
         },
         "yaxis": "y11"
        },
        {
         "hovertemplate": "source=Himark Harbor<br>date=2040-10-05<br>Hour of Day=%{x}<br>Number of Communications=%{y}<extra></extra>",
         "legendgroup": "Himark Harbor",
         "line": {
          "color": "#FFA15A",
          "dash": "solid"
         },
         "marker": {
          "symbol": "circle"
         },
         "mode": "lines",
         "name": "Himark Harbor",
         "orientation": "v",
         "showlegend": false,
         "type": "scatter",
         "x": {
          "bdata": "CAAAAAkAAAAKAAAA",
          "dtype": "i4"
         },
         "xaxis": "x10",
         "y": {
          "bdata": "AQEB",
          "dtype": "i1"
         },
         "yaxis": "y10"
        },
        {
         "hovertemplate": "source=Himark Harbor<br>date=2040-10-06<br>Hour of Day=%{x}<br>Number of Communications=%{y}<extra></extra>",
         "legendgroup": "Himark Harbor",
         "line": {
          "color": "#FFA15A",
          "dash": "solid"
         },
         "marker": {
          "symbol": "circle"
         },
         "mode": "lines",
         "name": "Himark Harbor",
         "orientation": "v",
         "showlegend": false,
         "type": "scatter",
         "x": {
          "bdata": "CgAAAA==",
          "dtype": "i4"
         },
         "xaxis": "x9",
         "y": {
          "bdata": "Ag==",
          "dtype": "i1"
         },
         "yaxis": "y9"
        },
        {
         "hovertemplate": "source=Himark Harbor<br>date=2040-10-07<br>Hour of Day=%{x}<br>Number of Communications=%{y}<extra></extra>",
         "legendgroup": "Himark Harbor",
         "line": {
          "color": "#FFA15A",
          "dash": "solid"
         },
         "marker": {
          "symbol": "circle"
         },
         "mode": "lines",
         "name": "Himark Harbor",
         "orientation": "v",
         "showlegend": false,
         "type": "scatter",
         "x": {
          "bdata": "CQAAAAsAAAA=",
          "dtype": "i4"
         },
         "xaxis": "x8",
         "y": {
          "bdata": "AgE=",
          "dtype": "i1"
         },
         "yaxis": "y8"
        },
        {
         "hovertemplate": "source=Himark Harbor<br>date=2040-10-08<br>Hour of Day=%{x}<br>Number of Communications=%{y}<extra></extra>",
         "legendgroup": "Himark Harbor",
         "line": {
          "color": "#FFA15A",
          "dash": "solid"
         },
         "marker": {
          "symbol": "circle"
         },
         "mode": "lines",
         "name": "Himark Harbor",
         "orientation": "v",
         "showlegend": false,
         "type": "scatter",
         "x": {
          "bdata": "CwAAAA==",
          "dtype": "i4"
         },
         "xaxis": "x7",
         "y": {
          "bdata": "AQ==",
          "dtype": "i1"
         },
         "yaxis": "y7"
        },
        {
         "hovertemplate": "source=Himark Harbor<br>date=2040-10-09<br>Hour of Day=%{x}<br>Number of Communications=%{y}<extra></extra>",
         "legendgroup": "Himark Harbor",
         "line": {
          "color": "#FFA15A",
          "dash": "solid"
         },
         "marker": {
          "symbol": "circle"
         },
         "mode": "lines",
         "name": "Himark Harbor",
         "orientation": "v",
         "showlegend": false,
         "type": "scatter",
         "x": {
          "bdata": "CgAAAAsAAAAMAAAA",
          "dtype": "i4"
         },
         "xaxis": "x6",
         "y": {
          "bdata": "AQEC",
          "dtype": "i1"
         },
         "yaxis": "y6"
        },
        {
         "hovertemplate": "source=Himark Harbor<br>date=2040-10-10<br>Hour of Day=%{x}<br>Number of Communications=%{y}<extra></extra>",
         "legendgroup": "Himark Harbor",
         "line": {
          "color": "#FFA15A",
          "dash": "solid"
         },
         "marker": {
          "symbol": "circle"
         },
         "mode": "lines",
         "name": "Himark Harbor",
         "orientation": "v",
         "showlegend": false,
         "type": "scatter",
         "x": {
          "bdata": "DAAAAA==",
          "dtype": "i4"
         },
         "xaxis": "x5",
         "y": {
          "bdata": "AQ==",
          "dtype": "i1"
         },
         "yaxis": "y5"
        },
        {
         "hovertemplate": "source=Himark Harbor<br>date=2040-10-11<br>Hour of Day=%{x}<br>Number of Communications=%{y}<extra></extra>",
         "legendgroup": "Himark Harbor",
         "line": {
          "color": "#FFA15A",
          "dash": "solid"
         },
         "marker": {
          "symbol": "circle"
         },
         "mode": "lines",
         "name": "Himark Harbor",
         "orientation": "v",
         "showlegend": false,
         "type": "scatter",
         "x": {
          "bdata": "CgAAAA==",
          "dtype": "i4"
         },
         "xaxis": "x4",
         "y": {
          "bdata": "Ag==",
          "dtype": "i1"
         },
         "yaxis": "y4"
        },
        {
         "hovertemplate": "source=Himark Harbor<br>date=2040-10-13<br>Hour of Day=%{x}<br>Number of Communications=%{y}<extra></extra>",
         "legendgroup": "Himark Harbor",
         "line": {
          "color": "#FFA15A",
          "dash": "solid"
         },
         "marker": {
          "symbol": "circle"
         },
         "mode": "lines",
         "name": "Himark Harbor",
         "orientation": "v",
         "showlegend": false,
         "type": "scatter",
         "x": {
          "bdata": "CwAAAA==",
          "dtype": "i4"
         },
         "xaxis": "x2",
         "y": {
          "bdata": "AQ==",
          "dtype": "i1"
         },
         "yaxis": "y2"
        },
        {
         "hovertemplate": "source=Himark Harbor<br>date=2040-10-14<br>Hour of Day=%{x}<br>Number of Communications=%{y}<extra></extra>",
         "legendgroup": "Himark Harbor",
         "line": {
          "color": "#FFA15A",
          "dash": "solid"
         },
         "marker": {
          "symbol": "circle"
         },
         "mode": "lines",
         "name": "Himark Harbor",
         "orientation": "v",
         "showlegend": false,
         "type": "scatter",
         "x": {
          "bdata": "DAAAAA==",
          "dtype": "i4"
         },
         "xaxis": "x",
         "y": {
          "bdata": "AQ==",
          "dtype": "i1"
         },
         "yaxis": "y"
        },
        {
         "hovertemplate": "source=Horizon<br>date=2040-10-01<br>Hour of Day=%{x}<br>Number of Communications=%{y}<extra></extra>",
         "legendgroup": "Horizon",
         "line": {
          "color": "#19d3f3",
          "dash": "solid"
         },
         "marker": {
          "symbol": "circle"
         },
         "mode": "lines",
         "name": "Horizon",
         "orientation": "v",
         "showlegend": true,
         "type": "scatter",
         "x": {
          "bdata": "DAAAAA==",
          "dtype": "i4"
         },
         "xaxis": "x14",
         "y": {
          "bdata": "AQ==",
          "dtype": "i1"
         },
         "yaxis": "y14"
        },
        {
         "hovertemplate": "source=Horizon<br>date=2040-10-02<br>Hour of Day=%{x}<br>Number of Communications=%{y}<extra></extra>",
         "legendgroup": "Horizon",
         "line": {
          "color": "#19d3f3",
          "dash": "solid"
         },
         "marker": {
          "symbol": "circle"
         },
         "mode": "lines",
         "name": "Horizon",
         "orientation": "v",
         "showlegend": false,
         "type": "scatter",
         "x": {
          "bdata": "CgAAAA==",
          "dtype": "i4"
         },
         "xaxis": "x13",
         "y": {
          "bdata": "Ag==",
          "dtype": "i1"
         },
         "yaxis": "y13"
        },
        {
         "hovertemplate": "source=Horizon<br>date=2040-10-03<br>Hour of Day=%{x}<br>Number of Communications=%{y}<extra></extra>",
         "legendgroup": "Horizon",
         "line": {
          "color": "#19d3f3",
          "dash": "solid"
         },
         "marker": {
          "symbol": "circle"
         },
         "mode": "lines",
         "name": "Horizon",
         "orientation": "v",
         "showlegend": false,
         "type": "scatter",
         "x": {
          "bdata": "CgAAAA==",
          "dtype": "i4"
         },
         "xaxis": "x12",
         "y": {
          "bdata": "AQ==",
          "dtype": "i1"
         },
         "yaxis": "y12"
        },
        {
         "hovertemplate": "source=Horizon<br>date=2040-10-05<br>Hour of Day=%{x}<br>Number of Communications=%{y}<extra></extra>",
         "legendgroup": "Horizon",
         "line": {
          "color": "#19d3f3",
          "dash": "solid"
         },
         "marker": {
          "symbol": "circle"
         },
         "mode": "lines",
         "name": "Horizon",
         "orientation": "v",
         "showlegend": false,
         "type": "scatter",
         "x": {
          "bdata": "CAAAAA==",
          "dtype": "i4"
         },
         "xaxis": "x10",
         "y": {
          "bdata": "AQ==",
          "dtype": "i1"
         },
         "yaxis": "y10"
        },
        {
         "hovertemplate": "source=Horizon<br>date=2040-10-06<br>Hour of Day=%{x}<br>Number of Communications=%{y}<extra></extra>",
         "legendgroup": "Horizon",
         "line": {
          "color": "#19d3f3",
          "dash": "solid"
         },
         "marker": {
          "symbol": "circle"
         },
         "mode": "lines",
         "name": "Horizon",
         "orientation": "v",
         "showlegend": false,
         "type": "scatter",
         "x": {
          "bdata": "DAAAAA0AAAA=",
          "dtype": "i4"
         },
         "xaxis": "x9",
         "y": {
          "bdata": "AQE=",
          "dtype": "i1"
         },
         "yaxis": "y9"
        },
        {
         "hovertemplate": "source=Horizon<br>date=2040-10-08<br>Hour of Day=%{x}<br>Number of Communications=%{y}<extra></extra>",
         "legendgroup": "Horizon",
         "line": {
          "color": "#19d3f3",
          "dash": "solid"
         },
         "marker": {
          "symbol": "circle"
         },
         "mode": "lines",
         "name": "Horizon",
         "orientation": "v",
         "showlegend": false,
         "type": "scatter",
         "x": {
          "bdata": "CwAAAA==",
          "dtype": "i4"
         },
         "xaxis": "x7",
         "y": {
          "bdata": "Ag==",
          "dtype": "i1"
         },
         "yaxis": "y7"
        },
        {
         "hovertemplate": "source=Horizon<br>date=2040-10-12<br>Hour of Day=%{x}<br>Number of Communications=%{y}<extra></extra>",
         "legendgroup": "Horizon",
         "line": {
          "color": "#19d3f3",
          "dash": "solid"
         },
         "marker": {
          "symbol": "circle"
         },
         "mode": "lines",
         "name": "Horizon",
         "orientation": "v",
         "showlegend": false,
         "type": "scatter",
         "x": {
          "bdata": "CwAAAA==",
          "dtype": "i4"
         },
         "xaxis": "x3",
         "y": {
          "bdata": "AQ==",
          "dtype": "i1"
         },
         "yaxis": "y3"
        },
        {
         "hovertemplate": "source=Horizon<br>date=2040-10-13<br>Hour of Day=%{x}<br>Number of Communications=%{y}<extra></extra>",
         "legendgroup": "Horizon",
         "line": {
          "color": "#19d3f3",
          "dash": "solid"
         },
         "marker": {
          "symbol": "circle"
         },
         "mode": "lines",
         "name": "Horizon",
         "orientation": "v",
         "showlegend": false,
         "type": "scatter",
         "x": {
          "bdata": "CQAAAA==",
          "dtype": "i4"
         },
         "xaxis": "x2",
         "y": {
          "bdata": "Ag==",
          "dtype": "i1"
         },
         "yaxis": "y2"
        },
        {
         "hovertemplate": "source=Horizon<br>date=2040-10-14<br>Hour of Day=%{x}<br>Number of Communications=%{y}<extra></extra>",
         "legendgroup": "Horizon",
         "line": {
          "color": "#19d3f3",
          "dash": "solid"
         },
         "marker": {
          "symbol": "circle"
         },
         "mode": "lines",
         "name": "Horizon",
         "orientation": "v",
         "showlegend": false,
         "type": "scatter",
         "x": {
          "bdata": "CQAAAAsAAAA=",
          "dtype": "i4"
         },
         "xaxis": "x",
         "y": {
          "bdata": "AQE=",
          "dtype": "i1"
         },
         "yaxis": "y"
        },
        {
         "hovertemplate": "source=Kelly<br>date=2040-10-01<br>Hour of Day=%{x}<br>Number of Communications=%{y}<extra></extra>",
         "legendgroup": "Kelly",
         "line": {
          "color": "#FF6692",
          "dash": "solid"
         },
         "marker": {
          "symbol": "circle"
         },
         "mode": "lines",
         "name": "Kelly",
         "orientation": "v",
         "showlegend": true,
         "type": "scatter",
         "x": {
          "bdata": "CAAAAA==",
          "dtype": "i4"
         },
         "xaxis": "x14",
         "y": {
          "bdata": "AQ==",
          "dtype": "i1"
         },
         "yaxis": "y14"
        },
        {
         "hovertemplate": "source=Kelly<br>date=2040-10-07<br>Hour of Day=%{x}<br>Number of Communications=%{y}<extra></extra>",
         "legendgroup": "Kelly",
         "line": {
          "color": "#FF6692",
          "dash": "solid"
         },
         "marker": {
          "symbol": "circle"
         },
         "mode": "lines",
         "name": "Kelly",
         "orientation": "v",
         "showlegend": false,
         "type": "scatter",
         "x": {
          "bdata": "CAAAAA==",
          "dtype": "i4"
         },
         "xaxis": "x8",
         "y": {
          "bdata": "AQ==",
          "dtype": "i1"
         },
         "yaxis": "y8"
        },
        {
         "hovertemplate": "source=Liam Thorne<br>date=2040-10-01<br>Hour of Day=%{x}<br>Number of Communications=%{y}<extra></extra>",
         "legendgroup": "Liam Thorne",
         "line": {
          "color": "#B6E880",
          "dash": "solid"
         },
         "marker": {
          "symbol": "circle"
         },
         "mode": "lines",
         "name": "Liam Thorne",
         "orientation": "v",
         "showlegend": true,
         "type": "scatter",
         "x": {
          "bdata": "CgAAAA==",
          "dtype": "i4"
         },
         "xaxis": "x14",
         "y": {
          "bdata": "AQ==",
          "dtype": "i1"
         },
         "yaxis": "y14"
        },
        {
         "hovertemplate": "source=Liam Thorne<br>date=2040-10-05<br>Hour of Day=%{x}<br>Number of Communications=%{y}<extra></extra>",
         "legendgroup": "Liam Thorne",
         "line": {
          "color": "#B6E880",
          "dash": "solid"
         },
         "marker": {
          "symbol": "circle"
         },
         "mode": "lines",
         "name": "Liam Thorne",
         "orientation": "v",
         "showlegend": false,
         "type": "scatter",
         "x": {
          "bdata": "CQAAAA==",
          "dtype": "i4"
         },
         "xaxis": "x10",
         "y": {
          "bdata": "AQ==",
          "dtype": "i1"
         },
         "yaxis": "y10"
        },
        {
         "hovertemplate": "source=Liam Thorne<br>date=2040-10-08<br>Hour of Day=%{x}<br>Number of Communications=%{y}<extra></extra>",
         "legendgroup": "Liam Thorne",
         "line": {
          "color": "#B6E880",
          "dash": "solid"
         },
         "marker": {
          "symbol": "circle"
         },
         "mode": "lines",
         "name": "Liam Thorne",
         "orientation": "v",
         "showlegend": false,
         "type": "scatter",
         "x": {
          "bdata": "CAAAAA==",
          "dtype": "i4"
         },
         "xaxis": "x7",
         "y": {
          "bdata": "Ag==",
          "dtype": "i1"
         },
         "yaxis": "y7"
        },
        {
         "hovertemplate": "source=Liam Thorne<br>date=2040-10-11<br>Hour of Day=%{x}<br>Number of Communications=%{y}<extra></extra>",
         "legendgroup": "Liam Thorne",
         "line": {
          "color": "#B6E880",
          "dash": "solid"
         },
         "marker": {
          "symbol": "circle"
         },
         "mode": "lines",
         "name": "Liam Thorne",
         "orientation": "v",
         "showlegend": false,
         "type": "scatter",
         "x": {
          "bdata": "CAAAAAkAAAA=",
          "dtype": "i4"
         },
         "xaxis": "x4",
         "y": {
          "bdata": "AQM=",
          "dtype": "i1"
         },
         "yaxis": "y4"
        },
        {
         "hovertemplate": "source=Liam Thorne<br>date=2040-10-13<br>Hour of Day=%{x}<br>Number of Communications=%{y}<extra></extra>",
         "legendgroup": "Liam Thorne",
         "line": {
          "color": "#B6E880",
          "dash": "solid"
         },
         "marker": {
          "symbol": "circle"
         },
         "mode": "lines",
         "name": "Liam Thorne",
         "orientation": "v",
         "showlegend": false,
         "type": "scatter",
         "x": {
          "bdata": "CQAAAA0AAAA=",
          "dtype": "i4"
         },
         "xaxis": "x2",
         "y": {
          "bdata": "AQE=",
          "dtype": "i1"
         },
         "yaxis": "y2"
        },
        {
         "hovertemplate": "source=Liam Thorne<br>date=2040-10-14<br>Hour of Day=%{x}<br>Number of Communications=%{y}<extra></extra>",
         "legendgroup": "Liam Thorne",
         "line": {
          "color": "#B6E880",
          "dash": "solid"
         },
         "marker": {
          "symbol": "circle"
         },
         "mode": "lines",
         "name": "Liam Thorne",
         "orientation": "v",
         "showlegend": false,
         "type": "scatter",
         "x": {
          "bdata": "CQAAAA==",
          "dtype": "i4"
         },
         "xaxis": "x",
         "y": {
          "bdata": "AQ==",
          "dtype": "i1"
         },
         "yaxis": "y"
        },
        {
         "hovertemplate": "source=Mako<br>date=2040-10-01<br>Hour of Day=%{x}<br>Number of Communications=%{y}<extra></extra>",
         "legendgroup": "Mako",
         "line": {
          "color": "#FF97FF",
          "dash": "solid"
         },
         "marker": {
          "symbol": "circle"
         },
         "mode": "lines",
         "name": "Mako",
         "orientation": "v",
         "showlegend": true,
         "type": "scatter",
         "x": {
          "bdata": "CAAAAAsAAAA=",
          "dtype": "i4"
         },
         "xaxis": "x14",
         "y": {
          "bdata": "AQE=",
          "dtype": "i1"
         },
         "yaxis": "y14"
        },
        {
         "hovertemplate": "source=Mako<br>date=2040-10-02<br>Hour of Day=%{x}<br>Number of Communications=%{y}<extra></extra>",
         "legendgroup": "Mako",
         "line": {
          "color": "#FF97FF",
          "dash": "solid"
         },
         "marker": {
          "symbol": "circle"
         },
         "mode": "lines",
         "name": "Mako",
         "orientation": "v",
         "showlegend": false,
         "type": "scatter",
         "x": {
          "bdata": "CAAAAAsAAAAMAAAA",
          "dtype": "i4"
         },
         "xaxis": "x13",
         "y": {
          "bdata": "AQED",
          "dtype": "i1"
         },
         "yaxis": "y13"
        },
        {
         "hovertemplate": "source=Mako<br>date=2040-10-04<br>Hour of Day=%{x}<br>Number of Communications=%{y}<extra></extra>",
         "legendgroup": "Mako",
         "line": {
          "color": "#FF97FF",
          "dash": "solid"
         },
         "marker": {
          "symbol": "circle"
         },
         "mode": "lines",
         "name": "Mako",
         "orientation": "v",
         "showlegend": false,
         "type": "scatter",
         "x": {
          "bdata": "CAAAAAkAAAANAAAA",
          "dtype": "i4"
         },
         "xaxis": "x11",
         "y": {
          "bdata": "AQEB",
          "dtype": "i1"
         },
         "yaxis": "y11"
        },
        {
         "hovertemplate": "source=Mako<br>date=2040-10-05<br>Hour of Day=%{x}<br>Number of Communications=%{y}<extra></extra>",
         "legendgroup": "Mako",
         "line": {
          "color": "#FF97FF",
          "dash": "solid"
         },
         "marker": {
          "symbol": "circle"
         },
         "mode": "lines",
         "name": "Mako",
         "orientation": "v",
         "showlegend": false,
         "type": "scatter",
         "x": {
          "bdata": "CgAAAA==",
          "dtype": "i4"
         },
         "xaxis": "x10",
         "y": {
          "bdata": "Ag==",
          "dtype": "i1"
         },
         "yaxis": "y10"
        },
        {
         "hovertemplate": "source=Mako<br>date=2040-10-06<br>Hour of Day=%{x}<br>Number of Communications=%{y}<extra></extra>",
         "legendgroup": "Mako",
         "line": {
          "color": "#FF97FF",
          "dash": "solid"
         },
         "marker": {
          "symbol": "circle"
         },
         "mode": "lines",
         "name": "Mako",
         "orientation": "v",
         "showlegend": false,
         "type": "scatter",
         "x": {
          "bdata": "CQAAAAoAAAALAAAA",
          "dtype": "i4"
         },
         "xaxis": "x9",
         "y": {
          "bdata": "AgEB",
          "dtype": "i1"
         },
         "yaxis": "y9"
        },
        {
         "hovertemplate": "source=Mako<br>date=2040-10-07<br>Hour of Day=%{x}<br>Number of Communications=%{y}<extra></extra>",
         "legendgroup": "Mako",
         "line": {
          "color": "#FF97FF",
          "dash": "solid"
         },
         "marker": {
          "symbol": "circle"
         },
         "mode": "lines",
         "name": "Mako",
         "orientation": "v",
         "showlegend": false,
         "type": "scatter",
         "x": {
          "bdata": "CQAAAAsAAAA=",
          "dtype": "i4"
         },
         "xaxis": "x8",
         "y": {
          "bdata": "AwE=",
          "dtype": "i1"
         },
         "yaxis": "y8"
        },
        {
         "hovertemplate": "source=Mako<br>date=2040-10-08<br>Hour of Day=%{x}<br>Number of Communications=%{y}<extra></extra>",
         "legendgroup": "Mako",
         "line": {
          "color": "#FF97FF",
          "dash": "solid"
         },
         "marker": {
          "symbol": "circle"
         },
         "mode": "lines",
         "name": "Mako",
         "orientation": "v",
         "showlegend": false,
         "type": "scatter",
         "x": {
          "bdata": "CgAAAAsAAAA=",
          "dtype": "i4"
         },
         "xaxis": "x7",
         "y": {
          "bdata": "AwE=",
          "dtype": "i1"
         },
         "yaxis": "y7"
        },
        {
         "hovertemplate": "source=Mako<br>date=2040-10-10<br>Hour of Day=%{x}<br>Number of Communications=%{y}<extra></extra>",
         "legendgroup": "Mako",
         "line": {
          "color": "#FF97FF",
          "dash": "solid"
         },
         "marker": {
          "symbol": "circle"
         },
         "mode": "lines",
         "name": "Mako",
         "orientation": "v",
         "showlegend": false,
         "type": "scatter",
         "x": {
          "bdata": "CQAAAAsAAAA=",
          "dtype": "i4"
         },
         "xaxis": "x5",
         "y": {
          "bdata": "AwE=",
          "dtype": "i1"
         },
         "yaxis": "y5"
        },
        {
         "hovertemplate": "source=Mako<br>date=2040-10-11<br>Hour of Day=%{x}<br>Number of Communications=%{y}<extra></extra>",
         "legendgroup": "Mako",
         "line": {
          "color": "#FF97FF",
          "dash": "solid"
         },
         "marker": {
          "symbol": "circle"
         },
         "mode": "lines",
         "name": "Mako",
         "orientation": "v",
         "showlegend": false,
         "type": "scatter",
         "x": {
          "bdata": "CQAAAA==",
          "dtype": "i4"
         },
         "xaxis": "x4",
         "y": {
          "bdata": "Ag==",
          "dtype": "i1"
         },
         "yaxis": "y4"
        },
        {
         "hovertemplate": "source=Mako<br>date=2040-10-12<br>Hour of Day=%{x}<br>Number of Communications=%{y}<extra></extra>",
         "legendgroup": "Mako",
         "line": {
          "color": "#FF97FF",
          "dash": "solid"
         },
         "marker": {
          "symbol": "circle"
         },
         "mode": "lines",
         "name": "Mako",
         "orientation": "v",
         "showlegend": false,
         "type": "scatter",
         "x": {
          "bdata": "CQAAAA==",
          "dtype": "i4"
         },
         "xaxis": "x3",
         "y": {
          "bdata": "Ag==",
          "dtype": "i1"
         },
         "yaxis": "y3"
        },
        {
         "hovertemplate": "source=Mako<br>date=2040-10-13<br>Hour of Day=%{x}<br>Number of Communications=%{y}<extra></extra>",
         "legendgroup": "Mako",
         "line": {
          "color": "#FF97FF",
          "dash": "solid"
         },
         "marker": {
          "symbol": "circle"
         },
         "mode": "lines",
         "name": "Mako",
         "orientation": "v",
         "showlegend": false,
         "type": "scatter",
         "x": {
          "bdata": "DAAAAA==",
          "dtype": "i4"
         },
         "xaxis": "x2",
         "y": {
          "bdata": "Ag==",
          "dtype": "i1"
         },
         "yaxis": "y2"
        },
        {
         "hovertemplate": "source=Mako<br>date=2040-10-14<br>Hour of Day=%{x}<br>Number of Communications=%{y}<extra></extra>",
         "legendgroup": "Mako",
         "line": {
          "color": "#FF97FF",
          "dash": "solid"
         },
         "marker": {
          "symbol": "circle"
         },
         "mode": "lines",
         "name": "Mako",
         "orientation": "v",
         "showlegend": false,
         "type": "scatter",
         "x": {
          "bdata": "DAAAAA==",
          "dtype": "i4"
         },
         "xaxis": "x",
         "y": {
          "bdata": "AQ==",
          "dtype": "i1"
         },
         "yaxis": "y"
        },
        {
         "hovertemplate": "source=Marlin<br>date=2040-10-01<br>Hour of Day=%{x}<br>Number of Communications=%{y}<extra></extra>",
         "legendgroup": "Marlin",
         "line": {
          "color": "#FECB52",
          "dash": "solid"
         },
         "marker": {
          "symbol": "circle"
         },
         "mode": "lines",
         "name": "Marlin",
         "orientation": "v",
         "showlegend": true,
         "type": "scatter",
         "x": {
          "bdata": "CwAAAA==",
          "dtype": "i4"
         },
         "xaxis": "x14",
         "y": {
          "bdata": "Ag==",
          "dtype": "i1"
         },
         "yaxis": "y14"
        },
        {
         "hovertemplate": "source=Marlin<br>date=2040-10-02<br>Hour of Day=%{x}<br>Number of Communications=%{y}<extra></extra>",
         "legendgroup": "Marlin",
         "line": {
          "color": "#FECB52",
          "dash": "solid"
         },
         "marker": {
          "symbol": "circle"
         },
         "mode": "lines",
         "name": "Marlin",
         "orientation": "v",
         "showlegend": false,
         "type": "scatter",
         "x": {
          "bdata": "DAAAAA==",
          "dtype": "i4"
         },
         "xaxis": "x13",
         "y": {
          "bdata": "Ag==",
          "dtype": "i1"
         },
         "yaxis": "y13"
        },
        {
         "hovertemplate": "source=Marlin<br>date=2040-10-04<br>Hour of Day=%{x}<br>Number of Communications=%{y}<extra></extra>",
         "legendgroup": "Marlin",
         "line": {
          "color": "#FECB52",
          "dash": "solid"
         },
         "marker": {
          "symbol": "circle"
         },
         "mode": "lines",
         "name": "Marlin",
         "orientation": "v",
         "showlegend": false,
         "type": "scatter",
         "x": {
          "bdata": "CwAAAA==",
          "dtype": "i4"
         },
         "xaxis": "x11",
         "y": {
          "bdata": "Ag==",
          "dtype": "i1"
         },
         "yaxis": "y11"
        },
        {
         "hovertemplate": "source=Marlin<br>date=2040-10-08<br>Hour of Day=%{x}<br>Number of Communications=%{y}<extra></extra>",
         "legendgroup": "Marlin",
         "line": {
          "color": "#FECB52",
          "dash": "solid"
         },
         "marker": {
          "symbol": "circle"
         },
         "mode": "lines",
         "name": "Marlin",
         "orientation": "v",
         "showlegend": false,
         "type": "scatter",
         "x": {
          "bdata": "CwAAAA==",
          "dtype": "i4"
         },
         "xaxis": "x7",
         "y": {
          "bdata": "AQ==",
          "dtype": "i1"
         },
         "yaxis": "y7"
        },
        {
         "hovertemplate": "source=Mrs. Money<br>date=2040-10-01<br>Hour of Day=%{x}<br>Number of Communications=%{y}<extra></extra>",
         "legendgroup": "Mrs. Money",
         "line": {
          "color": "#636efa",
          "dash": "solid"
         },
         "marker": {
          "symbol": "circle"
         },
         "mode": "lines",
         "name": "Mrs. Money",
         "orientation": "v",
         "showlegend": true,
         "type": "scatter",
         "x": {
          "bdata": "CAAAAAkAAAA=",
          "dtype": "i4"
         },
         "xaxis": "x14",
         "y": {
          "bdata": "AgE=",
          "dtype": "i1"
         },
         "yaxis": "y14"
        },
        {
         "hovertemplate": "source=Mrs. Money<br>date=2040-10-02<br>Hour of Day=%{x}<br>Number of Communications=%{y}<extra></extra>",
         "legendgroup": "Mrs. Money",
         "line": {
          "color": "#636efa",
          "dash": "solid"
         },
         "marker": {
          "symbol": "circle"
         },
         "mode": "lines",
         "name": "Mrs. Money",
         "orientation": "v",
         "showlegend": false,
         "type": "scatter",
         "x": {
          "bdata": "CAAAAAsAAAA=",
          "dtype": "i4"
         },
         "xaxis": "x13",
         "y": {
          "bdata": "AgE=",
          "dtype": "i1"
         },
         "yaxis": "y13"
        },
        {
         "hovertemplate": "source=Mrs. Money<br>date=2040-10-03<br>Hour of Day=%{x}<br>Number of Communications=%{y}<extra></extra>",
         "legendgroup": "Mrs. Money",
         "line": {
          "color": "#636efa",
          "dash": "solid"
         },
         "marker": {
          "symbol": "circle"
         },
         "mode": "lines",
         "name": "Mrs. Money",
         "orientation": "v",
         "showlegend": false,
         "type": "scatter",
         "x": {
          "bdata": "CAAAAA==",
          "dtype": "i4"
         },
         "xaxis": "x12",
         "y": {
          "bdata": "Ag==",
          "dtype": "i1"
         },
         "yaxis": "y12"
        },
        {
         "hovertemplate": "source=Mrs. Money<br>date=2040-10-04<br>Hour of Day=%{x}<br>Number of Communications=%{y}<extra></extra>",
         "legendgroup": "Mrs. Money",
         "line": {
          "color": "#636efa",
          "dash": "solid"
         },
         "marker": {
          "symbol": "circle"
         },
         "mode": "lines",
         "name": "Mrs. Money",
         "orientation": "v",
         "showlegend": false,
         "type": "scatter",
         "x": {
          "bdata": "CAAAAAoAAAA=",
          "dtype": "i4"
         },
         "xaxis": "x11",
         "y": {
          "bdata": "AgE=",
          "dtype": "i1"
         },
         "yaxis": "y11"
        },
        {
         "hovertemplate": "source=Mrs. Money<br>date=2040-10-05<br>Hour of Day=%{x}<br>Number of Communications=%{y}<extra></extra>",
         "legendgroup": "Mrs. Money",
         "line": {
          "color": "#636efa",
          "dash": "solid"
         },
         "marker": {
          "symbol": "circle"
         },
         "mode": "lines",
         "name": "Mrs. Money",
         "orientation": "v",
         "showlegend": false,
         "type": "scatter",
         "x": {
          "bdata": "CgAAAA==",
          "dtype": "i4"
         },
         "xaxis": "x10",
         "y": {
          "bdata": "Aw==",
          "dtype": "i1"
         },
         "yaxis": "y10"
        },
        {
         "hovertemplate": "source=Mrs. Money<br>date=2040-10-07<br>Hour of Day=%{x}<br>Number of Communications=%{y}<extra></extra>",
         "legendgroup": "Mrs. Money",
         "line": {
          "color": "#636efa",
          "dash": "solid"
         },
         "marker": {
          "symbol": "circle"
         },
         "mode": "lines",
         "name": "Mrs. Money",
         "orientation": "v",
         "showlegend": false,
         "type": "scatter",
         "x": {
          "bdata": "CQAAAA==",
          "dtype": "i4"
         },
         "xaxis": "x8",
         "y": {
          "bdata": "Ag==",
          "dtype": "i1"
         },
         "yaxis": "y8"
        },
        {
         "hovertemplate": "source=Mrs. Money<br>date=2040-10-08<br>Hour of Day=%{x}<br>Number of Communications=%{y}<extra></extra>",
         "legendgroup": "Mrs. Money",
         "line": {
          "color": "#636efa",
          "dash": "solid"
         },
         "marker": {
          "symbol": "circle"
         },
         "mode": "lines",
         "name": "Mrs. Money",
         "orientation": "v",
         "showlegend": false,
         "type": "scatter",
         "x": {
          "bdata": "CAAAAA==",
          "dtype": "i4"
         },
         "xaxis": "x7",
         "y": {
          "bdata": "AQ==",
          "dtype": "i1"
         },
         "yaxis": "y7"
        },
        {
         "hovertemplate": "source=Mrs. Money<br>date=2040-10-09<br>Hour of Day=%{x}<br>Number of Communications=%{y}<extra></extra>",
         "legendgroup": "Mrs. Money",
         "line": {
          "color": "#636efa",
          "dash": "solid"
         },
         "marker": {
          "symbol": "circle"
         },
         "mode": "lines",
         "name": "Mrs. Money",
         "orientation": "v",
         "showlegend": false,
         "type": "scatter",
         "x": {
          "bdata": "CAAAAA==",
          "dtype": "i4"
         },
         "xaxis": "x6",
         "y": {
          "bdata": "AQ==",
          "dtype": "i1"
         },
         "yaxis": "y6"
        },
        {
         "hovertemplate": "source=Mrs. Money<br>date=2040-10-11<br>Hour of Day=%{x}<br>Number of Communications=%{y}<extra></extra>",
         "legendgroup": "Mrs. Money",
         "line": {
          "color": "#636efa",
          "dash": "solid"
         },
         "marker": {
          "symbol": "circle"
         },
         "mode": "lines",
         "name": "Mrs. Money",
         "orientation": "v",
         "showlegend": false,
         "type": "scatter",
         "x": {
          "bdata": "CAAAAA==",
          "dtype": "i4"
         },
         "xaxis": "x4",
         "y": {
          "bdata": "AQ==",
          "dtype": "i1"
         },
         "yaxis": "y4"
        },
        {
         "hovertemplate": "source=Oceanus City Council<br>date=2040-10-01<br>Hour of Day=%{x}<br>Number of Communications=%{y}<extra></extra>",
         "legendgroup": "Oceanus City Council",
         "line": {
          "color": "#EF553B",
          "dash": "solid"
         },
         "marker": {
          "symbol": "circle"
         },
         "mode": "lines",
         "name": "Oceanus City Council",
         "orientation": "v",
         "showlegend": true,
         "type": "scatter",
         "x": {
          "bdata": "CgAAAAsAAAA=",
          "dtype": "i4"
         },
         "xaxis": "x14",
         "y": {
          "bdata": "AgE=",
          "dtype": "i1"
         },
         "yaxis": "y14"
        },
        {
         "hovertemplate": "source=Oceanus City Council<br>date=2040-10-02<br>Hour of Day=%{x}<br>Number of Communications=%{y}<extra></extra>",
         "legendgroup": "Oceanus City Council",
         "line": {
          "color": "#EF553B",
          "dash": "solid"
         },
         "marker": {
          "symbol": "circle"
         },
         "mode": "lines",
         "name": "Oceanus City Council",
         "orientation": "v",
         "showlegend": false,
         "type": "scatter",
         "x": {
          "bdata": "CAAAAAsAAAA=",
          "dtype": "i4"
         },
         "xaxis": "x13",
         "y": {
          "bdata": "AQE=",
          "dtype": "i1"
         },
         "yaxis": "y13"
        },
        {
         "hovertemplate": "source=Oceanus City Council<br>date=2040-10-03<br>Hour of Day=%{x}<br>Number of Communications=%{y}<extra></extra>",
         "legendgroup": "Oceanus City Council",
         "line": {
          "color": "#EF553B",
          "dash": "solid"
         },
         "marker": {
          "symbol": "circle"
         },
         "mode": "lines",
         "name": "Oceanus City Council",
         "orientation": "v",
         "showlegend": false,
         "type": "scatter",
         "x": {
          "bdata": "CAAAAAoAAAA=",
          "dtype": "i4"
         },
         "xaxis": "x12",
         "y": {
          "bdata": "AgM=",
          "dtype": "i1"
         },
         "yaxis": "y12"
        },
        {
         "hovertemplate": "source=Oceanus City Council<br>date=2040-10-04<br>Hour of Day=%{x}<br>Number of Communications=%{y}<extra></extra>",
         "legendgroup": "Oceanus City Council",
         "line": {
          "color": "#EF553B",
          "dash": "solid"
         },
         "marker": {
          "symbol": "circle"
         },
         "mode": "lines",
         "name": "Oceanus City Council",
         "orientation": "v",
         "showlegend": false,
         "type": "scatter",
         "x": {
          "bdata": "CwAAAA0AAAA=",
          "dtype": "i4"
         },
         "xaxis": "x11",
         "y": {
          "bdata": "AQI=",
          "dtype": "i1"
         },
         "yaxis": "y11"
        },
        {
         "hovertemplate": "source=Oceanus City Council<br>date=2040-10-05<br>Hour of Day=%{x}<br>Number of Communications=%{y}<extra></extra>",
         "legendgroup": "Oceanus City Council",
         "line": {
          "color": "#EF553B",
          "dash": "solid"
         },
         "marker": {
          "symbol": "circle"
         },
         "mode": "lines",
         "name": "Oceanus City Council",
         "orientation": "v",
         "showlegend": false,
         "type": "scatter",
         "x": {
          "bdata": "CAAAAAkAAAAKAAAADAAAAA==",
          "dtype": "i4"
         },
         "xaxis": "x10",
         "y": {
          "bdata": "AQMCAQ==",
          "dtype": "i1"
         },
         "yaxis": "y10"
        },
        {
         "hovertemplate": "source=Oceanus City Council<br>date=2040-10-06<br>Hour of Day=%{x}<br>Number of Communications=%{y}<extra></extra>",
         "legendgroup": "Oceanus City Council",
         "line": {
          "color": "#EF553B",
          "dash": "solid"
         },
         "marker": {
          "symbol": "circle"
         },
         "mode": "lines",
         "name": "Oceanus City Council",
         "orientation": "v",
         "showlegend": false,
         "type": "scatter",
         "x": {
          "bdata": "CgAAAA==",
          "dtype": "i4"
         },
         "xaxis": "x9",
         "y": {
          "bdata": "AQ==",
          "dtype": "i1"
         },
         "yaxis": "y9"
        },
        {
         "hovertemplate": "source=Oceanus City Council<br>date=2040-10-08<br>Hour of Day=%{x}<br>Number of Communications=%{y}<extra></extra>",
         "legendgroup": "Oceanus City Council",
         "line": {
          "color": "#EF553B",
          "dash": "solid"
         },
         "marker": {
          "symbol": "circle"
         },
         "mode": "lines",
         "name": "Oceanus City Council",
         "orientation": "v",
         "showlegend": false,
         "type": "scatter",
         "x": {
          "bdata": "CAAAAA==",
          "dtype": "i4"
         },
         "xaxis": "x7",
         "y": {
          "bdata": "AQ==",
          "dtype": "i1"
         },
         "yaxis": "y7"
        },
        {
         "hovertemplate": "source=Oceanus City Council<br>date=2040-10-09<br>Hour of Day=%{x}<br>Number of Communications=%{y}<extra></extra>",
         "legendgroup": "Oceanus City Council",
         "line": {
          "color": "#EF553B",
          "dash": "solid"
         },
         "marker": {
          "symbol": "circle"
         },
         "mode": "lines",
         "name": "Oceanus City Council",
         "orientation": "v",
         "showlegend": false,
         "type": "scatter",
         "x": {
          "bdata": "CQAAAAoAAAAMAAAA",
          "dtype": "i4"
         },
         "xaxis": "x6",
         "y": {
          "bdata": "AQIB",
          "dtype": "i1"
         },
         "yaxis": "y6"
        },
        {
         "hovertemplate": "source=Oceanus City Council<br>date=2040-10-10<br>Hour of Day=%{x}<br>Number of Communications=%{y}<extra></extra>",
         "legendgroup": "Oceanus City Council",
         "line": {
          "color": "#EF553B",
          "dash": "solid"
         },
         "marker": {
          "symbol": "circle"
         },
         "mode": "lines",
         "name": "Oceanus City Council",
         "orientation": "v",
         "showlegend": false,
         "type": "scatter",
         "x": {
          "bdata": "CgAAAAsAAAAMAAAA",
          "dtype": "i4"
         },
         "xaxis": "x5",
         "y": {
          "bdata": "AQEB",
          "dtype": "i1"
         },
         "yaxis": "y5"
        },
        {
         "hovertemplate": "source=Oceanus City Council<br>date=2040-10-11<br>Hour of Day=%{x}<br>Number of Communications=%{y}<extra></extra>",
         "legendgroup": "Oceanus City Council",
         "line": {
          "color": "#EF553B",
          "dash": "solid"
         },
         "marker": {
          "symbol": "circle"
         },
         "mode": "lines",
         "name": "Oceanus City Council",
         "orientation": "v",
         "showlegend": false,
         "type": "scatter",
         "x": {
          "bdata": "CQAAAAoAAAA=",
          "dtype": "i4"
         },
         "xaxis": "x4",
         "y": {
          "bdata": "AgE=",
          "dtype": "i1"
         },
         "yaxis": "y4"
        },
        {
         "hovertemplate": "source=Oceanus City Council<br>date=2040-10-13<br>Hour of Day=%{x}<br>Number of Communications=%{y}<extra></extra>",
         "legendgroup": "Oceanus City Council",
         "line": {
          "color": "#EF553B",
          "dash": "solid"
         },
         "marker": {
          "symbol": "circle"
         },
         "mode": "lines",
         "name": "Oceanus City Council",
         "orientation": "v",
         "showlegend": false,
         "type": "scatter",
         "x": {
          "bdata": "CQAAAAwAAAANAAAA",
          "dtype": "i4"
         },
         "xaxis": "x2",
         "y": {
          "bdata": "AQEC",
          "dtype": "i1"
         },
         "yaxis": "y2"
        },
        {
         "hovertemplate": "source=Oceanus City Council<br>date=2040-10-14<br>Hour of Day=%{x}<br>Number of Communications=%{y}<extra></extra>",
         "legendgroup": "Oceanus City Council",
         "line": {
          "color": "#EF553B",
          "dash": "solid"
         },
         "marker": {
          "symbol": "circle"
         },
         "mode": "lines",
         "name": "Oceanus City Council",
         "orientation": "v",
         "showlegend": false,
         "type": "scatter",
         "x": {
          "bdata": "DAAAAA==",
          "dtype": "i4"
         },
         "xaxis": "x",
         "y": {
          "bdata": "AQ==",
          "dtype": "i1"
         },
         "yaxis": "y"
        },
        {
         "hovertemplate": "source=Paackland Harbor<br>date=2040-10-01<br>Hour of Day=%{x}<br>Number of Communications=%{y}<extra></extra>",
         "legendgroup": "Paackland Harbor",
         "line": {
          "color": "#00cc96",
          "dash": "solid"
         },
         "marker": {
          "symbol": "circle"
         },
         "mode": "lines",
         "name": "Paackland Harbor",
         "orientation": "v",
         "showlegend": true,
         "type": "scatter",
         "x": {
          "bdata": "CgAAAAsAAAA=",
          "dtype": "i4"
         },
         "xaxis": "x14",
         "y": {
          "bdata": "AgE=",
          "dtype": "i1"
         },
         "yaxis": "y14"
        },
        {
         "hovertemplate": "source=Paackland Harbor<br>date=2040-10-02<br>Hour of Day=%{x}<br>Number of Communications=%{y}<extra></extra>",
         "legendgroup": "Paackland Harbor",
         "line": {
          "color": "#00cc96",
          "dash": "solid"
         },
         "marker": {
          "symbol": "circle"
         },
         "mode": "lines",
         "name": "Paackland Harbor",
         "orientation": "v",
         "showlegend": false,
         "type": "scatter",
         "x": {
          "bdata": "DAAAAA0AAAA=",
          "dtype": "i4"
         },
         "xaxis": "x13",
         "y": {
          "bdata": "AQE=",
          "dtype": "i1"
         },
         "yaxis": "y13"
        },
        {
         "hovertemplate": "source=Paackland Harbor<br>date=2040-10-03<br>Hour of Day=%{x}<br>Number of Communications=%{y}<extra></extra>",
         "legendgroup": "Paackland Harbor",
         "line": {
          "color": "#00cc96",
          "dash": "solid"
         },
         "marker": {
          "symbol": "circle"
         },
         "mode": "lines",
         "name": "Paackland Harbor",
         "orientation": "v",
         "showlegend": false,
         "type": "scatter",
         "x": {
          "bdata": "CQAAAAoAAAA=",
          "dtype": "i4"
         },
         "xaxis": "x12",
         "y": {
          "bdata": "AQE=",
          "dtype": "i1"
         },
         "yaxis": "y12"
        },
        {
         "hovertemplate": "source=Paackland Harbor<br>date=2040-10-04<br>Hour of Day=%{x}<br>Number of Communications=%{y}<extra></extra>",
         "legendgroup": "Paackland Harbor",
         "line": {
          "color": "#00cc96",
          "dash": "solid"
         },
         "marker": {
          "symbol": "circle"
         },
         "mode": "lines",
         "name": "Paackland Harbor",
         "orientation": "v",
         "showlegend": false,
         "type": "scatter",
         "x": {
          "bdata": "CQAAAA==",
          "dtype": "i4"
         },
         "xaxis": "x11",
         "y": {
          "bdata": "AQ==",
          "dtype": "i1"
         },
         "yaxis": "y11"
        },
        {
         "hovertemplate": "source=Paackland Harbor<br>date=2040-10-05<br>Hour of Day=%{x}<br>Number of Communications=%{y}<extra></extra>",
         "legendgroup": "Paackland Harbor",
         "line": {
          "color": "#00cc96",
          "dash": "solid"
         },
         "marker": {
          "symbol": "circle"
         },
         "mode": "lines",
         "name": "Paackland Harbor",
         "orientation": "v",
         "showlegend": false,
         "type": "scatter",
         "x": {
          "bdata": "CgAAAA==",
          "dtype": "i4"
         },
         "xaxis": "x10",
         "y": {
          "bdata": "Ag==",
          "dtype": "i1"
         },
         "yaxis": "y10"
        },
        {
         "hovertemplate": "source=Paackland Harbor<br>date=2040-10-06<br>Hour of Day=%{x}<br>Number of Communications=%{y}<extra></extra>",
         "legendgroup": "Paackland Harbor",
         "line": {
          "color": "#00cc96",
          "dash": "solid"
         },
         "marker": {
          "symbol": "circle"
         },
         "mode": "lines",
         "name": "Paackland Harbor",
         "orientation": "v",
         "showlegend": false,
         "type": "scatter",
         "x": {
          "bdata": "CQAAAA==",
          "dtype": "i4"
         },
         "xaxis": "x9",
         "y": {
          "bdata": "Ag==",
          "dtype": "i1"
         },
         "yaxis": "y9"
        },
        {
         "hovertemplate": "source=Paackland Harbor<br>date=2040-10-08<br>Hour of Day=%{x}<br>Number of Communications=%{y}<extra></extra>",
         "legendgroup": "Paackland Harbor",
         "line": {
          "color": "#00cc96",
          "dash": "solid"
         },
         "marker": {
          "symbol": "circle"
         },
         "mode": "lines",
         "name": "Paackland Harbor",
         "orientation": "v",
         "showlegend": false,
         "type": "scatter",
         "x": {
          "bdata": "CgAAAA==",
          "dtype": "i4"
         },
         "xaxis": "x7",
         "y": {
          "bdata": "AQ==",
          "dtype": "i1"
         },
         "yaxis": "y7"
        },
        {
         "hovertemplate": "source=Paackland Harbor<br>date=2040-10-10<br>Hour of Day=%{x}<br>Number of Communications=%{y}<extra></extra>",
         "legendgroup": "Paackland Harbor",
         "line": {
          "color": "#00cc96",
          "dash": "solid"
         },
         "marker": {
          "symbol": "circle"
         },
         "mode": "lines",
         "name": "Paackland Harbor",
         "orientation": "v",
         "showlegend": false,
         "type": "scatter",
         "x": {
          "bdata": "CQAAAAwAAAA=",
          "dtype": "i4"
         },
         "xaxis": "x5",
         "y": {
          "bdata": "AQE=",
          "dtype": "i1"
         },
         "yaxis": "y5"
        },
        {
         "hovertemplate": "source=Paackland Harbor<br>date=2040-10-13<br>Hour of Day=%{x}<br>Number of Communications=%{y}<extra></extra>",
         "legendgroup": "Paackland Harbor",
         "line": {
          "color": "#00cc96",
          "dash": "solid"
         },
         "marker": {
          "symbol": "circle"
         },
         "mode": "lines",
         "name": "Paackland Harbor",
         "orientation": "v",
         "showlegend": false,
         "type": "scatter",
         "x": {
          "bdata": "DAAAAA==",
          "dtype": "i4"
         },
         "xaxis": "x2",
         "y": {
          "bdata": "AQ==",
          "dtype": "i1"
         },
         "yaxis": "y2"
        },
        {
         "hovertemplate": "source=Reef Guardian<br>date=2040-10-01<br>Hour of Day=%{x}<br>Number of Communications=%{y}<extra></extra>",
         "legendgroup": "Reef Guardian",
         "line": {
          "color": "#ab63fa",
          "dash": "solid"
         },
         "marker": {
          "symbol": "circle"
         },
         "mode": "lines",
         "name": "Reef Guardian",
         "orientation": "v",
         "showlegend": true,
         "type": "scatter",
         "x": {
          "bdata": "CQAAAA==",
          "dtype": "i4"
         },
         "xaxis": "x14",
         "y": {
          "bdata": "AQ==",
          "dtype": "i1"
         },
         "yaxis": "y14"
        },
        {
         "hovertemplate": "source=Reef Guardian<br>date=2040-10-03<br>Hour of Day=%{x}<br>Number of Communications=%{y}<extra></extra>",
         "legendgroup": "Reef Guardian",
         "line": {
          "color": "#ab63fa",
          "dash": "solid"
         },
         "marker": {
          "symbol": "circle"
         },
         "mode": "lines",
         "name": "Reef Guardian",
         "orientation": "v",
         "showlegend": false,
         "type": "scatter",
         "x": {
          "bdata": "CAAAAAoAAAA=",
          "dtype": "i4"
         },
         "xaxis": "x12",
         "y": {
          "bdata": "AQI=",
          "dtype": "i1"
         },
         "yaxis": "y12"
        },
        {
         "hovertemplate": "source=Reef Guardian<br>date=2040-10-04<br>Hour of Day=%{x}<br>Number of Communications=%{y}<extra></extra>",
         "legendgroup": "Reef Guardian",
         "line": {
          "color": "#ab63fa",
          "dash": "solid"
         },
         "marker": {
          "symbol": "circle"
         },
         "mode": "lines",
         "name": "Reef Guardian",
         "orientation": "v",
         "showlegend": false,
         "type": "scatter",
         "x": {
          "bdata": "CAAAAAsAAAA=",
          "dtype": "i4"
         },
         "xaxis": "x11",
         "y": {
          "bdata": "AQE=",
          "dtype": "i1"
         },
         "yaxis": "y11"
        },
        {
         "hovertemplate": "source=Reef Guardian<br>date=2040-10-06<br>Hour of Day=%{x}<br>Number of Communications=%{y}<extra></extra>",
         "legendgroup": "Reef Guardian",
         "line": {
          "color": "#ab63fa",
          "dash": "solid"
         },
         "marker": {
          "symbol": "circle"
         },
         "mode": "lines",
         "name": "Reef Guardian",
         "orientation": "v",
         "showlegend": false,
         "type": "scatter",
         "x": {
          "bdata": "CQAAAA0AAAA=",
          "dtype": "i4"
         },
         "xaxis": "x9",
         "y": {
          "bdata": "AQE=",
          "dtype": "i1"
         },
         "yaxis": "y9"
        },
        {
         "hovertemplate": "source=Reef Guardian<br>date=2040-10-07<br>Hour of Day=%{x}<br>Number of Communications=%{y}<extra></extra>",
         "legendgroup": "Reef Guardian",
         "line": {
          "color": "#ab63fa",
          "dash": "solid"
         },
         "marker": {
          "symbol": "circle"
         },
         "mode": "lines",
         "name": "Reef Guardian",
         "orientation": "v",
         "showlegend": false,
         "type": "scatter",
         "x": {
          "bdata": "CgAAAA==",
          "dtype": "i4"
         },
         "xaxis": "x8",
         "y": {
          "bdata": "Aw==",
          "dtype": "i1"
         },
         "yaxis": "y8"
        },
        {
         "hovertemplate": "source=Reef Guardian<br>date=2040-10-08<br>Hour of Day=%{x}<br>Number of Communications=%{y}<extra></extra>",
         "legendgroup": "Reef Guardian",
         "line": {
          "color": "#ab63fa",
          "dash": "solid"
         },
         "marker": {
          "symbol": "circle"
         },
         "mode": "lines",
         "name": "Reef Guardian",
         "orientation": "v",
         "showlegend": false,
         "type": "scatter",
         "x": {
          "bdata": "CwAAAA==",
          "dtype": "i4"
         },
         "xaxis": "x7",
         "y": {
          "bdata": "Ag==",
          "dtype": "i1"
         },
         "yaxis": "y7"
        },
        {
         "hovertemplate": "source=Reef Guardian<br>date=2040-10-09<br>Hour of Day=%{x}<br>Number of Communications=%{y}<extra></extra>",
         "legendgroup": "Reef Guardian",
         "line": {
          "color": "#ab63fa",
          "dash": "solid"
         },
         "marker": {
          "symbol": "circle"
         },
         "mode": "lines",
         "name": "Reef Guardian",
         "orientation": "v",
         "showlegend": false,
         "type": "scatter",
         "x": {
          "bdata": "CQAAAAoAAAA=",
          "dtype": "i4"
         },
         "xaxis": "x6",
         "y": {
          "bdata": "AQQ=",
          "dtype": "i1"
         },
         "yaxis": "y6"
        },
        {
         "hovertemplate": "source=Reef Guardian<br>date=2040-10-10<br>Hour of Day=%{x}<br>Number of Communications=%{y}<extra></extra>",
         "legendgroup": "Reef Guardian",
         "line": {
          "color": "#ab63fa",
          "dash": "solid"
         },
         "marker": {
          "symbol": "circle"
         },
         "mode": "lines",
         "name": "Reef Guardian",
         "orientation": "v",
         "showlegend": false,
         "type": "scatter",
         "x": {
          "bdata": "CQAAAAoAAAAOAAAA",
          "dtype": "i4"
         },
         "xaxis": "x5",
         "y": {
          "bdata": "AgEB",
          "dtype": "i1"
         },
         "yaxis": "y5"
        },
        {
         "hovertemplate": "source=Reef Guardian<br>date=2040-10-11<br>Hour of Day=%{x}<br>Number of Communications=%{y}<extra></extra>",
         "legendgroup": "Reef Guardian",
         "line": {
          "color": "#ab63fa",
          "dash": "solid"
         },
         "marker": {
          "symbol": "circle"
         },
         "mode": "lines",
         "name": "Reef Guardian",
         "orientation": "v",
         "showlegend": false,
         "type": "scatter",
         "x": {
          "bdata": "CQAAAA==",
          "dtype": "i4"
         },
         "xaxis": "x4",
         "y": {
          "bdata": "Ag==",
          "dtype": "i1"
         },
         "yaxis": "y4"
        },
        {
         "hovertemplate": "source=Reef Guardian<br>date=2040-10-12<br>Hour of Day=%{x}<br>Number of Communications=%{y}<extra></extra>",
         "legendgroup": "Reef Guardian",
         "line": {
          "color": "#ab63fa",
          "dash": "solid"
         },
         "marker": {
          "symbol": "circle"
         },
         "mode": "lines",
         "name": "Reef Guardian",
         "orientation": "v",
         "showlegend": false,
         "type": "scatter",
         "x": {
          "bdata": "CQAAAAoAAAAMAAAA",
          "dtype": "i4"
         },
         "xaxis": "x3",
         "y": {
          "bdata": "AQEB",
          "dtype": "i1"
         },
         "yaxis": "y3"
        },
        {
         "hovertemplate": "source=Reef Guardian<br>date=2040-10-13<br>Hour of Day=%{x}<br>Number of Communications=%{y}<extra></extra>",
         "legendgroup": "Reef Guardian",
         "line": {
          "color": "#ab63fa",
          "dash": "solid"
         },
         "marker": {
          "symbol": "circle"
         },
         "mode": "lines",
         "name": "Reef Guardian",
         "orientation": "v",
         "showlegend": false,
         "type": "scatter",
         "x": {
          "bdata": "CQAAAAwAAAA=",
          "dtype": "i4"
         },
         "xaxis": "x2",
         "y": {
          "bdata": "AQM=",
          "dtype": "i1"
         },
         "yaxis": "y2"
        },
        {
         "hovertemplate": "source=Reef Guardian<br>date=2040-10-14<br>Hour of Day=%{x}<br>Number of Communications=%{y}<extra></extra>",
         "legendgroup": "Reef Guardian",
         "line": {
          "color": "#ab63fa",
          "dash": "solid"
         },
         "marker": {
          "symbol": "circle"
         },
         "mode": "lines",
         "name": "Reef Guardian",
         "orientation": "v",
         "showlegend": false,
         "type": "scatter",
         "x": {
          "bdata": "CAAAAAsAAAA=",
          "dtype": "i4"
         },
         "xaxis": "x",
         "y": {
          "bdata": "AgE=",
          "dtype": "i1"
         },
         "yaxis": "y"
        },
        {
         "hovertemplate": "source=Remora<br>date=2040-10-01<br>Hour of Day=%{x}<br>Number of Communications=%{y}<extra></extra>",
         "legendgroup": "Remora",
         "line": {
          "color": "#FFA15A",
          "dash": "solid"
         },
         "marker": {
          "symbol": "circle"
         },
         "mode": "lines",
         "name": "Remora",
         "orientation": "v",
         "showlegend": true,
         "type": "scatter",
         "x": {
          "bdata": "CgAAAA==",
          "dtype": "i4"
         },
         "xaxis": "x14",
         "y": {
          "bdata": "AQ==",
          "dtype": "i1"
         },
         "yaxis": "y14"
        },
        {
         "hovertemplate": "source=Remora<br>date=2040-10-02<br>Hour of Day=%{x}<br>Number of Communications=%{y}<extra></extra>",
         "legendgroup": "Remora",
         "line": {
          "color": "#FFA15A",
          "dash": "solid"
         },
         "marker": {
          "symbol": "circle"
         },
         "mode": "lines",
         "name": "Remora",
         "orientation": "v",
         "showlegend": false,
         "type": "scatter",
         "x": {
          "bdata": "DQAAAA==",
          "dtype": "i4"
         },
         "xaxis": "x13",
         "y": {
          "bdata": "Ag==",
          "dtype": "i1"
         },
         "yaxis": "y13"
        },
        {
         "hovertemplate": "source=Remora<br>date=2040-10-03<br>Hour of Day=%{x}<br>Number of Communications=%{y}<extra></extra>",
         "legendgroup": "Remora",
         "line": {
          "color": "#FFA15A",
          "dash": "solid"
         },
         "marker": {
          "symbol": "circle"
         },
         "mode": "lines",
         "name": "Remora",
         "orientation": "v",
         "showlegend": false,
         "type": "scatter",
         "x": {
          "bdata": "CgAAAA==",
          "dtype": "i4"
         },
         "xaxis": "x12",
         "y": {
          "bdata": "Ag==",
          "dtype": "i1"
         },
         "yaxis": "y12"
        },
        {
         "hovertemplate": "source=Remora<br>date=2040-10-05<br>Hour of Day=%{x}<br>Number of Communications=%{y}<extra></extra>",
         "legendgroup": "Remora",
         "line": {
          "color": "#FFA15A",
          "dash": "solid"
         },
         "marker": {
          "symbol": "circle"
         },
         "mode": "lines",
         "name": "Remora",
         "orientation": "v",
         "showlegend": false,
         "type": "scatter",
         "x": {
          "bdata": "CQAAAA==",
          "dtype": "i4"
         },
         "xaxis": "x10",
         "y": {
          "bdata": "AQ==",
          "dtype": "i1"
         },
         "yaxis": "y10"
        },
        {
         "hovertemplate": "source=Remora<br>date=2040-10-06<br>Hour of Day=%{x}<br>Number of Communications=%{y}<extra></extra>",
         "legendgroup": "Remora",
         "line": {
          "color": "#FFA15A",
          "dash": "solid"
         },
         "marker": {
          "symbol": "circle"
         },
         "mode": "lines",
         "name": "Remora",
         "orientation": "v",
         "showlegend": false,
         "type": "scatter",
         "x": {
          "bdata": "CQAAAAwAAAA=",
          "dtype": "i4"
         },
         "xaxis": "x9",
         "y": {
          "bdata": "AQE=",
          "dtype": "i1"
         },
         "yaxis": "y9"
        },
        {
         "hovertemplate": "source=Remora<br>date=2040-10-07<br>Hour of Day=%{x}<br>Number of Communications=%{y}<extra></extra>",
         "legendgroup": "Remora",
         "line": {
          "color": "#FFA15A",
          "dash": "solid"
         },
         "marker": {
          "symbol": "circle"
         },
         "mode": "lines",
         "name": "Remora",
         "orientation": "v",
         "showlegend": false,
         "type": "scatter",
         "x": {
          "bdata": "CwAAAA==",
          "dtype": "i4"
         },
         "xaxis": "x8",
         "y": {
          "bdata": "Aw==",
          "dtype": "i1"
         },
         "yaxis": "y8"
        },
        {
         "hovertemplate": "source=Remora<br>date=2040-10-08<br>Hour of Day=%{x}<br>Number of Communications=%{y}<extra></extra>",
         "legendgroup": "Remora",
         "line": {
          "color": "#FFA15A",
          "dash": "solid"
         },
         "marker": {
          "symbol": "circle"
         },
         "mode": "lines",
         "name": "Remora",
         "orientation": "v",
         "showlegend": false,
         "type": "scatter",
         "x": {
          "bdata": "CgAAAA==",
          "dtype": "i4"
         },
         "xaxis": "x7",
         "y": {
          "bdata": "Aw==",
          "dtype": "i1"
         },
         "yaxis": "y7"
        },
        {
         "hovertemplate": "source=Remora<br>date=2040-10-09<br>Hour of Day=%{x}<br>Number of Communications=%{y}<extra></extra>",
         "legendgroup": "Remora",
         "line": {
          "color": "#FFA15A",
          "dash": "solid"
         },
         "marker": {
          "symbol": "circle"
         },
         "mode": "lines",
         "name": "Remora",
         "orientation": "v",
         "showlegend": false,
         "type": "scatter",
         "x": {
          "bdata": "CQAAAA==",
          "dtype": "i4"
         },
         "xaxis": "x6",
         "y": {
          "bdata": "AQ==",
          "dtype": "i1"
         },
         "yaxis": "y6"
        },
        {
         "hovertemplate": "source=Remora<br>date=2040-10-10<br>Hour of Day=%{x}<br>Number of Communications=%{y}<extra></extra>",
         "legendgroup": "Remora",
         "line": {
          "color": "#FFA15A",
          "dash": "solid"
         },
         "marker": {
          "symbol": "circle"
         },
         "mode": "lines",
         "name": "Remora",
         "orientation": "v",
         "showlegend": false,
         "type": "scatter",
         "x": {
          "bdata": "CQAAAA==",
          "dtype": "i4"
         },
         "xaxis": "x5",
         "y": {
          "bdata": "AQ==",
          "dtype": "i1"
         },
         "yaxis": "y5"
        },
        {
         "hovertemplate": "source=Remora<br>date=2040-10-11<br>Hour of Day=%{x}<br>Number of Communications=%{y}<extra></extra>",
         "legendgroup": "Remora",
         "line": {
          "color": "#FFA15A",
          "dash": "solid"
         },
         "marker": {
          "symbol": "circle"
         },
         "mode": "lines",
         "name": "Remora",
         "orientation": "v",
         "showlegend": false,
         "type": "scatter",
         "x": {
          "bdata": "CgAAAA==",
          "dtype": "i4"
         },
         "xaxis": "x4",
         "y": {
          "bdata": "AQ==",
          "dtype": "i1"
         },
         "yaxis": "y4"
        },
        {
         "hovertemplate": "source=Remora<br>date=2040-10-12<br>Hour of Day=%{x}<br>Number of Communications=%{y}<extra></extra>",
         "legendgroup": "Remora",
         "line": {
          "color": "#FFA15A",
          "dash": "solid"
         },
         "marker": {
          "symbol": "circle"
         },
         "mode": "lines",
         "name": "Remora",
         "orientation": "v",
         "showlegend": false,
         "type": "scatter",
         "x": {
          "bdata": "CQAAAAsAAAA=",
          "dtype": "i4"
         },
         "xaxis": "x3",
         "y": {
          "bdata": "AgE=",
          "dtype": "i1"
         },
         "yaxis": "y3"
        },
        {
         "hovertemplate": "source=Remora<br>date=2040-10-13<br>Hour of Day=%{x}<br>Number of Communications=%{y}<extra></extra>",
         "legendgroup": "Remora",
         "line": {
          "color": "#FFA15A",
          "dash": "solid"
         },
         "marker": {
          "symbol": "circle"
         },
         "mode": "lines",
         "name": "Remora",
         "orientation": "v",
         "showlegend": false,
         "type": "scatter",
         "x": {
          "bdata": "CAAAAA==",
          "dtype": "i4"
         },
         "xaxis": "x2",
         "y": {
          "bdata": "Ag==",
          "dtype": "i1"
         },
         "yaxis": "y2"
        },
        {
         "hovertemplate": "source=Remora<br>date=2040-10-14<br>Hour of Day=%{x}<br>Number of Communications=%{y}<extra></extra>",
         "legendgroup": "Remora",
         "line": {
          "color": "#FFA15A",
          "dash": "solid"
         },
         "marker": {
          "symbol": "circle"
         },
         "mode": "lines",
         "name": "Remora",
         "orientation": "v",
         "showlegend": false,
         "type": "scatter",
         "x": {
          "bdata": "CAAAAAkAAAA=",
          "dtype": "i4"
         },
         "xaxis": "x",
         "y": {
          "bdata": "AgE=",
          "dtype": "i1"
         },
         "yaxis": "y"
        },
        {
         "hovertemplate": "source=Samantha Blake<br>date=2040-10-01<br>Hour of Day=%{x}<br>Number of Communications=%{y}<extra></extra>",
         "legendgroup": "Samantha Blake",
         "line": {
          "color": "#19d3f3",
          "dash": "solid"
         },
         "marker": {
          "symbol": "circle"
         },
         "mode": "lines",
         "name": "Samantha Blake",
         "orientation": "v",
         "showlegend": true,
         "type": "scatter",
         "x": {
          "bdata": "DAAAAA==",
          "dtype": "i4"
         },
         "xaxis": "x14",
         "y": {
          "bdata": "Ag==",
          "dtype": "i1"
         },
         "yaxis": "y14"
        },
        {
         "hovertemplate": "source=Samantha Blake<br>date=2040-10-02<br>Hour of Day=%{x}<br>Number of Communications=%{y}<extra></extra>",
         "legendgroup": "Samantha Blake",
         "line": {
          "color": "#19d3f3",
          "dash": "solid"
         },
         "marker": {
          "symbol": "circle"
         },
         "mode": "lines",
         "name": "Samantha Blake",
         "orientation": "v",
         "showlegend": false,
         "type": "scatter",
         "x": {
          "bdata": "CQAAAAoAAAA=",
          "dtype": "i4"
         },
         "xaxis": "x13",
         "y": {
          "bdata": "AQE=",
          "dtype": "i1"
         },
         "yaxis": "y13"
        },
        {
         "hovertemplate": "source=Samantha Blake<br>date=2040-10-06<br>Hour of Day=%{x}<br>Number of Communications=%{y}<extra></extra>",
         "legendgroup": "Samantha Blake",
         "line": {
          "color": "#19d3f3",
          "dash": "solid"
         },
         "marker": {
          "symbol": "circle"
         },
         "mode": "lines",
         "name": "Samantha Blake",
         "orientation": "v",
         "showlegend": false,
         "type": "scatter",
         "x": {
          "bdata": "CQAAAA==",
          "dtype": "i4"
         },
         "xaxis": "x9",
         "y": {
          "bdata": "AQ==",
          "dtype": "i1"
         },
         "yaxis": "y9"
        },
        {
         "hovertemplate": "source=Samantha Blake<br>date=2040-10-08<br>Hour of Day=%{x}<br>Number of Communications=%{y}<extra></extra>",
         "legendgroup": "Samantha Blake",
         "line": {
          "color": "#19d3f3",
          "dash": "solid"
         },
         "marker": {
          "symbol": "circle"
         },
         "mode": "lines",
         "name": "Samantha Blake",
         "orientation": "v",
         "showlegend": false,
         "type": "scatter",
         "x": {
          "bdata": "CgAAAA==",
          "dtype": "i4"
         },
         "xaxis": "x7",
         "y": {
          "bdata": "AQ==",
          "dtype": "i1"
         },
         "yaxis": "y7"
        },
        {
         "hovertemplate": "source=Samantha Blake<br>date=2040-10-09<br>Hour of Day=%{x}<br>Number of Communications=%{y}<extra></extra>",
         "legendgroup": "Samantha Blake",
         "line": {
          "color": "#19d3f3",
          "dash": "solid"
         },
         "marker": {
          "symbol": "circle"
         },
         "mode": "lines",
         "name": "Samantha Blake",
         "orientation": "v",
         "showlegend": false,
         "type": "scatter",
         "x": {
          "bdata": "DAAAAA==",
          "dtype": "i4"
         },
         "xaxis": "x6",
         "y": {
          "bdata": "AQ==",
          "dtype": "i1"
         },
         "yaxis": "y6"
        },
        {
         "hovertemplate": "source=Samantha Blake<br>date=2040-10-10<br>Hour of Day=%{x}<br>Number of Communications=%{y}<extra></extra>",
         "legendgroup": "Samantha Blake",
         "line": {
          "color": "#19d3f3",
          "dash": "solid"
         },
         "marker": {
          "symbol": "circle"
         },
         "mode": "lines",
         "name": "Samantha Blake",
         "orientation": "v",
         "showlegend": false,
         "type": "scatter",
         "x": {
          "bdata": "CwAAAA==",
          "dtype": "i4"
         },
         "xaxis": "x5",
         "y": {
          "bdata": "Ag==",
          "dtype": "i1"
         },
         "yaxis": "y5"
        },
        {
         "hovertemplate": "source=Sentinel<br>date=2040-10-01<br>Hour of Day=%{x}<br>Number of Communications=%{y}<extra></extra>",
         "legendgroup": "Sentinel",
         "line": {
          "color": "#FF6692",
          "dash": "solid"
         },
         "marker": {
          "symbol": "circle"
         },
         "mode": "lines",
         "name": "Sentinel",
         "orientation": "v",
         "showlegend": true,
         "type": "scatter",
         "x": {
          "bdata": "DAAAAA==",
          "dtype": "i4"
         },
         "xaxis": "x14",
         "y": {
          "bdata": "Ag==",
          "dtype": "i1"
         },
         "yaxis": "y14"
        },
        {
         "hovertemplate": "source=Sentinel<br>date=2040-10-03<br>Hour of Day=%{x}<br>Number of Communications=%{y}<extra></extra>",
         "legendgroup": "Sentinel",
         "line": {
          "color": "#FF6692",
          "dash": "solid"
         },
         "marker": {
          "symbol": "circle"
         },
         "mode": "lines",
         "name": "Sentinel",
         "orientation": "v",
         "showlegend": false,
         "type": "scatter",
         "x": {
          "bdata": "CgAAAA==",
          "dtype": "i4"
         },
         "xaxis": "x12",
         "y": {
          "bdata": "AQ==",
          "dtype": "i1"
         },
         "yaxis": "y12"
        },
        {
         "hovertemplate": "source=Sentinel<br>date=2040-10-04<br>Hour of Day=%{x}<br>Number of Communications=%{y}<extra></extra>",
         "legendgroup": "Sentinel",
         "line": {
          "color": "#FF6692",
          "dash": "solid"
         },
         "marker": {
          "symbol": "circle"
         },
         "mode": "lines",
         "name": "Sentinel",
         "orientation": "v",
         "showlegend": false,
         "type": "scatter",
         "x": {
          "bdata": "CQAAAAoAAAAMAAAA",
          "dtype": "i4"
         },
         "xaxis": "x11",
         "y": {
          "bdata": "AgEB",
          "dtype": "i1"
         },
         "yaxis": "y11"
        },
        {
         "hovertemplate": "source=Sentinel<br>date=2040-10-05<br>Hour of Day=%{x}<br>Number of Communications=%{y}<extra></extra>",
         "legendgroup": "Sentinel",
         "line": {
          "color": "#FF6692",
          "dash": "solid"
         },
         "marker": {
          "symbol": "circle"
         },
         "mode": "lines",
         "name": "Sentinel",
         "orientation": "v",
         "showlegend": false,
         "type": "scatter",
         "x": {
          "bdata": "CAAAAA==",
          "dtype": "i4"
         },
         "xaxis": "x10",
         "y": {
          "bdata": "AQ==",
          "dtype": "i1"
         },
         "yaxis": "y10"
        },
        {
         "hovertemplate": "source=Sentinel<br>date=2040-10-06<br>Hour of Day=%{x}<br>Number of Communications=%{y}<extra></extra>",
         "legendgroup": "Sentinel",
         "line": {
          "color": "#FF6692",
          "dash": "solid"
         },
         "marker": {
          "symbol": "circle"
         },
         "mode": "lines",
         "name": "Sentinel",
         "orientation": "v",
         "showlegend": false,
         "type": "scatter",
         "x": {
          "bdata": "DQAAAA==",
          "dtype": "i4"
         },
         "xaxis": "x9",
         "y": {
          "bdata": "AQ==",
          "dtype": "i1"
         },
         "yaxis": "y9"
        },
        {
         "hovertemplate": "source=Sentinel<br>date=2040-10-07<br>Hour of Day=%{x}<br>Number of Communications=%{y}<extra></extra>",
         "legendgroup": "Sentinel",
         "line": {
          "color": "#FF6692",
          "dash": "solid"
         },
         "marker": {
          "symbol": "circle"
         },
         "mode": "lines",
         "name": "Sentinel",
         "orientation": "v",
         "showlegend": false,
         "type": "scatter",
         "x": {
          "bdata": "CgAAAA==",
          "dtype": "i4"
         },
         "xaxis": "x8",
         "y": {
          "bdata": "AQ==",
          "dtype": "i1"
         },
         "yaxis": "y8"
        },
        {
         "hovertemplate": "source=Sentinel<br>date=2040-10-08<br>Hour of Day=%{x}<br>Number of Communications=%{y}<extra></extra>",
         "legendgroup": "Sentinel",
         "line": {
          "color": "#FF6692",
          "dash": "solid"
         },
         "marker": {
          "symbol": "circle"
         },
         "mode": "lines",
         "name": "Sentinel",
         "orientation": "v",
         "showlegend": false,
         "type": "scatter",
         "x": {
          "bdata": "CwAAAA==",
          "dtype": "i4"
         },
         "xaxis": "x7",
         "y": {
          "bdata": "Ag==",
          "dtype": "i1"
         },
         "yaxis": "y7"
        },
        {
         "hovertemplate": "source=Sentinel<br>date=2040-10-10<br>Hour of Day=%{x}<br>Number of Communications=%{y}<extra></extra>",
         "legendgroup": "Sentinel",
         "line": {
          "color": "#FF6692",
          "dash": "solid"
         },
         "marker": {
          "symbol": "circle"
         },
         "mode": "lines",
         "name": "Sentinel",
         "orientation": "v",
         "showlegend": false,
         "type": "scatter",
         "x": {
          "bdata": "CgAAAA==",
          "dtype": "i4"
         },
         "xaxis": "x5",
         "y": {
          "bdata": "Ag==",
          "dtype": "i1"
         },
         "yaxis": "y5"
        },
        {
         "hovertemplate": "source=Sentinel<br>date=2040-10-12<br>Hour of Day=%{x}<br>Number of Communications=%{y}<extra></extra>",
         "legendgroup": "Sentinel",
         "line": {
          "color": "#FF6692",
          "dash": "solid"
         },
         "marker": {
          "symbol": "circle"
         },
         "mode": "lines",
         "name": "Sentinel",
         "orientation": "v",
         "showlegend": false,
         "type": "scatter",
         "x": {
          "bdata": "CwAAAA==",
          "dtype": "i4"
         },
         "xaxis": "x3",
         "y": {
          "bdata": "AQ==",
          "dtype": "i1"
         },
         "yaxis": "y3"
        },
        {
         "hovertemplate": "source=Sentinel<br>date=2040-10-13<br>Hour of Day=%{x}<br>Number of Communications=%{y}<extra></extra>",
         "legendgroup": "Sentinel",
         "line": {
          "color": "#FF6692",
          "dash": "solid"
         },
         "marker": {
          "symbol": "circle"
         },
         "mode": "lines",
         "name": "Sentinel",
         "orientation": "v",
         "showlegend": false,
         "type": "scatter",
         "x": {
          "bdata": "DAAAAA==",
          "dtype": "i4"
         },
         "xaxis": "x2",
         "y": {
          "bdata": "Ag==",
          "dtype": "i1"
         },
         "yaxis": "y2"
        },
        {
         "hovertemplate": "source=Sentinel<br>date=2040-10-14<br>Hour of Day=%{x}<br>Number of Communications=%{y}<extra></extra>",
         "legendgroup": "Sentinel",
         "line": {
          "color": "#FF6692",
          "dash": "solid"
         },
         "marker": {
          "symbol": "circle"
         },
         "mode": "lines",
         "name": "Sentinel",
         "orientation": "v",
         "showlegend": false,
         "type": "scatter",
         "x": {
          "bdata": "CgAAAA==",
          "dtype": "i4"
         },
         "xaxis": "x",
         "y": {
          "bdata": "AQ==",
          "dtype": "i1"
         },
         "yaxis": "y"
        },
        {
         "hovertemplate": "source=Serenity<br>date=2040-10-01<br>Hour of Day=%{x}<br>Number of Communications=%{y}<extra></extra>",
         "legendgroup": "Serenity",
         "line": {
          "color": "#B6E880",
          "dash": "solid"
         },
         "marker": {
          "symbol": "circle"
         },
         "mode": "lines",
         "name": "Serenity",
         "orientation": "v",
         "showlegend": true,
         "type": "scatter",
         "x": {
          "bdata": "CAAAAAkAAAA=",
          "dtype": "i4"
         },
         "xaxis": "x14",
         "y": {
          "bdata": "AgE=",
          "dtype": "i1"
         },
         "yaxis": "y14"
        },
        {
         "hovertemplate": "source=Serenity<br>date=2040-10-03<br>Hour of Day=%{x}<br>Number of Communications=%{y}<extra></extra>",
         "legendgroup": "Serenity",
         "line": {
          "color": "#B6E880",
          "dash": "solid"
         },
         "marker": {
          "symbol": "circle"
         },
         "mode": "lines",
         "name": "Serenity",
         "orientation": "v",
         "showlegend": false,
         "type": "scatter",
         "x": {
          "bdata": "CgAAAA==",
          "dtype": "i4"
         },
         "xaxis": "x12",
         "y": {
          "bdata": "AQ==",
          "dtype": "i1"
         },
         "yaxis": "y12"
        },
        {
         "hovertemplate": "source=Serenity<br>date=2040-10-06<br>Hour of Day=%{x}<br>Number of Communications=%{y}<extra></extra>",
         "legendgroup": "Serenity",
         "line": {
          "color": "#B6E880",
          "dash": "solid"
         },
         "marker": {
          "symbol": "circle"
         },
         "mode": "lines",
         "name": "Serenity",
         "orientation": "v",
         "showlegend": false,
         "type": "scatter",
         "x": {
          "bdata": "CgAAAAsAAAA=",
          "dtype": "i4"
         },
         "xaxis": "x9",
         "y": {
          "bdata": "AQE=",
          "dtype": "i1"
         },
         "yaxis": "y9"
        },
        {
         "hovertemplate": "source=Serenity<br>date=2040-10-07<br>Hour of Day=%{x}<br>Number of Communications=%{y}<extra></extra>",
         "legendgroup": "Serenity",
         "line": {
          "color": "#B6E880",
          "dash": "solid"
         },
         "marker": {
          "symbol": "circle"
         },
         "mode": "lines",
         "name": "Serenity",
         "orientation": "v",
         "showlegend": false,
         "type": "scatter",
         "x": {
          "bdata": "CwAAAA==",
          "dtype": "i4"
         },
         "xaxis": "x8",
         "y": {
          "bdata": "AQ==",
          "dtype": "i1"
         },
         "yaxis": "y8"
        },
        {
         "hovertemplate": "source=Serenity<br>date=2040-10-12<br>Hour of Day=%{x}<br>Number of Communications=%{y}<extra></extra>",
         "legendgroup": "Serenity",
         "line": {
          "color": "#B6E880",
          "dash": "solid"
         },
         "marker": {
          "symbol": "circle"
         },
         "mode": "lines",
         "name": "Serenity",
         "orientation": "v",
         "showlegend": false,
         "type": "scatter",
         "x": {
          "bdata": "CgAAAA==",
          "dtype": "i4"
         },
         "xaxis": "x3",
         "y": {
          "bdata": "AQ==",
          "dtype": "i1"
         },
         "yaxis": "y3"
        },
        {
         "hovertemplate": "source=The Intern<br>date=2040-10-01<br>Hour of Day=%{x}<br>Number of Communications=%{y}<extra></extra>",
         "legendgroup": "The Intern",
         "line": {
          "color": "#FF97FF",
          "dash": "solid"
         },
         "marker": {
          "symbol": "circle"
         },
         "mode": "lines",
         "name": "The Intern",
         "orientation": "v",
         "showlegend": true,
         "type": "scatter",
         "x": {
          "bdata": "CAAAAA==",
          "dtype": "i4"
         },
         "xaxis": "x14",
         "y": {
          "bdata": "Ag==",
          "dtype": "i1"
         },
         "yaxis": "y14"
        },
        {
         "hovertemplate": "source=The Intern<br>date=2040-10-02<br>Hour of Day=%{x}<br>Number of Communications=%{y}<extra></extra>",
         "legendgroup": "The Intern",
         "line": {
          "color": "#FF97FF",
          "dash": "solid"
         },
         "marker": {
          "symbol": "circle"
         },
         "mode": "lines",
         "name": "The Intern",
         "orientation": "v",
         "showlegend": false,
         "type": "scatter",
         "x": {
          "bdata": "CAAAAA==",
          "dtype": "i4"
         },
         "xaxis": "x13",
         "y": {
          "bdata": "Ag==",
          "dtype": "i1"
         },
         "yaxis": "y13"
        },
        {
         "hovertemplate": "source=The Intern<br>date=2040-10-03<br>Hour of Day=%{x}<br>Number of Communications=%{y}<extra></extra>",
         "legendgroup": "The Intern",
         "line": {
          "color": "#FF97FF",
          "dash": "solid"
         },
         "marker": {
          "symbol": "circle"
         },
         "mode": "lines",
         "name": "The Intern",
         "orientation": "v",
         "showlegend": false,
         "type": "scatter",
         "x": {
          "bdata": "CAAAAA==",
          "dtype": "i4"
         },
         "xaxis": "x12",
         "y": {
          "bdata": "Ag==",
          "dtype": "i1"
         },
         "yaxis": "y12"
        },
        {
         "hovertemplate": "source=The Intern<br>date=2040-10-04<br>Hour of Day=%{x}<br>Number of Communications=%{y}<extra></extra>",
         "legendgroup": "The Intern",
         "line": {
          "color": "#FF97FF",
          "dash": "solid"
         },
         "marker": {
          "symbol": "circle"
         },
         "mode": "lines",
         "name": "The Intern",
         "orientation": "v",
         "showlegend": false,
         "type": "scatter",
         "x": {
          "bdata": "CAAAAA==",
          "dtype": "i4"
         },
         "xaxis": "x11",
         "y": {
          "bdata": "AQ==",
          "dtype": "i1"
         },
         "yaxis": "y11"
        },
        {
         "hovertemplate": "source=The Intern<br>date=2040-10-05<br>Hour of Day=%{x}<br>Number of Communications=%{y}<extra></extra>",
         "legendgroup": "The Intern",
         "line": {
          "color": "#FF97FF",
          "dash": "solid"
         },
         "marker": {
          "symbol": "circle"
         },
         "mode": "lines",
         "name": "The Intern",
         "orientation": "v",
         "showlegend": false,
         "type": "scatter",
         "x": {
          "bdata": "CAAAAAoAAAA=",
          "dtype": "i4"
         },
         "xaxis": "x10",
         "y": {
          "bdata": "AQE=",
          "dtype": "i1"
         },
         "yaxis": "y10"
        },
        {
         "hovertemplate": "source=The Intern<br>date=2040-10-07<br>Hour of Day=%{x}<br>Number of Communications=%{y}<extra></extra>",
         "legendgroup": "The Intern",
         "line": {
          "color": "#FF97FF",
          "dash": "solid"
         },
         "marker": {
          "symbol": "circle"
         },
         "mode": "lines",
         "name": "The Intern",
         "orientation": "v",
         "showlegend": false,
         "type": "scatter",
         "x": {
          "bdata": "CAAAAA==",
          "dtype": "i4"
         },
         "xaxis": "x8",
         "y": {
          "bdata": "Ag==",
          "dtype": "i1"
         },
         "yaxis": "y8"
        },
        {
         "hovertemplate": "source=The Intern<br>date=2040-10-08<br>Hour of Day=%{x}<br>Number of Communications=%{y}<extra></extra>",
         "legendgroup": "The Intern",
         "line": {
          "color": "#FF97FF",
          "dash": "solid"
         },
         "marker": {
          "symbol": "circle"
         },
         "mode": "lines",
         "name": "The Intern",
         "orientation": "v",
         "showlegend": false,
         "type": "scatter",
         "x": {
          "bdata": "CAAAAA==",
          "dtype": "i4"
         },
         "xaxis": "x7",
         "y": {
          "bdata": "AQ==",
          "dtype": "i1"
         },
         "yaxis": "y7"
        },
        {
         "hovertemplate": "source=The Intern<br>date=2040-10-09<br>Hour of Day=%{x}<br>Number of Communications=%{y}<extra></extra>",
         "legendgroup": "The Intern",
         "line": {
          "color": "#FF97FF",
          "dash": "solid"
         },
         "marker": {
          "symbol": "circle"
         },
         "mode": "lines",
         "name": "The Intern",
         "orientation": "v",
         "showlegend": false,
         "type": "scatter",
         "x": {
          "bdata": "CAAAAA==",
          "dtype": "i4"
         },
         "xaxis": "x6",
         "y": {
          "bdata": "Ag==",
          "dtype": "i1"
         },
         "yaxis": "y6"
        },
        {
         "hovertemplate": "source=The Intern<br>date=2040-10-10<br>Hour of Day=%{x}<br>Number of Communications=%{y}<extra></extra>",
         "legendgroup": "The Intern",
         "line": {
          "color": "#FF97FF",
          "dash": "solid"
         },
         "marker": {
          "symbol": "circle"
         },
         "mode": "lines",
         "name": "The Intern",
         "orientation": "v",
         "showlegend": false,
         "type": "scatter",
         "x": {
          "bdata": "CAAAAAwAAAA=",
          "dtype": "i4"
         },
         "xaxis": "x5",
         "y": {
          "bdata": "AQI=",
          "dtype": "i1"
         },
         "yaxis": "y5"
        },
        {
         "hovertemplate": "source=The Intern<br>date=2040-10-11<br>Hour of Day=%{x}<br>Number of Communications=%{y}<extra></extra>",
         "legendgroup": "The Intern",
         "line": {
          "color": "#FF97FF",
          "dash": "solid"
         },
         "marker": {
          "symbol": "circle"
         },
         "mode": "lines",
         "name": "The Intern",
         "orientation": "v",
         "showlegend": false,
         "type": "scatter",
         "x": {
          "bdata": "CAAAAA==",
          "dtype": "i4"
         },
         "xaxis": "x4",
         "y": {
          "bdata": "Ag==",
          "dtype": "i1"
         },
         "yaxis": "y4"
        },
        {
         "hovertemplate": "source=The Intern<br>date=2040-10-13<br>Hour of Day=%{x}<br>Number of Communications=%{y}<extra></extra>",
         "legendgroup": "The Intern",
         "line": {
          "color": "#FF97FF",
          "dash": "solid"
         },
         "marker": {
          "symbol": "circle"
         },
         "mode": "lines",
         "name": "The Intern",
         "orientation": "v",
         "showlegend": false,
         "type": "scatter",
         "x": {
          "bdata": "CAAAAAwAAAA=",
          "dtype": "i4"
         },
         "xaxis": "x2",
         "y": {
          "bdata": "AgI=",
          "dtype": "i1"
         },
         "yaxis": "y2"
        },
        {
         "hovertemplate": "source=The Intern<br>date=2040-10-14<br>Hour of Day=%{x}<br>Number of Communications=%{y}<extra></extra>",
         "legendgroup": "The Intern",
         "line": {
          "color": "#FF97FF",
          "dash": "solid"
         },
         "marker": {
          "symbol": "circle"
         },
         "mode": "lines",
         "name": "The Intern",
         "orientation": "v",
         "showlegend": false,
         "type": "scatter",
         "x": {
          "bdata": "CAAAAA==",
          "dtype": "i4"
         },
         "xaxis": "x",
         "y": {
          "bdata": "AQ==",
          "dtype": "i1"
         },
         "yaxis": "y"
        },
        {
         "hovertemplate": "source=The Lookout<br>date=2040-10-01<br>Hour of Day=%{x}<br>Number of Communications=%{y}<extra></extra>",
         "legendgroup": "The Lookout",
         "line": {
          "color": "#FECB52",
          "dash": "solid"
         },
         "marker": {
          "symbol": "circle"
         },
         "mode": "lines",
         "name": "The Lookout",
         "orientation": "v",
         "showlegend": true,
         "type": "scatter",
         "x": {
          "bdata": "CAAAAA==",
          "dtype": "i4"
         },
         "xaxis": "x14",
         "y": {
          "bdata": "AQ==",
          "dtype": "i1"
         },
         "yaxis": "y14"
        },
        {
         "hovertemplate": "source=The Lookout<br>date=2040-10-02<br>Hour of Day=%{x}<br>Number of Communications=%{y}<extra></extra>",
         "legendgroup": "The Lookout",
         "line": {
          "color": "#FECB52",
          "dash": "solid"
         },
         "marker": {
          "symbol": "circle"
         },
         "mode": "lines",
         "name": "The Lookout",
         "orientation": "v",
         "showlegend": false,
         "type": "scatter",
         "x": {
          "bdata": "CAAAAA==",
          "dtype": "i4"
         },
         "xaxis": "x13",
         "y": {
          "bdata": "Ag==",
          "dtype": "i1"
         },
         "yaxis": "y13"
        },
        {
         "hovertemplate": "source=The Lookout<br>date=2040-10-03<br>Hour of Day=%{x}<br>Number of Communications=%{y}<extra></extra>",
         "legendgroup": "The Lookout",
         "line": {
          "color": "#FECB52",
          "dash": "solid"
         },
         "marker": {
          "symbol": "circle"
         },
         "mode": "lines",
         "name": "The Lookout",
         "orientation": "v",
         "showlegend": false,
         "type": "scatter",
         "x": {
          "bdata": "CAAAAAkAAAA=",
          "dtype": "i4"
         },
         "xaxis": "x12",
         "y": {
          "bdata": "AgE=",
          "dtype": "i1"
         },
         "yaxis": "y12"
        },
        {
         "hovertemplate": "source=The Lookout<br>date=2040-10-04<br>Hour of Day=%{x}<br>Number of Communications=%{y}<extra></extra>",
         "legendgroup": "The Lookout",
         "line": {
          "color": "#FECB52",
          "dash": "solid"
         },
         "marker": {
          "symbol": "circle"
         },
         "mode": "lines",
         "name": "The Lookout",
         "orientation": "v",
         "showlegend": false,
         "type": "scatter",
         "x": {
          "bdata": "CAAAAAwAAAA=",
          "dtype": "i4"
         },
         "xaxis": "x11",
         "y": {
          "bdata": "AQE=",
          "dtype": "i1"
         },
         "yaxis": "y11"
        },
        {
         "hovertemplate": "source=The Lookout<br>date=2040-10-05<br>Hour of Day=%{x}<br>Number of Communications=%{y}<extra></extra>",
         "legendgroup": "The Lookout",
         "line": {
          "color": "#FECB52",
          "dash": "solid"
         },
         "marker": {
          "symbol": "circle"
         },
         "mode": "lines",
         "name": "The Lookout",
         "orientation": "v",
         "showlegend": false,
         "type": "scatter",
         "x": {
          "bdata": "CAAAAAoAAAA=",
          "dtype": "i4"
         },
         "xaxis": "x10",
         "y": {
          "bdata": "AQE=",
          "dtype": "i1"
         },
         "yaxis": "y10"
        },
        {
         "hovertemplate": "source=The Lookout<br>date=2040-10-07<br>Hour of Day=%{x}<br>Number of Communications=%{y}<extra></extra>",
         "legendgroup": "The Lookout",
         "line": {
          "color": "#FECB52",
          "dash": "solid"
         },
         "marker": {
          "symbol": "circle"
         },
         "mode": "lines",
         "name": "The Lookout",
         "orientation": "v",
         "showlegend": false,
         "type": "scatter",
         "x": {
          "bdata": "CAAAAA==",
          "dtype": "i4"
         },
         "xaxis": "x8",
         "y": {
          "bdata": "AQ==",
          "dtype": "i1"
         },
         "yaxis": "y8"
        },
        {
         "hovertemplate": "source=The Lookout<br>date=2040-10-08<br>Hour of Day=%{x}<br>Number of Communications=%{y}<extra></extra>",
         "legendgroup": "The Lookout",
         "line": {
          "color": "#FECB52",
          "dash": "solid"
         },
         "marker": {
          "symbol": "circle"
         },
         "mode": "lines",
         "name": "The Lookout",
         "orientation": "v",
         "showlegend": false,
         "type": "scatter",
         "x": {
          "bdata": "CAAAAAsAAAA=",
          "dtype": "i4"
         },
         "xaxis": "x7",
         "y": {
          "bdata": "AQI=",
          "dtype": "i1"
         },
         "yaxis": "y7"
        },
        {
         "hovertemplate": "source=The Lookout<br>date=2040-10-09<br>Hour of Day=%{x}<br>Number of Communications=%{y}<extra></extra>",
         "legendgroup": "The Lookout",
         "line": {
          "color": "#FECB52",
          "dash": "solid"
         },
         "marker": {
          "symbol": "circle"
         },
         "mode": "lines",
         "name": "The Lookout",
         "orientation": "v",
         "showlegend": false,
         "type": "scatter",
         "x": {
          "bdata": "CAAAAAoAAAA=",
          "dtype": "i4"
         },
         "xaxis": "x6",
         "y": {
          "bdata": "AQE=",
          "dtype": "i1"
         },
         "yaxis": "y6"
        },
        {
         "hovertemplate": "source=The Lookout<br>date=2040-10-10<br>Hour of Day=%{x}<br>Number of Communications=%{y}<extra></extra>",
         "legendgroup": "The Lookout",
         "line": {
          "color": "#FECB52",
          "dash": "solid"
         },
         "marker": {
          "symbol": "circle"
         },
         "mode": "lines",
         "name": "The Lookout",
         "orientation": "v",
         "showlegend": false,
         "type": "scatter",
         "x": {
          "bdata": "CAAAAAoAAAAOAAAA",
          "dtype": "i4"
         },
         "xaxis": "x5",
         "y": {
          "bdata": "AgEB",
          "dtype": "i1"
         },
         "yaxis": "y5"
        },
        {
         "hovertemplate": "source=The Lookout<br>date=2040-10-11<br>Hour of Day=%{x}<br>Number of Communications=%{y}<extra></extra>",
         "legendgroup": "The Lookout",
         "line": {
          "color": "#FECB52",
          "dash": "solid"
         },
         "marker": {
          "symbol": "circle"
         },
         "mode": "lines",
         "name": "The Lookout",
         "orientation": "v",
         "showlegend": false,
         "type": "scatter",
         "x": {
          "bdata": "CAAAAAoAAAA=",
          "dtype": "i4"
         },
         "xaxis": "x4",
         "y": {
          "bdata": "AgE=",
          "dtype": "i1"
         },
         "yaxis": "y4"
        },
        {
         "hovertemplate": "source=The Lookout<br>date=2040-10-12<br>Hour of Day=%{x}<br>Number of Communications=%{y}<extra></extra>",
         "legendgroup": "The Lookout",
         "line": {
          "color": "#FECB52",
          "dash": "solid"
         },
         "marker": {
          "symbol": "circle"
         },
         "mode": "lines",
         "name": "The Lookout",
         "orientation": "v",
         "showlegend": false,
         "type": "scatter",
         "x": {
          "bdata": "CAAAAA==",
          "dtype": "i4"
         },
         "xaxis": "x3",
         "y": {
          "bdata": "Ag==",
          "dtype": "i1"
         },
         "yaxis": "y3"
        },
        {
         "hovertemplate": "source=The Lookout<br>date=2040-10-13<br>Hour of Day=%{x}<br>Number of Communications=%{y}<extra></extra>",
         "legendgroup": "The Lookout",
         "line": {
          "color": "#FECB52",
          "dash": "solid"
         },
         "marker": {
          "symbol": "circle"
         },
         "mode": "lines",
         "name": "The Lookout",
         "orientation": "v",
         "showlegend": false,
         "type": "scatter",
         "x": {
          "bdata": "CAAAAAwAAAA=",
          "dtype": "i4"
         },
         "xaxis": "x2",
         "y": {
          "bdata": "AgM=",
          "dtype": "i1"
         },
         "yaxis": "y2"
        },
        {
         "hovertemplate": "source=The Lookout<br>date=2040-10-14<br>Hour of Day=%{x}<br>Number of Communications=%{y}<extra></extra>",
         "legendgroup": "The Lookout",
         "line": {
          "color": "#FECB52",
          "dash": "solid"
         },
         "marker": {
          "symbol": "circle"
         },
         "mode": "lines",
         "name": "The Lookout",
         "orientation": "v",
         "showlegend": false,
         "type": "scatter",
         "x": {
          "bdata": "CAAAAAwAAAA=",
          "dtype": "i4"
         },
         "xaxis": "x",
         "y": {
          "bdata": "AgE=",
          "dtype": "i1"
         },
         "yaxis": "y"
        },
        {
         "hovertemplate": "source=The Middleman<br>date=2040-10-01<br>Hour of Day=%{x}<br>Number of Communications=%{y}<extra></extra>",
         "legendgroup": "The Middleman",
         "line": {
          "color": "#636efa",
          "dash": "solid"
         },
         "marker": {
          "symbol": "circle"
         },
         "mode": "lines",
         "name": "The Middleman",
         "orientation": "v",
         "showlegend": true,
         "type": "scatter",
         "x": {
          "bdata": "CAAAAAoAAAA=",
          "dtype": "i4"
         },
         "xaxis": "x14",
         "y": {
          "bdata": "AgI=",
          "dtype": "i1"
         },
         "yaxis": "y14"
        },
        {
         "hovertemplate": "source=The Middleman<br>date=2040-10-02<br>Hour of Day=%{x}<br>Number of Communications=%{y}<extra></extra>",
         "legendgroup": "The Middleman",
         "line": {
          "color": "#636efa",
          "dash": "solid"
         },
         "marker": {
          "symbol": "circle"
         },
         "mode": "lines",
         "name": "The Middleman",
         "orientation": "v",
         "showlegend": false,
         "type": "scatter",
         "x": {
          "bdata": "DQAAAA==",
          "dtype": "i4"
         },
         "xaxis": "x13",
         "y": {
          "bdata": "AQ==",
          "dtype": "i1"
         },
         "yaxis": "y13"
        },
        {
         "hovertemplate": "source=The Middleman<br>date=2040-10-04<br>Hour of Day=%{x}<br>Number of Communications=%{y}<extra></extra>",
         "legendgroup": "The Middleman",
         "line": {
          "color": "#636efa",
          "dash": "solid"
         },
         "marker": {
          "symbol": "circle"
         },
         "mode": "lines",
         "name": "The Middleman",
         "orientation": "v",
         "showlegend": false,
         "type": "scatter",
         "x": {
          "bdata": "CgAAAA==",
          "dtype": "i4"
         },
         "xaxis": "x11",
         "y": {
          "bdata": "Aw==",
          "dtype": "i1"
         },
         "yaxis": "y11"
        },
        {
         "hovertemplate": "source=The Middleman<br>date=2040-10-07<br>Hour of Day=%{x}<br>Number of Communications=%{y}<extra></extra>",
         "legendgroup": "The Middleman",
         "line": {
          "color": "#636efa",
          "dash": "solid"
         },
         "marker": {
          "symbol": "circle"
         },
         "mode": "lines",
         "name": "The Middleman",
         "orientation": "v",
         "showlegend": false,
         "type": "scatter",
         "x": {
          "bdata": "CwAAAA==",
          "dtype": "i4"
         },
         "xaxis": "x8",
         "y": {
          "bdata": "AQ==",
          "dtype": "i1"
         },
         "yaxis": "y8"
        },
        {
         "hovertemplate": "source=The Middleman<br>date=2040-10-11<br>Hour of Day=%{x}<br>Number of Communications=%{y}<extra></extra>",
         "legendgroup": "The Middleman",
         "line": {
          "color": "#636efa",
          "dash": "solid"
         },
         "marker": {
          "symbol": "circle"
         },
         "mode": "lines",
         "name": "The Middleman",
         "orientation": "v",
         "showlegend": false,
         "type": "scatter",
         "x": {
          "bdata": "CAAAAA==",
          "dtype": "i4"
         },
         "xaxis": "x4",
         "y": {
          "bdata": "AQ==",
          "dtype": "i1"
         },
         "yaxis": "y4"
        },
        {
         "hovertemplate": "source=The Middleman<br>date=2040-10-12<br>Hour of Day=%{x}<br>Number of Communications=%{y}<extra></extra>",
         "legendgroup": "The Middleman",
         "line": {
          "color": "#636efa",
          "dash": "solid"
         },
         "marker": {
          "symbol": "circle"
         },
         "mode": "lines",
         "name": "The Middleman",
         "orientation": "v",
         "showlegend": false,
         "type": "scatter",
         "x": {
          "bdata": "CAAAAA==",
          "dtype": "i4"
         },
         "xaxis": "x3",
         "y": {
          "bdata": "AQ==",
          "dtype": "i1"
         },
         "yaxis": "y3"
        },
        {
         "hovertemplate": "source=The Middleman<br>date=2040-10-13<br>Hour of Day=%{x}<br>Number of Communications=%{y}<extra></extra>",
         "legendgroup": "The Middleman",
         "line": {
          "color": "#636efa",
          "dash": "solid"
         },
         "marker": {
          "symbol": "circle"
         },
         "mode": "lines",
         "name": "The Middleman",
         "orientation": "v",
         "showlegend": false,
         "type": "scatter",
         "x": {
          "bdata": "CAAAAA==",
          "dtype": "i4"
         },
         "xaxis": "x2",
         "y": {
          "bdata": "AQ==",
          "dtype": "i1"
         },
         "yaxis": "y2"
        },
        {
         "hovertemplate": "source=The Middleman<br>date=2040-10-14<br>Hour of Day=%{x}<br>Number of Communications=%{y}<extra></extra>",
         "legendgroup": "The Middleman",
         "line": {
          "color": "#636efa",
          "dash": "solid"
         },
         "marker": {
          "symbol": "circle"
         },
         "mode": "lines",
         "name": "The Middleman",
         "orientation": "v",
         "showlegend": false,
         "type": "scatter",
         "x": {
          "bdata": "CAAAAA==",
          "dtype": "i4"
         },
         "xaxis": "x",
         "y": {
          "bdata": "AQ==",
          "dtype": "i1"
         },
         "yaxis": "y"
        },
        {
         "hovertemplate": "source=Clepper Jensen<br>date=2040-10-02<br>Hour of Day=%{x}<br>Number of Communications=%{y}<extra></extra>",
         "legendgroup": "Clepper Jensen",
         "line": {
          "color": "#EF553B",
          "dash": "solid"
         },
         "marker": {
          "symbol": "circle"
         },
         "mode": "lines",
         "name": "Clepper Jensen",
         "orientation": "v",
         "showlegend": true,
         "type": "scatter",
         "x": {
          "bdata": "DAAAAA==",
          "dtype": "i4"
         },
         "xaxis": "x13",
         "y": {
          "bdata": "BA==",
          "dtype": "i1"
         },
         "yaxis": "y13"
        },
        {
         "hovertemplate": "source=Clepper Jensen<br>date=2040-10-03<br>Hour of Day=%{x}<br>Number of Communications=%{y}<extra></extra>",
         "legendgroup": "Clepper Jensen",
         "line": {
          "color": "#EF553B",
          "dash": "solid"
         },
         "marker": {
          "symbol": "circle"
         },
         "mode": "lines",
         "name": "Clepper Jensen",
         "orientation": "v",
         "showlegend": false,
         "type": "scatter",
         "x": {
          "bdata": "CQAAAA==",
          "dtype": "i4"
         },
         "xaxis": "x12",
         "y": {
          "bdata": "Aw==",
          "dtype": "i1"
         },
         "yaxis": "y12"
        },
        {
         "hovertemplate": "source=Clepper Jensen<br>date=2040-10-05<br>Hour of Day=%{x}<br>Number of Communications=%{y}<extra></extra>",
         "legendgroup": "Clepper Jensen",
         "line": {
          "color": "#EF553B",
          "dash": "solid"
         },
         "marker": {
          "symbol": "circle"
         },
         "mode": "lines",
         "name": "Clepper Jensen",
         "orientation": "v",
         "showlegend": false,
         "type": "scatter",
         "x": {
          "bdata": "CgAAAAwAAAA=",
          "dtype": "i4"
         },
         "xaxis": "x10",
         "y": {
          "bdata": "AwE=",
          "dtype": "i1"
         },
         "yaxis": "y10"
        },
        {
         "hovertemplate": "source=Clepper Jensen<br>date=2040-10-07<br>Hour of Day=%{x}<br>Number of Communications=%{y}<extra></extra>",
         "legendgroup": "Clepper Jensen",
         "line": {
          "color": "#EF553B",
          "dash": "solid"
         },
         "marker": {
          "symbol": "circle"
         },
         "mode": "lines",
         "name": "Clepper Jensen",
         "orientation": "v",
         "showlegend": false,
         "type": "scatter",
         "x": {
          "bdata": "CgAAAA==",
          "dtype": "i4"
         },
         "xaxis": "x8",
         "y": {
          "bdata": "BQ==",
          "dtype": "i1"
         },
         "yaxis": "y8"
        },
        {
         "hovertemplate": "source=Clepper Jensen<br>date=2040-10-11<br>Hour of Day=%{x}<br>Number of Communications=%{y}<extra></extra>",
         "legendgroup": "Clepper Jensen",
         "line": {
          "color": "#EF553B",
          "dash": "solid"
         },
         "marker": {
          "symbol": "circle"
         },
         "mode": "lines",
         "name": "Clepper Jensen",
         "orientation": "v",
         "showlegend": false,
         "type": "scatter",
         "x": {
          "bdata": "CgAAAA==",
          "dtype": "i4"
         },
         "xaxis": "x4",
         "y": {
          "bdata": "BA==",
          "dtype": "i1"
         },
         "yaxis": "y4"
        },
        {
         "hovertemplate": "source=EcoVigil<br>date=2040-10-02<br>Hour of Day=%{x}<br>Number of Communications=%{y}<extra></extra>",
         "legendgroup": "EcoVigil",
         "line": {
          "color": "#00cc96",
          "dash": "solid"
         },
         "marker": {
          "symbol": "circle"
         },
         "mode": "lines",
         "name": "EcoVigil",
         "orientation": "v",
         "showlegend": true,
         "type": "scatter",
         "x": {
          "bdata": "CgAAAA==",
          "dtype": "i4"
         },
         "xaxis": "x13",
         "y": {
          "bdata": "Ag==",
          "dtype": "i1"
         },
         "yaxis": "y13"
        },
        {
         "hovertemplate": "source=EcoVigil<br>date=2040-10-03<br>Hour of Day=%{x}<br>Number of Communications=%{y}<extra></extra>",
         "legendgroup": "EcoVigil",
         "line": {
          "color": "#00cc96",
          "dash": "solid"
         },
         "marker": {
          "symbol": "circle"
         },
         "mode": "lines",
         "name": "EcoVigil",
         "orientation": "v",
         "showlegend": false,
         "type": "scatter",
         "x": {
          "bdata": "CgAAAA==",
          "dtype": "i4"
         },
         "xaxis": "x12",
         "y": {
          "bdata": "AQ==",
          "dtype": "i1"
         },
         "yaxis": "y12"
        },
        {
         "hovertemplate": "source=EcoVigil<br>date=2040-10-06<br>Hour of Day=%{x}<br>Number of Communications=%{y}<extra></extra>",
         "legendgroup": "EcoVigil",
         "line": {
          "color": "#00cc96",
          "dash": "solid"
         },
         "marker": {
          "symbol": "circle"
         },
         "mode": "lines",
         "name": "EcoVigil",
         "orientation": "v",
         "showlegend": false,
         "type": "scatter",
         "x": {
          "bdata": "DAAAAA==",
          "dtype": "i4"
         },
         "xaxis": "x9",
         "y": {
          "bdata": "AQ==",
          "dtype": "i1"
         },
         "yaxis": "y9"
        },
        {
         "hovertemplate": "source=EcoVigil<br>date=2040-10-09<br>Hour of Day=%{x}<br>Number of Communications=%{y}<extra></extra>",
         "legendgroup": "EcoVigil",
         "line": {
          "color": "#00cc96",
          "dash": "solid"
         },
         "marker": {
          "symbol": "circle"
         },
         "mode": "lines",
         "name": "EcoVigil",
         "orientation": "v",
         "showlegend": false,
         "type": "scatter",
         "x": {
          "bdata": "CgAAAA==",
          "dtype": "i4"
         },
         "xaxis": "x6",
         "y": {
          "bdata": "AQ==",
          "dtype": "i1"
         },
         "yaxis": "y6"
        },
        {
         "hovertemplate": "source=EcoVigil<br>date=2040-10-11<br>Hour of Day=%{x}<br>Number of Communications=%{y}<extra></extra>",
         "legendgroup": "EcoVigil",
         "line": {
          "color": "#00cc96",
          "dash": "solid"
         },
         "marker": {
          "symbol": "circle"
         },
         "mode": "lines",
         "name": "EcoVigil",
         "orientation": "v",
         "showlegend": false,
         "type": "scatter",
         "x": {
          "bdata": "CAAAAAkAAAA=",
          "dtype": "i4"
         },
         "xaxis": "x4",
         "y": {
          "bdata": "AQQ=",
          "dtype": "i1"
         },
         "yaxis": "y4"
        },
        {
         "hovertemplate": "source=EcoVigil<br>date=2040-10-14<br>Hour of Day=%{x}<br>Number of Communications=%{y}<extra></extra>",
         "legendgroup": "EcoVigil",
         "line": {
          "color": "#00cc96",
          "dash": "solid"
         },
         "marker": {
          "symbol": "circle"
         },
         "mode": "lines",
         "name": "EcoVigil",
         "orientation": "v",
         "showlegend": false,
         "type": "scatter",
         "x": {
          "bdata": "CQAAAAsAAAA=",
          "dtype": "i4"
         },
         "xaxis": "x",
         "y": {
          "bdata": "AQM=",
          "dtype": "i1"
         },
         "yaxis": "y"
        },
        {
         "hovertemplate": "source=Haacklee Harbor<br>date=2040-10-02<br>Hour of Day=%{x}<br>Number of Communications=%{y}<extra></extra>",
         "legendgroup": "Haacklee Harbor",
         "line": {
          "color": "#ab63fa",
          "dash": "solid"
         },
         "marker": {
          "symbol": "circle"
         },
         "mode": "lines",
         "name": "Haacklee Harbor",
         "orientation": "v",
         "showlegend": true,
         "type": "scatter",
         "x": {
          "bdata": "CAAAAA==",
          "dtype": "i4"
         },
         "xaxis": "x13",
         "y": {
          "bdata": "AQ==",
          "dtype": "i1"
         },
         "yaxis": "y13"
        },
        {
         "hovertemplate": "source=Haacklee Harbor<br>date=2040-10-04<br>Hour of Day=%{x}<br>Number of Communications=%{y}<extra></extra>",
         "legendgroup": "Haacklee Harbor",
         "line": {
          "color": "#ab63fa",
          "dash": "solid"
         },
         "marker": {
          "symbol": "circle"
         },
         "mode": "lines",
         "name": "Haacklee Harbor",
         "orientation": "v",
         "showlegend": false,
         "type": "scatter",
         "x": {
          "bdata": "DQAAAA==",
          "dtype": "i4"
         },
         "xaxis": "x11",
         "y": {
          "bdata": "AQ==",
          "dtype": "i1"
         },
         "yaxis": "y11"
        },
        {
         "hovertemplate": "source=Haacklee Harbor<br>date=2040-10-05<br>Hour of Day=%{x}<br>Number of Communications=%{y}<extra></extra>",
         "legendgroup": "Haacklee Harbor",
         "line": {
          "color": "#ab63fa",
          "dash": "solid"
         },
         "marker": {
          "symbol": "circle"
         },
         "mode": "lines",
         "name": "Haacklee Harbor",
         "orientation": "v",
         "showlegend": false,
         "type": "scatter",
         "x": {
          "bdata": "CQAAAA==",
          "dtype": "i4"
         },
         "xaxis": "x10",
         "y": {
          "bdata": "Ag==",
          "dtype": "i1"
         },
         "yaxis": "y10"
        },
        {
         "hovertemplate": "source=Haacklee Harbor<br>date=2040-10-10<br>Hour of Day=%{x}<br>Number of Communications=%{y}<extra></extra>",
         "legendgroup": "Haacklee Harbor",
         "line": {
          "color": "#ab63fa",
          "dash": "solid"
         },
         "marker": {
          "symbol": "circle"
         },
         "mode": "lines",
         "name": "Haacklee Harbor",
         "orientation": "v",
         "showlegend": false,
         "type": "scatter",
         "x": {
          "bdata": "CQAAAA==",
          "dtype": "i4"
         },
         "xaxis": "x5",
         "y": {
          "bdata": "AQ==",
          "dtype": "i1"
         },
         "yaxis": "y5"
        },
        {
         "hovertemplate": "source=Haacklee Harbor<br>date=2040-10-13<br>Hour of Day=%{x}<br>Number of Communications=%{y}<extra></extra>",
         "legendgroup": "Haacklee Harbor",
         "line": {
          "color": "#ab63fa",
          "dash": "solid"
         },
         "marker": {
          "symbol": "circle"
         },
         "mode": "lines",
         "name": "Haacklee Harbor",
         "orientation": "v",
         "showlegend": false,
         "type": "scatter",
         "x": {
          "bdata": "CwAAAA==",
          "dtype": "i4"
         },
         "xaxis": "x2",
         "y": {
          "bdata": "Ag==",
          "dtype": "i1"
         },
         "yaxis": "y2"
        },
        {
         "hovertemplate": "source=Miranda Jordan<br>date=2040-10-02<br>Hour of Day=%{x}<br>Number of Communications=%{y}<extra></extra>",
         "legendgroup": "Miranda Jordan",
         "line": {
          "color": "#FFA15A",
          "dash": "solid"
         },
         "marker": {
          "symbol": "circle"
         },
         "mode": "lines",
         "name": "Miranda Jordan",
         "orientation": "v",
         "showlegend": true,
         "type": "scatter",
         "x": {
          "bdata": "DAAAAA==",
          "dtype": "i4"
         },
         "xaxis": "x13",
         "y": {
          "bdata": "Aw==",
          "dtype": "i1"
         },
         "yaxis": "y13"
        },
        {
         "hovertemplate": "source=Miranda Jordan<br>date=2040-10-03<br>Hour of Day=%{x}<br>Number of Communications=%{y}<extra></extra>",
         "legendgroup": "Miranda Jordan",
         "line": {
          "color": "#FFA15A",
          "dash": "solid"
         },
         "marker": {
          "symbol": "circle"
         },
         "mode": "lines",
         "name": "Miranda Jordan",
         "orientation": "v",
         "showlegend": false,
         "type": "scatter",
         "x": {
          "bdata": "CQAAAA==",
          "dtype": "i4"
         },
         "xaxis": "x12",
         "y": {
          "bdata": "Aw==",
          "dtype": "i1"
         },
         "yaxis": "y12"
        },
        {
         "hovertemplate": "source=Miranda Jordan<br>date=2040-10-05<br>Hour of Day=%{x}<br>Number of Communications=%{y}<extra></extra>",
         "legendgroup": "Miranda Jordan",
         "line": {
          "color": "#FFA15A",
          "dash": "solid"
         },
         "marker": {
          "symbol": "circle"
         },
         "mode": "lines",
         "name": "Miranda Jordan",
         "orientation": "v",
         "showlegend": false,
         "type": "scatter",
         "x": {
          "bdata": "CgAAAAwAAAA=",
          "dtype": "i4"
         },
         "xaxis": "x10",
         "y": {
          "bdata": "AgE=",
          "dtype": "i1"
         },
         "yaxis": "y10"
        },
        {
         "hovertemplate": "source=Miranda Jordan<br>date=2040-10-07<br>Hour of Day=%{x}<br>Number of Communications=%{y}<extra></extra>",
         "legendgroup": "Miranda Jordan",
         "line": {
          "color": "#FFA15A",
          "dash": "solid"
         },
         "marker": {
          "symbol": "circle"
         },
         "mode": "lines",
         "name": "Miranda Jordan",
         "orientation": "v",
         "showlegend": false,
         "type": "scatter",
         "x": {
          "bdata": "CgAAAA==",
          "dtype": "i4"
         },
         "xaxis": "x8",
         "y": {
          "bdata": "BA==",
          "dtype": "i1"
         },
         "yaxis": "y8"
        },
        {
         "hovertemplate": "source=Miranda Jordan<br>date=2040-10-11<br>Hour of Day=%{x}<br>Number of Communications=%{y}<extra></extra>",
         "legendgroup": "Miranda Jordan",
         "line": {
          "color": "#FFA15A",
          "dash": "solid"
         },
         "marker": {
          "symbol": "circle"
         },
         "mode": "lines",
         "name": "Miranda Jordan",
         "orientation": "v",
         "showlegend": false,
         "type": "scatter",
         "x": {
          "bdata": "CgAAAA==",
          "dtype": "i4"
         },
         "xaxis": "x4",
         "y": {
          "bdata": "BQ==",
          "dtype": "i1"
         },
         "yaxis": "y4"
        },
        {
         "hovertemplate": "source=Osprey<br>date=2040-10-02<br>Hour of Day=%{x}<br>Number of Communications=%{y}<extra></extra>",
         "legendgroup": "Osprey",
         "line": {
          "color": "#19d3f3",
          "dash": "solid"
         },
         "marker": {
          "symbol": "circle"
         },
         "mode": "lines",
         "name": "Osprey",
         "orientation": "v",
         "showlegend": true,
         "type": "scatter",
         "x": {
          "bdata": "CAAAAAwAAAA=",
          "dtype": "i4"
         },
         "xaxis": "x13",
         "y": {
          "bdata": "AQI=",
          "dtype": "i1"
         },
         "yaxis": "y13"
        },
        {
         "hovertemplate": "source=Osprey<br>date=2040-10-10<br>Hour of Day=%{x}<br>Number of Communications=%{y}<extra></extra>",
         "legendgroup": "Osprey",
         "line": {
          "color": "#19d3f3",
          "dash": "solid"
         },
         "marker": {
          "symbol": "circle"
         },
         "mode": "lines",
         "name": "Osprey",
         "orientation": "v",
         "showlegend": false,
         "type": "scatter",
         "x": {
          "bdata": "CQAAAA==",
          "dtype": "i4"
         },
         "xaxis": "x5",
         "y": {
          "bdata": "AQ==",
          "dtype": "i1"
         },
         "yaxis": "y5"
        },
        {
         "hovertemplate": "source=Osprey<br>date=2040-10-12<br>Hour of Day=%{x}<br>Number of Communications=%{y}<extra></extra>",
         "legendgroup": "Osprey",
         "line": {
          "color": "#19d3f3",
          "dash": "solid"
         },
         "marker": {
          "symbol": "circle"
         },
         "mode": "lines",
         "name": "Osprey",
         "orientation": "v",
         "showlegend": false,
         "type": "scatter",
         "x": {
          "bdata": "CQAAAA==",
          "dtype": "i4"
         },
         "xaxis": "x3",
         "y": {
          "bdata": "Ag==",
          "dtype": "i1"
         },
         "yaxis": "y3"
        },
        {
         "hovertemplate": "source=Rodriguez<br>date=2040-10-02<br>Hour of Day=%{x}<br>Number of Communications=%{y}<extra></extra>",
         "legendgroup": "Rodriguez",
         "line": {
          "color": "#FF6692",
          "dash": "solid"
         },
         "marker": {
          "symbol": "circle"
         },
         "mode": "lines",
         "name": "Rodriguez",
         "orientation": "v",
         "showlegend": true,
         "type": "scatter",
         "x": {
          "bdata": "DAAAAA==",
          "dtype": "i4"
         },
         "xaxis": "x13",
         "y": {
          "bdata": "AQ==",
          "dtype": "i1"
         },
         "yaxis": "y13"
        },
        {
         "hovertemplate": "source=Rodriguez<br>date=2040-10-03<br>Hour of Day=%{x}<br>Number of Communications=%{y}<extra></extra>",
         "legendgroup": "Rodriguez",
         "line": {
          "color": "#FF6692",
          "dash": "solid"
         },
         "marker": {
          "symbol": "circle"
         },
         "mode": "lines",
         "name": "Rodriguez",
         "orientation": "v",
         "showlegend": false,
         "type": "scatter",
         "x": {
          "bdata": "CQAAAAsAAAA=",
          "dtype": "i4"
         },
         "xaxis": "x12",
         "y": {
          "bdata": "AQE=",
          "dtype": "i1"
         },
         "yaxis": "y12"
        },
        {
         "hovertemplate": "source=Rodriguez<br>date=2040-10-05<br>Hour of Day=%{x}<br>Number of Communications=%{y}<extra></extra>",
         "legendgroup": "Rodriguez",
         "line": {
          "color": "#FF6692",
          "dash": "solid"
         },
         "marker": {
          "symbol": "circle"
         },
         "mode": "lines",
         "name": "Rodriguez",
         "orientation": "v",
         "showlegend": false,
         "type": "scatter",
         "x": {
          "bdata": "CQAAAA==",
          "dtype": "i4"
         },
         "xaxis": "x10",
         "y": {
          "bdata": "AQ==",
          "dtype": "i1"
         },
         "yaxis": "y10"
        },
        {
         "hovertemplate": "source=Rodriguez<br>date=2040-10-06<br>Hour of Day=%{x}<br>Number of Communications=%{y}<extra></extra>",
         "legendgroup": "Rodriguez",
         "line": {
          "color": "#FF6692",
          "dash": "solid"
         },
         "marker": {
          "symbol": "circle"
         },
         "mode": "lines",
         "name": "Rodriguez",
         "orientation": "v",
         "showlegend": false,
         "type": "scatter",
         "x": {
          "bdata": "CgAAAA==",
          "dtype": "i4"
         },
         "xaxis": "x9",
         "y": {
          "bdata": "AQ==",
          "dtype": "i1"
         },
         "yaxis": "y9"
        },
        {
         "hovertemplate": "source=Rodriguez<br>date=2040-10-07<br>Hour of Day=%{x}<br>Number of Communications=%{y}<extra></extra>",
         "legendgroup": "Rodriguez",
         "line": {
          "color": "#FF6692",
          "dash": "solid"
         },
         "marker": {
          "symbol": "circle"
         },
         "mode": "lines",
         "name": "Rodriguez",
         "orientation": "v",
         "showlegend": false,
         "type": "scatter",
         "x": {
          "bdata": "CwAAAA==",
          "dtype": "i4"
         },
         "xaxis": "x8",
         "y": {
          "bdata": "AQ==",
          "dtype": "i1"
         },
         "yaxis": "y8"
        },
        {
         "hovertemplate": "source=Rodriguez<br>date=2040-10-08<br>Hour of Day=%{x}<br>Number of Communications=%{y}<extra></extra>",
         "legendgroup": "Rodriguez",
         "line": {
          "color": "#FF6692",
          "dash": "solid"
         },
         "marker": {
          "symbol": "circle"
         },
         "mode": "lines",
         "name": "Rodriguez",
         "orientation": "v",
         "showlegend": false,
         "type": "scatter",
         "x": {
          "bdata": "CgAAAAsAAAA=",
          "dtype": "i4"
         },
         "xaxis": "x7",
         "y": {
          "bdata": "AQE=",
          "dtype": "i1"
         },
         "yaxis": "y7"
        },
        {
         "hovertemplate": "source=Rodriguez<br>date=2040-10-11<br>Hour of Day=%{x}<br>Number of Communications=%{y}<extra></extra>",
         "legendgroup": "Rodriguez",
         "line": {
          "color": "#FF6692",
          "dash": "solid"
         },
         "marker": {
          "symbol": "circle"
         },
         "mode": "lines",
         "name": "Rodriguez",
         "orientation": "v",
         "showlegend": false,
         "type": "scatter",
         "x": {
          "bdata": "CgAAAA==",
          "dtype": "i4"
         },
         "xaxis": "x4",
         "y": {
          "bdata": "AQ==",
          "dtype": "i1"
         },
         "yaxis": "y4"
        },
        {
         "hovertemplate": "source=Rodriguez<br>date=2040-10-12<br>Hour of Day=%{x}<br>Number of Communications=%{y}<extra></extra>",
         "legendgroup": "Rodriguez",
         "line": {
          "color": "#FF6692",
          "dash": "solid"
         },
         "marker": {
          "symbol": "circle"
         },
         "mode": "lines",
         "name": "Rodriguez",
         "orientation": "v",
         "showlegend": false,
         "type": "scatter",
         "x": {
          "bdata": "CQAAAA==",
          "dtype": "i4"
         },
         "xaxis": "x3",
         "y": {
          "bdata": "Aw==",
          "dtype": "i1"
         },
         "yaxis": "y3"
        },
        {
         "hovertemplate": "source=Rodriguez<br>date=2040-10-13<br>Hour of Day=%{x}<br>Number of Communications=%{y}<extra></extra>",
         "legendgroup": "Rodriguez",
         "line": {
          "color": "#FF6692",
          "dash": "solid"
         },
         "marker": {
          "symbol": "circle"
         },
         "mode": "lines",
         "name": "Rodriguez",
         "orientation": "v",
         "showlegend": false,
         "type": "scatter",
         "x": {
          "bdata": "CwAAAA==",
          "dtype": "i4"
         },
         "xaxis": "x2",
         "y": {
          "bdata": "AQ==",
          "dtype": "i1"
         },
         "yaxis": "y2"
        },
        {
         "hovertemplate": "source=Rodriguez<br>date=2040-10-14<br>Hour of Day=%{x}<br>Number of Communications=%{y}<extra></extra>",
         "legendgroup": "Rodriguez",
         "line": {
          "color": "#FF6692",
          "dash": "solid"
         },
         "marker": {
          "symbol": "circle"
         },
         "mode": "lines",
         "name": "Rodriguez",
         "orientation": "v",
         "showlegend": false,
         "type": "scatter",
         "x": {
          "bdata": "DAAAAA==",
          "dtype": "i4"
         },
         "xaxis": "x",
         "y": {
          "bdata": "AQ==",
          "dtype": "i1"
         },
         "yaxis": "y"
        },
        {
         "hovertemplate": "source=Small Fry<br>date=2040-10-02<br>Hour of Day=%{x}<br>Number of Communications=%{y}<extra></extra>",
         "legendgroup": "Small Fry",
         "line": {
          "color": "#B6E880",
          "dash": "solid"
         },
         "marker": {
          "symbol": "circle"
         },
         "mode": "lines",
         "name": "Small Fry",
         "orientation": "v",
         "showlegend": true,
         "type": "scatter",
         "x": {
          "bdata": "DAAAAA0AAAA=",
          "dtype": "i4"
         },
         "xaxis": "x13",
         "y": {
          "bdata": "AQE=",
          "dtype": "i1"
         },
         "yaxis": "y13"
        },
        {
         "hovertemplate": "source=Small Fry<br>date=2040-10-07<br>Hour of Day=%{x}<br>Number of Communications=%{y}<extra></extra>",
         "legendgroup": "Small Fry",
         "line": {
          "color": "#B6E880",
          "dash": "solid"
         },
         "marker": {
          "symbol": "circle"
         },
         "mode": "lines",
         "name": "Small Fry",
         "orientation": "v",
         "showlegend": false,
         "type": "scatter",
         "x": {
          "bdata": "CwAAAA==",
          "dtype": "i4"
         },
         "xaxis": "x8",
         "y": {
          "bdata": "AQ==",
          "dtype": "i1"
         },
         "yaxis": "y8"
        },
        {
         "hovertemplate": "source=Small Fry<br>date=2040-10-12<br>Hour of Day=%{x}<br>Number of Communications=%{y}<extra></extra>",
         "legendgroup": "Small Fry",
         "line": {
          "color": "#B6E880",
          "dash": "solid"
         },
         "marker": {
          "symbol": "circle"
         },
         "mode": "lines",
         "name": "Small Fry",
         "orientation": "v",
         "showlegend": false,
         "type": "scatter",
         "x": {
          "bdata": "CQAAAAsAAAA=",
          "dtype": "i4"
         },
         "xaxis": "x3",
         "y": {
          "bdata": "AQE=",
          "dtype": "i1"
         },
         "yaxis": "y3"
        },
        {
         "hovertemplate": "source=Small Fry<br>date=2040-10-14<br>Hour of Day=%{x}<br>Number of Communications=%{y}<extra></extra>",
         "legendgroup": "Small Fry",
         "line": {
          "color": "#B6E880",
          "dash": "solid"
         },
         "marker": {
          "symbol": "circle"
         },
         "mode": "lines",
         "name": "Small Fry",
         "orientation": "v",
         "showlegend": false,
         "type": "scatter",
         "x": {
          "bdata": "CQAAAAwAAAA=",
          "dtype": "i4"
         },
         "xaxis": "x",
         "y": {
          "bdata": "AQE=",
          "dtype": "i1"
         },
         "yaxis": "y"
        },
        {
         "hovertemplate": "source=Defender<br>date=2040-10-03<br>Hour of Day=%{x}<br>Number of Communications=%{y}<extra></extra>",
         "legendgroup": "Defender",
         "line": {
          "color": "#FF97FF",
          "dash": "solid"
         },
         "marker": {
          "symbol": "circle"
         },
         "mode": "lines",
         "name": "Defender",
         "orientation": "v",
         "showlegend": true,
         "type": "scatter",
         "x": {
          "bdata": "CAAAAA==",
          "dtype": "i4"
         },
         "xaxis": "x12",
         "y": {
          "bdata": "Ag==",
          "dtype": "i1"
         },
         "yaxis": "y12"
        },
        {
         "hovertemplate": "source=Defender<br>date=2040-10-10<br>Hour of Day=%{x}<br>Number of Communications=%{y}<extra></extra>",
         "legendgroup": "Defender",
         "line": {
          "color": "#FF97FF",
          "dash": "solid"
         },
         "marker": {
          "symbol": "circle"
         },
         "mode": "lines",
         "name": "Defender",
         "orientation": "v",
         "showlegend": false,
         "type": "scatter",
         "x": {
          "bdata": "CwAAAA==",
          "dtype": "i4"
         },
         "xaxis": "x5",
         "y": {
          "bdata": "AQ==",
          "dtype": "i1"
         },
         "yaxis": "y5"
        },
        {
         "hovertemplate": "source=Defender<br>date=2040-10-12<br>Hour of Day=%{x}<br>Number of Communications=%{y}<extra></extra>",
         "legendgroup": "Defender",
         "line": {
          "color": "#FF97FF",
          "dash": "solid"
         },
         "marker": {
          "symbol": "circle"
         },
         "mode": "lines",
         "name": "Defender",
         "orientation": "v",
         "showlegend": false,
         "type": "scatter",
         "x": {
          "bdata": "DAAAAA==",
          "dtype": "i4"
         },
         "xaxis": "x3",
         "y": {
          "bdata": "AQ==",
          "dtype": "i1"
         },
         "yaxis": "y3"
        },
        {
         "hovertemplate": "source=Defender<br>date=2040-10-14<br>Hour of Day=%{x}<br>Number of Communications=%{y}<extra></extra>",
         "legendgroup": "Defender",
         "line": {
          "color": "#FF97FF",
          "dash": "solid"
         },
         "marker": {
          "symbol": "circle"
         },
         "mode": "lines",
         "name": "Defender",
         "orientation": "v",
         "showlegend": false,
         "type": "scatter",
         "x": {
          "bdata": "DQAAAA==",
          "dtype": "i4"
         },
         "xaxis": "x",
         "y": {
          "bdata": "AQ==",
          "dtype": "i1"
         },
         "yaxis": "y"
        },
        {
         "hovertemplate": "source=Northern Light<br>date=2040-10-03<br>Hour of Day=%{x}<br>Number of Communications=%{y}<extra></extra>",
         "legendgroup": "Northern Light",
         "line": {
          "color": "#FECB52",
          "dash": "solid"
         },
         "marker": {
          "symbol": "circle"
         },
         "mode": "lines",
         "name": "Northern Light",
         "orientation": "v",
         "showlegend": true,
         "type": "scatter",
         "x": {
          "bdata": "CgAAAA==",
          "dtype": "i4"
         },
         "xaxis": "x12",
         "y": {
          "bdata": "Aw==",
          "dtype": "i1"
         },
         "yaxis": "y12"
        },
        {
         "hovertemplate": "source=Northern Light<br>date=2040-10-09<br>Hour of Day=%{x}<br>Number of Communications=%{y}<extra></extra>",
         "legendgroup": "Northern Light",
         "line": {
          "color": "#FECB52",
          "dash": "solid"
         },
         "marker": {
          "symbol": "circle"
         },
         "mode": "lines",
         "name": "Northern Light",
         "orientation": "v",
         "showlegend": false,
         "type": "scatter",
         "x": {
          "bdata": "CwAAAA==",
          "dtype": "i4"
         },
         "xaxis": "x6",
         "y": {
          "bdata": "AQ==",
          "dtype": "i1"
         },
         "yaxis": "y6"
        },
        {
         "hovertemplate": "source=V. Miesel Shipping<br>date=2040-10-03<br>Hour of Day=%{x}<br>Number of Communications=%{y}<extra></extra>",
         "legendgroup": "V. Miesel Shipping",
         "line": {
          "color": "#636efa",
          "dash": "solid"
         },
         "marker": {
          "symbol": "circle"
         },
         "mode": "lines",
         "name": "V. Miesel Shipping",
         "orientation": "v",
         "showlegend": true,
         "type": "scatter",
         "x": {
          "bdata": "CgAAAA==",
          "dtype": "i4"
         },
         "xaxis": "x12",
         "y": {
          "bdata": "AQ==",
          "dtype": "i1"
         },
         "yaxis": "y12"
        },
        {
         "hovertemplate": "source=V. Miesel Shipping<br>date=2040-10-04<br>Hour of Day=%{x}<br>Number of Communications=%{y}<extra></extra>",
         "legendgroup": "V. Miesel Shipping",
         "line": {
          "color": "#636efa",
          "dash": "solid"
         },
         "marker": {
          "symbol": "circle"
         },
         "mode": "lines",
         "name": "V. Miesel Shipping",
         "orientation": "v",
         "showlegend": false,
         "type": "scatter",
         "x": {
          "bdata": "DQAAAA==",
          "dtype": "i4"
         },
         "xaxis": "x11",
         "y": {
          "bdata": "AQ==",
          "dtype": "i1"
         },
         "yaxis": "y11"
        },
        {
         "hovertemplate": "source=V. Miesel Shipping<br>date=2040-10-05<br>Hour of Day=%{x}<br>Number of Communications=%{y}<extra></extra>",
         "legendgroup": "V. Miesel Shipping",
         "line": {
          "color": "#636efa",
          "dash": "solid"
         },
         "marker": {
          "symbol": "circle"
         },
         "mode": "lines",
         "name": "V. Miesel Shipping",
         "orientation": "v",
         "showlegend": false,
         "type": "scatter",
         "x": {
          "bdata": "CgAAAA==",
          "dtype": "i4"
         },
         "xaxis": "x10",
         "y": {
          "bdata": "AQ==",
          "dtype": "i1"
         },
         "yaxis": "y10"
        },
        {
         "hovertemplate": "source=V. Miesel Shipping<br>date=2040-10-06<br>Hour of Day=%{x}<br>Number of Communications=%{y}<extra></extra>",
         "legendgroup": "V. Miesel Shipping",
         "line": {
          "color": "#636efa",
          "dash": "solid"
         },
         "marker": {
          "symbol": "circle"
         },
         "mode": "lines",
         "name": "V. Miesel Shipping",
         "orientation": "v",
         "showlegend": false,
         "type": "scatter",
         "x": {
          "bdata": "DAAAAA==",
          "dtype": "i4"
         },
         "xaxis": "x9",
         "y": {
          "bdata": "AQ==",
          "dtype": "i1"
         },
         "yaxis": "y9"
        },
        {
         "hovertemplate": "source=V. Miesel Shipping<br>date=2040-10-09<br>Hour of Day=%{x}<br>Number of Communications=%{y}<extra></extra>",
         "legendgroup": "V. Miesel Shipping",
         "line": {
          "color": "#636efa",
          "dash": "solid"
         },
         "marker": {
          "symbol": "circle"
         },
         "mode": "lines",
         "name": "V. Miesel Shipping",
         "orientation": "v",
         "showlegend": false,
         "type": "scatter",
         "x": {
          "bdata": "CwAAAA==",
          "dtype": "i4"
         },
         "xaxis": "x6",
         "y": {
          "bdata": "Ag==",
          "dtype": "i1"
         },
         "yaxis": "y6"
        },
        {
         "hovertemplate": "source=V. Miesel Shipping<br>date=2040-10-11<br>Hour of Day=%{x}<br>Number of Communications=%{y}<extra></extra>",
         "legendgroup": "V. Miesel Shipping",
         "line": {
          "color": "#636efa",
          "dash": "solid"
         },
         "marker": {
          "symbol": "circle"
         },
         "mode": "lines",
         "name": "V. Miesel Shipping",
         "orientation": "v",
         "showlegend": false,
         "type": "scatter",
         "x": {
          "bdata": "CAAAAAkAAAAKAAAA",
          "dtype": "i4"
         },
         "xaxis": "x4",
         "y": {
          "bdata": "AQEB",
          "dtype": "i1"
         },
         "yaxis": "y4"
        },
        {
         "hovertemplate": "source=V. Miesel Shipping<br>date=2040-10-12<br>Hour of Day=%{x}<br>Number of Communications=%{y}<extra></extra>",
         "legendgroup": "V. Miesel Shipping",
         "line": {
          "color": "#636efa",
          "dash": "solid"
         },
         "marker": {
          "symbol": "circle"
         },
         "mode": "lines",
         "name": "V. Miesel Shipping",
         "orientation": "v",
         "showlegend": false,
         "type": "scatter",
         "x": {
          "bdata": "CQAAAAoAAAALAAAADAAAAA==",
          "dtype": "i4"
         },
         "xaxis": "x3",
         "y": {
          "bdata": "AQEDAQ==",
          "dtype": "i1"
         },
         "yaxis": "y3"
        },
        {
         "hovertemplate": "source=Sailor Shifts Team<br>date=2040-10-04<br>Hour of Day=%{x}<br>Number of Communications=%{y}<extra></extra>",
         "legendgroup": "Sailor Shifts Team",
         "line": {
          "color": "#EF553B",
          "dash": "solid"
         },
         "marker": {
          "symbol": "circle"
         },
         "mode": "lines",
         "name": "Sailor Shifts Team",
         "orientation": "v",
         "showlegend": true,
         "type": "scatter",
         "x": {
          "bdata": "CgAAAA==",
          "dtype": "i4"
         },
         "xaxis": "x11",
         "y": {
          "bdata": "AQ==",
          "dtype": "i1"
         },
         "yaxis": "y11"
        },
        {
         "hovertemplate": "source=Sailor Shifts Team<br>date=2040-10-07<br>Hour of Day=%{x}<br>Number of Communications=%{y}<extra></extra>",
         "legendgroup": "Sailor Shifts Team",
         "line": {
          "color": "#EF553B",
          "dash": "solid"
         },
         "marker": {
          "symbol": "circle"
         },
         "mode": "lines",
         "name": "Sailor Shifts Team",
         "orientation": "v",
         "showlegend": false,
         "type": "scatter",
         "x": {
          "bdata": "CwAAAA==",
          "dtype": "i4"
         },
         "xaxis": "x8",
         "y": {
          "bdata": "AQ==",
          "dtype": "i1"
         },
         "yaxis": "y8"
        },
        {
         "hovertemplate": "source=Nadia Conti<br>date=2040-10-05<br>Hour of Day=%{x}<br>Number of Communications=%{y}<extra></extra>",
         "legendgroup": "Nadia Conti",
         "line": {
          "color": "#00cc96",
          "dash": "solid"
         },
         "marker": {
          "symbol": "circle"
         },
         "mode": "lines",
         "name": "Nadia Conti",
         "orientation": "v",
         "showlegend": true,
         "type": "scatter",
         "x": {
          "bdata": "CQAAAA==",
          "dtype": "i4"
         },
         "xaxis": "x10",
         "y": {
          "bdata": "Ag==",
          "dtype": "i1"
         },
         "yaxis": "y10"
        },
        {
         "hovertemplate": "source=Nadia Conti<br>date=2040-10-08<br>Hour of Day=%{x}<br>Number of Communications=%{y}<extra></extra>",
         "legendgroup": "Nadia Conti",
         "line": {
          "color": "#00cc96",
          "dash": "solid"
         },
         "marker": {
          "symbol": "circle"
         },
         "mode": "lines",
         "name": "Nadia Conti",
         "orientation": "v",
         "showlegend": false,
         "type": "scatter",
         "x": {
          "bdata": "CAAAAAsAAAA=",
          "dtype": "i4"
         },
         "xaxis": "x7",
         "y": {
          "bdata": "AwE=",
          "dtype": "i1"
         },
         "yaxis": "y7"
        },
        {
         "hovertemplate": "source=Nadia Conti<br>date=2040-10-12<br>Hour of Day=%{x}<br>Number of Communications=%{y}<extra></extra>",
         "legendgroup": "Nadia Conti",
         "line": {
          "color": "#00cc96",
          "dash": "solid"
         },
         "marker": {
          "symbol": "circle"
         },
         "mode": "lines",
         "name": "Nadia Conti",
         "orientation": "v",
         "showlegend": false,
         "type": "scatter",
         "x": {
          "bdata": "CAAAAAsAAAA=",
          "dtype": "i4"
         },
         "xaxis": "x3",
         "y": {
          "bdata": "AQE=",
          "dtype": "i1"
         },
         "yaxis": "y3"
        },
        {
         "hovertemplate": "source=Sam<br>date=2040-10-05<br>Hour of Day=%{x}<br>Number of Communications=%{y}<extra></extra>",
         "legendgroup": "Sam",
         "line": {
          "color": "#ab63fa",
          "dash": "solid"
         },
         "marker": {
          "symbol": "circle"
         },
         "mode": "lines",
         "name": "Sam",
         "orientation": "v",
         "showlegend": true,
         "type": "scatter",
         "x": {
          "bdata": "CgAAAA==",
          "dtype": "i4"
         },
         "xaxis": "x10",
         "y": {
          "bdata": "AQ==",
          "dtype": "i1"
         },
         "yaxis": "y10"
        },
        {
         "hovertemplate": "source=Neptune<br>date=2040-10-06<br>Hour of Day=%{x}<br>Number of Communications=%{y}<extra></extra>",
         "legendgroup": "Neptune",
         "line": {
          "color": "#FFA15A",
          "dash": "solid"
         },
         "marker": {
          "symbol": "circle"
         },
         "mode": "lines",
         "name": "Neptune",
         "orientation": "v",
         "showlegend": true,
         "type": "scatter",
         "x": {
          "bdata": "CwAAAAwAAAA=",
          "dtype": "i4"
         },
         "xaxis": "x9",
         "y": {
          "bdata": "AwQ=",
          "dtype": "i1"
         },
         "yaxis": "y9"
        },
        {
         "hovertemplate": "source=Neptune<br>date=2040-10-07<br>Hour of Day=%{x}<br>Number of Communications=%{y}<extra></extra>",
         "legendgroup": "Neptune",
         "line": {
          "color": "#FFA15A",
          "dash": "solid"
         },
         "marker": {
          "symbol": "circle"
         },
         "mode": "lines",
         "name": "Neptune",
         "orientation": "v",
         "showlegend": false,
         "type": "scatter",
         "x": {
          "bdata": "CQAAAAoAAAALAAAA",
          "dtype": "i4"
         },
         "xaxis": "x8",
         "y": {
          "bdata": "AgEE",
          "dtype": "i1"
         },
         "yaxis": "y8"
        },
        {
         "hovertemplate": "source=Neptune<br>date=2040-10-08<br>Hour of Day=%{x}<br>Number of Communications=%{y}<extra></extra>",
         "legendgroup": "Neptune",
         "line": {
          "color": "#FFA15A",
          "dash": "solid"
         },
         "marker": {
          "symbol": "circle"
         },
         "mode": "lines",
         "name": "Neptune",
         "orientation": "v",
         "showlegend": false,
         "type": "scatter",
         "x": {
          "bdata": "CAAAAAoAAAA=",
          "dtype": "i4"
         },
         "xaxis": "x7",
         "y": {
          "bdata": "AgI=",
          "dtype": "i1"
         },
         "yaxis": "y7"
        },
        {
         "hovertemplate": "source=Neptune<br>date=2040-10-09<br>Hour of Day=%{x}<br>Number of Communications=%{y}<extra></extra>",
         "legendgroup": "Neptune",
         "line": {
          "color": "#FFA15A",
          "dash": "solid"
         },
         "marker": {
          "symbol": "circle"
         },
         "mode": "lines",
         "name": "Neptune",
         "orientation": "v",
         "showlegend": false,
         "type": "scatter",
         "x": {
          "bdata": "CAAAAAkAAAAKAAAADAAAAA==",
          "dtype": "i4"
         },
         "xaxis": "x6",
         "y": {
          "bdata": "AQECAQ==",
          "dtype": "i1"
         },
         "yaxis": "y6"
        },
        {
         "hovertemplate": "source=Neptune<br>date=2040-10-10<br>Hour of Day=%{x}<br>Number of Communications=%{y}<extra></extra>",
         "legendgroup": "Neptune",
         "line": {
          "color": "#FFA15A",
          "dash": "solid"
         },
         "marker": {
          "symbol": "circle"
         },
         "mode": "lines",
         "name": "Neptune",
         "orientation": "v",
         "showlegend": false,
         "type": "scatter",
         "x": {
          "bdata": "CQAAAA==",
          "dtype": "i4"
         },
         "xaxis": "x5",
         "y": {
          "bdata": "AQ==",
          "dtype": "i1"
         },
         "yaxis": "y5"
        },
        {
         "hovertemplate": "source=Neptune<br>date=2040-10-11<br>Hour of Day=%{x}<br>Number of Communications=%{y}<extra></extra>",
         "legendgroup": "Neptune",
         "line": {
          "color": "#FFA15A",
          "dash": "solid"
         },
         "marker": {
          "symbol": "circle"
         },
         "mode": "lines",
         "name": "Neptune",
         "orientation": "v",
         "showlegend": false,
         "type": "scatter",
         "x": {
          "bdata": "CQAAAAoAAAA=",
          "dtype": "i4"
         },
         "xaxis": "x4",
         "y": {
          "bdata": "AwE=",
          "dtype": "i1"
         },
         "yaxis": "y4"
        },
        {
         "hovertemplate": "source=Neptune<br>date=2040-10-12<br>Hour of Day=%{x}<br>Number of Communications=%{y}<extra></extra>",
         "legendgroup": "Neptune",
         "line": {
          "color": "#FFA15A",
          "dash": "solid"
         },
         "marker": {
          "symbol": "circle"
         },
         "mode": "lines",
         "name": "Neptune",
         "orientation": "v",
         "showlegend": false,
         "type": "scatter",
         "x": {
          "bdata": "CQAAAAwAAAA=",
          "dtype": "i4"
         },
         "xaxis": "x3",
         "y": {
          "bdata": "AwE=",
          "dtype": "i1"
         },
         "yaxis": "y3"
        },
        {
         "hovertemplate": "source=Neptune<br>date=2040-10-13<br>Hour of Day=%{x}<br>Number of Communications=%{y}<extra></extra>",
         "legendgroup": "Neptune",
         "line": {
          "color": "#FFA15A",
          "dash": "solid"
         },
         "marker": {
          "symbol": "circle"
         },
         "mode": "lines",
         "name": "Neptune",
         "orientation": "v",
         "showlegend": false,
         "type": "scatter",
         "x": {
          "bdata": "CwAAAA==",
          "dtype": "i4"
         },
         "xaxis": "x2",
         "y": {
          "bdata": "AQ==",
          "dtype": "i1"
         },
         "yaxis": "y2"
        },
        {
         "hovertemplate": "source=Neptune<br>date=2040-10-14<br>Hour of Day=%{x}<br>Number of Communications=%{y}<extra></extra>",
         "legendgroup": "Neptune",
         "line": {
          "color": "#FFA15A",
          "dash": "solid"
         },
         "marker": {
          "symbol": "circle"
         },
         "mode": "lines",
         "name": "Neptune",
         "orientation": "v",
         "showlegend": false,
         "type": "scatter",
         "x": {
          "bdata": "DAAAAA==",
          "dtype": "i4"
         },
         "xaxis": "x",
         "y": {
          "bdata": "AQ==",
          "dtype": "i1"
         },
         "yaxis": "y"
        },
        {
         "hovertemplate": "source=Elise<br>date=2040-10-08<br>Hour of Day=%{x}<br>Number of Communications=%{y}<extra></extra>",
         "legendgroup": "Elise",
         "line": {
          "color": "#19d3f3",
          "dash": "solid"
         },
         "marker": {
          "symbol": "circle"
         },
         "mode": "lines",
         "name": "Elise",
         "orientation": "v",
         "showlegend": true,
         "type": "scatter",
         "x": {
          "bdata": "CAAAAA==",
          "dtype": "i4"
         },
         "xaxis": "x7",
         "y": {
          "bdata": "AQ==",
          "dtype": "i1"
         },
         "yaxis": "y7"
        },
        {
         "hovertemplate": "source=Elise<br>date=2040-10-09<br>Hour of Day=%{x}<br>Number of Communications=%{y}<extra></extra>",
         "legendgroup": "Elise",
         "line": {
          "color": "#19d3f3",
          "dash": "solid"
         },
         "marker": {
          "symbol": "circle"
         },
         "mode": "lines",
         "name": "Elise",
         "orientation": "v",
         "showlegend": false,
         "type": "scatter",
         "x": {
          "bdata": "CAAAAA0AAAA=",
          "dtype": "i4"
         },
         "xaxis": "x6",
         "y": {
          "bdata": "AQE=",
          "dtype": "i1"
         },
         "yaxis": "y6"
        },
        {
         "hovertemplate": "source=Elise<br>date=2040-10-10<br>Hour of Day=%{x}<br>Number of Communications=%{y}<extra></extra>",
         "legendgroup": "Elise",
         "line": {
          "color": "#19d3f3",
          "dash": "solid"
         },
         "marker": {
          "symbol": "circle"
         },
         "mode": "lines",
         "name": "Elise",
         "orientation": "v",
         "showlegend": false,
         "type": "scatter",
         "x": {
          "bdata": "DAAAAA==",
          "dtype": "i4"
         },
         "xaxis": "x5",
         "y": {
          "bdata": "AQ==",
          "dtype": "i1"
         },
         "yaxis": "y5"
        },
        {
         "hovertemplate": "source=Elise<br>date=2040-10-11<br>Hour of Day=%{x}<br>Number of Communications=%{y}<extra></extra>",
         "legendgroup": "Elise",
         "line": {
          "color": "#19d3f3",
          "dash": "solid"
         },
         "marker": {
          "symbol": "circle"
         },
         "mode": "lines",
         "name": "Elise",
         "orientation": "v",
         "showlegend": false,
         "type": "scatter",
         "x": {
          "bdata": "CAAAAA==",
          "dtype": "i4"
         },
         "xaxis": "x4",
         "y": {
          "bdata": "AQ==",
          "dtype": "i1"
         },
         "yaxis": "y4"
        },
        {
         "hovertemplate": "source=Seawatch<br>date=2040-10-10<br>Hour of Day=%{x}<br>Number of Communications=%{y}<extra></extra>",
         "legendgroup": "Seawatch",
         "line": {
          "color": "#FF6692",
          "dash": "solid"
         },
         "marker": {
          "symbol": "circle"
         },
         "mode": "lines",
         "name": "Seawatch",
         "orientation": "v",
         "showlegend": true,
         "type": "scatter",
         "x": {
          "bdata": "CgAAAA==",
          "dtype": "i4"
         },
         "xaxis": "x5",
         "y": {
          "bdata": "AQ==",
          "dtype": "i1"
         },
         "yaxis": "y5"
        },
        {
         "hovertemplate": "source=Seawatch<br>date=2040-10-11<br>Hour of Day=%{x}<br>Number of Communications=%{y}<extra></extra>",
         "legendgroup": "Seawatch",
         "line": {
          "color": "#FF6692",
          "dash": "solid"
         },
         "marker": {
          "symbol": "circle"
         },
         "mode": "lines",
         "name": "Seawatch",
         "orientation": "v",
         "showlegend": false,
         "type": "scatter",
         "x": {
          "bdata": "CgAAAA==",
          "dtype": "i4"
         },
         "xaxis": "x4",
         "y": {
          "bdata": "Ag==",
          "dtype": "i1"
         },
         "yaxis": "y4"
        },
        {
         "hovertemplate": "source=The Accountant<br>date=2040-10-11<br>Hour of Day=%{x}<br>Number of Communications=%{y}<extra></extra>",
         "legendgroup": "The Accountant",
         "line": {
          "color": "#B6E880",
          "dash": "solid"
         },
         "marker": {
          "symbol": "circle"
         },
         "mode": "lines",
         "name": "The Accountant",
         "orientation": "v",
         "showlegend": true,
         "type": "scatter",
         "x": {
          "bdata": "CAAAAA==",
          "dtype": "i4"
         },
         "xaxis": "x4",
         "y": {
          "bdata": "AQ==",
          "dtype": "i1"
         },
         "yaxis": "y4"
        },
        {
         "hovertemplate": "source=The Accountant<br>date=2040-10-13<br>Hour of Day=%{x}<br>Number of Communications=%{y}<extra></extra>",
         "legendgroup": "The Accountant",
         "line": {
          "color": "#B6E880",
          "dash": "solid"
         },
         "marker": {
          "symbol": "circle"
         },
         "mode": "lines",
         "name": "The Accountant",
         "orientation": "v",
         "showlegend": false,
         "type": "scatter",
         "x": {
          "bdata": "CAAAAA==",
          "dtype": "i4"
         },
         "xaxis": "x2",
         "y": {
          "bdata": "AQ==",
          "dtype": "i1"
         },
         "yaxis": "y2"
        },
        {
         "hovertemplate": "source=The Accountant<br>date=2040-10-14<br>Hour of Day=%{x}<br>Number of Communications=%{y}<extra></extra>",
         "legendgroup": "The Accountant",
         "line": {
          "color": "#B6E880",
          "dash": "solid"
         },
         "marker": {
          "symbol": "circle"
         },
         "mode": "lines",
         "name": "The Accountant",
         "orientation": "v",
         "showlegend": false,
         "type": "scatter",
         "x": {
          "bdata": "CAAAAA==",
          "dtype": "i4"
         },
         "xaxis": "x",
         "y": {
          "bdata": "AQ==",
          "dtype": "i1"
         },
         "yaxis": "y"
        },
        {
         "hovertemplate": "source=Knowles<br>date=2040-10-13<br>Hour of Day=%{x}<br>Number of Communications=%{y}<extra></extra>",
         "legendgroup": "Knowles",
         "line": {
          "color": "#FF97FF",
          "dash": "solid"
         },
         "marker": {
          "symbol": "circle"
         },
         "mode": "lines",
         "name": "Knowles",
         "orientation": "v",
         "showlegend": true,
         "type": "scatter",
         "x": {
          "bdata": "CwAAAA==",
          "dtype": "i4"
         },
         "xaxis": "x2",
         "y": {
          "bdata": "AQ==",
          "dtype": "i1"
         },
         "yaxis": "y2"
        },
        {
         "hovertemplate": "source=Knowles<br>date=2040-10-14<br>Hour of Day=%{x}<br>Number of Communications=%{y}<extra></extra>",
         "legendgroup": "Knowles",
         "line": {
          "color": "#FF97FF",
          "dash": "solid"
         },
         "marker": {
          "symbol": "circle"
         },
         "mode": "lines",
         "name": "Knowles",
         "orientation": "v",
         "showlegend": false,
         "type": "scatter",
         "x": {
          "bdata": "DAAAAA0AAAA=",
          "dtype": "i4"
         },
         "xaxis": "x",
         "y": {
          "bdata": "AQI=",
          "dtype": "i1"
         },
         "yaxis": "y"
        }
       ],
       "layout": {
        "annotations": [
         {
          "font": {},
          "showarrow": false,
          "text": "date=2040-10-14",
          "textangle": 90,
          "x": 0.98,
          "xanchor": "left",
          "xref": "paper",
          "y": 0.021785714285714283,
          "yanchor": "middle",
          "yref": "paper"
         },
         {
          "font": {},
          "showarrow": false,
          "text": "date=2040-10-13",
          "textangle": 90,
          "x": 0.98,
          "xanchor": "left",
          "xref": "paper",
          "y": 0.09535714285714285,
          "yanchor": "middle",
          "yref": "paper"
         },
         {
          "font": {},
          "showarrow": false,
          "text": "date=2040-10-12",
          "textangle": 90,
          "x": 0.98,
          "xanchor": "left",
          "xref": "paper",
          "y": 0.16892857142857143,
          "yanchor": "middle",
          "yref": "paper"
         },
         {
          "font": {},
          "showarrow": false,
          "text": "date=2040-10-11",
          "textangle": 90,
          "x": 0.98,
          "xanchor": "left",
          "xref": "paper",
          "y": 0.24249999999999997,
          "yanchor": "middle",
          "yref": "paper"
         },
         {
          "font": {},
          "showarrow": false,
          "text": "date=2040-10-10",
          "textangle": 90,
          "x": 0.98,
          "xanchor": "left",
          "xref": "paper",
          "y": 0.31607142857142856,
          "yanchor": "middle",
          "yref": "paper"
         },
         {
          "font": {},
          "showarrow": false,
          "text": "date=2040-10-09",
          "textangle": 90,
          "x": 0.98,
          "xanchor": "left",
          "xref": "paper",
          "y": 0.38964285714285707,
          "yanchor": "middle",
          "yref": "paper"
         },
         {
          "font": {},
          "showarrow": false,
          "text": "date=2040-10-08",
          "textangle": 90,
          "x": 0.98,
          "xanchor": "left",
          "xref": "paper",
          "y": 0.4632142857142857,
          "yanchor": "middle",
          "yref": "paper"
         },
         {
          "font": {},
          "showarrow": false,
          "text": "date=2040-10-07",
          "textangle": 90,
          "x": 0.98,
          "xanchor": "left",
          "xref": "paper",
          "y": 0.5367857142857142,
          "yanchor": "middle",
          "yref": "paper"
         },
         {
          "font": {},
          "showarrow": false,
          "text": "date=2040-10-06",
          "textangle": 90,
          "x": 0.98,
          "xanchor": "left",
          "xref": "paper",
          "y": 0.6103571428571428,
          "yanchor": "middle",
          "yref": "paper"
         },
         {
          "font": {},
          "showarrow": false,
          "text": "date=2040-10-05",
          "textangle": 90,
          "x": 0.98,
          "xanchor": "left",
          "xref": "paper",
          "y": 0.6839285714285714,
          "yanchor": "middle",
          "yref": "paper"
         },
         {
          "font": {},
          "showarrow": false,
          "text": "date=2040-10-04",
          "textangle": 90,
          "x": 0.98,
          "xanchor": "left",
          "xref": "paper",
          "y": 0.7575,
          "yanchor": "middle",
          "yref": "paper"
         },
         {
          "font": {},
          "showarrow": false,
          "text": "date=2040-10-03",
          "textangle": 90,
          "x": 0.98,
          "xanchor": "left",
          "xref": "paper",
          "y": 0.8310714285714285,
          "yanchor": "middle",
          "yref": "paper"
         },
         {
          "font": {},
          "showarrow": false,
          "text": "date=2040-10-02",
          "textangle": 90,
          "x": 0.98,
          "xanchor": "left",
          "xref": "paper",
          "y": 0.9046428571428571,
          "yanchor": "middle",
          "yref": "paper"
         },
         {
          "font": {},
          "showarrow": false,
          "text": "date=2040-10-01",
          "textangle": 90,
          "x": 0.98,
          "xanchor": "left",
          "xref": "paper",
          "y": 0.9782142857142857,
          "yanchor": "middle",
          "yref": "paper"
         }
        ],
        "font": {
         "size": 12
        },
        "height": 1000,
        "legend": {
         "title": {
          "text": "source"
         },
         "tracegroupgap": 0
        },
        "template": {
         "data": {
          "bar": [
           {
            "error_x": {
             "color": "#2a3f5f"
            },
            "error_y": {
             "color": "#2a3f5f"
            },
            "marker": {
             "line": {
              "color": "#E5ECF6",
              "width": 0.5
             },
             "pattern": {
              "fillmode": "overlay",
              "size": 10,
              "solidity": 0.2
             }
            },
            "type": "bar"
           }
          ],
          "barpolar": [
           {
            "marker": {
             "line": {
              "color": "#E5ECF6",
              "width": 0.5
             },
             "pattern": {
              "fillmode": "overlay",
              "size": 10,
              "solidity": 0.2
             }
            },
            "type": "barpolar"
           }
          ],
          "carpet": [
           {
            "aaxis": {
             "endlinecolor": "#2a3f5f",
             "gridcolor": "white",
             "linecolor": "white",
             "minorgridcolor": "white",
             "startlinecolor": "#2a3f5f"
            },
            "baxis": {
             "endlinecolor": "#2a3f5f",
             "gridcolor": "white",
             "linecolor": "white",
             "minorgridcolor": "white",
             "startlinecolor": "#2a3f5f"
            },
            "type": "carpet"
           }
          ],
          "choropleth": [
           {
            "colorbar": {
             "outlinewidth": 0,
             "ticks": ""
            },
            "type": "choropleth"
           }
          ],
          "contour": [
           {
            "colorbar": {
             "outlinewidth": 0,
             "ticks": ""
            },
            "colorscale": [
             [
              0,
              "#0d0887"
             ],
             [
              0.1111111111111111,
              "#46039f"
             ],
             [
              0.2222222222222222,
              "#7201a8"
             ],
             [
              0.3333333333333333,
              "#9c179e"
             ],
             [
              0.4444444444444444,
              "#bd3786"
             ],
             [
              0.5555555555555556,
              "#d8576b"
             ],
             [
              0.6666666666666666,
              "#ed7953"
             ],
             [
              0.7777777777777778,
              "#fb9f3a"
             ],
             [
              0.8888888888888888,
              "#fdca26"
             ],
             [
              1,
              "#f0f921"
             ]
            ],
            "type": "contour"
           }
          ],
          "contourcarpet": [
           {
            "colorbar": {
             "outlinewidth": 0,
             "ticks": ""
            },
            "type": "contourcarpet"
           }
          ],
          "heatmap": [
           {
            "colorbar": {
             "outlinewidth": 0,
             "ticks": ""
            },
            "colorscale": [
             [
              0,
              "#0d0887"
             ],
             [
              0.1111111111111111,
              "#46039f"
             ],
             [
              0.2222222222222222,
              "#7201a8"
             ],
             [
              0.3333333333333333,
              "#9c179e"
             ],
             [
              0.4444444444444444,
              "#bd3786"
             ],
             [
              0.5555555555555556,
              "#d8576b"
             ],
             [
              0.6666666666666666,
              "#ed7953"
             ],
             [
              0.7777777777777778,
              "#fb9f3a"
             ],
             [
              0.8888888888888888,
              "#fdca26"
             ],
             [
              1,
              "#f0f921"
             ]
            ],
            "type": "heatmap"
           }
          ],
          "histogram": [
           {
            "marker": {
             "pattern": {
              "fillmode": "overlay",
              "size": 10,
              "solidity": 0.2
             }
            },
            "type": "histogram"
           }
          ],
          "histogram2d": [
           {
            "colorbar": {
             "outlinewidth": 0,
             "ticks": ""
            },
            "colorscale": [
             [
              0,
              "#0d0887"
             ],
             [
              0.1111111111111111,
              "#46039f"
             ],
             [
              0.2222222222222222,
              "#7201a8"
             ],
             [
              0.3333333333333333,
              "#9c179e"
             ],
             [
              0.4444444444444444,
              "#bd3786"
             ],
             [
              0.5555555555555556,
              "#d8576b"
             ],
             [
              0.6666666666666666,
              "#ed7953"
             ],
             [
              0.7777777777777778,
              "#fb9f3a"
             ],
             [
              0.8888888888888888,
              "#fdca26"
             ],
             [
              1,
              "#f0f921"
             ]
            ],
            "type": "histogram2d"
           }
          ],
          "histogram2dcontour": [
           {
            "colorbar": {
             "outlinewidth": 0,
             "ticks": ""
            },
            "colorscale": [
             [
              0,
              "#0d0887"
             ],
             [
              0.1111111111111111,
              "#46039f"
             ],
             [
              0.2222222222222222,
              "#7201a8"
             ],
             [
              0.3333333333333333,
              "#9c179e"
             ],
             [
              0.4444444444444444,
              "#bd3786"
             ],
             [
              0.5555555555555556,
              "#d8576b"
             ],
             [
              0.6666666666666666,
              "#ed7953"
             ],
             [
              0.7777777777777778,
              "#fb9f3a"
             ],
             [
              0.8888888888888888,
              "#fdca26"
             ],
             [
              1,
              "#f0f921"
             ]
            ],
            "type": "histogram2dcontour"
           }
          ],
          "mesh3d": [
           {
            "colorbar": {
             "outlinewidth": 0,
             "ticks": ""
            },
            "type": "mesh3d"
           }
          ],
          "parcoords": [
           {
            "line": {
             "colorbar": {
              "outlinewidth": 0,
              "ticks": ""
             }
            },
            "type": "parcoords"
           }
          ],
          "pie": [
           {
            "automargin": true,
            "type": "pie"
           }
          ],
          "scatter": [
           {
            "fillpattern": {
             "fillmode": "overlay",
             "size": 10,
             "solidity": 0.2
            },
            "type": "scatter"
           }
          ],
          "scatter3d": [
           {
            "line": {
             "colorbar": {
              "outlinewidth": 0,
              "ticks": ""
             }
            },
            "marker": {
             "colorbar": {
              "outlinewidth": 0,
              "ticks": ""
             }
            },
            "type": "scatter3d"
           }
          ],
          "scattercarpet": [
           {
            "marker": {
             "colorbar": {
              "outlinewidth": 0,
              "ticks": ""
             }
            },
            "type": "scattercarpet"
           }
          ],
          "scattergeo": [
           {
            "marker": {
             "colorbar": {
              "outlinewidth": 0,
              "ticks": ""
             }
            },
            "type": "scattergeo"
           }
          ],
          "scattergl": [
           {
            "marker": {
             "colorbar": {
              "outlinewidth": 0,
              "ticks": ""
             }
            },
            "type": "scattergl"
           }
          ],
          "scattermap": [
           {
            "marker": {
             "colorbar": {
              "outlinewidth": 0,
              "ticks": ""
             }
            },
            "type": "scattermap"
           }
          ],
          "scattermapbox": [
           {
            "marker": {
             "colorbar": {
              "outlinewidth": 0,
              "ticks": ""
             }
            },
            "type": "scattermapbox"
           }
          ],
          "scatterpolar": [
           {
            "marker": {
             "colorbar": {
              "outlinewidth": 0,
              "ticks": ""
             }
            },
            "type": "scatterpolar"
           }
          ],
          "scatterpolargl": [
           {
            "marker": {
             "colorbar": {
              "outlinewidth": 0,
              "ticks": ""
             }
            },
            "type": "scatterpolargl"
           }
          ],
          "scatterternary": [
           {
            "marker": {
             "colorbar": {
              "outlinewidth": 0,
              "ticks": ""
             }
            },
            "type": "scatterternary"
           }
          ],
          "surface": [
           {
            "colorbar": {
             "outlinewidth": 0,
             "ticks": ""
            },
            "colorscale": [
             [
              0,
              "#0d0887"
             ],
             [
              0.1111111111111111,
              "#46039f"
             ],
             [
              0.2222222222222222,
              "#7201a8"
             ],
             [
              0.3333333333333333,
              "#9c179e"
             ],
             [
              0.4444444444444444,
              "#bd3786"
             ],
             [
              0.5555555555555556,
              "#d8576b"
             ],
             [
              0.6666666666666666,
              "#ed7953"
             ],
             [
              0.7777777777777778,
              "#fb9f3a"
             ],
             [
              0.8888888888888888,
              "#fdca26"
             ],
             [
              1,
              "#f0f921"
             ]
            ],
            "type": "surface"
           }
          ],
          "table": [
           {
            "cells": {
             "fill": {
              "color": "#EBF0F8"
             },
             "line": {
              "color": "white"
             }
            },
            "header": {
             "fill": {
              "color": "#C8D4E3"
             },
             "line": {
              "color": "white"
             }
            },
            "type": "table"
           }
          ]
         },
         "layout": {
          "annotationdefaults": {
           "arrowcolor": "#2a3f5f",
           "arrowhead": 0,
           "arrowwidth": 1
          },
          "autotypenumbers": "strict",
          "coloraxis": {
           "colorbar": {
            "outlinewidth": 0,
            "ticks": ""
           }
          },
          "colorscale": {
           "diverging": [
            [
             0,
             "#8e0152"
            ],
            [
             0.1,
             "#c51b7d"
            ],
            [
             0.2,
             "#de77ae"
            ],
            [
             0.3,
             "#f1b6da"
            ],
            [
             0.4,
             "#fde0ef"
            ],
            [
             0.5,
             "#f7f7f7"
            ],
            [
             0.6,
             "#e6f5d0"
            ],
            [
             0.7,
             "#b8e186"
            ],
            [
             0.8,
             "#7fbc41"
            ],
            [
             0.9,
             "#4d9221"
            ],
            [
             1,
             "#276419"
            ]
           ],
           "sequential": [
            [
             0,
             "#0d0887"
            ],
            [
             0.1111111111111111,
             "#46039f"
            ],
            [
             0.2222222222222222,
             "#7201a8"
            ],
            [
             0.3333333333333333,
             "#9c179e"
            ],
            [
             0.4444444444444444,
             "#bd3786"
            ],
            [
             0.5555555555555556,
             "#d8576b"
            ],
            [
             0.6666666666666666,
             "#ed7953"
            ],
            [
             0.7777777777777778,
             "#fb9f3a"
            ],
            [
             0.8888888888888888,
             "#fdca26"
            ],
            [
             1,
             "#f0f921"
            ]
           ],
           "sequentialminus": [
            [
             0,
             "#0d0887"
            ],
            [
             0.1111111111111111,
             "#46039f"
            ],
            [
             0.2222222222222222,
             "#7201a8"
            ],
            [
             0.3333333333333333,
             "#9c179e"
            ],
            [
             0.4444444444444444,
             "#bd3786"
            ],
            [
             0.5555555555555556,
             "#d8576b"
            ],
            [
             0.6666666666666666,
             "#ed7953"
            ],
            [
             0.7777777777777778,
             "#fb9f3a"
            ],
            [
             0.8888888888888888,
             "#fdca26"
            ],
            [
             1,
             "#f0f921"
            ]
           ]
          },
          "colorway": [
           "#636efa",
           "#EF553B",
           "#00cc96",
           "#ab63fa",
           "#FFA15A",
           "#19d3f3",
           "#FF6692",
           "#B6E880",
           "#FF97FF",
           "#FECB52"
          ],
          "font": {
           "color": "#2a3f5f"
          },
          "geo": {
           "bgcolor": "white",
           "lakecolor": "white",
           "landcolor": "#E5ECF6",
           "showlakes": true,
           "showland": true,
           "subunitcolor": "white"
          },
          "hoverlabel": {
           "align": "left"
          },
          "hovermode": "closest",
          "mapbox": {
           "style": "light"
          },
          "paper_bgcolor": "white",
          "plot_bgcolor": "#E5ECF6",
          "polar": {
           "angularaxis": {
            "gridcolor": "white",
            "linecolor": "white",
            "ticks": ""
           },
           "bgcolor": "#E5ECF6",
           "radialaxis": {
            "gridcolor": "white",
            "linecolor": "white",
            "ticks": ""
           }
          },
          "scene": {
           "xaxis": {
            "backgroundcolor": "#E5ECF6",
            "gridcolor": "white",
            "gridwidth": 2,
            "linecolor": "white",
            "showbackground": true,
            "ticks": "",
            "zerolinecolor": "white"
           },
           "yaxis": {
            "backgroundcolor": "#E5ECF6",
            "gridcolor": "white",
            "gridwidth": 2,
            "linecolor": "white",
            "showbackground": true,
            "ticks": "",
            "zerolinecolor": "white"
           },
           "zaxis": {
            "backgroundcolor": "#E5ECF6",
            "gridcolor": "white",
            "gridwidth": 2,
            "linecolor": "white",
            "showbackground": true,
            "ticks": "",
            "zerolinecolor": "white"
           }
          },
          "shapedefaults": {
           "line": {
            "color": "#2a3f5f"
           }
          },
          "ternary": {
           "aaxis": {
            "gridcolor": "white",
            "linecolor": "white",
            "ticks": ""
           },
           "baxis": {
            "gridcolor": "white",
            "linecolor": "white",
            "ticks": ""
           },
           "bgcolor": "#E5ECF6",
           "caxis": {
            "gridcolor": "white",
            "linecolor": "white",
            "ticks": ""
           }
          },
          "title": {
           "x": 0.05
          },
          "xaxis": {
           "automargin": true,
           "gridcolor": "white",
           "linecolor": "white",
           "ticks": "",
           "title": {
            "standoff": 15
           },
           "zerolinecolor": "white",
           "zerolinewidth": 2
          },
          "yaxis": {
           "automargin": true,
           "gridcolor": "white",
           "linecolor": "white",
           "ticks": "",
           "title": {
            "standoff": 15
           },
           "zerolinecolor": "white",
           "zerolinewidth": 2
          }
         }
        },
        "title": {
         "text": "Daily Communication Patterns by Source (1H Windows)"
        },
        "width": 800,
        "xaxis": {
         "anchor": "y",
         "domain": [
          0,
          0.98
         ],
         "title": {
          "text": "Hour of Day"
         }
        },
        "xaxis10": {
         "anchor": "y10",
         "domain": [
          0,
          0.98
         ],
         "matches": "x",
         "showticklabels": false
        },
        "xaxis11": {
         "anchor": "y11",
         "domain": [
          0,
          0.98
         ],
         "matches": "x",
         "showticklabels": false
        },
        "xaxis12": {
         "anchor": "y12",
         "domain": [
          0,
          0.98
         ],
         "matches": "x",
         "showticklabels": false
        },
        "xaxis13": {
         "anchor": "y13",
         "domain": [
          0,
          0.98
         ],
         "matches": "x",
         "showticklabels": false
        },
        "xaxis14": {
         "anchor": "y14",
         "domain": [
          0,
          0.98
         ],
         "matches": "x",
         "showticklabels": false
        },
        "xaxis2": {
         "anchor": "y2",
         "domain": [
          0,
          0.98
         ],
         "matches": "x",
         "showticklabels": false
        },
        "xaxis3": {
         "anchor": "y3",
         "domain": [
          0,
          0.98
         ],
         "matches": "x",
         "showticklabels": false
        },
        "xaxis4": {
         "anchor": "y4",
         "domain": [
          0,
          0.98
         ],
         "matches": "x",
         "showticklabels": false
        },
        "xaxis5": {
         "anchor": "y5",
         "domain": [
          0,
          0.98
         ],
         "matches": "x",
         "showticklabels": false
        },
        "xaxis6": {
         "anchor": "y6",
         "domain": [
          0,
          0.98
         ],
         "matches": "x",
         "showticklabels": false
        },
        "xaxis7": {
         "anchor": "y7",
         "domain": [
          0,
          0.98
         ],
         "matches": "x",
         "showticklabels": false
        },
        "xaxis8": {
         "anchor": "y8",
         "domain": [
          0,
          0.98
         ],
         "matches": "x",
         "showticklabels": false
        },
        "xaxis9": {
         "anchor": "y9",
         "domain": [
          0,
          0.98
         ],
         "matches": "x",
         "showticklabels": false
        },
        "yaxis": {
         "anchor": "x",
         "domain": [
          0,
          0.043571428571428567
         ],
         "title": {
          "text": "Number of Communications"
         }
        },
        "yaxis10": {
         "anchor": "x10",
         "domain": [
          0.6621428571428571,
          0.7057142857142857
         ],
         "matches": "y",
         "title": {
          "text": "Number of Communications"
         }
        },
        "yaxis11": {
         "anchor": "x11",
         "domain": [
          0.7357142857142857,
          0.7792857142857142
         ],
         "matches": "y",
         "title": {
          "text": "Number of Communications"
         }
        },
        "yaxis12": {
         "anchor": "x12",
         "domain": [
          0.8092857142857142,
          0.8528571428571428
         ],
         "matches": "y",
         "title": {
          "text": "Number of Communications"
         }
        },
        "yaxis13": {
         "anchor": "x13",
         "domain": [
          0.8828571428571428,
          0.9264285714285714
         ],
         "matches": "y",
         "title": {
          "text": "Number of Communications"
         }
        },
        "yaxis14": {
         "anchor": "x14",
         "domain": [
          0.9564285714285714,
          1
         ],
         "matches": "y",
         "title": {
          "text": "Number of Communications"
         }
        },
        "yaxis2": {
         "anchor": "x2",
         "domain": [
          0.07357142857142857,
          0.11714285714285713
         ],
         "matches": "y",
         "title": {
          "text": "Number of Communications"
         }
        },
        "yaxis3": {
         "anchor": "x3",
         "domain": [
          0.14714285714285713,
          0.1907142857142857
         ],
         "matches": "y",
         "title": {
          "text": "Number of Communications"
         }
        },
        "yaxis4": {
         "anchor": "x4",
         "domain": [
          0.2207142857142857,
          0.26428571428571423
         ],
         "matches": "y",
         "title": {
          "text": "Number of Communications"
         }
        },
        "yaxis5": {
         "anchor": "x5",
         "domain": [
          0.29428571428571426,
          0.33785714285714286
         ],
         "matches": "y",
         "title": {
          "text": "Number of Communications"
         }
        },
        "yaxis6": {
         "anchor": "x6",
         "domain": [
          0.3678571428571428,
          0.41142857142857137
         ],
         "matches": "y",
         "title": {
          "text": "Number of Communications"
         }
        },
        "yaxis7": {
         "anchor": "x7",
         "domain": [
          0.4414285714285714,
          0.485
         ],
         "matches": "y",
         "title": {
          "text": "Number of Communications"
         }
        },
        "yaxis8": {
         "anchor": "x8",
         "domain": [
          0.5149999999999999,
          0.5585714285714285
         ],
         "matches": "y",
         "title": {
          "text": "Number of Communications"
         }
        },
        "yaxis9": {
         "anchor": "x9",
         "domain": [
          0.5885714285714285,
          0.6321428571428571
         ],
         "matches": "y",
         "title": {
          "text": "Number of Communications"
         }
        }
       }
      }
     },
     "metadata": {},
     "output_type": "display_data"
    }
   ],
   "source": [
    "df = pd.DataFrame(communications_data)\n",
    "df['timestamp'] = pd.to_datetime(df['timestamp'])\n",
    "\n",
    "# Extract date and hour of day for each timestamp\n",
    "df['date'] = df['timestamp'].dt.date\n",
    "df['hour_of_day'] = df['timestamp'].dt.hour\n",
    "\n",
    "# Group by date, source, and hour of day, then count occurrences\n",
    "aggregated_df = df.groupby(['date', 'source', 'hour_of_day']).size().reset_index(name='count')\n",
    "\n",
    "# Create a line plot using Plotly Express with facet rows for each date\n",
    "fig = px.line(aggregated_df, x='hour_of_day', y='count', color='source',\n",
    "                facet_row='date',\n",
    "                labels={'hour_of_day': 'Hour of Day', 'count': 'Number of Communications'},\n",
    "                title='Daily Communication Patterns by Source (1H Windows)')\n",
    "\n",
    "# Update the layout for better readability\n",
    "fig.update_layout(\n",
    "    height=1000,  # Adjust height to accommodate multiple rows\n",
    "    width=800,\n",
    "    font=dict(size=12)\n",
    ")\n",
    "\n",
    "# Show the plot\n",
    "fig.show()"
   ]
  },
  {
   "cell_type": "code",
   "execution_count": 20,
   "id": "49036bbb",
   "metadata": {},
   "outputs": [
    {
     "data": {
      "application/vnd.plotly.v1+json": {
       "config": {
        "plotlyServerURL": "https://plot.ly"
       },
       "data": [
        {
         "hovertemplate": "Source Type=Person<br>month_day=10-01<br>Hour of Day=%{x}<br>Number of Communications=%{y}<extra></extra>",
         "legendgroup": "Person",
         "marker": {
          "color": "#AA0DFE",
          "opacity": 0.8,
          "symbol": 300
         },
         "mode": "markers",
         "name": "Person",
         "orientation": "v",
         "showlegend": true,
         "type": "scatter",
         "x": {
          "bdata": "CAAAAAkAAAAJAAAACAAAAAoAAAAIAAAACQAAAAwAAAAIAAAACAAAAAgAAAAKAAAA",
          "dtype": "i4"
         },
         "xaxis": "x14",
         "y": {
          "bdata": "AwEBAQECAQICAQIC",
          "dtype": "i1"
         },
         "yaxis": "y14"
        },
        {
         "hovertemplate": "Source Type=Person<br>month_day=10-02<br>Hour of Day=%{x}<br>Number of Communications=%{y}<extra></extra>",
         "legendgroup": "Person",
         "marker": {
          "color": "#AA0DFE",
          "opacity": 0.8,
          "symbol": 300
         },
         "mode": "markers",
         "name": "Person",
         "orientation": "v",
         "showlegend": false,
         "type": "scatter",
         "x": {
          "bdata": "DAAAAAsAAAAMAAAACAAAAAsAAAAMAAAACQAAAAoAAAAMAAAADQAAAAgAAAAIAAAADQAAAA==",
          "dtype": "i4"
         },
         "xaxis": "x13",
         "y": {
          "bdata": "BAEDAgEBAQEBAQICAQ==",
          "dtype": "i1"
         },
         "yaxis": "y13"
        },
        {
         "hovertemplate": "Source Type=Person<br>month_day=10-03<br>Hour of Day=%{x}<br>Number of Communications=%{y}<extra></extra>",
         "legendgroup": "Person",
         "marker": {
          "color": "#AA0DFE",
          "opacity": 0.8,
          "symbol": 300
         },
         "mode": "markers",
         "name": "Person",
         "orientation": "v",
         "showlegend": false,
         "type": "scatter",
         "x": {
          "bdata": "CQAAAAkAAAAIAAAACQAAAAsAAAAIAAAACAAAAAkAAAA=",
          "dtype": "i4"
         },
         "xaxis": "x12",
         "y": {
          "bdata": "AwMCAQECAgE=",
          "dtype": "i1"
         },
         "yaxis": "y12"
        },
        {
         "hovertemplate": "Source Type=Person<br>month_day=10-04<br>Hour of Day=%{x}<br>Number of Communications=%{y}<extra></extra>",
         "legendgroup": "Person",
         "marker": {
          "color": "#AA0DFE",
          "opacity": 0.8,
          "symbol": 300
         },
         "mode": "markers",
         "name": "Person",
         "orientation": "v",
         "showlegend": false,
         "type": "scatter",
         "x": {
          "bdata": "CAAAAAoAAAANAAAACAAAAAoAAAALAAAACAAAAAoAAAAIAAAACAAAAAwAAAAKAAAA",
          "dtype": "i4"
         },
         "xaxis": "x11",
         "y": {
          "bdata": "AQECAQICAgEBAQED",
          "dtype": "i1"
         },
         "yaxis": "y11"
        },
        {
         "hovertemplate": "Source Type=Person<br>month_day=10-05<br>Hour of Day=%{x}<br>Number of Communications=%{y}<extra></extra>",
         "legendgroup": "Person",
         "marker": {
          "color": "#AA0DFE",
          "opacity": 0.8,
          "symbol": 300
         },
         "mode": "markers",
         "name": "Person",
         "orientation": "v",
         "showlegend": false,
         "type": "scatter",
         "x": {
          "bdata": "CgAAAAoAAAAMAAAACgAAAAkAAAAKAAAADAAAAAoAAAAJAAAACQAAAAoAAAAIAAAACgAAAAgAAAAKAAAA",
          "dtype": "i4"
         },
         "xaxis": "x10",
         "y": {
          "bdata": "AQMBAQECAQMCAQEBAQEB",
          "dtype": "i1"
         },
         "yaxis": "y10"
        },
        {
         "hovertemplate": "Source Type=Person<br>month_day=10-06<br>Hour of Day=%{x}<br>Number of Communications=%{y}<extra></extra>",
         "legendgroup": "Person",
         "marker": {
          "color": "#AA0DFE",
          "opacity": 0.8,
          "symbol": 300
         },
         "mode": "markers",
         "name": "Person",
         "orientation": "v",
         "showlegend": false,
         "type": "scatter",
         "x": {
          "bdata": "CgAAAAkAAAA=",
          "dtype": "i4"
         },
         "xaxis": "x9",
         "y": {
          "bdata": "AQE=",
          "dtype": "i1"
         },
         "yaxis": "y9"
        },
        {
         "hovertemplate": "Source Type=Person<br>month_day=10-07<br>Hour of Day=%{x}<br>Number of Communications=%{y}<extra></extra>",
         "legendgroup": "Person",
         "marker": {
          "color": "#AA0DFE",
          "opacity": 0.8,
          "symbol": 300
         },
         "mode": "markers",
         "name": "Person",
         "orientation": "v",
         "showlegend": false,
         "type": "scatter",
         "x": {
          "bdata": "CgAAAAwAAAAIAAAACgAAAAkAAAALAAAACwAAAAgAAAAIAAAACwAAAA==",
          "dtype": "i4"
         },
         "xaxis": "x8",
         "y": {
          "bdata": "BQEBBAIBAQIBAQ==",
          "dtype": "i1"
         },
         "yaxis": "y8"
        },
        {
         "hovertemplate": "Source Type=Person<br>month_day=10-08<br>Hour of Day=%{x}<br>Number of Communications=%{y}<extra></extra>",
         "legendgroup": "Person",
         "marker": {
          "color": "#AA0DFE",
          "opacity": 0.8,
          "symbol": 300
         },
         "mode": "markers",
         "name": "Person",
         "orientation": "v",
         "showlegend": false,
         "type": "scatter",
         "x": {
          "bdata": "CgAAAAsAAAAIAAAACAAAAAgAAAAIAAAACwAAAAoAAAALAAAACgAAAAgAAAAIAAAACwAAAA==",
          "dtype": "i4"
         },
         "xaxis": "x7",
         "y": {
          "bdata": "AgMBAgEDAQEBAQEBAg==",
          "dtype": "i1"
         },
         "yaxis": "y7"
        },
        {
         "hovertemplate": "Source Type=Person<br>month_day=10-09<br>Hour of Day=%{x}<br>Number of Communications=%{y}<extra></extra>",
         "legendgroup": "Person",
         "marker": {
          "color": "#AA0DFE",
          "opacity": 0.8,
          "symbol": 300
         },
         "mode": "markers",
         "name": "Person",
         "orientation": "v",
         "showlegend": false,
         "type": "scatter",
         "x": {
          "bdata": "CwAAAAgAAAANAAAACAAAAAwAAAAIAAAACAAAAAoAAAA=",
          "dtype": "i4"
         },
         "xaxis": "x6",
         "y": {
          "bdata": "AQEBAQECAQE=",
          "dtype": "i1"
         },
         "yaxis": "y6"
        },
        {
         "hovertemplate": "Source Type=Person<br>month_day=10-10<br>Hour of Day=%{x}<br>Number of Communications=%{y}<extra></extra>",
         "legendgroup": "Person",
         "marker": {
          "color": "#AA0DFE",
          "opacity": 0.8,
          "symbol": 300
         },
         "mode": "markers",
         "name": "Person",
         "orientation": "v",
         "showlegend": false,
         "type": "scatter",
         "x": {
          "bdata": "DAAAAAsAAAAIAAAADAAAAAgAAAAKAAAADgAAAA==",
          "dtype": "i4"
         },
         "xaxis": "x5",
         "y": {
          "bdata": "AQIBAgIBAQ==",
          "dtype": "i1"
         },
         "yaxis": "y5"
        },
        {
         "hovertemplate": "Source Type=Person<br>month_day=10-11<br>Hour of Day=%{x}<br>Number of Communications=%{y}<extra></extra>",
         "legendgroup": "Person",
         "marker": {
          "color": "#AA0DFE",
          "opacity": 0.8,
          "symbol": 300
         },
         "mode": "markers",
         "name": "Person",
         "orientation": "v",
         "showlegend": false,
         "type": "scatter",
         "x": {
          "bdata": "CgAAAAgAAAAIAAAACQAAAAoAAAAIAAAACgAAAAgAAAAIAAAACAAAAAoAAAAIAAAA",
          "dtype": "i4"
         },
         "xaxis": "x4",
         "y": {
          "bdata": "BAEBAwUBAQECAgEB",
          "dtype": "i1"
         },
         "yaxis": "y4"
        },
        {
         "hovertemplate": "Source Type=Person<br>month_day=10-12<br>Hour of Day=%{x}<br>Number of Communications=%{y}<extra></extra>",
         "legendgroup": "Person",
         "marker": {
          "color": "#AA0DFE",
          "opacity": 0.8,
          "symbol": 300
         },
         "mode": "markers",
         "name": "Person",
         "orientation": "v",
         "showlegend": false,
         "type": "scatter",
         "x": {
          "bdata": "CQAAAAsAAAAMAAAACAAAAAsAAAAJAAAACQAAAAsAAAAIAAAACAAAAA==",
          "dtype": "i4"
         },
         "xaxis": "x3",
         "y": {
          "bdata": "AgIBAQEDAQECAQ==",
          "dtype": "i1"
         },
         "yaxis": "y3"
        },
        {
         "hovertemplate": "Source Type=Person<br>month_day=10-13<br>Hour of Day=%{x}<br>Number of Communications=%{y}<extra></extra>",
         "legendgroup": "Person",
         "marker": {
          "color": "#AA0DFE",
          "opacity": 0.8,
          "symbol": 300
         },
         "mode": "markers",
         "name": "Person",
         "orientation": "v",
         "showlegend": false,
         "type": "scatter",
         "x": {
          "bdata": "CAAAAAwAAAAJAAAADQAAAAsAAAAIAAAACAAAAAwAAAAIAAAADAAAAAgAAAA=",
          "dtype": "i4"
         },
         "xaxis": "x2",
         "y": {
          "bdata": "AQEBAQEBAgICAwE=",
          "dtype": "i1"
         },
         "yaxis": "y2"
        },
        {
         "hovertemplate": "Source Type=Person<br>month_day=10-14<br>Hour of Day=%{x}<br>Number of Communications=%{y}<extra></extra>",
         "legendgroup": "Person",
         "marker": {
          "color": "#AA0DFE",
          "opacity": 0.8,
          "symbol": 300
         },
         "mode": "markers",
         "name": "Person",
         "orientation": "v",
         "showlegend": false,
         "type": "scatter",
         "x": {
          "bdata": "CQAAAAwAAAAJAAAADAAAAAkAAAAMAAAACAAAAAgAAAAIAAAADAAAAAgAAAA=",
          "dtype": "i4"
         },
         "xaxis": "x",
         "y": {
          "bdata": "AgEBAQEBAQECAQE=",
          "dtype": "i1"
         },
         "yaxis": "y"
        },
        {
         "hovertemplate": "Source Type=Organization<br>month_day=10-01<br>Hour of Day=%{x}<br>Number of Communications=%{y}<extra></extra>",
         "legendgroup": "Organization",
         "marker": {
          "color": "#3283FE",
          "opacity": 0.8,
          "symbol": 300
         },
         "mode": "markers",
         "name": "Organization",
         "orientation": "v",
         "showlegend": true,
         "type": "scatter",
         "x": {
          "bdata": "DAAAAAsAAAAMAAAACgAAAAsAAAA=",
          "dtype": "i4"
         },
         "xaxis": "x14",
         "y": {
          "bdata": "AQECAgE=",
          "dtype": "i1"
         },
         "yaxis": "y14"
        },
        {
         "hovertemplate": "Source Type=Organization<br>month_day=10-02<br>Hour of Day=%{x}<br>Number of Communications=%{y}<extra></extra>",
         "legendgroup": "Organization",
         "marker": {
          "color": "#3283FE",
          "opacity": 0.8,
          "symbol": 300
         },
         "mode": "markers",
         "name": "Organization",
         "orientation": "v",
         "showlegend": false,
         "type": "scatter",
         "x": {
          "bdata": "CQAAAAgAAAALAAAA",
          "dtype": "i4"
         },
         "xaxis": "x13",
         "y": {
          "bdata": "AQEB",
          "dtype": "i1"
         },
         "yaxis": "y13"
        },
        {
         "hovertemplate": "Source Type=Organization<br>month_day=10-03<br>Hour of Day=%{x}<br>Number of Communications=%{y}<extra></extra>",
         "legendgroup": "Organization",
         "marker": {
          "color": "#3283FE",
          "opacity": 0.8,
          "symbol": 300
         },
         "mode": "markers",
         "name": "Organization",
         "orientation": "v",
         "showlegend": false,
         "type": "scatter",
         "x": {
          "bdata": "CgAAAAgAAAAJAAAACgAAAAgAAAAKAAAACgAAAA==",
          "dtype": "i4"
         },
         "xaxis": "x12",
         "y": {
          "bdata": "AQQBAgIDAQ==",
          "dtype": "i1"
         },
         "yaxis": "y12"
        },
        {
         "hovertemplate": "Source Type=Organization<br>month_day=10-04<br>Hour of Day=%{x}<br>Number of Communications=%{y}<extra></extra>",
         "legendgroup": "Organization",
         "marker": {
          "color": "#3283FE",
          "opacity": 0.8,
          "symbol": 300
         },
         "mode": "markers",
         "name": "Organization",
         "orientation": "v",
         "showlegend": false,
         "type": "scatter",
         "x": {
          "bdata": "CAAAAAsAAAANAAAACgAAAA0AAAA=",
          "dtype": "i4"
         },
         "xaxis": "x11",
         "y": {
          "bdata": "AgECAQE=",
          "dtype": "i1"
         },
         "yaxis": "y11"
        },
        {
         "hovertemplate": "Source Type=Organization<br>month_day=10-05<br>Hour of Day=%{x}<br>Number of Communications=%{y}<extra></extra>",
         "legendgroup": "Organization",
         "marker": {
          "color": "#3283FE",
          "opacity": 0.8,
          "symbol": 300
         },
         "mode": "markers",
         "name": "Organization",
         "orientation": "v",
         "showlegend": false,
         "type": "scatter",
         "x": {
          "bdata": "CAAAAAoAAAAIAAAACQAAAAoAAAAMAAAACgAAAA==",
          "dtype": "i4"
         },
         "xaxis": "x10",
         "y": {
          "bdata": "AQMBAwIBAQ==",
          "dtype": "i1"
         },
         "yaxis": "y10"
        },
        {
         "hovertemplate": "Source Type=Organization<br>month_day=10-06<br>Hour of Day=%{x}<br>Number of Communications=%{y}<extra></extra>",
         "legendgroup": "Organization",
         "marker": {
          "color": "#3283FE",
          "opacity": 0.8,
          "symbol": 300
         },
         "mode": "markers",
         "name": "Organization",
         "orientation": "v",
         "showlegend": false,
         "type": "scatter",
         "x": {
          "bdata": "CQAAAAkAAAALAAAADQAAAAoAAAAMAAAA",
          "dtype": "i4"
         },
         "xaxis": "x9",
         "y": {
          "bdata": "AQECBQEB",
          "dtype": "i1"
         },
         "yaxis": "y9"
        },
        {
         "hovertemplate": "Source Type=Organization<br>month_day=10-07<br>Hour of Day=%{x}<br>Number of Communications=%{y}<extra></extra>",
         "legendgroup": "Organization",
         "marker": {
          "color": "#3283FE",
          "opacity": 0.8,
          "symbol": 300
         },
         "mode": "markers",
         "name": "Organization",
         "orientation": "v",
         "showlegend": false,
         "type": "scatter",
         "x": {
          "bdata": "CwAAAA==",
          "dtype": "i4"
         },
         "xaxis": "x8",
         "y": {
          "bdata": "AQ==",
          "dtype": "i1"
         },
         "yaxis": "y8"
        },
        {
         "hovertemplate": "Source Type=Organization<br>month_day=10-08<br>Hour of Day=%{x}<br>Number of Communications=%{y}<extra></extra>",
         "legendgroup": "Organization",
         "marker": {
          "color": "#3283FE",
          "opacity": 0.8,
          "symbol": 300
         },
         "mode": "markers",
         "name": "Organization",
         "orientation": "v",
         "showlegend": false,
         "type": "scatter",
         "x": {
          "bdata": "CwAAAAgAAAA=",
          "dtype": "i4"
         },
         "xaxis": "x7",
         "y": {
          "bdata": "AgE=",
          "dtype": "i1"
         },
         "yaxis": "y7"
        },
        {
         "hovertemplate": "Source Type=Organization<br>month_day=10-09<br>Hour of Day=%{x}<br>Number of Communications=%{y}<extra></extra>",
         "legendgroup": "Organization",
         "marker": {
          "color": "#3283FE",
          "opacity": 0.8,
          "symbol": 300
         },
         "mode": "markers",
         "name": "Organization",
         "orientation": "v",
         "showlegend": false,
         "type": "scatter",
         "x": {
          "bdata": "CgAAAAkAAAAKAAAADAAAAAsAAAA=",
          "dtype": "i4"
         },
         "xaxis": "x6",
         "y": {
          "bdata": "AwECAQI=",
          "dtype": "i1"
         },
         "yaxis": "y6"
        },
        {
         "hovertemplate": "Source Type=Organization<br>month_day=10-10<br>Hour of Day=%{x}<br>Number of Communications=%{y}<extra></extra>",
         "legendgroup": "Organization",
         "marker": {
          "color": "#3283FE",
          "opacity": 0.8,
          "symbol": 300
         },
         "mode": "markers",
         "name": "Organization",
         "orientation": "v",
         "showlegend": false,
         "type": "scatter",
         "x": {
          "bdata": "CQAAAAsAAAAKAAAACwAAAAwAAAA=",
          "dtype": "i4"
         },
         "xaxis": "x5",
         "y": {
          "bdata": "AQEBAQE=",
          "dtype": "i1"
         },
         "yaxis": "y5"
        },
        {
         "hovertemplate": "Source Type=Organization<br>month_day=10-11<br>Hour of Day=%{x}<br>Number of Communications=%{y}<extra></extra>",
         "legendgroup": "Organization",
         "marker": {
          "color": "#3283FE",
          "opacity": 0.8,
          "symbol": 300
         },
         "mode": "markers",
         "name": "Organization",
         "orientation": "v",
         "showlegend": false,
         "type": "scatter",
         "x": {
          "bdata": "CgAAAAkAAAAKAAAACAAAAAkAAAAKAAAA",
          "dtype": "i4"
         },
         "xaxis": "x4",
         "y": {
          "bdata": "AgIBAQEB",
          "dtype": "i1"
         },
         "yaxis": "y4"
        },
        {
         "hovertemplate": "Source Type=Organization<br>month_day=10-12<br>Hour of Day=%{x}<br>Number of Communications=%{y}<extra></extra>",
         "legendgroup": "Organization",
         "marker": {
          "color": "#3283FE",
          "opacity": 0.8,
          "symbol": 300
         },
         "mode": "markers",
         "name": "Organization",
         "orientation": "v",
         "showlegend": false,
         "type": "scatter",
         "x": {
          "bdata": "CgAAAAsAAAAJAAAACgAAAAsAAAAMAAAA",
          "dtype": "i4"
         },
         "xaxis": "x3",
         "y": {
          "bdata": "AwEBAQMB",
          "dtype": "i1"
         },
         "yaxis": "y3"
        },
        {
         "hovertemplate": "Source Type=Organization<br>month_day=10-13<br>Hour of Day=%{x}<br>Number of Communications=%{y}<extra></extra>",
         "legendgroup": "Organization",
         "marker": {
          "color": "#3283FE",
          "opacity": 0.8,
          "symbol": 300
         },
         "mode": "markers",
         "name": "Organization",
         "orientation": "v",
         "showlegend": false,
         "type": "scatter",
         "x": {
          "bdata": "DAAAAAkAAAAMAAAADQAAAA==",
          "dtype": "i4"
         },
         "xaxis": "x2",
         "y": {
          "bdata": "BAEBAg==",
          "dtype": "i1"
         },
         "yaxis": "y2"
        },
        {
         "hovertemplate": "Source Type=Organization<br>month_day=10-14<br>Hour of Day=%{x}<br>Number of Communications=%{y}<extra></extra>",
         "legendgroup": "Organization",
         "marker": {
          "color": "#3283FE",
          "opacity": 0.8,
          "symbol": 300
         },
         "mode": "markers",
         "name": "Organization",
         "orientation": "v",
         "showlegend": false,
         "type": "scatter",
         "x": {
          "bdata": "CAAAAAoAAAAMAAAADAAAAA==",
          "dtype": "i4"
         },
         "xaxis": "x",
         "y": {
          "bdata": "AQEBAQ==",
          "dtype": "i1"
         },
         "yaxis": "y"
        },
        {
         "hovertemplate": "Source Type=Location<br>month_day=10-01<br>Hour of Day=%{x}<br>Number of Communications=%{y}<extra></extra>",
         "legendgroup": "Location",
         "marker": {
          "color": "#85660D",
          "opacity": 0.8,
          "symbol": 300
         },
         "mode": "markers",
         "name": "Location",
         "orientation": "v",
         "showlegend": true,
         "type": "scatter",
         "x": {
          "bdata": "CAAAAAkAAAALAAAACgAAAAsAAAA=",
          "dtype": "i4"
         },
         "xaxis": "x14",
         "y": {
          "bdata": "AQEBAgE=",
          "dtype": "i1"
         },
         "yaxis": "y14"
        },
        {
         "hovertemplate": "Source Type=Location<br>month_day=10-02<br>Hour of Day=%{x}<br>Number of Communications=%{y}<extra></extra>",
         "legendgroup": "Location",
         "marker": {
          "color": "#85660D",
          "opacity": 0.8,
          "symbol": 300
         },
         "mode": "markers",
         "name": "Location",
         "orientation": "v",
         "showlegend": false,
         "type": "scatter",
         "x": {
          "bdata": "CAAAAAgAAAALAAAADAAAAAwAAAANAAAA",
          "dtype": "i4"
         },
         "xaxis": "x13",
         "y": {
          "bdata": "AQEBAQEB",
          "dtype": "i1"
         },
         "yaxis": "y13"
        },
        {
         "hovertemplate": "Source Type=Location<br>month_day=10-03<br>Hour of Day=%{x}<br>Number of Communications=%{y}<extra></extra>",
         "legendgroup": "Location",
         "marker": {
          "color": "#85660D",
          "opacity": 0.8,
          "symbol": 300
         },
         "mode": "markers",
         "name": "Location",
         "orientation": "v",
         "showlegend": false,
         "type": "scatter",
         "x": {
          "bdata": "CQAAAAkAAAAKAAAA",
          "dtype": "i4"
         },
         "xaxis": "x12",
         "y": {
          "bdata": "AQEB",
          "dtype": "i1"
         },
         "yaxis": "y12"
        },
        {
         "hovertemplate": "Source Type=Location<br>month_day=10-04<br>Hour of Day=%{x}<br>Number of Communications=%{y}<extra></extra>",
         "legendgroup": "Location",
         "marker": {
          "color": "#85660D",
          "opacity": 0.8,
          "symbol": 300
         },
         "mode": "markers",
         "name": "Location",
         "orientation": "v",
         "showlegend": false,
         "type": "scatter",
         "x": {
          "bdata": "DQAAAA0AAAAJAAAA",
          "dtype": "i4"
         },
         "xaxis": "x11",
         "y": {
          "bdata": "AQIB",
          "dtype": "i1"
         },
         "yaxis": "y11"
        },
        {
         "hovertemplate": "Source Type=Location<br>month_day=10-05<br>Hour of Day=%{x}<br>Number of Communications=%{y}<extra></extra>",
         "legendgroup": "Location",
         "marker": {
          "color": "#85660D",
          "opacity": 0.8,
          "symbol": 300
         },
         "mode": "markers",
         "name": "Location",
         "orientation": "v",
         "showlegend": false,
         "type": "scatter",
         "x": {
          "bdata": "CQAAAAgAAAAJAAAACgAAAAoAAAA=",
          "dtype": "i4"
         },
         "xaxis": "x10",
         "y": {
          "bdata": "AgEBAQI=",
          "dtype": "i1"
         },
         "yaxis": "y10"
        },
        {
         "hovertemplate": "Source Type=Location<br>month_day=10-06<br>Hour of Day=%{x}<br>Number of Communications=%{y}<extra></extra>",
         "legendgroup": "Location",
         "marker": {
          "color": "#85660D",
          "opacity": 0.8,
          "symbol": 300
         },
         "mode": "markers",
         "name": "Location",
         "orientation": "v",
         "showlegend": false,
         "type": "scatter",
         "x": {
          "bdata": "CgAAAAkAAAA=",
          "dtype": "i4"
         },
         "xaxis": "x9",
         "y": {
          "bdata": "AgI=",
          "dtype": "i1"
         },
         "yaxis": "y9"
        },
        {
         "hovertemplate": "Source Type=Location<br>month_day=10-07<br>Hour of Day=%{x}<br>Number of Communications=%{y}<extra></extra>",
         "legendgroup": "Location",
         "marker": {
          "color": "#85660D",
          "opacity": 0.8,
          "symbol": 300
         },
         "mode": "markers",
         "name": "Location",
         "orientation": "v",
         "showlegend": false,
         "type": "scatter",
         "x": {
          "bdata": "CQAAAAsAAAA=",
          "dtype": "i4"
         },
         "xaxis": "x8",
         "y": {
          "bdata": "AgE=",
          "dtype": "i1"
         },
         "yaxis": "y8"
        },
        {
         "hovertemplate": "Source Type=Location<br>month_day=10-08<br>Hour of Day=%{x}<br>Number of Communications=%{y}<extra></extra>",
         "legendgroup": "Location",
         "marker": {
          "color": "#85660D",
          "opacity": 0.8,
          "symbol": 300
         },
         "mode": "markers",
         "name": "Location",
         "orientation": "v",
         "showlegend": false,
         "type": "scatter",
         "x": {
          "bdata": "CwAAAAoAAAA=",
          "dtype": "i4"
         },
         "xaxis": "x7",
         "y": {
          "bdata": "AQE=",
          "dtype": "i1"
         },
         "yaxis": "y7"
        },
        {
         "hovertemplate": "Source Type=Location<br>month_day=10-09<br>Hour of Day=%{x}<br>Number of Communications=%{y}<extra></extra>",
         "legendgroup": "Location",
         "marker": {
          "color": "#85660D",
          "opacity": 0.8,
          "symbol": 300
         },
         "mode": "markers",
         "name": "Location",
         "orientation": "v",
         "showlegend": false,
         "type": "scatter",
         "x": {
          "bdata": "CgAAAAsAAAAMAAAA",
          "dtype": "i4"
         },
         "xaxis": "x6",
         "y": {
          "bdata": "AQEC",
          "dtype": "i1"
         },
         "yaxis": "y6"
        },
        {
         "hovertemplate": "Source Type=Location<br>month_day=10-10<br>Hour of Day=%{x}<br>Number of Communications=%{y}<extra></extra>",
         "legendgroup": "Location",
         "marker": {
          "color": "#85660D",
          "opacity": 0.8,
          "symbol": 300
         },
         "mode": "markers",
         "name": "Location",
         "orientation": "v",
         "showlegend": false,
         "type": "scatter",
         "x": {
          "bdata": "CQAAAAwAAAAJAAAADAAAAA==",
          "dtype": "i4"
         },
         "xaxis": "x5",
         "y": {
          "bdata": "AQEBAQ==",
          "dtype": "i1"
         },
         "yaxis": "y5"
        },
        {
         "hovertemplate": "Source Type=Location<br>month_day=10-11<br>Hour of Day=%{x}<br>Number of Communications=%{y}<extra></extra>",
         "legendgroup": "Location",
         "marker": {
          "color": "#85660D",
          "opacity": 0.8,
          "symbol": 300
         },
         "mode": "markers",
         "name": "Location",
         "orientation": "v",
         "showlegend": false,
         "type": "scatter",
         "x": {
          "bdata": "CgAAAA==",
          "dtype": "i4"
         },
         "xaxis": "x4",
         "y": {
          "bdata": "Ag==",
          "dtype": "i1"
         },
         "yaxis": "y4"
        },
        {
         "hovertemplate": "Source Type=Location<br>month_day=10-13<br>Hour of Day=%{x}<br>Number of Communications=%{y}<extra></extra>",
         "legendgroup": "Location",
         "marker": {
          "color": "#85660D",
          "opacity": 0.8,
          "symbol": 300
         },
         "mode": "markers",
         "name": "Location",
         "orientation": "v",
         "showlegend": false,
         "type": "scatter",
         "x": {
          "bdata": "CwAAAAsAAAAMAAAA",
          "dtype": "i4"
         },
         "xaxis": "x2",
         "y": {
          "bdata": "AgEB",
          "dtype": "i1"
         },
         "yaxis": "y2"
        },
        {
         "hovertemplate": "Source Type=Location<br>month_day=10-14<br>Hour of Day=%{x}<br>Number of Communications=%{y}<extra></extra>",
         "legendgroup": "Location",
         "marker": {
          "color": "#85660D",
          "opacity": 0.8,
          "symbol": 300
         },
         "mode": "markers",
         "name": "Location",
         "orientation": "v",
         "showlegend": false,
         "type": "scatter",
         "x": {
          "bdata": "DAAAAA==",
          "dtype": "i4"
         },
         "xaxis": "x",
         "y": {
          "bdata": "AQ==",
          "dtype": "i1"
         },
         "yaxis": "y"
        },
        {
         "hovertemplate": "Source Type=Vessel<br>month_day=10-01<br>Hour of Day=%{x}<br>Number of Communications=%{y}<extra></extra>",
         "legendgroup": "Vessel",
         "marker": {
          "color": "#782AB6",
          "opacity": 0.8,
          "symbol": 300
         },
         "mode": "markers",
         "name": "Vessel",
         "orientation": "v",
         "showlegend": true,
         "type": "scatter",
         "x": {
          "bdata": "DAAAAAgAAAALAAAACwAAAAkAAAAKAAAADAAAAAgAAAAJAAAA",
          "dtype": "i4"
         },
         "xaxis": "x14",
         "y": {
          "bdata": "AQEBAgEBAgIB",
          "dtype": "i1"
         },
         "yaxis": "y14"
        },
        {
         "hovertemplate": "Source Type=Vessel<br>month_day=10-02<br>Hour of Day=%{x}<br>Number of Communications=%{y}<extra></extra>",
         "legendgroup": "Vessel",
         "marker": {
          "color": "#782AB6",
          "opacity": 0.8,
          "symbol": 300
         },
         "mode": "markers",
         "name": "Vessel",
         "orientation": "v",
         "showlegend": false,
         "type": "scatter",
         "x": {
          "bdata": "CgAAAAoAAAAIAAAACwAAAAwAAAAMAAAACAAAAAwAAAANAAAA",
          "dtype": "i4"
         },
         "xaxis": "x13",
         "y": {
          "bdata": "AgIBAQMCAQIC",
          "dtype": "i1"
         },
         "yaxis": "y13"
        },
        {
         "hovertemplate": "Source Type=Vessel<br>month_day=10-03<br>Hour of Day=%{x}<br>Number of Communications=%{y}<extra></extra>",
         "legendgroup": "Vessel",
         "marker": {
          "color": "#782AB6",
          "opacity": 0.8,
          "symbol": 300
         },
         "mode": "markers",
         "name": "Vessel",
         "orientation": "v",
         "showlegend": false,
         "type": "scatter",
         "x": {
          "bdata": "CAAAAAoAAAAKAAAACgAAAAgAAAAKAAAACgAAAAoAAAAKAAAA",
          "dtype": "i4"
         },
         "xaxis": "x12",
         "y": {
          "bdata": "AgEBAwECAgEB",
          "dtype": "i1"
         },
         "yaxis": "y12"
        },
        {
         "hovertemplate": "Source Type=Vessel<br>month_day=10-04<br>Hour of Day=%{x}<br>Number of Communications=%{y}<extra></extra>",
         "legendgroup": "Vessel",
         "marker": {
          "color": "#782AB6",
          "opacity": 0.8,
          "symbol": 300
         },
         "mode": "markers",
         "name": "Vessel",
         "orientation": "v",
         "showlegend": false,
         "type": "scatter",
         "x": {
          "bdata": "CAAAAAkAAAANAAAACwAAAAgAAAALAAAACQAAAAoAAAAMAAAA",
          "dtype": "i4"
         },
         "xaxis": "x11",
         "y": {
          "bdata": "AQEBAgEBAgEB",
          "dtype": "i1"
         },
         "yaxis": "y11"
        },
        {
         "hovertemplate": "Source Type=Vessel<br>month_day=10-05<br>Hour of Day=%{x}<br>Number of Communications=%{y}<extra></extra>",
         "legendgroup": "Vessel",
         "marker": {
          "color": "#782AB6",
          "opacity": 0.8,
          "symbol": 300
         },
         "mode": "markers",
         "name": "Vessel",
         "orientation": "v",
         "showlegend": false,
         "type": "scatter",
         "x": {
          "bdata": "CAAAAAoAAAAJAAAACAAAAA==",
          "dtype": "i4"
         },
         "xaxis": "x10",
         "y": {
          "bdata": "AQIBAQ==",
          "dtype": "i1"
         },
         "yaxis": "y10"
        },
        {
         "hovertemplate": "Source Type=Vessel<br>month_day=10-06<br>Hour of Day=%{x}<br>Number of Communications=%{y}<extra></extra>",
         "legendgroup": "Vessel",
         "marker": {
          "color": "#782AB6",
          "opacity": 0.8,
          "symbol": 300
         },
         "mode": "markers",
         "name": "Vessel",
         "orientation": "v",
         "showlegend": false,
         "type": "scatter",
         "x": {
          "bdata": "DAAAAAwAAAANAAAACQAAAAoAAAALAAAACwAAAAwAAAAJAAAADQAAAAkAAAAMAAAADQAAAAoAAAALAAAA",
          "dtype": "i4"
         },
         "xaxis": "x9",
         "y": {
          "bdata": "AQEBAgEBAwQBAQEBAQEB",
          "dtype": "i1"
         },
         "yaxis": "y9"
        },
        {
         "hovertemplate": "Source Type=Vessel<br>month_day=10-07<br>Hour of Day=%{x}<br>Number of Communications=%{y}<extra></extra>",
         "legendgroup": "Vessel",
         "marker": {
          "color": "#782AB6",
          "opacity": 0.8,
          "symbol": 300
         },
         "mode": "markers",
         "name": "Vessel",
         "orientation": "v",
         "showlegend": false,
         "type": "scatter",
         "x": {
          "bdata": "CQAAAAsAAAAJAAAACgAAAAsAAAAKAAAACwAAAAoAAAALAAAA",
          "dtype": "i4"
         },
         "xaxis": "x8",
         "y": {
          "bdata": "AwECAQQDAwEB",
          "dtype": "i1"
         },
         "yaxis": "y8"
        },
        {
         "hovertemplate": "Source Type=Vessel<br>month_day=10-08<br>Hour of Day=%{x}<br>Number of Communications=%{y}<extra></extra>",
         "legendgroup": "Vessel",
         "marker": {
          "color": "#782AB6",
          "opacity": 0.8,
          "symbol": 300
         },
         "mode": "markers",
         "name": "Vessel",
         "orientation": "v",
         "showlegend": false,
         "type": "scatter",
         "x": {
          "bdata": "CwAAAAoAAAALAAAACwAAAAgAAAAKAAAACwAAAAoAAAALAAAA",
          "dtype": "i4"
         },
         "xaxis": "x7",
         "y": {
          "bdata": "AgMBAQICAgMC",
          "dtype": "i1"
         },
         "yaxis": "y7"
        },
        {
         "hovertemplate": "Source Type=Vessel<br>month_day=10-09<br>Hour of Day=%{x}<br>Number of Communications=%{y}<extra></extra>",
         "legendgroup": "Vessel",
         "marker": {
          "color": "#782AB6",
          "opacity": 0.8,
          "symbol": 300
         },
         "mode": "markers",
         "name": "Vessel",
         "orientation": "v",
         "showlegend": false,
         "type": "scatter",
         "x": {
          "bdata": "CgAAAAgAAAAJAAAACgAAAAwAAAALAAAACQAAAAoAAAAJAAAA",
          "dtype": "i4"
         },
         "xaxis": "x6",
         "y": {
          "bdata": "AQEBAgEBAQQB",
          "dtype": "i1"
         },
         "yaxis": "y6"
        },
        {
         "hovertemplate": "Source Type=Vessel<br>month_day=10-10<br>Hour of Day=%{x}<br>Number of Communications=%{y}<extra></extra>",
         "legendgroup": "Vessel",
         "marker": {
          "color": "#782AB6",
          "opacity": 0.8,
          "symbol": 300
         },
         "mode": "markers",
         "name": "Vessel",
         "orientation": "v",
         "showlegend": false,
         "type": "scatter",
         "x": {
          "bdata": "CwAAAAkAAAALAAAACQAAAAkAAAAJAAAACgAAAA4AAAAJAAAACgAAAAoAAAA=",
          "dtype": "i4"
         },
         "xaxis": "x5",
         "y": {
          "bdata": "AQMBAQECAQEBAQI=",
          "dtype": "i1"
         },
         "yaxis": "y5"
        },
        {
         "hovertemplate": "Source Type=Vessel<br>month_day=10-11<br>Hour of Day=%{x}<br>Number of Communications=%{y}<extra></extra>",
         "legendgroup": "Vessel",
         "marker": {
          "color": "#782AB6",
          "opacity": 0.8,
          "symbol": 300
         },
         "mode": "markers",
         "name": "Vessel",
         "orientation": "v",
         "showlegend": false,
         "type": "scatter",
         "x": {
          "bdata": "CAAAAAkAAAAJAAAACQAAAAoAAAAJAAAACgAAAAoAAAA=",
          "dtype": "i4"
         },
         "xaxis": "x4",
         "y": {
          "bdata": "AQQCAwECAQI=",
          "dtype": "i1"
         },
         "yaxis": "y4"
        },
        {
         "hovertemplate": "Source Type=Vessel<br>month_day=10-12<br>Hour of Day=%{x}<br>Number of Communications=%{y}<extra></extra>",
         "legendgroup": "Vessel",
         "marker": {
          "color": "#782AB6",
          "opacity": 0.8,
          "symbol": 300
         },
         "mode": "markers",
         "name": "Vessel",
         "orientation": "v",
         "showlegend": false,
         "type": "scatter",
         "x": {
          "bdata": "DAAAAAsAAAAJAAAACQAAAAwAAAAJAAAACQAAAAoAAAAMAAAACQAAAAsAAAALAAAACgAAAA==",
          "dtype": "i4"
         },
         "xaxis": "x3",
         "y": {
          "bdata": "AQECAwECAQEBAgEBAQ==",
          "dtype": "i1"
         },
         "yaxis": "y3"
        },
        {
         "hovertemplate": "Source Type=Vessel<br>month_day=10-13<br>Hour of Day=%{x}<br>Number of Communications=%{y}<extra></extra>",
         "legendgroup": "Vessel",
         "marker": {
          "color": "#782AB6",
          "opacity": 0.8,
          "symbol": 300
         },
         "mode": "markers",
         "name": "Vessel",
         "orientation": "v",
         "showlegend": false,
         "type": "scatter",
         "x": {
          "bdata": "CQAAAAsAAAAMAAAACwAAAAkAAAAMAAAACAAAAAwAAAA=",
          "dtype": "i4"
         },
         "xaxis": "x2",
         "y": {
          "bdata": "AgECAQEDAgI=",
          "dtype": "i1"
         },
         "yaxis": "y2"
        },
        {
         "hovertemplate": "Source Type=Vessel<br>month_day=10-14<br>Hour of Day=%{x}<br>Number of Communications=%{y}<extra></extra>",
         "legendgroup": "Vessel",
         "marker": {
          "color": "#782AB6",
          "opacity": 0.8,
          "symbol": 300
         },
         "mode": "markers",
         "name": "Vessel",
         "orientation": "v",
         "showlegend": false,
         "type": "scatter",
         "x": {
          "bdata": "DQAAAAkAAAALAAAACQAAAAsAAAAMAAAADQAAAAwAAAAMAAAACAAAAAsAAAAIAAAACQAAAAoAAAA=",
          "dtype": "i4"
         },
         "xaxis": "x",
         "y": {
          "bdata": "AQEDAQEBAgEBAgECAQE=",
          "dtype": "i1"
         },
         "yaxis": "y"
        }
       ],
       "layout": {
        "annotations": [
         {
          "font": {},
          "showarrow": false,
          "text": "month_day=10-14",
          "textangle": 90,
          "x": 0.98,
          "xanchor": "left",
          "xref": "paper",
          "y": 0.021785714285714283,
          "yanchor": "middle",
          "yref": "paper"
         },
         {
          "font": {},
          "showarrow": false,
          "text": "month_day=10-13",
          "textangle": 90,
          "x": 0.98,
          "xanchor": "left",
          "xref": "paper",
          "y": 0.09535714285714285,
          "yanchor": "middle",
          "yref": "paper"
         },
         {
          "font": {},
          "showarrow": false,
          "text": "month_day=10-12",
          "textangle": 90,
          "x": 0.98,
          "xanchor": "left",
          "xref": "paper",
          "y": 0.16892857142857143,
          "yanchor": "middle",
          "yref": "paper"
         },
         {
          "font": {},
          "showarrow": false,
          "text": "month_day=10-11",
          "textangle": 90,
          "x": 0.98,
          "xanchor": "left",
          "xref": "paper",
          "y": 0.24249999999999997,
          "yanchor": "middle",
          "yref": "paper"
         },
         {
          "font": {},
          "showarrow": false,
          "text": "month_day=10-10",
          "textangle": 90,
          "x": 0.98,
          "xanchor": "left",
          "xref": "paper",
          "y": 0.31607142857142856,
          "yanchor": "middle",
          "yref": "paper"
         },
         {
          "font": {},
          "showarrow": false,
          "text": "month_day=10-09",
          "textangle": 90,
          "x": 0.98,
          "xanchor": "left",
          "xref": "paper",
          "y": 0.38964285714285707,
          "yanchor": "middle",
          "yref": "paper"
         },
         {
          "font": {},
          "showarrow": false,
          "text": "month_day=10-08",
          "textangle": 90,
          "x": 0.98,
          "xanchor": "left",
          "xref": "paper",
          "y": 0.4632142857142857,
          "yanchor": "middle",
          "yref": "paper"
         },
         {
          "font": {},
          "showarrow": false,
          "text": "month_day=10-07",
          "textangle": 90,
          "x": 0.98,
          "xanchor": "left",
          "xref": "paper",
          "y": 0.5367857142857142,
          "yanchor": "middle",
          "yref": "paper"
         },
         {
          "font": {},
          "showarrow": false,
          "text": "month_day=10-06",
          "textangle": 90,
          "x": 0.98,
          "xanchor": "left",
          "xref": "paper",
          "y": 0.6103571428571428,
          "yanchor": "middle",
          "yref": "paper"
         },
         {
          "font": {},
          "showarrow": false,
          "text": "month_day=10-05",
          "textangle": 90,
          "x": 0.98,
          "xanchor": "left",
          "xref": "paper",
          "y": 0.6839285714285714,
          "yanchor": "middle",
          "yref": "paper"
         },
         {
          "font": {},
          "showarrow": false,
          "text": "month_day=10-04",
          "textangle": 90,
          "x": 0.98,
          "xanchor": "left",
          "xref": "paper",
          "y": 0.7575,
          "yanchor": "middle",
          "yref": "paper"
         },
         {
          "font": {},
          "showarrow": false,
          "text": "month_day=10-03",
          "textangle": 90,
          "x": 0.98,
          "xanchor": "left",
          "xref": "paper",
          "y": 0.8310714285714285,
          "yanchor": "middle",
          "yref": "paper"
         },
         {
          "font": {},
          "showarrow": false,
          "text": "month_day=10-02",
          "textangle": 90,
          "x": 0.98,
          "xanchor": "left",
          "xref": "paper",
          "y": 0.9046428571428571,
          "yanchor": "middle",
          "yref": "paper"
         },
         {
          "font": {},
          "showarrow": false,
          "text": "month_day=10-01",
          "textangle": 90,
          "x": 0.98,
          "xanchor": "left",
          "xref": "paper",
          "y": 0.9782142857142857,
          "yanchor": "middle",
          "yref": "paper"
         }
        ],
        "height": 800,
        "legend": {
         "title": {
          "text": "Source Type"
         },
         "tracegroupgap": 0
        },
        "margin": {
         "b": 40,
         "l": 40,
         "r": 40,
         "t": 100
        },
        "showlegend": true,
        "template": {
         "data": {
          "bar": [
           {
            "error_x": {
             "color": "#2a3f5f"
            },
            "error_y": {
             "color": "#2a3f5f"
            },
            "marker": {
             "line": {
              "color": "#E5ECF6",
              "width": 0.5
             },
             "pattern": {
              "fillmode": "overlay",
              "size": 10,
              "solidity": 0.2
             }
            },
            "type": "bar"
           }
          ],
          "barpolar": [
           {
            "marker": {
             "line": {
              "color": "#E5ECF6",
              "width": 0.5
             },
             "pattern": {
              "fillmode": "overlay",
              "size": 10,
              "solidity": 0.2
             }
            },
            "type": "barpolar"
           }
          ],
          "carpet": [
           {
            "aaxis": {
             "endlinecolor": "#2a3f5f",
             "gridcolor": "white",
             "linecolor": "white",
             "minorgridcolor": "white",
             "startlinecolor": "#2a3f5f"
            },
            "baxis": {
             "endlinecolor": "#2a3f5f",
             "gridcolor": "white",
             "linecolor": "white",
             "minorgridcolor": "white",
             "startlinecolor": "#2a3f5f"
            },
            "type": "carpet"
           }
          ],
          "choropleth": [
           {
            "colorbar": {
             "outlinewidth": 0,
             "ticks": ""
            },
            "type": "choropleth"
           }
          ],
          "contour": [
           {
            "colorbar": {
             "outlinewidth": 0,
             "ticks": ""
            },
            "colorscale": [
             [
              0,
              "#0d0887"
             ],
             [
              0.1111111111111111,
              "#46039f"
             ],
             [
              0.2222222222222222,
              "#7201a8"
             ],
             [
              0.3333333333333333,
              "#9c179e"
             ],
             [
              0.4444444444444444,
              "#bd3786"
             ],
             [
              0.5555555555555556,
              "#d8576b"
             ],
             [
              0.6666666666666666,
              "#ed7953"
             ],
             [
              0.7777777777777778,
              "#fb9f3a"
             ],
             [
              0.8888888888888888,
              "#fdca26"
             ],
             [
              1,
              "#f0f921"
             ]
            ],
            "type": "contour"
           }
          ],
          "contourcarpet": [
           {
            "colorbar": {
             "outlinewidth": 0,
             "ticks": ""
            },
            "type": "contourcarpet"
           }
          ],
          "heatmap": [
           {
            "colorbar": {
             "outlinewidth": 0,
             "ticks": ""
            },
            "colorscale": [
             [
              0,
              "#0d0887"
             ],
             [
              0.1111111111111111,
              "#46039f"
             ],
             [
              0.2222222222222222,
              "#7201a8"
             ],
             [
              0.3333333333333333,
              "#9c179e"
             ],
             [
              0.4444444444444444,
              "#bd3786"
             ],
             [
              0.5555555555555556,
              "#d8576b"
             ],
             [
              0.6666666666666666,
              "#ed7953"
             ],
             [
              0.7777777777777778,
              "#fb9f3a"
             ],
             [
              0.8888888888888888,
              "#fdca26"
             ],
             [
              1,
              "#f0f921"
             ]
            ],
            "type": "heatmap"
           }
          ],
          "histogram": [
           {
            "marker": {
             "pattern": {
              "fillmode": "overlay",
              "size": 10,
              "solidity": 0.2
             }
            },
            "type": "histogram"
           }
          ],
          "histogram2d": [
           {
            "colorbar": {
             "outlinewidth": 0,
             "ticks": ""
            },
            "colorscale": [
             [
              0,
              "#0d0887"
             ],
             [
              0.1111111111111111,
              "#46039f"
             ],
             [
              0.2222222222222222,
              "#7201a8"
             ],
             [
              0.3333333333333333,
              "#9c179e"
             ],
             [
              0.4444444444444444,
              "#bd3786"
             ],
             [
              0.5555555555555556,
              "#d8576b"
             ],
             [
              0.6666666666666666,
              "#ed7953"
             ],
             [
              0.7777777777777778,
              "#fb9f3a"
             ],
             [
              0.8888888888888888,
              "#fdca26"
             ],
             [
              1,
              "#f0f921"
             ]
            ],
            "type": "histogram2d"
           }
          ],
          "histogram2dcontour": [
           {
            "colorbar": {
             "outlinewidth": 0,
             "ticks": ""
            },
            "colorscale": [
             [
              0,
              "#0d0887"
             ],
             [
              0.1111111111111111,
              "#46039f"
             ],
             [
              0.2222222222222222,
              "#7201a8"
             ],
             [
              0.3333333333333333,
              "#9c179e"
             ],
             [
              0.4444444444444444,
              "#bd3786"
             ],
             [
              0.5555555555555556,
              "#d8576b"
             ],
             [
              0.6666666666666666,
              "#ed7953"
             ],
             [
              0.7777777777777778,
              "#fb9f3a"
             ],
             [
              0.8888888888888888,
              "#fdca26"
             ],
             [
              1,
              "#f0f921"
             ]
            ],
            "type": "histogram2dcontour"
           }
          ],
          "mesh3d": [
           {
            "colorbar": {
             "outlinewidth": 0,
             "ticks": ""
            },
            "type": "mesh3d"
           }
          ],
          "parcoords": [
           {
            "line": {
             "colorbar": {
              "outlinewidth": 0,
              "ticks": ""
             }
            },
            "type": "parcoords"
           }
          ],
          "pie": [
           {
            "automargin": true,
            "type": "pie"
           }
          ],
          "scatter": [
           {
            "fillpattern": {
             "fillmode": "overlay",
             "size": 10,
             "solidity": 0.2
            },
            "type": "scatter"
           }
          ],
          "scatter3d": [
           {
            "line": {
             "colorbar": {
              "outlinewidth": 0,
              "ticks": ""
             }
            },
            "marker": {
             "colorbar": {
              "outlinewidth": 0,
              "ticks": ""
             }
            },
            "type": "scatter3d"
           }
          ],
          "scattercarpet": [
           {
            "marker": {
             "colorbar": {
              "outlinewidth": 0,
              "ticks": ""
             }
            },
            "type": "scattercarpet"
           }
          ],
          "scattergeo": [
           {
            "marker": {
             "colorbar": {
              "outlinewidth": 0,
              "ticks": ""
             }
            },
            "type": "scattergeo"
           }
          ],
          "scattergl": [
           {
            "marker": {
             "colorbar": {
              "outlinewidth": 0,
              "ticks": ""
             }
            },
            "type": "scattergl"
           }
          ],
          "scattermap": [
           {
            "marker": {
             "colorbar": {
              "outlinewidth": 0,
              "ticks": ""
             }
            },
            "type": "scattermap"
           }
          ],
          "scattermapbox": [
           {
            "marker": {
             "colorbar": {
              "outlinewidth": 0,
              "ticks": ""
             }
            },
            "type": "scattermapbox"
           }
          ],
          "scatterpolar": [
           {
            "marker": {
             "colorbar": {
              "outlinewidth": 0,
              "ticks": ""
             }
            },
            "type": "scatterpolar"
           }
          ],
          "scatterpolargl": [
           {
            "marker": {
             "colorbar": {
              "outlinewidth": 0,
              "ticks": ""
             }
            },
            "type": "scatterpolargl"
           }
          ],
          "scatterternary": [
           {
            "marker": {
             "colorbar": {
              "outlinewidth": 0,
              "ticks": ""
             }
            },
            "type": "scatterternary"
           }
          ],
          "surface": [
           {
            "colorbar": {
             "outlinewidth": 0,
             "ticks": ""
            },
            "colorscale": [
             [
              0,
              "#0d0887"
             ],
             [
              0.1111111111111111,
              "#46039f"
             ],
             [
              0.2222222222222222,
              "#7201a8"
             ],
             [
              0.3333333333333333,
              "#9c179e"
             ],
             [
              0.4444444444444444,
              "#bd3786"
             ],
             [
              0.5555555555555556,
              "#d8576b"
             ],
             [
              0.6666666666666666,
              "#ed7953"
             ],
             [
              0.7777777777777778,
              "#fb9f3a"
             ],
             [
              0.8888888888888888,
              "#fdca26"
             ],
             [
              1,
              "#f0f921"
             ]
            ],
            "type": "surface"
           }
          ],
          "table": [
           {
            "cells": {
             "fill": {
              "color": "#EBF0F8"
             },
             "line": {
              "color": "white"
             }
            },
            "header": {
             "fill": {
              "color": "#C8D4E3"
             },
             "line": {
              "color": "white"
             }
            },
            "type": "table"
           }
          ]
         },
         "layout": {
          "annotationdefaults": {
           "arrowcolor": "#2a3f5f",
           "arrowhead": 0,
           "arrowwidth": 1
          },
          "autotypenumbers": "strict",
          "coloraxis": {
           "colorbar": {
            "outlinewidth": 0,
            "ticks": ""
           }
          },
          "colorscale": {
           "diverging": [
            [
             0,
             "#8e0152"
            ],
            [
             0.1,
             "#c51b7d"
            ],
            [
             0.2,
             "#de77ae"
            ],
            [
             0.3,
             "#f1b6da"
            ],
            [
             0.4,
             "#fde0ef"
            ],
            [
             0.5,
             "#f7f7f7"
            ],
            [
             0.6,
             "#e6f5d0"
            ],
            [
             0.7,
             "#b8e186"
            ],
            [
             0.8,
             "#7fbc41"
            ],
            [
             0.9,
             "#4d9221"
            ],
            [
             1,
             "#276419"
            ]
           ],
           "sequential": [
            [
             0,
             "#0d0887"
            ],
            [
             0.1111111111111111,
             "#46039f"
            ],
            [
             0.2222222222222222,
             "#7201a8"
            ],
            [
             0.3333333333333333,
             "#9c179e"
            ],
            [
             0.4444444444444444,
             "#bd3786"
            ],
            [
             0.5555555555555556,
             "#d8576b"
            ],
            [
             0.6666666666666666,
             "#ed7953"
            ],
            [
             0.7777777777777778,
             "#fb9f3a"
            ],
            [
             0.8888888888888888,
             "#fdca26"
            ],
            [
             1,
             "#f0f921"
            ]
           ],
           "sequentialminus": [
            [
             0,
             "#0d0887"
            ],
            [
             0.1111111111111111,
             "#46039f"
            ],
            [
             0.2222222222222222,
             "#7201a8"
            ],
            [
             0.3333333333333333,
             "#9c179e"
            ],
            [
             0.4444444444444444,
             "#bd3786"
            ],
            [
             0.5555555555555556,
             "#d8576b"
            ],
            [
             0.6666666666666666,
             "#ed7953"
            ],
            [
             0.7777777777777778,
             "#fb9f3a"
            ],
            [
             0.8888888888888888,
             "#fdca26"
            ],
            [
             1,
             "#f0f921"
            ]
           ]
          },
          "colorway": [
           "#636efa",
           "#EF553B",
           "#00cc96",
           "#ab63fa",
           "#FFA15A",
           "#19d3f3",
           "#FF6692",
           "#B6E880",
           "#FF97FF",
           "#FECB52"
          ],
          "font": {
           "color": "#2a3f5f"
          },
          "geo": {
           "bgcolor": "white",
           "lakecolor": "white",
           "landcolor": "#E5ECF6",
           "showlakes": true,
           "showland": true,
           "subunitcolor": "white"
          },
          "hoverlabel": {
           "align": "left"
          },
          "hovermode": "closest",
          "mapbox": {
           "style": "light"
          },
          "paper_bgcolor": "white",
          "plot_bgcolor": "#E5ECF6",
          "polar": {
           "angularaxis": {
            "gridcolor": "white",
            "linecolor": "white",
            "ticks": ""
           },
           "bgcolor": "#E5ECF6",
           "radialaxis": {
            "gridcolor": "white",
            "linecolor": "white",
            "ticks": ""
           }
          },
          "scene": {
           "xaxis": {
            "backgroundcolor": "#E5ECF6",
            "gridcolor": "white",
            "gridwidth": 2,
            "linecolor": "white",
            "showbackground": true,
            "ticks": "",
            "zerolinecolor": "white"
           },
           "yaxis": {
            "backgroundcolor": "#E5ECF6",
            "gridcolor": "white",
            "gridwidth": 2,
            "linecolor": "white",
            "showbackground": true,
            "ticks": "",
            "zerolinecolor": "white"
           },
           "zaxis": {
            "backgroundcolor": "#E5ECF6",
            "gridcolor": "white",
            "gridwidth": 2,
            "linecolor": "white",
            "showbackground": true,
            "ticks": "",
            "zerolinecolor": "white"
           }
          },
          "shapedefaults": {
           "line": {
            "color": "#2a3f5f"
           }
          },
          "ternary": {
           "aaxis": {
            "gridcolor": "white",
            "linecolor": "white",
            "ticks": ""
           },
           "baxis": {
            "gridcolor": "white",
            "linecolor": "white",
            "ticks": ""
           },
           "bgcolor": "#E5ECF6",
           "caxis": {
            "gridcolor": "white",
            "linecolor": "white",
            "ticks": ""
           }
          },
          "title": {
           "x": 0.05
          },
          "xaxis": {
           "automargin": true,
           "gridcolor": "white",
           "linecolor": "white",
           "ticks": "",
           "title": {
            "standoff": 15
           },
           "zerolinecolor": "white",
           "zerolinewidth": 2
          },
          "yaxis": {
           "automargin": true,
           "gridcolor": "white",
           "linecolor": "white",
           "ticks": "",
           "title": {
            "standoff": 15
           },
           "zerolinecolor": "white",
           "zerolinewidth": 2
          }
         }
        },
        "title": {
         "text": "Daily Communication Patterns by Source Type and Entity"
        },
        "width": 600,
        "xaxis": {
         "anchor": "y",
         "domain": [
          0,
          0.98
         ],
         "title": {
          "text": "Hour of Day"
         }
        },
        "xaxis10": {
         "anchor": "y10",
         "domain": [
          0,
          0.98
         ],
         "matches": "x",
         "showticklabels": false
        },
        "xaxis11": {
         "anchor": "y11",
         "domain": [
          0,
          0.98
         ],
         "matches": "x",
         "showticklabels": false
        },
        "xaxis12": {
         "anchor": "y12",
         "domain": [
          0,
          0.98
         ],
         "matches": "x",
         "showticklabels": false
        },
        "xaxis13": {
         "anchor": "y13",
         "domain": [
          0,
          0.98
         ],
         "matches": "x",
         "showticklabels": false
        },
        "xaxis14": {
         "anchor": "y14",
         "domain": [
          0,
          0.98
         ],
         "matches": "x",
         "showticklabels": false
        },
        "xaxis2": {
         "anchor": "y2",
         "domain": [
          0,
          0.98
         ],
         "matches": "x",
         "showticklabels": false
        },
        "xaxis3": {
         "anchor": "y3",
         "domain": [
          0,
          0.98
         ],
         "matches": "x",
         "showticklabels": false
        },
        "xaxis4": {
         "anchor": "y4",
         "domain": [
          0,
          0.98
         ],
         "matches": "x",
         "showticklabels": false
        },
        "xaxis5": {
         "anchor": "y5",
         "domain": [
          0,
          0.98
         ],
         "matches": "x",
         "showticklabels": false
        },
        "xaxis6": {
         "anchor": "y6",
         "domain": [
          0,
          0.98
         ],
         "matches": "x",
         "showticklabels": false
        },
        "xaxis7": {
         "anchor": "y7",
         "domain": [
          0,
          0.98
         ],
         "matches": "x",
         "showticklabels": false
        },
        "xaxis8": {
         "anchor": "y8",
         "domain": [
          0,
          0.98
         ],
         "matches": "x",
         "showticklabels": false
        },
        "xaxis9": {
         "anchor": "y9",
         "domain": [
          0,
          0.98
         ],
         "matches": "x",
         "showticklabels": false
        },
        "yaxis": {
         "anchor": "x",
         "domain": [
          0,
          0.043571428571428567
         ],
         "showgrid": false,
         "title": {
          "text": "Number of Communications"
         }
        },
        "yaxis10": {
         "anchor": "x10",
         "domain": [
          0.6621428571428571,
          0.7057142857142857
         ],
         "matches": "y",
         "showgrid": false,
         "title": {
          "text": "Number of Communications"
         }
        },
        "yaxis11": {
         "anchor": "x11",
         "domain": [
          0.7357142857142857,
          0.7792857142857142
         ],
         "matches": "y",
         "showgrid": false,
         "title": {
          "text": "Number of Communications"
         }
        },
        "yaxis12": {
         "anchor": "x12",
         "domain": [
          0.8092857142857142,
          0.8528571428571428
         ],
         "matches": "y",
         "showgrid": false,
         "title": {
          "text": "Number of Communications"
         }
        },
        "yaxis13": {
         "anchor": "x13",
         "domain": [
          0.8828571428571428,
          0.9264285714285714
         ],
         "matches": "y",
         "showgrid": false,
         "title": {
          "text": "Number of Communications"
         }
        },
        "yaxis14": {
         "anchor": "x14",
         "domain": [
          0.9564285714285714,
          1
         ],
         "matches": "y",
         "showgrid": false,
         "title": {
          "text": "Number of Communications"
         }
        },
        "yaxis2": {
         "anchor": "x2",
         "domain": [
          0.07357142857142857,
          0.11714285714285713
         ],
         "matches": "y",
         "showgrid": false,
         "title": {
          "text": "Number of Communications"
         }
        },
        "yaxis3": {
         "anchor": "x3",
         "domain": [
          0.14714285714285713,
          0.1907142857142857
         ],
         "matches": "y",
         "showgrid": false,
         "title": {
          "text": "Number of Communications"
         }
        },
        "yaxis4": {
         "anchor": "x4",
         "domain": [
          0.2207142857142857,
          0.26428571428571423
         ],
         "matches": "y",
         "showgrid": false,
         "title": {
          "text": "Number of Communications"
         }
        },
        "yaxis5": {
         "anchor": "x5",
         "domain": [
          0.29428571428571426,
          0.33785714285714286
         ],
         "matches": "y",
         "showgrid": false,
         "title": {
          "text": "Number of Communications"
         }
        },
        "yaxis6": {
         "anchor": "x6",
         "domain": [
          0.3678571428571428,
          0.41142857142857137
         ],
         "matches": "y",
         "showgrid": false,
         "title": {
          "text": "Number of Communications"
         }
        },
        "yaxis7": {
         "anchor": "x7",
         "domain": [
          0.4414285714285714,
          0.485
         ],
         "matches": "y",
         "showgrid": false,
         "title": {
          "text": "Number of Communications"
         }
        },
        "yaxis8": {
         "anchor": "x8",
         "domain": [
          0.5149999999999999,
          0.5585714285714285
         ],
         "matches": "y",
         "showgrid": false,
         "title": {
          "text": "Number of Communications"
         }
        },
        "yaxis9": {
         "anchor": "x9",
         "domain": [
          0.5885714285714285,
          0.6321428571428571
         ],
         "matches": "y",
         "showgrid": false,
         "title": {
          "text": "Number of Communications"
         }
        }
       }
      }
     },
     "metadata": {},
     "output_type": "display_data"
    }
   ],
   "source": [
    "from plotly.validators.scatter.marker import SymbolValidator\n",
    "\n",
    "# Create DataFrame from the sample data\n",
    "df = pd.DataFrame(communications_data)\n",
    "\n",
    "# Extract sub_type from source_attrs\n",
    "df['sub_type'] = df['source_attrs'].apply(lambda x: x.get('sub_type', 'Unknown'))\n",
    "\n",
    "# Process timestamp to extract date, month_day, and hour_of_day\n",
    "df['timestamp'] = pd.to_datetime(df['timestamp'])\n",
    "df['date'] = df['timestamp'].dt.date\n",
    "df['hour_of_day'] = df['timestamp'].dt.hour\n",
    "df['month_day'] = df['date'].apply(lambda x: f\"{x.month:02d}-{x.day:02d}\")\n",
    "\n",
    "# Generate available symbols\n",
    "validator = SymbolValidator()\n",
    "raw_symbols = validator.values\n",
    "\n",
    "namestems = []\n",
    "namevariants = []\n",
    "symbols_list = []\n",
    "\n",
    "for i in range(0, len(raw_symbols), 3):\n",
    "    if i + 2 < len(raw_symbols):\n",
    "        name = raw_symbols[i + 2]\n",
    "        symbols_list.append(raw_symbols[i])\n",
    "        namestems.append(name.replace(\"-open\", \"\").replace(\"-dot\", \"\"))\n",
    "        namevariants.append(name[len(namestems[-1]):])\n",
    "\n",
    "# Aggregate data\n",
    "aggregated_df = df.groupby(['date', 'month_day', 'source', 'sub_type', 'hour_of_day']).size().reset_index(name='count')\n",
    "\n",
    "# Assign symbols to sources within each subtype\n",
    "unique_subtypes = aggregated_df['sub_type'].unique()\n",
    "unique_sources = aggregated_df['source'].unique()\n",
    "\n",
    "source_symbol_map = {}\n",
    "for st in unique_subtypes:\n",
    "    sources_in_st = aggregated_df[aggregated_df['sub_type'] == st]['source'].unique()\n",
    "    for i, source in enumerate(sources_in_st):\n",
    "        symbol_index = i % len(symbols_list)\n",
    "        source_symbol_map[(st, source)] = symbols_list[symbol_index]\n",
    "\n",
    "# Map symbols to the DataFrame\n",
    "aggregated_df['symbol'] = aggregated_df.apply(lambda row: source_symbol_map.get((row['sub_type'], row['source']), 'circle'), axis=1)\n",
    "\n",
    "# Create scatter plot with custom symbols and colors\n",
    "subtype_colors = {subtype: color for subtype, color in zip(unique_subtypes, px.colors.qualitative.Alphabet[:len(unique_subtypes)])}\n",
    "\n",
    "fig = px.scatter(aggregated_df, x='hour_of_day', y='count',\n",
    "                    facet_row='month_day',\n",
    "                    color='sub_type',\n",
    "                    labels={'hour_of_day': 'Hour of Day',\n",
    "                        'count': 'Number of Communications',\n",
    "                        'sub_type': 'Source Type'},\n",
    "                    title='Daily Communication Patterns by Source Type and Entity',\n",
    "                    opacity=0.8,\n",
    "                    color_discrete_map=subtype_colors)\n",
    "\n",
    "# Update marker symbols for each source\n",
    "for name, group in aggregated_df.groupby('source'):\n",
    "    fig.update_traces(marker=dict(symbol=group['symbol'].iloc[0]))\n",
    "\n",
    "# Customize layout and appearance\n",
    "fig.update_layout(\n",
    "    showlegend=True,\n",
    "    margin=dict(l=40, r=40, t=100, b=40),\n",
    "    height=800,\n",
    "    width=600\n",
    ")\n",
    "\n",
    "# Remove y-axis grid lines\n",
    "fig.update_yaxes(showgrid=False)\n",
    "\n",
    "# Show the plot\n",
    "fig.show()"
   ]
  }
 ],
 "metadata": {
  "kernelspec": {
   "display_name": ".venv",
   "language": "python",
   "name": "python3"
  },
  "language_info": {
   "codemirror_mode": {
    "name": "ipython",
    "version": 3
   },
   "file_extension": ".py",
   "mimetype": "text/x-python",
   "name": "python",
   "nbconvert_exporter": "python",
   "pygments_lexer": "ipython3",
   "version": "3.13.2"
  }
 },
 "nbformat": 4,
 "nbformat_minor": 5
}
